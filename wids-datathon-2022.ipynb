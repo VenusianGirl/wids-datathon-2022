{
 "cells": [
  {
   "cell_type": "markdown",
   "id": "902cac29",
   "metadata": {
    "papermill": {
     "duration": 0.0549,
     "end_time": "2022-02-20T22:08:42.747959",
     "exception": false,
     "start_time": "2022-02-20T22:08:42.693059",
     "status": "completed"
    },
    "tags": []
   },
   "source": [
    "# Women in Data Science 2022"
   ]
  },
  {
   "cell_type": "markdown",
   "id": "80218380",
   "metadata": {
    "papermill": {
     "duration": 0.049847,
     "end_time": "2022-02-20T22:08:42.851628",
     "exception": false,
     "start_time": "2022-02-20T22:08:42.801781",
     "status": "completed"
    },
    "tags": []
   },
   "source": [
    "# Notebook set up"
   ]
  },
  {
   "cell_type": "markdown",
   "id": "31451136",
   "metadata": {
    "_cell_guid": "b1076dfc-b9ad-4769-8c92-a6c4dae69d19",
    "_uuid": "8f2839f25d086af736a60e9eeb907d3b93b6e0e5",
    "papermill": {
     "duration": 0.049992,
     "end_time": "2022-02-20T22:08:42.952045",
     "exception": false,
     "start_time": "2022-02-20T22:08:42.902053",
     "status": "completed"
    },
    "tags": []
   },
   "source": [
    "## Imports"
   ]
  },
  {
   "cell_type": "code",
   "execution_count": 1,
   "id": "30d6c010",
   "metadata": {
    "execution": {
     "iopub.execute_input": "2022-02-20T22:08:43.059280Z",
     "iopub.status.busy": "2022-02-20T22:08:43.057513Z",
     "iopub.status.idle": "2022-02-20T22:08:45.925680Z",
     "shell.execute_reply": "2022-02-20T22:08:45.924925Z",
     "shell.execute_reply.started": "2022-02-20T22:06:06.717712Z"
    },
    "papermill": {
     "duration": 2.923347,
     "end_time": "2022-02-20T22:08:45.925846",
     "exception": false,
     "start_time": "2022-02-20T22:08:43.002499",
     "status": "completed"
    },
    "tags": []
   },
   "outputs": [
    {
     "data": {
      "text/html": [
       "<style type='text/css'>\n",
       ".datatable table.frame { margin-bottom: 0; }\n",
       ".datatable table.frame thead { border-bottom: none; }\n",
       ".datatable table.frame tr.coltypes td {  color: #FFFFFF;  line-height: 6px;  padding: 0 0.5em;}\n",
       ".datatable .bool    { background: #DDDD99; }\n",
       ".datatable .object  { background: #565656; }\n",
       ".datatable .int     { background: #5D9E5D; }\n",
       ".datatable .float   { background: #4040CC; }\n",
       ".datatable .str     { background: #CC4040; }\n",
       ".datatable .time    { background: #40CC40; }\n",
       ".datatable .row_index {  background: var(--jp-border-color3);  border-right: 1px solid var(--jp-border-color0);  color: var(--jp-ui-font-color3);  font-size: 9px;}\n",
       ".datatable .frame tbody td { text-align: left; }\n",
       ".datatable .frame tr.coltypes .row_index {  background: var(--jp-border-color0);}\n",
       ".datatable th:nth-child(2) { padding-left: 12px; }\n",
       ".datatable .hellipsis {  color: var(--jp-cell-editor-border-color);}\n",
       ".datatable .vellipsis {  background: var(--jp-layout-color0);  color: var(--jp-cell-editor-border-color);}\n",
       ".datatable .na {  color: var(--jp-cell-editor-border-color);  font-size: 80%;}\n",
       ".datatable .sp {  opacity: 0.25;}\n",
       ".datatable .footer { font-size: 9px; }\n",
       ".datatable .frame_dimensions {  background: var(--jp-border-color3);  border-top: 1px solid var(--jp-border-color0);  color: var(--jp-ui-font-color3);  display: inline-block;  opacity: 0.6;  padding: 1px 10px 1px 5px;}\n",
       "</style>\n"
      ],
      "text/plain": [
       "<IPython.core.display.HTML object>"
      ]
     },
     "metadata": {},
     "output_type": "display_data"
    }
   ],
   "source": [
    "import random, os\n",
    "\n",
    "import numpy as np\n",
    "import pandas as pd\n",
    "import seaborn as sns\n",
    "import matplotlib.pyplot as plt\n",
    "import xgboost as xgb\n",
    "import lightgbm as lgb\n",
    "import catboost as cb\n",
    "\n",
    "from sklearn.cluster import KMeans\n",
    "from sklearn.pipeline import make_pipeline\n",
    "from sklearn.ensemble import VotingRegressor\n",
    "from sklearn.metrics import mean_squared_error\n",
    "from sklearn.linear_model import BayesianRidge, Ridge\n",
    "from sklearn.experimental import enable_iterative_imputer\n",
    "from sklearn.impute import SimpleImputer, IterativeImputer\n",
    "from sklearn.compose import make_column_transformer, TransformedTargetRegressor\n",
    "from sklearn.model_selection import (\n",
    "    RandomizedSearchCV,\n",
    "    train_test_split,\n",
    "    cross_validate,\n",
    "    cross_val_score,\n",
    "    LeaveOneGroupOut,\n",
    ")\n",
    "from sklearn.preprocessing import (\n",
    "    OneHotEncoder,\n",
    "    OrdinalEncoder,\n",
    "    PowerTransformer,\n",
    "    StandardScaler,\n",
    ")\n",
    "\n",
    "from yellowbrick.cluster import KElbowVisualizer, SilhouetteVisualizer"
   ]
  },
  {
   "cell_type": "markdown",
   "id": "a0ee2120",
   "metadata": {
    "papermill": {
     "duration": 0.050149,
     "end_time": "2022-02-20T22:08:46.028478",
     "exception": false,
     "start_time": "2022-02-20T22:08:45.978329",
     "status": "completed"
    },
    "tags": []
   },
   "source": [
    "## Global notebook setup"
   ]
  },
  {
   "cell_type": "markdown",
   "id": "a4d9e4e3",
   "metadata": {
    "papermill": {
     "duration": 0.050905,
     "end_time": "2022-02-20T22:08:46.131485",
     "exception": false,
     "start_time": "2022-02-20T22:08:46.080580",
     "status": "completed"
    },
    "tags": []
   },
   "source": [
    "### Global variables"
   ]
  },
  {
   "cell_type": "code",
   "execution_count": 2,
   "id": "03127bc0",
   "metadata": {
    "execution": {
     "iopub.execute_input": "2022-02-20T22:08:46.238579Z",
     "iopub.status.busy": "2022-02-20T22:08:46.237719Z",
     "iopub.status.idle": "2022-02-20T22:08:46.239963Z",
     "shell.execute_reply": "2022-02-20T22:08:46.240455Z",
     "shell.execute_reply.started": "2022-02-20T22:06:09.673433Z"
    },
    "papermill": {
     "duration": 0.058192,
     "end_time": "2022-02-20T22:08:46.240631",
     "exception": false,
     "start_time": "2022-02-20T22:08:46.182439",
     "status": "completed"
    },
    "scrolled": true,
    "tags": []
   },
   "outputs": [],
   "source": [
    "TRAIN_PATH = \"../input/widsdatathon2022/train.csv\"\n",
    "TEST_PATH = \"../input/widsdatathon2022/test.csv\"\n",
    "SUBMISSION_PATH = \"../output/\"\n",
    "TARGET = \"site_eui\"\n",
    "SCORE = \"neg_root_mean_squared_error\"\n",
    "SEED = 777"
   ]
  },
  {
   "cell_type": "markdown",
   "id": "beae2db5",
   "metadata": {
    "papermill": {
     "duration": 0.052333,
     "end_time": "2022-02-20T22:08:46.344901",
     "exception": false,
     "start_time": "2022-02-20T22:08:46.292568",
     "status": "completed"
    },
    "tags": []
   },
   "source": [
    "### Display options"
   ]
  },
  {
   "cell_type": "code",
   "execution_count": 3,
   "id": "3f4ff9ea",
   "metadata": {
    "execution": {
     "iopub.execute_input": "2022-02-20T22:08:46.450609Z",
     "iopub.status.busy": "2022-02-20T22:08:46.449688Z",
     "iopub.status.idle": "2022-02-20T22:08:46.453693Z",
     "shell.execute_reply": "2022-02-20T22:08:46.454086Z",
     "shell.execute_reply.started": "2022-02-20T22:06:09.680329Z"
    },
    "papermill": {
     "duration": 0.058205,
     "end_time": "2022-02-20T22:08:46.454269",
     "exception": false,
     "start_time": "2022-02-20T22:08:46.396064",
     "status": "completed"
    },
    "tags": []
   },
   "outputs": [],
   "source": [
    "pd.options.display.max_rows = 100"
   ]
  },
  {
   "cell_type": "markdown",
   "id": "70dd3766",
   "metadata": {
    "papermill": {
     "duration": 0.05067,
     "end_time": "2022-02-20T22:08:46.555825",
     "exception": false,
     "start_time": "2022-02-20T22:08:46.505155",
     "status": "completed"
    },
    "tags": []
   },
   "source": [
    "# Data preprocessing"
   ]
  },
  {
   "cell_type": "markdown",
   "id": "b2c92503",
   "metadata": {
    "papermill": {
     "duration": 0.050643,
     "end_time": "2022-02-20T22:08:46.657352",
     "exception": false,
     "start_time": "2022-02-20T22:08:46.606709",
     "status": "completed"
    },
    "tags": []
   },
   "source": [
    "## Read in data"
   ]
  },
  {
   "cell_type": "code",
   "execution_count": 4,
   "id": "d29c6068",
   "metadata": {
    "execution": {
     "iopub.execute_input": "2022-02-20T22:08:46.764367Z",
     "iopub.status.busy": "2022-02-20T22:08:46.763711Z",
     "iopub.status.idle": "2022-02-20T22:08:46.769098Z",
     "shell.execute_reply": "2022-02-20T22:08:46.769568Z",
     "shell.execute_reply.started": "2022-02-20T22:06:09.691459Z"
    },
    "papermill": {
     "duration": 0.059423,
     "end_time": "2022-02-20T22:08:46.769742",
     "exception": false,
     "start_time": "2022-02-20T22:08:46.710319",
     "status": "completed"
    },
    "tags": []
   },
   "outputs": [],
   "source": [
    "def read_data(train_path, test_path):\n",
    "    \"\"\"Reads in train and test data.\"\"\"\n",
    "    train_df = pd.read_csv(train_path)\n",
    "    test_df = pd.read_csv(test_path)\n",
    "    return train_df, test_df"
   ]
  },
  {
   "cell_type": "code",
   "execution_count": 5,
   "id": "2108abf5",
   "metadata": {
    "execution": {
     "iopub.execute_input": "2022-02-20T22:08:46.875305Z",
     "iopub.status.busy": "2022-02-20T22:08:46.874727Z",
     "iopub.status.idle": "2022-02-20T22:08:47.657312Z",
     "shell.execute_reply": "2022-02-20T22:08:47.656620Z",
     "shell.execute_reply.started": "2022-02-20T22:06:09.701086Z"
    },
    "papermill": {
     "duration": 0.836165,
     "end_time": "2022-02-20T22:08:47.657458",
     "exception": false,
     "start_time": "2022-02-20T22:08:46.821293",
     "status": "completed"
    },
    "tags": []
   },
   "outputs": [],
   "source": [
    "train, test = read_data(TRAIN_PATH, TEST_PATH)"
   ]
  },
  {
   "cell_type": "code",
   "execution_count": 6,
   "id": "36fcfcff",
   "metadata": {
    "execution": {
     "iopub.execute_input": "2022-02-20T22:08:47.766791Z",
     "iopub.status.busy": "2022-02-20T22:08:47.765959Z",
     "iopub.status.idle": "2022-02-20T22:08:47.769827Z",
     "shell.execute_reply": "2022-02-20T22:08:47.769112Z",
     "shell.execute_reply.started": "2022-02-20T22:06:10.576744Z"
    },
    "papermill": {
     "duration": 0.060713,
     "end_time": "2022-02-20T22:08:47.769968",
     "exception": false,
     "start_time": "2022-02-20T22:08:47.709255",
     "status": "completed"
    },
    "tags": []
   },
   "outputs": [
    {
     "data": {
      "text/plain": [
       "(75757, 64)"
      ]
     },
     "execution_count": 6,
     "metadata": {},
     "output_type": "execute_result"
    }
   ],
   "source": [
    "train.shape"
   ]
  },
  {
   "cell_type": "code",
   "execution_count": 7,
   "id": "d3be390e",
   "metadata": {
    "execution": {
     "iopub.execute_input": "2022-02-20T22:08:47.877927Z",
     "iopub.status.busy": "2022-02-20T22:08:47.876920Z",
     "iopub.status.idle": "2022-02-20T22:08:47.881926Z",
     "shell.execute_reply": "2022-02-20T22:08:47.882525Z",
     "shell.execute_reply.started": "2022-02-20T22:06:10.586816Z"
    },
    "papermill": {
     "duration": 0.060983,
     "end_time": "2022-02-20T22:08:47.882698",
     "exception": false,
     "start_time": "2022-02-20T22:08:47.821715",
     "status": "completed"
    },
    "tags": []
   },
   "outputs": [
    {
     "data": {
      "text/plain": [
       "(9705, 63)"
      ]
     },
     "execution_count": 7,
     "metadata": {},
     "output_type": "execute_result"
    }
   ],
   "source": [
    "test.shape"
   ]
  },
  {
   "cell_type": "markdown",
   "id": "519a9cb7",
   "metadata": {
    "papermill": {
     "duration": 0.051751,
     "end_time": "2022-02-20T22:08:47.986657",
     "exception": false,
     "start_time": "2022-02-20T22:08:47.934906",
     "status": "completed"
    },
    "tags": []
   },
   "source": [
    "## Duplicated data"
   ]
  },
  {
   "cell_type": "code",
   "execution_count": 8,
   "id": "631713c0",
   "metadata": {
    "execution": {
     "iopub.execute_input": "2022-02-20T22:08:48.094054Z",
     "iopub.status.busy": "2022-02-20T22:08:48.093138Z",
     "iopub.status.idle": "2022-02-20T22:08:48.097650Z",
     "shell.execute_reply": "2022-02-20T22:08:48.098198Z",
     "shell.execute_reply.started": "2022-02-20T22:06:10.598086Z"
    },
    "papermill": {
     "duration": 0.060466,
     "end_time": "2022-02-20T22:08:48.098363",
     "exception": false,
     "start_time": "2022-02-20T22:08:48.037897",
     "status": "completed"
    },
    "tags": []
   },
   "outputs": [],
   "source": [
    "def get_duplicates(df, drop_cols=None):\n",
    "    \"\"\"Returns duplicated values in a dataframe.\"\"\"\n",
    "    if drop_cols is not None:\n",
    "        return df[df.drop(columns=drop_cols).duplicated()]\n",
    "    else:\n",
    "        return df[df.duplicated()]"
   ]
  },
  {
   "cell_type": "code",
   "execution_count": 9,
   "id": "1643427e",
   "metadata": {
    "execution": {
     "iopub.execute_input": "2022-02-20T22:08:48.207136Z",
     "iopub.status.busy": "2022-02-20T22:08:48.206225Z",
     "iopub.status.idle": "2022-02-20T22:08:48.382532Z",
     "shell.execute_reply": "2022-02-20T22:08:48.381885Z",
     "shell.execute_reply.started": "2022-02-20T22:06:10.607882Z"
    },
    "papermill": {
     "duration": 0.231216,
     "end_time": "2022-02-20T22:08:48.382682",
     "exception": false,
     "start_time": "2022-02-20T22:08:48.151466",
     "status": "completed"
    },
    "tags": []
   },
   "outputs": [],
   "source": [
    "train_duplicates = get_duplicates(train, [\"id\"])\n",
    "test_duplicates = get_duplicates(test, [\"id\"])"
   ]
  },
  {
   "cell_type": "code",
   "execution_count": 10,
   "id": "5a4dc62d",
   "metadata": {
    "execution": {
     "iopub.execute_input": "2022-02-20T22:08:48.492438Z",
     "iopub.status.busy": "2022-02-20T22:08:48.491803Z",
     "iopub.status.idle": "2022-02-20T22:08:48.494090Z",
     "shell.execute_reply": "2022-02-20T22:08:48.494534Z",
     "shell.execute_reply.started": "2022-02-20T22:06:10.827284Z"
    },
    "papermill": {
     "duration": 0.059192,
     "end_time": "2022-02-20T22:08:48.494712",
     "exception": false,
     "start_time": "2022-02-20T22:08:48.435520",
     "status": "completed"
    },
    "tags": []
   },
   "outputs": [
    {
     "data": {
      "text/plain": [
       "(39, 64)"
      ]
     },
     "execution_count": 10,
     "metadata": {},
     "output_type": "execute_result"
    }
   ],
   "source": [
    "train_duplicates.shape"
   ]
  },
  {
   "cell_type": "code",
   "execution_count": 11,
   "id": "8c1f40dd",
   "metadata": {
    "execution": {
     "iopub.execute_input": "2022-02-20T22:08:48.602626Z",
     "iopub.status.busy": "2022-02-20T22:08:48.601981Z",
     "iopub.status.idle": "2022-02-20T22:08:48.605072Z",
     "shell.execute_reply": "2022-02-20T22:08:48.605605Z",
     "shell.execute_reply.started": "2022-02-20T22:06:10.837096Z"
    },
    "papermill": {
     "duration": 0.05906,
     "end_time": "2022-02-20T22:08:48.605768",
     "exception": false,
     "start_time": "2022-02-20T22:08:48.546708",
     "status": "completed"
    },
    "tags": []
   },
   "outputs": [
    {
     "data": {
      "text/plain": [
       "(5, 63)"
      ]
     },
     "execution_count": 11,
     "metadata": {},
     "output_type": "execute_result"
    }
   ],
   "source": [
    "test_duplicates.shape"
   ]
  },
  {
   "cell_type": "code",
   "execution_count": 12,
   "id": "5f1ffbab",
   "metadata": {
    "execution": {
     "iopub.execute_input": "2022-02-20T22:08:48.712758Z",
     "iopub.status.busy": "2022-02-20T22:08:48.712156Z",
     "iopub.status.idle": "2022-02-20T22:08:48.716483Z",
     "shell.execute_reply": "2022-02-20T22:08:48.717038Z",
     "shell.execute_reply.started": "2022-02-20T22:06:10.850792Z"
    },
    "papermill": {
     "duration": 0.059347,
     "end_time": "2022-02-20T22:08:48.717215",
     "exception": false,
     "start_time": "2022-02-20T22:08:48.657868",
     "status": "completed"
    },
    "tags": []
   },
   "outputs": [],
   "source": [
    "def remove_duplicates(df, drop_cols=None):\n",
    "    \"\"\"Removes duplicated values in a dataframe\"\"\"\n",
    "    df_clean = df.copy()\n",
    "    if drop_cols is not None:\n",
    "        df_clean = df_clean[~df_clean.drop(columns=drop_cols).duplicated()]\n",
    "    else:\n",
    "        df_clean = df_clean[~df_clean.duplicated()]\n",
    "    return df_clean.reset_index(drop=True)"
   ]
  },
  {
   "cell_type": "code",
   "execution_count": 13,
   "id": "2cf352bf",
   "metadata": {
    "execution": {
     "iopub.execute_input": "2022-02-20T22:08:48.824513Z",
     "iopub.status.busy": "2022-02-20T22:08:48.823944Z",
     "iopub.status.idle": "2022-02-20T22:08:49.013210Z",
     "shell.execute_reply": "2022-02-20T22:08:49.012654Z",
     "shell.execute_reply.started": "2022-02-20T22:06:10.859920Z"
    },
    "papermill": {
     "duration": 0.243935,
     "end_time": "2022-02-20T22:08:49.013365",
     "exception": false,
     "start_time": "2022-02-20T22:08:48.769430",
     "status": "completed"
    },
    "tags": []
   },
   "outputs": [],
   "source": [
    "train = remove_duplicates(train, [\"id\"])"
   ]
  },
  {
   "cell_type": "code",
   "execution_count": 14,
   "id": "b01b6b82",
   "metadata": {
    "execution": {
     "iopub.execute_input": "2022-02-20T22:08:49.123712Z",
     "iopub.status.busy": "2022-02-20T22:08:49.123025Z",
     "iopub.status.idle": "2022-02-20T22:08:49.125619Z",
     "shell.execute_reply": "2022-02-20T22:08:49.126070Z",
     "shell.execute_reply.started": "2022-02-20T22:06:11.087209Z"
    },
    "papermill": {
     "duration": 0.060156,
     "end_time": "2022-02-20T22:08:49.126249",
     "exception": false,
     "start_time": "2022-02-20T22:08:49.066093",
     "status": "completed"
    },
    "tags": []
   },
   "outputs": [
    {
     "data": {
      "text/plain": [
       "(75718, 64)"
      ]
     },
     "execution_count": 14,
     "metadata": {},
     "output_type": "execute_result"
    }
   ],
   "source": [
    "train.shape"
   ]
  },
  {
   "cell_type": "markdown",
   "id": "360008b5",
   "metadata": {
    "papermill": {
     "duration": 0.052083,
     "end_time": "2022-02-20T22:08:49.230672",
     "exception": false,
     "start_time": "2022-02-20T22:08:49.178589",
     "status": "completed"
    },
    "tags": []
   },
   "source": [
    "## Missing data"
   ]
  },
  {
   "cell_type": "code",
   "execution_count": 15,
   "id": "8746d68c",
   "metadata": {
    "execution": {
     "iopub.execute_input": "2022-02-20T22:08:49.338303Z",
     "iopub.status.busy": "2022-02-20T22:08:49.337690Z",
     "iopub.status.idle": "2022-02-20T22:08:49.341913Z",
     "shell.execute_reply": "2022-02-20T22:08:49.342379Z",
     "shell.execute_reply.started": "2022-02-20T22:06:11.095150Z"
    },
    "papermill": {
     "duration": 0.059627,
     "end_time": "2022-02-20T22:08:49.342547",
     "exception": false,
     "start_time": "2022-02-20T22:08:49.282920",
     "status": "completed"
    },
    "tags": []
   },
   "outputs": [],
   "source": [
    "def count_missing(df):\n",
    "    \"\"\"Counts the missing values in a dataframe\"\"\"\n",
    "    missing_df = pd.DataFrame(\n",
    "        df.isna().sum().sort_values(ascending=False), columns=[\"count\"]\n",
    "    )\n",
    "    missing_df[\"percent\"] = missing_df[\"count\"] / df.shape[0]\n",
    "    return missing_df.query(\"count != 0\")"
   ]
  },
  {
   "cell_type": "code",
   "execution_count": 16,
   "id": "13d722a0",
   "metadata": {
    "execution": {
     "iopub.execute_input": "2022-02-20T22:08:49.450994Z",
     "iopub.status.busy": "2022-02-20T22:08:49.450383Z",
     "iopub.status.idle": "2022-02-20T22:08:49.485428Z",
     "shell.execute_reply": "2022-02-20T22:08:49.484756Z",
     "shell.execute_reply.started": "2022-02-20T22:06:11.104063Z"
    },
    "papermill": {
     "duration": 0.090328,
     "end_time": "2022-02-20T22:08:49.485573",
     "exception": false,
     "start_time": "2022-02-20T22:08:49.395245",
     "status": "completed"
    },
    "tags": []
   },
   "outputs": [
    {
     "data": {
      "text/html": [
       "<div>\n",
       "<style scoped>\n",
       "    .dataframe tbody tr th:only-of-type {\n",
       "        vertical-align: middle;\n",
       "    }\n",
       "\n",
       "    .dataframe tbody tr th {\n",
       "        vertical-align: top;\n",
       "    }\n",
       "\n",
       "    .dataframe thead th {\n",
       "        text-align: right;\n",
       "    }\n",
       "</style>\n",
       "<table border=\"1\" class=\"dataframe\">\n",
       "  <thead>\n",
       "    <tr style=\"text-align: right;\">\n",
       "      <th></th>\n",
       "      <th>count</th>\n",
       "      <th>percent</th>\n",
       "    </tr>\n",
       "  </thead>\n",
       "  <tbody>\n",
       "    <tr>\n",
       "      <th>days_with_fog</th>\n",
       "      <td>45783</td>\n",
       "      <td>0.604651</td>\n",
       "    </tr>\n",
       "    <tr>\n",
       "      <th>direction_peak_wind_speed</th>\n",
       "      <td>41798</td>\n",
       "      <td>0.552022</td>\n",
       "    </tr>\n",
       "    <tr>\n",
       "      <th>max_wind_speed</th>\n",
       "      <td>41070</td>\n",
       "      <td>0.542407</td>\n",
       "    </tr>\n",
       "    <tr>\n",
       "      <th>direction_max_wind_speed</th>\n",
       "      <td>41070</td>\n",
       "      <td>0.542407</td>\n",
       "    </tr>\n",
       "    <tr>\n",
       "      <th>energy_star_rating</th>\n",
       "      <td>26682</td>\n",
       "      <td>0.352386</td>\n",
       "    </tr>\n",
       "    <tr>\n",
       "      <th>year_built</th>\n",
       "      <td>1817</td>\n",
       "      <td>0.023997</td>\n",
       "    </tr>\n",
       "  </tbody>\n",
       "</table>\n",
       "</div>"
      ],
      "text/plain": [
       "                           count   percent\n",
       "days_with_fog              45783  0.604651\n",
       "direction_peak_wind_speed  41798  0.552022\n",
       "max_wind_speed             41070  0.542407\n",
       "direction_max_wind_speed   41070  0.542407\n",
       "energy_star_rating         26682  0.352386\n",
       "year_built                  1817  0.023997"
      ]
     },
     "execution_count": 16,
     "metadata": {},
     "output_type": "execute_result"
    }
   ],
   "source": [
    "count_missing(train)"
   ]
  },
  {
   "cell_type": "code",
   "execution_count": 17,
   "id": "8f6e46a5",
   "metadata": {
    "execution": {
     "iopub.execute_input": "2022-02-20T22:08:49.597055Z",
     "iopub.status.busy": "2022-02-20T22:08:49.596409Z",
     "iopub.status.idle": "2022-02-20T22:08:49.610773Z",
     "shell.execute_reply": "2022-02-20T22:08:49.611326Z",
     "shell.execute_reply.started": "2022-02-20T22:06:11.157429Z"
    },
    "papermill": {
     "duration": 0.072778,
     "end_time": "2022-02-20T22:08:49.611496",
     "exception": false,
     "start_time": "2022-02-20T22:08:49.538718",
     "status": "completed"
    },
    "tags": []
   },
   "outputs": [
    {
     "data": {
      "text/html": [
       "<div>\n",
       "<style scoped>\n",
       "    .dataframe tbody tr th:only-of-type {\n",
       "        vertical-align: middle;\n",
       "    }\n",
       "\n",
       "    .dataframe tbody tr th {\n",
       "        vertical-align: top;\n",
       "    }\n",
       "\n",
       "    .dataframe thead th {\n",
       "        text-align: right;\n",
       "    }\n",
       "</style>\n",
       "<table border=\"1\" class=\"dataframe\">\n",
       "  <thead>\n",
       "    <tr style=\"text-align: right;\">\n",
       "      <th></th>\n",
       "      <th>count</th>\n",
       "      <th>percent</th>\n",
       "    </tr>\n",
       "  </thead>\n",
       "  <tbody>\n",
       "    <tr>\n",
       "      <th>days_with_fog</th>\n",
       "      <td>9117</td>\n",
       "      <td>0.939413</td>\n",
       "    </tr>\n",
       "    <tr>\n",
       "      <th>max_wind_speed</th>\n",
       "      <td>8575</td>\n",
       "      <td>0.883565</td>\n",
       "    </tr>\n",
       "    <tr>\n",
       "      <th>direction_peak_wind_speed</th>\n",
       "      <td>8575</td>\n",
       "      <td>0.883565</td>\n",
       "    </tr>\n",
       "    <tr>\n",
       "      <th>direction_max_wind_speed</th>\n",
       "      <td>8575</td>\n",
       "      <td>0.883565</td>\n",
       "    </tr>\n",
       "    <tr>\n",
       "      <th>energy_star_rating</th>\n",
       "      <td>2254</td>\n",
       "      <td>0.232251</td>\n",
       "    </tr>\n",
       "    <tr>\n",
       "      <th>year_built</th>\n",
       "      <td>92</td>\n",
       "      <td>0.009480</td>\n",
       "    </tr>\n",
       "  </tbody>\n",
       "</table>\n",
       "</div>"
      ],
      "text/plain": [
       "                           count   percent\n",
       "days_with_fog               9117  0.939413\n",
       "max_wind_speed              8575  0.883565\n",
       "direction_peak_wind_speed   8575  0.883565\n",
       "direction_max_wind_speed    8575  0.883565\n",
       "energy_star_rating          2254  0.232251\n",
       "year_built                    92  0.009480"
      ]
     },
     "execution_count": 17,
     "metadata": {},
     "output_type": "execute_result"
    }
   ],
   "source": [
    "count_missing(test)"
   ]
  },
  {
   "cell_type": "markdown",
   "id": "0659a955",
   "metadata": {
    "papermill": {
     "duration": 0.053054,
     "end_time": "2022-02-20T22:08:49.717768",
     "exception": false,
     "start_time": "2022-02-20T22:08:49.664714",
     "status": "completed"
    },
    "tags": []
   },
   "source": [
    "## Data imputation: `energy_star`, `year_built`"
   ]
  },
  {
   "cell_type": "code",
   "execution_count": 18,
   "id": "7327ae8f",
   "metadata": {
    "execution": {
     "iopub.execute_input": "2022-02-20T22:08:49.826997Z",
     "iopub.status.busy": "2022-02-20T22:08:49.826376Z",
     "iopub.status.idle": "2022-02-20T22:08:49.831675Z",
     "shell.execute_reply": "2022-02-20T22:08:49.832247Z",
     "shell.execute_reply.started": "2022-02-20T22:06:11.181709Z"
    },
    "papermill": {
     "duration": 0.061673,
     "end_time": "2022-02-20T22:08:49.832415",
     "exception": false,
     "start_time": "2022-02-20T22:08:49.770742",
     "status": "completed"
    },
    "tags": []
   },
   "outputs": [],
   "source": [
    "def iterative_impute(train_df, test_df, model, ct, target, feat_names, seed):\n",
    "    \"\"\"Iteratively impute missing values with a desired model\"\"\"\n",
    "    train_imp = ct.fit_transform(train_df.drop(columns=[target]))\n",
    "    test_imp = ct.transform(test_df)\n",
    "\n",
    "    imputer = IterativeImputer(estimator=model, random_state=seed)\n",
    "\n",
    "    # TODO: fix feat_names with appropriate sklearn method\n",
    "    cols = (\n",
    "        ct.named_transformers_[\"onehotencoder\"].get_feature_names().tolist()\n",
    "        + feat_names\n",
    "    )\n",
    "\n",
    "    train_imp = pd.DataFrame(imputer.fit_transform(train_imp), columns=cols)\n",
    "    test_imp = pd.DataFrame(imputer.transform(test_imp), columns=cols)\n",
    "\n",
    "    return train_imp, test_imp"
   ]
  },
  {
   "cell_type": "code",
   "execution_count": 19,
   "id": "29085f39",
   "metadata": {
    "execution": {
     "iopub.execute_input": "2022-02-20T22:08:49.960352Z",
     "iopub.status.busy": "2022-02-20T22:08:49.959713Z",
     "iopub.status.idle": "2022-02-20T22:08:49.964992Z",
     "shell.execute_reply": "2022-02-20T22:08:49.965626Z",
     "shell.execute_reply.started": "2022-02-20T22:06:11.192069Z"
    },
    "papermill": {
     "duration": 0.070502,
     "end_time": "2022-02-20T22:08:49.965806",
     "exception": false,
     "start_time": "2022-02-20T22:08:49.895304",
     "status": "completed"
    },
    "tags": []
   },
   "outputs": [],
   "source": [
    "def replace_columns(df, df_imp, columns):\n",
    "    \"\"\"Replace columns in one dataframe with columns from another\"\"\"\n",
    "    df_replaced = df.copy()\n",
    "\n",
    "    for col in columns:\n",
    "        df_replaced[col] = df_imp[col]\n",
    "\n",
    "    return df_replaced"
   ]
  },
  {
   "cell_type": "code",
   "execution_count": 20,
   "id": "eb6acf6a",
   "metadata": {
    "execution": {
     "iopub.execute_input": "2022-02-20T22:08:50.098741Z",
     "iopub.status.busy": "2022-02-20T22:08:50.097695Z",
     "iopub.status.idle": "2022-02-20T22:08:50.100061Z",
     "shell.execute_reply": "2022-02-20T22:08:50.100514Z",
     "shell.execute_reply.started": "2022-02-20T22:06:11.204484Z"
    },
    "papermill": {
     "duration": 0.077447,
     "end_time": "2022-02-20T22:08:50.100686",
     "exception": false,
     "start_time": "2022-02-20T22:08:50.023239",
     "status": "completed"
    },
    "tags": []
   },
   "outputs": [],
   "source": [
    "cat_imp = [\n",
    "    'Year_Factor', 'State_Factor', 'building_class', 'facility_type'\n",
    "]\n",
    "\n",
    "num_imp = [\n",
    "    'floor_area', 'year_built', 'energy_star_rating', 'ELEVATION',\n",
    "    'cooling_degree_days', 'heating_degree_days', 'precipitation_inches',\n",
    "    'snowfall_inches', 'snowdepth_inches', 'avg_temp'\n",
    "]\n",
    "\n",
    "drop_imp = [\n",
    "    'january_min_temp', 'january_avg_temp', 'january_max_temp',\n",
    "    'february_min_temp', 'february_avg_temp', 'february_max_temp',\n",
    "    'march_min_temp', 'march_avg_temp', 'march_max_temp', 'april_min_temp',\n",
    "    'april_avg_temp', 'april_max_temp', 'may_min_temp', 'may_avg_temp',\n",
    "    'may_max_temp', 'june_min_temp', 'june_avg_temp', 'june_max_temp',\n",
    "    'july_min_temp', 'july_avg_temp', 'july_max_temp', 'august_min_temp',\n",
    "    'august_avg_temp', 'august_max_temp', 'september_min_temp',\n",
    "    'september_avg_temp', 'september_max_temp', 'october_min_temp',\n",
    "    'october_avg_temp', 'october_max_temp', 'november_min_temp',\n",
    "    'november_avg_temp', 'november_max_temp', 'december_min_temp',\n",
    "    'december_avg_temp', 'december_max_temp', 'days_below_30F', 'days_below_20F',\n",
    "    'days_below_10F', 'days_below_0F', 'days_above_80F', 'days_above_90F',\n",
    "    'days_above_100F', 'days_above_110F', 'direction_max_wind_speed',\n",
    "    'direction_peak_wind_speed', 'max_wind_speed', 'days_with_fog',\n",
    "    'id'\n",
    "]"
   ]
  },
  {
   "cell_type": "code",
   "execution_count": 21,
   "id": "51bf22f0",
   "metadata": {
    "execution": {
     "iopub.execute_input": "2022-02-20T22:08:50.224978Z",
     "iopub.status.busy": "2022-02-20T22:08:50.223978Z",
     "iopub.status.idle": "2022-02-20T22:09:07.118758Z",
     "shell.execute_reply": "2022-02-20T22:09:07.119657Z",
     "shell.execute_reply.started": "2022-02-20T22:06:11.214925Z"
    },
    "papermill": {
     "duration": 16.962933,
     "end_time": "2022-02-20T22:09:07.119932",
     "exception": false,
     "start_time": "2022-02-20T22:08:50.156999",
     "status": "completed"
    },
    "tags": []
   },
   "outputs": [],
   "source": [
    "ct_imp = make_column_transformer(\n",
    "    (OneHotEncoder(handle_unknown=\"ignore\", sparse=False), cat_imp),\n",
    "    (\"passthrough\", num_imp),\n",
    "    (\"drop\", drop_imp)\n",
    ")\n",
    "\n",
    "# change to better model later\n",
    "model = Ridge()\n",
    "\n",
    "train_imp, test_imp = iterative_impute(train, test, model, ct_imp, TARGET, num_imp, SEED)"
   ]
  },
  {
   "cell_type": "code",
   "execution_count": 22,
   "id": "4c2620f4",
   "metadata": {
    "execution": {
     "iopub.execute_input": "2022-02-20T22:09:07.282768Z",
     "iopub.status.busy": "2022-02-20T22:09:07.282127Z",
     "iopub.status.idle": "2022-02-20T22:09:07.298119Z",
     "shell.execute_reply": "2022-02-20T22:09:07.297625Z",
     "shell.execute_reply.started": "2022-02-20T22:06:29.838560Z"
    },
    "papermill": {
     "duration": 0.075562,
     "end_time": "2022-02-20T22:09:07.298280",
     "exception": false,
     "start_time": "2022-02-20T22:09:07.222718",
     "status": "completed"
    },
    "tags": []
   },
   "outputs": [],
   "source": [
    "train = replace_columns(train, train_imp, [\"energy_star_rating\", \"year_built\"])\n",
    "test = replace_columns(test, test_imp, [\"energy_star_rating\", \"year_built\"])"
   ]
  },
  {
   "cell_type": "code",
   "execution_count": 23,
   "id": "3d37fb49",
   "metadata": {
    "execution": {
     "iopub.execute_input": "2022-02-20T22:09:07.409677Z",
     "iopub.status.busy": "2022-02-20T22:09:07.409076Z",
     "iopub.status.idle": "2022-02-20T22:09:07.436979Z",
     "shell.execute_reply": "2022-02-20T22:09:07.436485Z",
     "shell.execute_reply.started": "2022-02-20T22:06:29.874247Z"
    },
    "papermill": {
     "duration": 0.085155,
     "end_time": "2022-02-20T22:09:07.437110",
     "exception": false,
     "start_time": "2022-02-20T22:09:07.351955",
     "status": "completed"
    },
    "tags": []
   },
   "outputs": [
    {
     "data": {
      "text/html": [
       "<div>\n",
       "<style scoped>\n",
       "    .dataframe tbody tr th:only-of-type {\n",
       "        vertical-align: middle;\n",
       "    }\n",
       "\n",
       "    .dataframe tbody tr th {\n",
       "        vertical-align: top;\n",
       "    }\n",
       "\n",
       "    .dataframe thead th {\n",
       "        text-align: right;\n",
       "    }\n",
       "</style>\n",
       "<table border=\"1\" class=\"dataframe\">\n",
       "  <thead>\n",
       "    <tr style=\"text-align: right;\">\n",
       "      <th></th>\n",
       "      <th>count</th>\n",
       "      <th>percent</th>\n",
       "    </tr>\n",
       "  </thead>\n",
       "  <tbody>\n",
       "    <tr>\n",
       "      <th>days_with_fog</th>\n",
       "      <td>45783</td>\n",
       "      <td>0.604651</td>\n",
       "    </tr>\n",
       "    <tr>\n",
       "      <th>direction_peak_wind_speed</th>\n",
       "      <td>41798</td>\n",
       "      <td>0.552022</td>\n",
       "    </tr>\n",
       "    <tr>\n",
       "      <th>max_wind_speed</th>\n",
       "      <td>41070</td>\n",
       "      <td>0.542407</td>\n",
       "    </tr>\n",
       "    <tr>\n",
       "      <th>direction_max_wind_speed</th>\n",
       "      <td>41070</td>\n",
       "      <td>0.542407</td>\n",
       "    </tr>\n",
       "  </tbody>\n",
       "</table>\n",
       "</div>"
      ],
      "text/plain": [
       "                           count   percent\n",
       "days_with_fog              45783  0.604651\n",
       "direction_peak_wind_speed  41798  0.552022\n",
       "max_wind_speed             41070  0.542407\n",
       "direction_max_wind_speed   41070  0.542407"
      ]
     },
     "execution_count": 23,
     "metadata": {},
     "output_type": "execute_result"
    }
   ],
   "source": [
    "count_missing(train)"
   ]
  },
  {
   "cell_type": "code",
   "execution_count": 24,
   "id": "4470df80",
   "metadata": {
    "execution": {
     "iopub.execute_input": "2022-02-20T22:09:07.548877Z",
     "iopub.status.busy": "2022-02-20T22:09:07.548317Z",
     "iopub.status.idle": "2022-02-20T22:09:07.561499Z",
     "shell.execute_reply": "2022-02-20T22:09:07.561032Z",
     "shell.execute_reply.started": "2022-02-20T22:06:29.943893Z"
    },
    "papermill": {
     "duration": 0.070998,
     "end_time": "2022-02-20T22:09:07.561634",
     "exception": false,
     "start_time": "2022-02-20T22:09:07.490636",
     "status": "completed"
    },
    "tags": []
   },
   "outputs": [
    {
     "data": {
      "text/html": [
       "<div>\n",
       "<style scoped>\n",
       "    .dataframe tbody tr th:only-of-type {\n",
       "        vertical-align: middle;\n",
       "    }\n",
       "\n",
       "    .dataframe tbody tr th {\n",
       "        vertical-align: top;\n",
       "    }\n",
       "\n",
       "    .dataframe thead th {\n",
       "        text-align: right;\n",
       "    }\n",
       "</style>\n",
       "<table border=\"1\" class=\"dataframe\">\n",
       "  <thead>\n",
       "    <tr style=\"text-align: right;\">\n",
       "      <th></th>\n",
       "      <th>count</th>\n",
       "      <th>percent</th>\n",
       "    </tr>\n",
       "  </thead>\n",
       "  <tbody>\n",
       "    <tr>\n",
       "      <th>days_with_fog</th>\n",
       "      <td>9117</td>\n",
       "      <td>0.939413</td>\n",
       "    </tr>\n",
       "    <tr>\n",
       "      <th>max_wind_speed</th>\n",
       "      <td>8575</td>\n",
       "      <td>0.883565</td>\n",
       "    </tr>\n",
       "    <tr>\n",
       "      <th>direction_peak_wind_speed</th>\n",
       "      <td>8575</td>\n",
       "      <td>0.883565</td>\n",
       "    </tr>\n",
       "    <tr>\n",
       "      <th>direction_max_wind_speed</th>\n",
       "      <td>8575</td>\n",
       "      <td>0.883565</td>\n",
       "    </tr>\n",
       "  </tbody>\n",
       "</table>\n",
       "</div>"
      ],
      "text/plain": [
       "                           count   percent\n",
       "days_with_fog               9117  0.939413\n",
       "max_wind_speed              8575  0.883565\n",
       "direction_peak_wind_speed   8575  0.883565\n",
       "direction_max_wind_speed    8575  0.883565"
      ]
     },
     "execution_count": 24,
     "metadata": {},
     "output_type": "execute_result"
    }
   ],
   "source": [
    "count_missing(test)"
   ]
  },
  {
   "cell_type": "markdown",
   "id": "214ea80e",
   "metadata": {
    "papermill": {
     "duration": 0.054133,
     "end_time": "2022-02-20T22:09:07.669785",
     "exception": false,
     "start_time": "2022-02-20T22:09:07.615652",
     "status": "completed"
    },
    "tags": []
   },
   "source": [
    "# Feature Engineering"
   ]
  },
  {
   "cell_type": "markdown",
   "id": "ba37a5eb",
   "metadata": {
    "papermill": {
     "duration": 0.054406,
     "end_time": "2022-02-20T22:09:07.778764",
     "exception": false,
     "start_time": "2022-02-20T22:09:07.724358",
     "status": "completed"
    },
    "tags": []
   },
   "source": [
    "## New Features: Entire Dataset"
   ]
  },
  {
   "cell_type": "code",
   "execution_count": 25,
   "id": "31e0fca0",
   "metadata": {
    "execution": {
     "iopub.execute_input": "2022-02-20T22:09:07.893360Z",
     "iopub.status.busy": "2022-02-20T22:09:07.891435Z",
     "iopub.status.idle": "2022-02-20T22:09:07.896205Z",
     "shell.execute_reply": "2022-02-20T22:09:07.895724Z",
     "shell.execute_reply.started": "2022-02-20T22:06:29.963981Z"
    },
    "papermill": {
     "duration": 0.06285,
     "end_time": "2022-02-20T22:09:07.896345",
     "exception": false,
     "start_time": "2022-02-20T22:09:07.833495",
     "status": "completed"
    },
    "tags": []
   },
   "outputs": [],
   "source": [
    "def has_feature(df, feat):\n",
    "    \"\"\"Adds a boolean feature if a feature exists or now\"\"\"\n",
    "    return df[feat].notna().astype(int)"
   ]
  },
  {
   "cell_type": "code",
   "execution_count": 26,
   "id": "7e817696",
   "metadata": {
    "execution": {
     "iopub.execute_input": "2022-02-20T22:09:08.011445Z",
     "iopub.status.busy": "2022-02-20T22:09:08.010526Z",
     "iopub.status.idle": "2022-02-20T22:09:08.013439Z",
     "shell.execute_reply": "2022-02-20T22:09:08.012946Z",
     "shell.execute_reply.started": "2022-02-20T22:06:29.970619Z"
    },
    "papermill": {
     "duration": 0.063132,
     "end_time": "2022-02-20T22:09:08.013582",
     "exception": false,
     "start_time": "2022-02-20T22:09:07.950450",
     "status": "completed"
    },
    "tags": []
   },
   "outputs": [],
   "source": [
    "def feature_engineer(train_df, test_df):\n",
    "    \"\"\"Feature engineer the wids 2022 dataset\"\"\"\n",
    "    train_df_eng = train_df.copy()\n",
    "    test_df_eng = test_df.copy()\n",
    "    \n",
    "    # whether or not a building has a fog detector\n",
    "    train_df_eng[\"has_fog_detector\"] = has_feature(train_df_eng, \"days_with_fog\")\n",
    "    test_df_eng[\"has_fog_detector\"] = has_feature(test_df_eng, \"days_with_fog\")\n",
    "    \n",
    "    # whether or not a building has a wind detector\n",
    "    train_df_eng[\"has_wind_detector\"] = has_feature(train_df_eng, \"max_wind_speed\")\n",
    "    test_df_eng[\"has_wind_detector\"] = has_feature(test_df_eng, \"max_wind_speed\")\n",
    "    \n",
    "    return train_df_eng, test_df_eng"
   ]
  },
  {
   "cell_type": "code",
   "execution_count": 27,
   "id": "3d343c2f",
   "metadata": {
    "execution": {
     "iopub.execute_input": "2022-02-20T22:09:08.129303Z",
     "iopub.status.busy": "2022-02-20T22:09:08.125506Z",
     "iopub.status.idle": "2022-02-20T22:09:08.131227Z",
     "shell.execute_reply": "2022-02-20T22:09:08.131817Z",
     "shell.execute_reply.started": "2022-02-20T22:06:29.981138Z"
    },
    "papermill": {
     "duration": 0.064127,
     "end_time": "2022-02-20T22:09:08.131990",
     "exception": false,
     "start_time": "2022-02-20T22:09:08.067863",
     "status": "completed"
    },
    "tags": []
   },
   "outputs": [],
   "source": [
    "# TODO: Add more features\n",
    "def add_cluster_labels(model, ct, train_df, test_df, target):\n",
    "    \"\"\"Adds cluster labels as a feature\"\"\"\n",
    "    train_df_cluster = train_df.copy()\n",
    "    test_df_cluster = test_df.copy()\n",
    "\n",
    "    X_cluster = ct.fit_transform(train_df.drop(columns=[target]))\n",
    "    test_cluster = ct.transform(test_df)\n",
    "\n",
    "    model.fit(X_cluster)\n",
    "\n",
    "    train_df_cluster[\"cluster_label\"] = model.labels_\n",
    "    test_df_cluster[\"cluster_label\"] = model.predict(test_cluster)\n",
    "\n",
    "    return train_df_cluster, test_df_cluster"
   ]
  },
  {
   "cell_type": "code",
   "execution_count": 28,
   "id": "8003f0ad",
   "metadata": {
    "execution": {
     "iopub.execute_input": "2022-02-20T22:09:08.245431Z",
     "iopub.status.busy": "2022-02-20T22:09:08.244467Z",
     "iopub.status.idle": "2022-02-20T22:09:08.262599Z",
     "shell.execute_reply": "2022-02-20T22:09:08.263078Z",
     "shell.execute_reply.started": "2022-02-20T22:06:30.001280Z"
    },
    "papermill": {
     "duration": 0.075573,
     "end_time": "2022-02-20T22:09:08.263266",
     "exception": false,
     "start_time": "2022-02-20T22:09:08.187693",
     "status": "completed"
    },
    "tags": []
   },
   "outputs": [],
   "source": [
    "train_df_eng, test_df_eng = feature_engineer(train, test)"
   ]
  },
  {
   "cell_type": "markdown",
   "id": "527b686e",
   "metadata": {
    "papermill": {
     "duration": 0.054995,
     "end_time": "2022-02-20T22:09:08.372904",
     "exception": false,
     "start_time": "2022-02-20T22:09:08.317909",
     "status": "completed"
    },
    "tags": []
   },
   "source": [
    "## Cluster buildings"
   ]
  },
  {
   "cell_type": "code",
   "execution_count": 29,
   "id": "89e46681",
   "metadata": {
    "execution": {
     "iopub.execute_input": "2022-02-20T22:09:08.484721Z",
     "iopub.status.busy": "2022-02-20T22:09:08.483790Z",
     "iopub.status.idle": "2022-02-20T22:09:08.487848Z",
     "shell.execute_reply": "2022-02-20T22:09:08.488293Z",
     "shell.execute_reply.started": "2022-02-20T22:06:30.027413Z"
    },
    "papermill": {
     "duration": 0.061753,
     "end_time": "2022-02-20T22:09:08.488454",
     "exception": false,
     "start_time": "2022-02-20T22:09:08.426701",
     "status": "completed"
    },
    "tags": []
   },
   "outputs": [],
   "source": [
    "def plot_elbow_curve(X, model, k):\n",
    "    visualizer = KElbowVisualizer(model, k=k)\n",
    "    visualizer.fit(X)\n",
    "    visualizer.show()\n",
    "    return visualizer"
   ]
  },
  {
   "cell_type": "code",
   "execution_count": 30,
   "id": "adff57ca",
   "metadata": {
    "execution": {
     "iopub.execute_input": "2022-02-20T22:09:08.600215Z",
     "iopub.status.busy": "2022-02-20T22:09:08.599277Z",
     "iopub.status.idle": "2022-02-20T22:09:08.603813Z",
     "shell.execute_reply": "2022-02-20T22:09:08.604306Z",
     "shell.execute_reply.started": "2022-02-20T22:06:30.033913Z"
    },
    "papermill": {
     "duration": 0.062076,
     "end_time": "2022-02-20T22:09:08.604483",
     "exception": false,
     "start_time": "2022-02-20T22:09:08.542407",
     "status": "completed"
    },
    "tags": []
   },
   "outputs": [],
   "source": [
    "def plot_silhouette(X, model):\n",
    "    visualizer = SilhouetteVisualizer(model, colors=\"yellowbrick\")\n",
    "    visualizer.fit(X)\n",
    "    visualizer.show()\n",
    "    return visualizer"
   ]
  },
  {
   "cell_type": "code",
   "execution_count": 31,
   "id": "0f9694a1",
   "metadata": {
    "execution": {
     "iopub.execute_input": "2022-02-20T22:09:08.716939Z",
     "iopub.status.busy": "2022-02-20T22:09:08.715979Z",
     "iopub.status.idle": "2022-02-20T22:09:08.721156Z",
     "shell.execute_reply": "2022-02-20T22:09:08.721897Z",
     "shell.execute_reply.started": "2022-02-20T22:06:30.044263Z"
    },
    "papermill": {
     "duration": 0.063458,
     "end_time": "2022-02-20T22:09:08.722081",
     "exception": false,
     "start_time": "2022-02-20T22:09:08.658623",
     "status": "completed"
    },
    "tags": []
   },
   "outputs": [],
   "source": [
    "def add_cluster_labels(model, ct, train_df, test_df, target):\n",
    "    \"\"\"Adds cluster labels as a feature\"\"\"\n",
    "    train_df_cluster = train_df.copy()\n",
    "    test_df_cluster = test_df.copy()\n",
    "\n",
    "    X_cluster = ct.fit_transform(train_df.drop(columns=[target]))\n",
    "    test_cluster = ct.transform(test_df)\n",
    "\n",
    "    model.fit(X_cluster)\n",
    "\n",
    "    train_df_cluster[\"cluster_label\"] = model.labels_\n",
    "    test_df_cluster[\"cluster_label\"] = model.predict(test_cluster)\n",
    "\n",
    "    return train_df_cluster, test_df_cluster"
   ]
  },
  {
   "cell_type": "code",
   "execution_count": 32,
   "id": "56e83566",
   "metadata": {
    "execution": {
     "iopub.execute_input": "2022-02-20T22:09:08.839767Z",
     "iopub.status.busy": "2022-02-20T22:09:08.838967Z",
     "iopub.status.idle": "2022-02-20T22:09:08.841274Z",
     "shell.execute_reply": "2022-02-20T22:09:08.841758Z",
     "shell.execute_reply.started": "2022-02-20T22:06:30.054597Z"
    },
    "papermill": {
     "duration": 0.064979,
     "end_time": "2022-02-20T22:09:08.841923",
     "exception": false,
     "start_time": "2022-02-20T22:09:08.776944",
     "status": "completed"
    },
    "tags": []
   },
   "outputs": [],
   "source": [
    "cat_cluster = [\n",
    "    'building_class', 'facility_type'\n",
    "]\n",
    "\n",
    "num_cluster = [\n",
    "    'floor_area', 'year_built', 'energy_star_rating', 'ELEVATION',\n",
    "    'cooling_degree_days', 'heating_degree_days', 'precipitation_inches',\n",
    "    'snowfall_inches', 'snowdepth_inches', 'avg_temp'\n",
    "]\n",
    "\n",
    "passthrough_cluster = [\n",
    "    'has_fog_detector', 'has_wind_detector'\n",
    "]\n",
    "\n",
    "drop_cluster = [\n",
    "    'Year_Factor', 'State_Factor', 'january_min_temp', 'january_avg_temp', 'january_max_temp',\n",
    "    'february_min_temp', 'february_avg_temp', 'february_max_temp',\n",
    "    'march_min_temp', 'march_avg_temp', 'march_max_temp', 'april_min_temp',\n",
    "    'april_avg_temp', 'april_max_temp', 'may_min_temp', 'may_avg_temp',\n",
    "    'may_max_temp', 'june_min_temp', 'june_avg_temp', 'june_max_temp',\n",
    "    'july_min_temp', 'july_avg_temp', 'july_max_temp', 'august_min_temp',\n",
    "    'august_avg_temp', 'august_max_temp', 'september_min_temp',\n",
    "    'september_avg_temp', 'september_max_temp', 'october_min_temp',\n",
    "    'october_avg_temp', 'october_max_temp', 'november_min_temp',\n",
    "    'november_avg_temp', 'november_max_temp', 'december_min_temp',\n",
    "    'december_avg_temp', 'december_max_temp', 'days_below_30F', 'days_below_20F',\n",
    "    'days_below_10F', 'days_below_0F', 'days_above_80F', 'days_above_90F',\n",
    "    'days_above_100F', 'days_above_110F', 'direction_max_wind_speed',\n",
    "    'direction_peak_wind_speed', 'max_wind_speed', 'days_with_fog',\n",
    "    'id'\n",
    "]"
   ]
  },
  {
   "cell_type": "code",
   "execution_count": 33,
   "id": "3bcd0df5",
   "metadata": {
    "execution": {
     "iopub.execute_input": "2022-02-20T22:09:08.954623Z",
     "iopub.status.busy": "2022-02-20T22:09:08.954005Z",
     "iopub.status.idle": "2022-02-20T22:09:08.957547Z",
     "shell.execute_reply": "2022-02-20T22:09:08.958077Z",
     "shell.execute_reply.started": "2022-02-20T22:06:30.065681Z"
    },
    "papermill": {
     "duration": 0.061306,
     "end_time": "2022-02-20T22:09:08.958254",
     "exception": false,
     "start_time": "2022-02-20T22:09:08.896948",
     "status": "completed"
    },
    "tags": []
   },
   "outputs": [],
   "source": [
    "ct_cluster = make_column_transformer(\n",
    "    (OneHotEncoder(handle_unknown=\"ignore\"), cat_cluster),\n",
    "    (StandardScaler(), num_cluster),\n",
    "    (\"passthrough\", passthrough_cluster),\n",
    "    (\"drop\", drop_cluster)\n",
    ")"
   ]
  },
  {
   "cell_type": "code",
   "execution_count": 34,
   "id": "c1f2a096",
   "metadata": {
    "execution": {
     "iopub.execute_input": "2022-02-20T22:09:09.072391Z",
     "iopub.status.busy": "2022-02-20T22:09:09.071730Z",
     "iopub.status.idle": "2022-02-20T22:09:09.219461Z",
     "shell.execute_reply": "2022-02-20T22:09:09.218869Z",
     "shell.execute_reply.started": "2022-02-20T22:06:30.079425Z"
    },
    "papermill": {
     "duration": 0.207268,
     "end_time": "2022-02-20T22:09:09.219602",
     "exception": false,
     "start_time": "2022-02-20T22:09:09.012334",
     "status": "completed"
    },
    "tags": []
   },
   "outputs": [],
   "source": [
    "X_cluster = ct_cluster.fit_transform(train_df_eng.drop(columns=[TARGET]))"
   ]
  },
  {
   "cell_type": "code",
   "execution_count": 35,
   "id": "024a07af",
   "metadata": {
    "execution": {
     "iopub.execute_input": "2022-02-20T22:09:09.334334Z",
     "iopub.status.busy": "2022-02-20T22:09:09.333539Z",
     "iopub.status.idle": "2022-02-20T22:09:09.335928Z",
     "shell.execute_reply": "2022-02-20T22:09:09.335498Z",
     "shell.execute_reply.started": "2022-02-20T22:06:30.265196Z"
    },
    "papermill": {
     "duration": 0.06079,
     "end_time": "2022-02-20T22:09:09.336059",
     "exception": false,
     "start_time": "2022-02-20T22:09:09.275269",
     "status": "completed"
    },
    "tags": []
   },
   "outputs": [],
   "source": [
    "# k = (5, 20)\n",
    "# model = KMeans()\n",
    "# visualizer_elbow = plot_elbow_curve(X_cluster, model, k)"
   ]
  },
  {
   "cell_type": "code",
   "execution_count": 36,
   "id": "62e6a71a",
   "metadata": {
    "execution": {
     "iopub.execute_input": "2022-02-20T22:09:09.448399Z",
     "iopub.status.busy": "2022-02-20T22:09:09.447818Z",
     "iopub.status.idle": "2022-02-20T22:09:09.450964Z",
     "shell.execute_reply": "2022-02-20T22:09:09.451520Z",
     "shell.execute_reply.started": "2022-02-20T22:06:30.273034Z"
    },
    "papermill": {
     "duration": 0.060193,
     "end_time": "2022-02-20T22:09:09.451692",
     "exception": false,
     "start_time": "2022-02-20T22:09:09.391499",
     "status": "completed"
    },
    "tags": []
   },
   "outputs": [],
   "source": [
    "kmeans = KMeans(n_clusters=11, random_state=42)"
   ]
  },
  {
   "cell_type": "code",
   "execution_count": 37,
   "id": "4d89e355",
   "metadata": {
    "execution": {
     "iopub.execute_input": "2022-02-20T22:09:09.562918Z",
     "iopub.status.busy": "2022-02-20T22:09:09.562355Z",
     "iopub.status.idle": "2022-02-20T22:09:09.565031Z",
     "shell.execute_reply": "2022-02-20T22:09:09.565565Z",
     "shell.execute_reply.started": "2022-02-20T22:06:30.282144Z"
    },
    "papermill": {
     "duration": 0.059745,
     "end_time": "2022-02-20T22:09:09.565732",
     "exception": false,
     "start_time": "2022-02-20T22:09:09.505987",
     "status": "completed"
    },
    "tags": []
   },
   "outputs": [],
   "source": [
    "# plot_silhouette(X_cluster, kmeans)"
   ]
  },
  {
   "cell_type": "code",
   "execution_count": 38,
   "id": "8f0d28de",
   "metadata": {
    "execution": {
     "iopub.execute_input": "2022-02-20T22:09:09.677173Z",
     "iopub.status.busy": "2022-02-20T22:09:09.676566Z",
     "iopub.status.idle": "2022-02-20T22:09:27.112980Z",
     "shell.execute_reply": "2022-02-20T22:09:27.112355Z",
     "shell.execute_reply.started": "2022-02-20T22:06:30.290591Z"
    },
    "papermill": {
     "duration": 17.493115,
     "end_time": "2022-02-20T22:09:27.113144",
     "exception": false,
     "start_time": "2022-02-20T22:09:09.620029",
     "status": "completed"
    },
    "tags": []
   },
   "outputs": [],
   "source": [
    "train_df_eng, test_df_eng = add_cluster_labels(\n",
    "    kmeans,\n",
    "    ct_cluster,\n",
    "    train_df_eng,\n",
    "    test_df_eng,\n",
    "    TARGET\n",
    ")"
   ]
  },
  {
   "cell_type": "markdown",
   "id": "ef50b2c0",
   "metadata": {
    "papermill": {
     "duration": 0.069012,
     "end_time": "2022-02-20T22:09:27.265601",
     "exception": false,
     "start_time": "2022-02-20T22:09:27.196589",
     "status": "completed"
    },
    "tags": []
   },
   "source": [
    "## New Features: Individual clusters"
   ]
  },
  {
   "cell_type": "code",
   "execution_count": 39,
   "id": "0cce7a24",
   "metadata": {
    "execution": {
     "iopub.execute_input": "2022-02-20T22:09:27.412166Z",
     "iopub.status.busy": "2022-02-20T22:09:27.411379Z",
     "iopub.status.idle": "2022-02-20T22:09:27.413306Z",
     "shell.execute_reply": "2022-02-20T22:09:27.412765Z",
     "shell.execute_reply.started": "2022-02-20T22:06:47.354119Z"
    },
    "papermill": {
     "duration": 0.077662,
     "end_time": "2022-02-20T22:09:27.413452",
     "exception": false,
     "start_time": "2022-02-20T22:09:27.335790",
     "status": "completed"
    },
    "tags": []
   },
   "outputs": [],
   "source": [
    "# TODO"
   ]
  },
  {
   "cell_type": "markdown",
   "id": "c7fb8017",
   "metadata": {
    "papermill": {
     "duration": 0.060238,
     "end_time": "2022-02-20T22:09:27.542727",
     "exception": false,
     "start_time": "2022-02-20T22:09:27.482489",
     "status": "completed"
    },
    "tags": []
   },
   "source": [
    "# Modelling"
   ]
  },
  {
   "cell_type": "markdown",
   "id": "97bab516",
   "metadata": {
    "papermill": {
     "duration": 0.054116,
     "end_time": "2022-02-20T22:09:27.650890",
     "exception": false,
     "start_time": "2022-02-20T22:09:27.596774",
     "status": "completed"
    },
    "tags": []
   },
   "source": [
    "## Create `X` and `y` datasets"
   ]
  },
  {
   "cell_type": "code",
   "execution_count": 40,
   "id": "6075a69f",
   "metadata": {
    "execution": {
     "iopub.execute_input": "2022-02-20T22:09:27.785635Z",
     "iopub.status.busy": "2022-02-20T22:09:27.784635Z",
     "iopub.status.idle": "2022-02-20T22:09:27.786625Z",
     "shell.execute_reply": "2022-02-20T22:09:27.787360Z",
     "shell.execute_reply.started": "2022-02-20T22:06:47.360206Z"
    },
    "papermill": {
     "duration": 0.082276,
     "end_time": "2022-02-20T22:09:27.787608",
     "exception": false,
     "start_time": "2022-02-20T22:09:27.705332",
     "status": "completed"
    },
    "tags": []
   },
   "outputs": [],
   "source": [
    "def split_data(df, column, name):\n",
    "    \"\"\"Creates separate dataframes split on a single columns values\"\"\"\n",
    "    dfs = {}\n",
    "\n",
    "    for i in np.sort(df[column].unique()):\n",
    "        split_df = df[df[column] == i]\n",
    "        dfs[f\"{name}_{i}\"] = split_df\n",
    "\n",
    "    return dfs"
   ]
  },
  {
   "cell_type": "code",
   "execution_count": 41,
   "id": "99cc6ad0",
   "metadata": {
    "execution": {
     "iopub.execute_input": "2022-02-20T22:09:27.907668Z",
     "iopub.status.busy": "2022-02-20T22:09:27.907055Z",
     "iopub.status.idle": "2022-02-20T22:09:27.911115Z",
     "shell.execute_reply": "2022-02-20T22:09:27.911565Z",
     "shell.execute_reply.started": "2022-02-20T22:06:47.376807Z"
    },
    "papermill": {
     "duration": 0.06105,
     "end_time": "2022-02-20T22:09:27.911736",
     "exception": false,
     "start_time": "2022-02-20T22:09:27.850686",
     "status": "completed"
    },
    "tags": []
   },
   "outputs": [],
   "source": [
    "def create_X_y(dfs, target):\n",
    "    \"\"\"Separates train dfs into X and y datasets\"\"\"\n",
    "    X_dfs = {}\n",
    "    y_dfs = {}\n",
    "\n",
    "    for name, df in dfs.items():\n",
    "        X_dfs[name] = df.drop(columns=target)\n",
    "        y_dfs[name] = df[target]\n",
    "\n",
    "    return X_dfs, y_dfs"
   ]
  },
  {
   "cell_type": "code",
   "execution_count": 42,
   "id": "2c18710b",
   "metadata": {
    "execution": {
     "iopub.execute_input": "2022-02-20T22:09:28.023434Z",
     "iopub.status.busy": "2022-02-20T22:09:28.022875Z",
     "iopub.status.idle": "2022-02-20T22:09:28.051336Z",
     "shell.execute_reply": "2022-02-20T22:09:28.050820Z",
     "shell.execute_reply.started": "2022-02-20T22:06:47.390190Z"
    },
    "papermill": {
     "duration": 0.08574,
     "end_time": "2022-02-20T22:09:28.051490",
     "exception": false,
     "start_time": "2022-02-20T22:09:27.965750",
     "status": "completed"
    },
    "tags": []
   },
   "outputs": [],
   "source": [
    "train_eng_dfs = split_data(train_df_eng, \"cluster_label\", \"cluster\")"
   ]
  },
  {
   "cell_type": "code",
   "execution_count": 43,
   "id": "ead859c2",
   "metadata": {
    "execution": {
     "iopub.execute_input": "2022-02-20T22:09:28.185418Z",
     "iopub.status.busy": "2022-02-20T22:09:28.184777Z",
     "iopub.status.idle": "2022-02-20T22:09:28.194679Z",
     "shell.execute_reply": "2022-02-20T22:09:28.194156Z",
     "shell.execute_reply.started": "2022-02-20T22:06:47.433570Z"
    },
    "papermill": {
     "duration": 0.088867,
     "end_time": "2022-02-20T22:09:28.194812",
     "exception": false,
     "start_time": "2022-02-20T22:09:28.105945",
     "status": "completed"
    },
    "tags": []
   },
   "outputs": [],
   "source": [
    "X_trains, y_trains = create_X_y(train_eng_dfs, TARGET)\n",
    "X_tests = split_data(test_df_eng, \"cluster_label\", \"cluster\")"
   ]
  },
  {
   "cell_type": "markdown",
   "id": "9d9a4715",
   "metadata": {
    "papermill": {
     "duration": 0.053762,
     "end_time": "2022-02-20T22:09:28.302636",
     "exception": false,
     "start_time": "2022-02-20T22:09:28.248874",
     "status": "completed"
    },
    "tags": []
   },
   "source": [
    "## Column transformer"
   ]
  },
  {
   "cell_type": "code",
   "execution_count": 44,
   "id": "6137a1cf",
   "metadata": {
    "execution": {
     "iopub.execute_input": "2022-02-20T22:09:28.418258Z",
     "iopub.status.busy": "2022-02-20T22:09:28.417579Z",
     "iopub.status.idle": "2022-02-20T22:09:28.420398Z",
     "shell.execute_reply": "2022-02-20T22:09:28.419887Z",
     "shell.execute_reply.started": "2022-02-20T22:06:47.475634Z"
    },
    "papermill": {
     "duration": 0.063906,
     "end_time": "2022-02-20T22:09:28.420550",
     "exception": false,
     "start_time": "2022-02-20T22:09:28.356644",
     "status": "completed"
    },
    "tags": []
   },
   "outputs": [],
   "source": [
    "cat = [\n",
    "    'building_class', 'facility_type'\n",
    "]\n",
    "\n",
    "num = [\n",
    "    'floor_area', 'year_built', 'energy_star_rating', 'ELEVATION',\n",
    "    'cooling_degree_days', 'heating_degree_days', 'precipitation_inches',\n",
    "    'snowfall_inches', 'snowdepth_inches', 'avg_temp'\n",
    "]\n",
    "\n",
    "passthrough = [\n",
    "    'has_fog_detector', 'has_wind_detector'\n",
    "]\n",
    "\n",
    "drop = [\n",
    "    'Year_Factor', 'State_Factor', 'january_min_temp', 'january_avg_temp', 'january_max_temp',\n",
    "    'february_min_temp', 'february_avg_temp', 'february_max_temp',\n",
    "    'march_min_temp', 'march_avg_temp', 'march_max_temp', 'april_min_temp',\n",
    "    'april_avg_temp', 'april_max_temp', 'may_min_temp', 'may_avg_temp',\n",
    "    'may_max_temp', 'june_min_temp', 'june_avg_temp', 'june_max_temp',\n",
    "    'july_min_temp', 'july_avg_temp', 'july_max_temp', 'august_min_temp',\n",
    "    'august_avg_temp', 'august_max_temp', 'september_min_temp',\n",
    "    'september_avg_temp', 'september_max_temp', 'october_min_temp',\n",
    "    'october_avg_temp', 'october_max_temp', 'november_min_temp',\n",
    "    'november_avg_temp', 'november_max_temp', 'december_min_temp',\n",
    "    'december_avg_temp', 'december_max_temp', 'days_below_30F', 'days_below_20F',\n",
    "    'days_below_10F', 'days_below_0F', 'days_above_80F', 'days_above_90F',\n",
    "    'days_above_100F', 'days_above_110F', 'direction_max_wind_speed',\n",
    "    'direction_peak_wind_speed', 'max_wind_speed', 'days_with_fog',\n",
    "    'id', 'cluster_label'\n",
    "]"
   ]
  },
  {
   "cell_type": "code",
   "execution_count": 45,
   "id": "0ca1e1d6",
   "metadata": {
    "execution": {
     "iopub.execute_input": "2022-02-20T22:09:28.533388Z",
     "iopub.status.busy": "2022-02-20T22:09:28.532646Z",
     "iopub.status.idle": "2022-02-20T22:09:28.535471Z",
     "shell.execute_reply": "2022-02-20T22:09:28.534933Z",
     "shell.execute_reply.started": "2022-02-20T22:06:47.487893Z"
    },
    "papermill": {
     "duration": 0.060889,
     "end_time": "2022-02-20T22:09:28.535600",
     "exception": false,
     "start_time": "2022-02-20T22:09:28.474711",
     "status": "completed"
    },
    "tags": []
   },
   "outputs": [],
   "source": [
    "ct = make_column_transformer(\n",
    "    (OneHotEncoder(handle_unknown=\"ignore\"), cat),\n",
    "    (\"passthrough\", num + passthrough),\n",
    "    (\"drop\", drop)\n",
    ")"
   ]
  },
  {
   "cell_type": "markdown",
   "id": "25a2c5a4",
   "metadata": {
    "papermill": {
     "duration": 0.05394,
     "end_time": "2022-02-20T22:09:28.643559",
     "exception": false,
     "start_time": "2022-02-20T22:09:28.589619",
     "status": "completed"
    },
    "tags": []
   },
   "source": [
    "## Cross validation"
   ]
  },
  {
   "cell_type": "code",
   "execution_count": 46,
   "id": "ced514b8",
   "metadata": {
    "execution": {
     "iopub.execute_input": "2022-02-20T22:09:28.757954Z",
     "iopub.status.busy": "2022-02-20T22:09:28.757324Z",
     "iopub.status.idle": "2022-02-20T22:09:28.759081Z",
     "shell.execute_reply": "2022-02-20T22:09:28.759627Z",
     "shell.execute_reply.started": "2022-02-20T22:06:47.501867Z"
    },
    "papermill": {
     "duration": 0.062209,
     "end_time": "2022-02-20T22:09:28.759800",
     "exception": false,
     "start_time": "2022-02-20T22:09:28.697591",
     "status": "completed"
    },
    "tags": []
   },
   "outputs": [],
   "source": [
    "# not in utils yet, need to finalize\n",
    "def cross_validate_all(model, X_trains, y_trains, ct, scoring, cv=5, n_jobs=-1):\n",
    "    \n",
    "    scores = {}\n",
    "    \n",
    "    for (name1, X_train), (name2, y_train) in zip(X_trains.items(), y_trains.items()):\n",
    "        assert name1 == name2\n",
    "        pipe = make_pipeline(\n",
    "            ct,\n",
    "            model\n",
    "        )\n",
    "        scores[name1] = np.mean(cross_validate(pipe, X_train, y_train, scoring=scoring, cv=cv, n_jobs=n_jobs)['test_score'])\n",
    "    \n",
    "    return scores"
   ]
  },
  {
   "cell_type": "code",
   "execution_count": 47,
   "id": "d7471dad",
   "metadata": {
    "execution": {
     "iopub.execute_input": "2022-02-20T22:09:28.871735Z",
     "iopub.status.busy": "2022-02-20T22:09:28.871126Z",
     "iopub.status.idle": "2022-02-20T22:09:28.874832Z",
     "shell.execute_reply": "2022-02-20T22:09:28.875323Z",
     "shell.execute_reply.started": "2022-02-20T22:06:47.513647Z"
    },
    "papermill": {
     "duration": 0.061329,
     "end_time": "2022-02-20T22:09:28.875483",
     "exception": false,
     "start_time": "2022-02-20T22:09:28.814154",
     "status": "completed"
    },
    "tags": []
   },
   "outputs": [],
   "source": [
    "regressor = lgb.LGBMRegressor(force_row_wise=True)"
   ]
  },
  {
   "cell_type": "code",
   "execution_count": 48,
   "id": "0ae279f6",
   "metadata": {
    "execution": {
     "iopub.execute_input": "2022-02-20T22:09:28.986854Z",
     "iopub.status.busy": "2022-02-20T22:09:28.986169Z",
     "iopub.status.idle": "2022-02-20T22:09:37.622774Z",
     "shell.execute_reply": "2022-02-20T22:09:37.622084Z",
     "shell.execute_reply.started": "2022-02-20T22:06:47.525660Z"
    },
    "papermill": {
     "duration": 8.693408,
     "end_time": "2022-02-20T22:09:37.622917",
     "exception": false,
     "start_time": "2022-02-20T22:09:28.929509",
     "status": "completed"
    },
    "tags": []
   },
   "outputs": [],
   "source": [
    "scores = cross_validate_all(regressor, X_trains, y_trains, ct, SCORE)"
   ]
  },
  {
   "cell_type": "code",
   "execution_count": 49,
   "id": "f3fdd36b",
   "metadata": {
    "execution": {
     "iopub.execute_input": "2022-02-20T22:09:37.735121Z",
     "iopub.status.busy": "2022-02-20T22:09:37.734529Z",
     "iopub.status.idle": "2022-02-20T22:09:37.739680Z",
     "shell.execute_reply": "2022-02-20T22:09:37.740235Z",
     "shell.execute_reply.started": "2022-02-20T22:06:57.468767Z"
    },
    "papermill": {
     "duration": 0.063598,
     "end_time": "2022-02-20T22:09:37.740400",
     "exception": false,
     "start_time": "2022-02-20T22:09:37.676802",
     "status": "completed"
    },
    "tags": []
   },
   "outputs": [
    {
     "data": {
      "text/plain": [
       "{'cluster_0': -49.45509507997053,\n",
       " 'cluster_1': -33.30829191395533,\n",
       " 'cluster_2': -40.97358315843623,\n",
       " 'cluster_3': -41.69027308975572,\n",
       " 'cluster_4': -59.04436712139942,\n",
       " 'cluster_5': -34.968685587726895,\n",
       " 'cluster_6': -38.590760975728855,\n",
       " 'cluster_7': -47.312686405746575,\n",
       " 'cluster_8': -60.22807679023938,\n",
       " 'cluster_9': -57.972726037251206,\n",
       " 'cluster_10': -46.57478448029247}"
      ]
     },
     "execution_count": 49,
     "metadata": {},
     "output_type": "execute_result"
    }
   ],
   "source": [
    "scores"
   ]
  },
  {
   "cell_type": "markdown",
   "id": "26394a1b",
   "metadata": {
    "papermill": {
     "duration": 0.054164,
     "end_time": "2022-02-20T22:09:37.849389",
     "exception": false,
     "start_time": "2022-02-20T22:09:37.795225",
     "status": "completed"
    },
    "tags": []
   },
   "source": [
    "## Hyperparameter Tuning"
   ]
  },
  {
   "cell_type": "code",
   "execution_count": 50,
   "id": "f0fe0d4e",
   "metadata": {
    "execution": {
     "iopub.execute_input": "2022-02-20T22:09:37.961555Z",
     "iopub.status.busy": "2022-02-20T22:09:37.960976Z",
     "iopub.status.idle": "2022-02-20T22:09:37.964082Z",
     "shell.execute_reply": "2022-02-20T22:09:37.964591Z",
     "shell.execute_reply.started": "2022-02-20T22:06:57.479688Z"
    },
    "papermill": {
     "duration": 0.060797,
     "end_time": "2022-02-20T22:09:37.964767",
     "exception": false,
     "start_time": "2022-02-20T22:09:37.903970",
     "status": "completed"
    },
    "tags": []
   },
   "outputs": [],
   "source": [
    "# TODO"
   ]
  },
  {
   "cell_type": "markdown",
   "id": "5faff219",
   "metadata": {
    "papermill": {
     "duration": 0.054837,
     "end_time": "2022-02-20T22:09:38.074666",
     "exception": false,
     "start_time": "2022-02-20T22:09:38.019829",
     "status": "completed"
    },
    "tags": []
   },
   "source": [
    "## Ensembling"
   ]
  },
  {
   "cell_type": "code",
   "execution_count": 51,
   "id": "e893df12",
   "metadata": {
    "execution": {
     "iopub.execute_input": "2022-02-20T22:09:38.188132Z",
     "iopub.status.busy": "2022-02-20T22:09:38.187536Z",
     "iopub.status.idle": "2022-02-20T22:09:38.190585Z",
     "shell.execute_reply": "2022-02-20T22:09:38.191144Z",
     "shell.execute_reply.started": "2022-02-20T22:06:57.489851Z"
    },
    "papermill": {
     "duration": 0.060426,
     "end_time": "2022-02-20T22:09:38.191321",
     "exception": false,
     "start_time": "2022-02-20T22:09:38.130895",
     "status": "completed"
    },
    "tags": []
   },
   "outputs": [],
   "source": [
    "# TODO"
   ]
  },
  {
   "cell_type": "markdown",
   "id": "a65b0ef6",
   "metadata": {
    "papermill": {
     "duration": 0.054419,
     "end_time": "2022-02-20T22:09:38.301378",
     "exception": false,
     "start_time": "2022-02-20T22:09:38.246959",
     "status": "completed"
    },
    "tags": []
   },
   "source": [
    "## Final models"
   ]
  },
  {
   "cell_type": "code",
   "execution_count": 52,
   "id": "64e441b8",
   "metadata": {
    "execution": {
     "iopub.execute_input": "2022-02-20T22:09:38.413705Z",
     "iopub.status.busy": "2022-02-20T22:09:38.413003Z",
     "iopub.status.idle": "2022-02-20T22:09:38.418192Z",
     "shell.execute_reply": "2022-02-20T22:09:38.418749Z",
     "shell.execute_reply.started": "2022-02-20T22:06:57.499692Z"
    },
    "papermill": {
     "duration": 0.062762,
     "end_time": "2022-02-20T22:09:38.418917",
     "exception": false,
     "start_time": "2022-02-20T22:09:38.356155",
     "status": "completed"
    },
    "tags": []
   },
   "outputs": [],
   "source": [
    "# not in utils yet, need to finalize\n",
    "def train_final_models(model, X_trains, y_trains, ct):\n",
    "    models = {}\n",
    "    \n",
    "    for (name1, X_train), (name2, y_train) in zip(X_trains.items(), y_trains.items()):\n",
    "        assert name1 == name2\n",
    "        pipe = make_pipeline(\n",
    "            ct,\n",
    "            model\n",
    "        )\n",
    "\n",
    "        models[name1] = pipe.fit(X_train, y_train)\n",
    "    \n",
    "    return models"
   ]
  },
  {
   "cell_type": "code",
   "execution_count": 53,
   "id": "5173a29c",
   "metadata": {
    "execution": {
     "iopub.execute_input": "2022-02-20T22:09:38.530826Z",
     "iopub.status.busy": "2022-02-20T22:09:38.530278Z",
     "iopub.status.idle": "2022-02-20T22:09:38.533701Z",
     "shell.execute_reply": "2022-02-20T22:09:38.534257Z",
     "shell.execute_reply.started": "2022-02-20T22:06:57.514901Z"
    },
    "papermill": {
     "duration": 0.060963,
     "end_time": "2022-02-20T22:09:38.534419",
     "exception": false,
     "start_time": "2022-02-20T22:09:38.473456",
     "status": "completed"
    },
    "tags": []
   },
   "outputs": [],
   "source": [
    "regressor = lgb.LGBMRegressor(force_row_wise=True)"
   ]
  },
  {
   "cell_type": "code",
   "execution_count": 54,
   "id": "3c2b45cd",
   "metadata": {
    "execution": {
     "iopub.execute_input": "2022-02-20T22:09:38.646365Z",
     "iopub.status.busy": "2022-02-20T22:09:38.645804Z",
     "iopub.status.idle": "2022-02-20T22:09:40.180818Z",
     "shell.execute_reply": "2022-02-20T22:09:40.181364Z",
     "shell.execute_reply.started": "2022-02-20T22:06:57.528379Z"
    },
    "papermill": {
     "duration": 1.592632,
     "end_time": "2022-02-20T22:09:40.181574",
     "exception": false,
     "start_time": "2022-02-20T22:09:38.588942",
     "status": "completed"
    },
    "tags": []
   },
   "outputs": [],
   "source": [
    "models = train_final_models(regressor, X_trains, y_trains, ct)"
   ]
  },
  {
   "cell_type": "markdown",
   "id": "1a985b9b",
   "metadata": {
    "papermill": {
     "duration": 0.054243,
     "end_time": "2022-02-20T22:09:40.291525",
     "exception": false,
     "start_time": "2022-02-20T22:09:40.237282",
     "status": "completed"
    },
    "tags": []
   },
   "source": [
    "# Predictions"
   ]
  },
  {
   "cell_type": "code",
   "execution_count": 55,
   "id": "962a373e",
   "metadata": {
    "execution": {
     "iopub.execute_input": "2022-02-20T22:09:40.407421Z",
     "iopub.status.busy": "2022-02-20T22:09:40.406768Z",
     "iopub.status.idle": "2022-02-20T22:09:40.408899Z",
     "shell.execute_reply": "2022-02-20T22:09:40.409305Z",
     "shell.execute_reply.started": "2022-02-20T22:06:59.812716Z"
    },
    "papermill": {
     "duration": 0.063478,
     "end_time": "2022-02-20T22:09:40.409484",
     "exception": false,
     "start_time": "2022-02-20T22:09:40.346006",
     "status": "completed"
    },
    "tags": []
   },
   "outputs": [],
   "source": [
    "# not in utils yet, need to finalize\n",
    "def get_all_predictions(models, X_tests, target):\n",
    "    predictions = pd.DataFrame()\n",
    "    \n",
    "    for name, X_test in X_tests.items():\n",
    "        pred = {\n",
    "            \"id\": X_test[\"id\"],\n",
    "            target: models[name].predict(X_test)\n",
    "        }\n",
    "        \n",
    "        predictions = pd.concat([predictions, pd.DataFrame(pred)])\n",
    "        \n",
    "    predictions = predictions.sort_values(by=\"id\")\n",
    "    \n",
    "    return predictions"
   ]
  },
  {
   "cell_type": "code",
   "execution_count": 56,
   "id": "3f4b64d5",
   "metadata": {
    "execution": {
     "iopub.execute_input": "2022-02-20T22:09:40.528033Z",
     "iopub.status.busy": "2022-02-20T22:09:40.527450Z",
     "iopub.status.idle": "2022-02-20T22:09:40.630043Z",
     "shell.execute_reply": "2022-02-20T22:09:40.630647Z",
     "shell.execute_reply.started": "2022-02-20T22:06:59.819739Z"
    },
    "papermill": {
     "duration": 0.165589,
     "end_time": "2022-02-20T22:09:40.630826",
     "exception": false,
     "start_time": "2022-02-20T22:09:40.465237",
     "status": "completed"
    },
    "tags": []
   },
   "outputs": [],
   "source": [
    "predictions = get_all_predictions(models, X_tests, TARGET)"
   ]
  },
  {
   "cell_type": "code",
   "execution_count": 57,
   "id": "c40f1174",
   "metadata": {
    "execution": {
     "iopub.execute_input": "2022-02-20T22:09:40.743982Z",
     "iopub.status.busy": "2022-02-20T22:09:40.743400Z",
     "iopub.status.idle": "2022-02-20T22:09:40.772582Z",
     "shell.execute_reply": "2022-02-20T22:09:40.773005Z",
     "shell.execute_reply.started": "2022-02-20T22:06:59.957091Z"
    },
    "papermill": {
     "duration": 0.087571,
     "end_time": "2022-02-20T22:09:40.773214",
     "exception": false,
     "start_time": "2022-02-20T22:09:40.685643",
     "status": "completed"
    },
    "tags": []
   },
   "outputs": [],
   "source": [
    "predictions.to_csv(\"submission.csv\", index=False)"
   ]
  }
 ],
 "metadata": {
  "kernelspec": {
   "display_name": "Python 3",
   "language": "python",
   "name": "python3"
  },
  "language_info": {
   "codemirror_mode": {
    "name": "ipython",
    "version": 3
   },
   "file_extension": ".py",
   "mimetype": "text/x-python",
   "name": "python",
   "nbconvert_exporter": "python",
   "pygments_lexer": "ipython3",
   "version": "3.7.12"
  },
  "papermill": {
   "default_parameters": {},
   "duration": 68.066256,
   "end_time": "2022-02-20T22:09:41.739804",
   "environment_variables": {},
   "exception": null,
   "input_path": "__notebook__.ipynb",
   "output_path": "__notebook__.ipynb",
   "parameters": {},
   "start_time": "2022-02-20T22:08:33.673548",
   "version": "2.3.3"
  }
 },
 "nbformat": 4,
 "nbformat_minor": 5
}
