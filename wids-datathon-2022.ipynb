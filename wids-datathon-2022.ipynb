{
 "cells": [
  {
   "cell_type": "markdown",
   "id": "db6024b4",
   "metadata": {
    "papermill": {
     "duration": 0.056165,
     "end_time": "2022-02-21T22:58:00.858436",
     "exception": false,
     "start_time": "2022-02-21T22:58:00.802271",
     "status": "completed"
    },
    "tags": []
   },
   "source": [
    "# Women in Data Science 2022"
   ]
  },
  {
   "cell_type": "markdown",
   "id": "04b378fd",
   "metadata": {
    "papermill": {
     "duration": 0.056805,
     "end_time": "2022-02-21T22:58:00.973477",
     "exception": false,
     "start_time": "2022-02-21T22:58:00.916672",
     "status": "completed"
    },
    "tags": []
   },
   "source": [
    "# Section 1: Notebook set up"
   ]
  },
  {
   "cell_type": "markdown",
   "id": "330d793d",
   "metadata": {
    "_cell_guid": "b1076dfc-b9ad-4769-8c92-a6c4dae69d19",
    "_uuid": "8f2839f25d086af736a60e9eeb907d3b93b6e0e5",
    "papermill": {
     "duration": 0.063909,
     "end_time": "2022-02-21T22:58:01.101361",
     "exception": false,
     "start_time": "2022-02-21T22:58:01.037452",
     "status": "completed"
    },
    "tags": []
   },
   "source": [
    "## Imports"
   ]
  },
  {
   "cell_type": "code",
   "execution_count": 1,
   "id": "586dc533",
   "metadata": {
    "execution": {
     "iopub.execute_input": "2022-02-21T22:58:01.214867Z",
     "iopub.status.busy": "2022-02-21T22:58:01.213778Z",
     "iopub.status.idle": "2022-02-21T22:58:04.156293Z",
     "shell.execute_reply": "2022-02-21T22:58:04.155525Z",
     "shell.execute_reply.started": "2022-02-21T22:56:00.546030Z"
    },
    "papermill": {
     "duration": 3.000654,
     "end_time": "2022-02-21T22:58:04.156464",
     "exception": false,
     "start_time": "2022-02-21T22:58:01.155810",
     "status": "completed"
    },
    "tags": []
   },
   "outputs": [
    {
     "data": {
      "text/html": [
       "<style type='text/css'>\n",
       ".datatable table.frame { margin-bottom: 0; }\n",
       ".datatable table.frame thead { border-bottom: none; }\n",
       ".datatable table.frame tr.coltypes td {  color: #FFFFFF;  line-height: 6px;  padding: 0 0.5em;}\n",
       ".datatable .bool    { background: #DDDD99; }\n",
       ".datatable .object  { background: #565656; }\n",
       ".datatable .int     { background: #5D9E5D; }\n",
       ".datatable .float   { background: #4040CC; }\n",
       ".datatable .str     { background: #CC4040; }\n",
       ".datatable .time    { background: #40CC40; }\n",
       ".datatable .row_index {  background: var(--jp-border-color3);  border-right: 1px solid var(--jp-border-color0);  color: var(--jp-ui-font-color3);  font-size: 9px;}\n",
       ".datatable .frame tbody td { text-align: left; }\n",
       ".datatable .frame tr.coltypes .row_index {  background: var(--jp-border-color0);}\n",
       ".datatable th:nth-child(2) { padding-left: 12px; }\n",
       ".datatable .hellipsis {  color: var(--jp-cell-editor-border-color);}\n",
       ".datatable .vellipsis {  background: var(--jp-layout-color0);  color: var(--jp-cell-editor-border-color);}\n",
       ".datatable .na {  color: var(--jp-cell-editor-border-color);  font-size: 80%;}\n",
       ".datatable .sp {  opacity: 0.25;}\n",
       ".datatable .footer { font-size: 9px; }\n",
       ".datatable .frame_dimensions {  background: var(--jp-border-color3);  border-top: 1px solid var(--jp-border-color0);  color: var(--jp-ui-font-color3);  display: inline-block;  opacity: 0.6;  padding: 1px 10px 1px 5px;}\n",
       "</style>\n"
      ],
      "text/plain": [
       "<IPython.core.display.HTML object>"
      ]
     },
     "metadata": {},
     "output_type": "display_data"
    }
   ],
   "source": [
    "import random, os\n",
    "\n",
    "import numpy as np\n",
    "import pandas as pd\n",
    "import seaborn as sns\n",
    "import matplotlib.pyplot as plt\n",
    "import xgboost as xgb\n",
    "import lightgbm as lgb\n",
    "import catboost as cb\n",
    "\n",
    "from copy import deepcopy\n",
    "\n",
    "from sklearn.cluster import KMeans\n",
    "from sklearn.pipeline import make_pipeline\n",
    "from sklearn.ensemble import VotingRegressor\n",
    "from sklearn.metrics import mean_squared_error\n",
    "from sklearn.linear_model import BayesianRidge, Ridge\n",
    "from sklearn.experimental import enable_iterative_imputer\n",
    "from sklearn.impute import SimpleImputer, IterativeImputer\n",
    "from sklearn.compose import make_column_transformer, TransformedTargetRegressor\n",
    "from sklearn.model_selection import (\n",
    "    RandomizedSearchCV,\n",
    "    train_test_split,\n",
    "    cross_validate,\n",
    "    cross_val_score,\n",
    "    LeaveOneGroupOut,\n",
    ")\n",
    "from sklearn.preprocessing import (\n",
    "    OneHotEncoder,\n",
    "    OrdinalEncoder,\n",
    "    PowerTransformer,\n",
    "    StandardScaler,\n",
    ")\n",
    "\n",
    "from sklearn.utils.validation import check_is_fitted\n",
    "\n",
    "from yellowbrick.cluster import KElbowVisualizer, SilhouetteVisualizer"
   ]
  },
  {
   "cell_type": "markdown",
   "id": "8acad749",
   "metadata": {
    "papermill": {
     "duration": 0.054895,
     "end_time": "2022-02-21T22:58:04.266982",
     "exception": false,
     "start_time": "2022-02-21T22:58:04.212087",
     "status": "completed"
    },
    "tags": []
   },
   "source": [
    "## Global notebook setup"
   ]
  },
  {
   "cell_type": "markdown",
   "id": "01623119",
   "metadata": {
    "papermill": {
     "duration": 0.055745,
     "end_time": "2022-02-21T22:58:04.378375",
     "exception": false,
     "start_time": "2022-02-21T22:58:04.322630",
     "status": "completed"
    },
    "tags": []
   },
   "source": [
    "### Global variables"
   ]
  },
  {
   "cell_type": "code",
   "execution_count": 2,
   "id": "f6520e77",
   "metadata": {
    "execution": {
     "iopub.execute_input": "2022-02-21T22:58:04.498340Z",
     "iopub.status.busy": "2022-02-21T22:58:04.497408Z",
     "iopub.status.idle": "2022-02-21T22:58:04.501028Z",
     "shell.execute_reply": "2022-02-21T22:58:04.500369Z",
     "shell.execute_reply.started": "2022-02-21T22:56:00.561370Z"
    },
    "papermill": {
     "duration": 0.064338,
     "end_time": "2022-02-21T22:58:04.501192",
     "exception": false,
     "start_time": "2022-02-21T22:58:04.436854",
     "status": "completed"
    },
    "scrolled": true,
    "tags": []
   },
   "outputs": [],
   "source": [
    "TRAIN_PATH = \"../input/widsdatathon2022/train.csv\"\n",
    "TEST_PATH = \"../input/widsdatathon2022/test.csv\"\n",
    "SUBMISSION_PATH = \"../output/\"\n",
    "TARGET = \"site_eui\"\n",
    "SCORE = \"neg_root_mean_squared_error\"\n",
    "SEED = 777"
   ]
  },
  {
   "cell_type": "markdown",
   "id": "95dbadaf",
   "metadata": {
    "papermill": {
     "duration": 0.054732,
     "end_time": "2022-02-21T22:58:04.612218",
     "exception": false,
     "start_time": "2022-02-21T22:58:04.557486",
     "status": "completed"
    },
    "tags": []
   },
   "source": [
    "### Display options"
   ]
  },
  {
   "cell_type": "code",
   "execution_count": 3,
   "id": "46db1a64",
   "metadata": {
    "execution": {
     "iopub.execute_input": "2022-02-21T22:58:04.732449Z",
     "iopub.status.busy": "2022-02-21T22:58:04.731792Z",
     "iopub.status.idle": "2022-02-21T22:58:04.733460Z",
     "shell.execute_reply": "2022-02-21T22:58:04.733869Z",
     "shell.execute_reply.started": "2022-02-21T22:56:00.577022Z"
    },
    "papermill": {
     "duration": 0.064471,
     "end_time": "2022-02-21T22:58:04.734062",
     "exception": false,
     "start_time": "2022-02-21T22:58:04.669591",
     "status": "completed"
    },
    "tags": []
   },
   "outputs": [],
   "source": [
    "pd.options.display.max_rows = 100"
   ]
  },
  {
   "cell_type": "markdown",
   "id": "1c9755f3",
   "metadata": {
    "papermill": {
     "duration": 0.057185,
     "end_time": "2022-02-21T22:58:04.847068",
     "exception": false,
     "start_time": "2022-02-21T22:58:04.789883",
     "status": "completed"
    },
    "tags": []
   },
   "source": [
    "# Section 2: Data preprocessing"
   ]
  },
  {
   "cell_type": "markdown",
   "id": "67190fae",
   "metadata": {
    "papermill": {
     "duration": 0.055738,
     "end_time": "2022-02-21T22:58:04.957631",
     "exception": false,
     "start_time": "2022-02-21T22:58:04.901893",
     "status": "completed"
    },
    "tags": []
   },
   "source": [
    "## Read in data"
   ]
  },
  {
   "cell_type": "code",
   "execution_count": 4,
   "id": "fd6ab662",
   "metadata": {
    "execution": {
     "iopub.execute_input": "2022-02-21T22:58:05.071875Z",
     "iopub.status.busy": "2022-02-21T22:58:05.071246Z",
     "iopub.status.idle": "2022-02-21T22:58:05.074879Z",
     "shell.execute_reply": "2022-02-21T22:58:05.075370Z",
     "shell.execute_reply.started": "2022-02-21T22:56:00.589152Z"
    },
    "papermill": {
     "duration": 0.062442,
     "end_time": "2022-02-21T22:58:05.075552",
     "exception": false,
     "start_time": "2022-02-21T22:58:05.013110",
     "status": "completed"
    },
    "tags": []
   },
   "outputs": [],
   "source": [
    "def read_data(train_path, test_path):\n",
    "    \"\"\"Reads in train and test data.\"\"\"\n",
    "    train_df = pd.read_csv(train_path)\n",
    "    test_df = pd.read_csv(test_path)\n",
    "    return train_df, test_df"
   ]
  },
  {
   "cell_type": "code",
   "execution_count": 5,
   "id": "84435904",
   "metadata": {
    "execution": {
     "iopub.execute_input": "2022-02-21T22:58:05.192632Z",
     "iopub.status.busy": "2022-02-21T22:58:05.191795Z",
     "iopub.status.idle": "2022-02-21T22:58:06.006647Z",
     "shell.execute_reply": "2022-02-21T22:58:06.006123Z",
     "shell.execute_reply.started": "2022-02-21T22:56:00.601154Z"
    },
    "papermill": {
     "duration": 0.87575,
     "end_time": "2022-02-21T22:58:06.006807",
     "exception": false,
     "start_time": "2022-02-21T22:58:05.131057",
     "status": "completed"
    },
    "tags": []
   },
   "outputs": [],
   "source": [
    "train, test = read_data(TRAIN_PATH, TEST_PATH)"
   ]
  },
  {
   "cell_type": "code",
   "execution_count": 6,
   "id": "1cf8d585",
   "metadata": {
    "execution": {
     "iopub.execute_input": "2022-02-21T22:58:06.121326Z",
     "iopub.status.busy": "2022-02-21T22:58:06.120682Z",
     "iopub.status.idle": "2022-02-21T22:58:06.127574Z",
     "shell.execute_reply": "2022-02-21T22:58:06.127094Z",
     "shell.execute_reply.started": "2022-02-21T22:56:01.233976Z"
    },
    "papermill": {
     "duration": 0.064653,
     "end_time": "2022-02-21T22:58:06.127713",
     "exception": false,
     "start_time": "2022-02-21T22:58:06.063060",
     "status": "completed"
    },
    "tags": []
   },
   "outputs": [
    {
     "data": {
      "text/plain": [
       "(75757, 64)"
      ]
     },
     "execution_count": 6,
     "metadata": {},
     "output_type": "execute_result"
    }
   ],
   "source": [
    "train.shape"
   ]
  },
  {
   "cell_type": "code",
   "execution_count": 7,
   "id": "82e32801",
   "metadata": {
    "execution": {
     "iopub.execute_input": "2022-02-21T22:58:06.245418Z",
     "iopub.status.busy": "2022-02-21T22:58:06.244675Z",
     "iopub.status.idle": "2022-02-21T22:58:06.249065Z",
     "shell.execute_reply": "2022-02-21T22:58:06.248550Z",
     "shell.execute_reply.started": "2022-02-21T22:56:01.242032Z"
    },
    "papermill": {
     "duration": 0.064785,
     "end_time": "2022-02-21T22:58:06.249210",
     "exception": false,
     "start_time": "2022-02-21T22:58:06.184425",
     "status": "completed"
    },
    "tags": []
   },
   "outputs": [
    {
     "data": {
      "text/plain": [
       "(9705, 63)"
      ]
     },
     "execution_count": 7,
     "metadata": {},
     "output_type": "execute_result"
    }
   ],
   "source": [
    "test.shape"
   ]
  },
  {
   "cell_type": "markdown",
   "id": "aa31145a",
   "metadata": {
    "papermill": {
     "duration": 0.054971,
     "end_time": "2022-02-21T22:58:06.361154",
     "exception": false,
     "start_time": "2022-02-21T22:58:06.306183",
     "status": "completed"
    },
    "tags": []
   },
   "source": [
    "## Duplicated data"
   ]
  },
  {
   "cell_type": "code",
   "execution_count": 8,
   "id": "ec2f9989",
   "metadata": {
    "execution": {
     "iopub.execute_input": "2022-02-21T22:58:06.479609Z",
     "iopub.status.busy": "2022-02-21T22:58:06.478884Z",
     "iopub.status.idle": "2022-02-21T22:58:06.481684Z",
     "shell.execute_reply": "2022-02-21T22:58:06.481203Z",
     "shell.execute_reply.started": "2022-02-21T22:56:01.257015Z"
    },
    "papermill": {
     "duration": 0.063095,
     "end_time": "2022-02-21T22:58:06.481832",
     "exception": false,
     "start_time": "2022-02-21T22:58:06.418737",
     "status": "completed"
    },
    "tags": []
   },
   "outputs": [],
   "source": [
    "def get_duplicates(df, drop_cols=None):\n",
    "    \"\"\"Returns duplicated values in a dataframe.\"\"\"\n",
    "    if drop_cols is not None:\n",
    "        return df[df.drop(columns=drop_cols).duplicated()]\n",
    "    else:\n",
    "        return df[df.duplicated()]"
   ]
  },
  {
   "cell_type": "code",
   "execution_count": 9,
   "id": "44f5570a",
   "metadata": {
    "execution": {
     "iopub.execute_input": "2022-02-21T22:58:06.598347Z",
     "iopub.status.busy": "2022-02-21T22:58:06.597653Z",
     "iopub.status.idle": "2022-02-21T22:58:06.603271Z",
     "shell.execute_reply": "2022-02-21T22:58:06.602598Z",
     "shell.execute_reply.started": "2022-02-21T22:56:01.269993Z"
    },
    "papermill": {
     "duration": 0.065759,
     "end_time": "2022-02-21T22:58:06.603423",
     "exception": false,
     "start_time": "2022-02-21T22:58:06.537664",
     "status": "completed"
    },
    "tags": []
   },
   "outputs": [],
   "source": [
    "def remove_duplicates(df, drop_cols=None):\n",
    "    \"\"\"Removes duplicated values in a dataframe\"\"\"\n",
    "    df_clean = df.copy()\n",
    "    if drop_cols is not None:\n",
    "        df_clean = df_clean[~df_clean.drop(columns=drop_cols).duplicated()]\n",
    "    else:\n",
    "        df_clean = df_clean[~df_clean.duplicated()]\n",
    "    return df_clean.reset_index(drop=True)"
   ]
  },
  {
   "cell_type": "code",
   "execution_count": 10,
   "id": "75ff9261",
   "metadata": {
    "execution": {
     "iopub.execute_input": "2022-02-21T22:58:06.733968Z",
     "iopub.status.busy": "2022-02-21T22:58:06.732824Z",
     "iopub.status.idle": "2022-02-21T22:58:06.907548Z",
     "shell.execute_reply": "2022-02-21T22:58:06.906733Z",
     "shell.execute_reply.started": "2022-02-21T22:56:01.282942Z"
    },
    "papermill": {
     "duration": 0.248789,
     "end_time": "2022-02-21T22:58:06.907730",
     "exception": false,
     "start_time": "2022-02-21T22:58:06.658941",
     "status": "completed"
    },
    "tags": []
   },
   "outputs": [],
   "source": [
    "train_duplicates = get_duplicates(train, [\"id\"])\n",
    "test_duplicates = get_duplicates(test, [\"id\"])"
   ]
  },
  {
   "cell_type": "code",
   "execution_count": 11,
   "id": "d046fe46",
   "metadata": {
    "execution": {
     "iopub.execute_input": "2022-02-21T22:58:07.023306Z",
     "iopub.status.busy": "2022-02-21T22:58:07.022639Z",
     "iopub.status.idle": "2022-02-21T22:58:07.028351Z",
     "shell.execute_reply": "2022-02-21T22:58:07.027782Z",
     "shell.execute_reply.started": "2022-02-21T22:56:01.456507Z"
    },
    "papermill": {
     "duration": 0.064757,
     "end_time": "2022-02-21T22:58:07.028498",
     "exception": false,
     "start_time": "2022-02-21T22:58:06.963741",
     "status": "completed"
    },
    "tags": []
   },
   "outputs": [
    {
     "data": {
      "text/plain": [
       "(39, 64)"
      ]
     },
     "execution_count": 11,
     "metadata": {},
     "output_type": "execute_result"
    }
   ],
   "source": [
    "train_duplicates.shape"
   ]
  },
  {
   "cell_type": "code",
   "execution_count": 12,
   "id": "74acb586",
   "metadata": {
    "execution": {
     "iopub.execute_input": "2022-02-21T22:58:07.146131Z",
     "iopub.status.busy": "2022-02-21T22:58:07.145499Z",
     "iopub.status.idle": "2022-02-21T22:58:07.150131Z",
     "shell.execute_reply": "2022-02-21T22:58:07.150606Z",
     "shell.execute_reply.started": "2022-02-21T22:56:01.463387Z"
    },
    "papermill": {
     "duration": 0.065017,
     "end_time": "2022-02-21T22:58:07.150774",
     "exception": false,
     "start_time": "2022-02-21T22:58:07.085757",
     "status": "completed"
    },
    "tags": []
   },
   "outputs": [
    {
     "data": {
      "text/plain": [
       "(5, 63)"
      ]
     },
     "execution_count": 12,
     "metadata": {},
     "output_type": "execute_result"
    }
   ],
   "source": [
    "test_duplicates.shape"
   ]
  },
  {
   "cell_type": "code",
   "execution_count": 13,
   "id": "245041f8",
   "metadata": {
    "execution": {
     "iopub.execute_input": "2022-02-21T22:58:07.268194Z",
     "iopub.status.busy": "2022-02-21T22:58:07.267585Z",
     "iopub.status.idle": "2022-02-21T22:58:07.471442Z",
     "shell.execute_reply": "2022-02-21T22:58:07.471933Z",
     "shell.execute_reply.started": "2022-02-21T22:56:01.479792Z"
    },
    "papermill": {
     "duration": 0.264067,
     "end_time": "2022-02-21T22:58:07.472175",
     "exception": false,
     "start_time": "2022-02-21T22:58:07.208108",
     "status": "completed"
    },
    "tags": []
   },
   "outputs": [],
   "source": [
    "train = remove_duplicates(train, [\"id\"])"
   ]
  },
  {
   "cell_type": "code",
   "execution_count": 14,
   "id": "3fe44d5b",
   "metadata": {
    "execution": {
     "iopub.execute_input": "2022-02-21T22:58:07.590326Z",
     "iopub.status.busy": "2022-02-21T22:58:07.589647Z",
     "iopub.status.idle": "2022-02-21T22:58:07.594857Z",
     "shell.execute_reply": "2022-02-21T22:58:07.594322Z",
     "shell.execute_reply.started": "2022-02-21T22:56:01.655894Z"
    },
    "papermill": {
     "duration": 0.065584,
     "end_time": "2022-02-21T22:58:07.595039",
     "exception": false,
     "start_time": "2022-02-21T22:58:07.529455",
     "status": "completed"
    },
    "tags": []
   },
   "outputs": [
    {
     "data": {
      "text/plain": [
       "(75718, 64)"
      ]
     },
     "execution_count": 14,
     "metadata": {},
     "output_type": "execute_result"
    }
   ],
   "source": [
    "train.shape"
   ]
  },
  {
   "cell_type": "markdown",
   "id": "896e017c",
   "metadata": {
    "papermill": {
     "duration": 0.056485,
     "end_time": "2022-02-21T22:58:07.708099",
     "exception": false,
     "start_time": "2022-02-21T22:58:07.651614",
     "status": "completed"
    },
    "tags": []
   },
   "source": [
    "## Separate data by facility (residential vs. commercial)"
   ]
  },
  {
   "cell_type": "code",
   "execution_count": 15,
   "id": "dd22d8f8",
   "metadata": {
    "execution": {
     "iopub.execute_input": "2022-02-21T22:58:07.827336Z",
     "iopub.status.busy": "2022-02-21T22:58:07.825973Z",
     "iopub.status.idle": "2022-02-21T22:58:07.829090Z",
     "shell.execute_reply": "2022-02-21T22:58:07.828580Z",
     "shell.execute_reply.started": "2022-02-21T22:56:01.663759Z"
    },
    "papermill": {
     "duration": 0.06438,
     "end_time": "2022-02-21T22:58:07.829253",
     "exception": false,
     "start_time": "2022-02-21T22:58:07.764873",
     "status": "completed"
    },
    "tags": []
   },
   "outputs": [],
   "source": [
    "def split_building_data(df, groups):\n",
    "    \"\"\"Creates separate dataframes based on facility type groups\"\"\"\n",
    "    dfs = {}\n",
    "\n",
    "    for name, group in groups.items():\n",
    "        group_df = df.query(\"facility_type in @group\")\n",
    "        dfs[name] = group_df.reset_index(drop=True)\n",
    "\n",
    "    return dfs"
   ]
  },
  {
   "cell_type": "code",
   "execution_count": 16,
   "id": "db54cba8",
   "metadata": {
    "execution": {
     "iopub.execute_input": "2022-02-21T22:58:07.945883Z",
     "iopub.status.busy": "2022-02-21T22:58:07.945245Z",
     "iopub.status.idle": "2022-02-21T22:58:07.959879Z",
     "shell.execute_reply": "2022-02-21T22:58:07.960361Z",
     "shell.execute_reply.started": "2022-02-21T22:56:01.677180Z"
    },
    "papermill": {
     "duration": 0.074493,
     "end_time": "2022-02-21T22:58:07.960542",
     "exception": false,
     "start_time": "2022-02-21T22:58:07.886049",
     "status": "completed"
    },
    "tags": []
   },
   "outputs": [],
   "source": [
    "# groups = {\n",
    "#     \"residential\": {\n",
    "#         '2to4_Unit_Building', '5plus_Unit_Building', 'Mixed_Use_Commercial_and_Residential',\n",
    "#         'Mixed_Use_Predominantly_Residential', 'Multifamily_Uncategorized'\n",
    "#     },\n",
    "#     \"commercial\": {\n",
    "#         'Mixed_Use_Predominantly_Commercial', 'Commercial_Other', 'Commercial_Unknown',\n",
    "#         'Data_Center', 'Education_College_or_university', 'Education_Other_classroom',\n",
    "#         'Education_Preschool_or_daycare', 'Education_Uncategorized', 'Food_Sales',\n",
    "#         'Food_Service_Other', 'Food_Service_Restaurant_or_cafeteria', 'Food_Service_Uncategorized',\n",
    "#         'Grocery_store_or_food_market', 'Health_Care_Inpatient', 'Health_Care_Outpatient_Clinic',\n",
    "#         'Health_Care_Outpatient_Uncategorized', 'Health_Care_Uncategorized', 'Industrial',\n",
    "#         'Laboratory', 'Lodging_Dormitory_or_fraternity_sorority', 'Lodging_Hotel', 'Lodging_Other',\n",
    "#         'Lodging_Uncategorized', 'Nursing_Home', 'Office_Bank_or_other_financial', 'Office_Medical_non_diagnostic',\n",
    "#         'Office_Mixed_use', 'Office_Uncategorized', 'Parking_Garage', 'Public_Assembly_Drama_theater',\n",
    "#         'Public_Assembly_Entertainment_culture', 'Public_Assembly_Library', 'Public_Assembly_Movie_Theater',\n",
    "#         'Public_Assembly_Other', 'Public_Assembly_Recreation', 'Public_Assembly_Social_meeting',\n",
    "#         'Public_Assembly_Stadium', 'Public_Assembly_Uncategorized', 'Public_Safety_Courthouse',\n",
    "#         'Public_Safety_Fire_or_police_station', 'Public_Safety_Penitentiary', 'Public_Safety_Uncategorized',\n",
    "#         'Religious_worship', 'Retail_Enclosed_mall', 'Retail_Strip_shopping_mall', 'Retail_Uncategorized',\n",
    "#         'Retail_Vehicle_dealership_showroom', 'Service_Drycleaning_or_Laundry', 'Service_Uncategorized',\n",
    "#         'Service_Vehicle_service_repair_shop', 'Warehouse_Distribution_or_Shipping_center', 'Warehouse_Nonrefrigerated',\n",
    "#         'Warehouse_Refrigerated', 'Warehouse_Selfstorage', 'Warehouse_Uncategorized'\n",
    "#     }\n",
    "# }\n",
    "\n",
    "groups = {\n",
    "    \"multifamily\": {\n",
    "        \"Multifamily_Uncategorized\"\n",
    "    },\n",
    "    \"residential\": {\n",
    "        '2to4_Unit_Building', '5plus_Unit_Building', \n",
    "        'Mixed_Use_Predominantly_Residential'\n",
    "    },\n",
    "    \"commercial\": {\n",
    "        'Mixed_Use_Predominantly_Commercial', 'Commercial_Other', 'Commercial_Unknown', 'Mixed_Use_Commercial_and_Residential',\n",
    "        'Data_Center', 'Food_Sales', 'Education_College_or_university', 'Education_Other_classroom', \n",
    "        'Education_Preschool_or_daycare',\n",
    "        'Education_Uncategorized','Food_Service_Other', 'Food_Service_Restaurant_or_cafeteria', 'Food_Service_Uncategorized',\n",
    "        'Grocery_store_or_food_market', 'Health_Care_Inpatient', 'Health_Care_Outpatient_Clinic',\n",
    "        'Health_Care_Outpatient_Uncategorized', 'Health_Care_Uncategorized', \n",
    "        'Industrial',\n",
    "        'Laboratory', 'Lodging_Dormitory_or_fraternity_sorority', 'Lodging_Hotel', 'Lodging_Other',\n",
    "        'Lodging_Uncategorized', 'Nursing_Home', 'Parking_Garage', 'Public_Assembly_Drama_theater',\n",
    "        'Public_Assembly_Entertainment_culture', 'Public_Assembly_Library', 'Public_Assembly_Movie_Theater',\n",
    "        'Public_Assembly_Other', 'Public_Assembly_Recreation', 'Public_Assembly_Social_meeting',\n",
    "        'Public_Assembly_Stadium', 'Public_Assembly_Uncategorized', 'Public_Safety_Courthouse',\n",
    "        'Public_Safety_Fire_or_police_station', 'Public_Safety_Penitentiary', 'Public_Safety_Uncategorized',\n",
    "        'Retail_Enclosed_mall', 'Retail_Strip_shopping_mall', 'Retail_Uncategorized',\n",
    "        'Retail_Vehicle_dealership_showroom', 'Service_Drycleaning_or_Laundry', 'Service_Uncategorized',\n",
    "        'Service_Vehicle_service_repair_shop', 'Warehouse_Distribution_or_Shipping_center', \n",
    "    },\n",
    "    \"office\":{\n",
    "        'Office_Bank_or_other_financial', 'Office_Medical_non_diagnostic', 'Office_Mixed_use', 'Office_Uncategorized',\n",
    "    },\n",
    "    \"warehouse\":{\n",
    "        'Warehouse_Nonrefrigerated', 'Warehouse_Refrigerated', 'Warehouse_Selfstorage', 'Warehouse_Uncategorized'\n",
    "    },\n",
    "    \"religious\":{'Religious_worship'}\n",
    "}\n",
    "\n",
    "check = set()\n",
    "\n",
    "for g, i in groups.items():\n",
    "    check.update(i)\n",
    "    \n",
    "assert set(train[\"facility_type\"].unique()) == check"
   ]
  },
  {
   "cell_type": "code",
   "execution_count": 17,
   "id": "71cbd2af",
   "metadata": {
    "execution": {
     "iopub.execute_input": "2022-02-21T22:58:08.082500Z",
     "iopub.status.busy": "2022-02-21T22:58:08.081444Z",
     "iopub.status.idle": "2022-02-21T22:58:08.195288Z",
     "shell.execute_reply": "2022-02-21T22:58:08.194748Z",
     "shell.execute_reply.started": "2022-02-21T22:56:01.700878Z"
    },
    "papermill": {
     "duration": 0.178643,
     "end_time": "2022-02-21T22:58:08.195437",
     "exception": false,
     "start_time": "2022-02-21T22:58:08.016794",
     "status": "completed"
    },
    "tags": []
   },
   "outputs": [],
   "source": [
    "train_dfs = split_building_data(train, groups)\n",
    "test_dfs = split_building_data(test, groups)"
   ]
  },
  {
   "cell_type": "markdown",
   "id": "d16aa133",
   "metadata": {
    "papermill": {
     "duration": 0.05645,
     "end_time": "2022-02-21T22:58:08.308219",
     "exception": false,
     "start_time": "2022-02-21T22:58:08.251769",
     "status": "completed"
    },
    "tags": []
   },
   "source": [
    "## Missing data"
   ]
  },
  {
   "cell_type": "code",
   "execution_count": 18,
   "id": "764b5d40",
   "metadata": {
    "execution": {
     "iopub.execute_input": "2022-02-21T22:58:08.426355Z",
     "iopub.status.busy": "2022-02-21T22:58:08.425720Z",
     "iopub.status.idle": "2022-02-21T22:58:08.430146Z",
     "shell.execute_reply": "2022-02-21T22:58:08.430634Z",
     "shell.execute_reply.started": "2022-02-21T22:56:01.827778Z"
    },
    "papermill": {
     "duration": 0.065778,
     "end_time": "2022-02-21T22:58:08.430805",
     "exception": false,
     "start_time": "2022-02-21T22:58:08.365027",
     "status": "completed"
    },
    "tags": []
   },
   "outputs": [],
   "source": [
    "def count_missing(df):\n",
    "    \"\"\"Counts the missing values in a dataframe\"\"\"\n",
    "    missing_df = pd.DataFrame(\n",
    "        df.isna().sum().sort_values(ascending=False), columns=[\"count\"]\n",
    "    )\n",
    "    missing_df[\"percent\"] = missing_df[\"count\"] / df.shape[0]\n",
    "    return missing_df.query(\"count != 0\")"
   ]
  },
  {
   "cell_type": "code",
   "execution_count": 19,
   "id": "dcc36def",
   "metadata": {
    "execution": {
     "iopub.execute_input": "2022-02-21T22:58:08.547549Z",
     "iopub.status.busy": "2022-02-21T22:58:08.546886Z",
     "iopub.status.idle": "2022-02-21T22:58:08.549763Z",
     "shell.execute_reply": "2022-02-21T22:58:08.550269Z",
     "shell.execute_reply.started": "2022-02-21T22:56:01.837261Z"
    },
    "papermill": {
     "duration": 0.063223,
     "end_time": "2022-02-21T22:58:08.550442",
     "exception": false,
     "start_time": "2022-02-21T22:58:08.487219",
     "status": "completed"
    },
    "tags": []
   },
   "outputs": [],
   "source": [
    "# count_missing(train_dfs[\"residential\"])\n",
    "# count_missing(test_dfs[\"residential\"])\n",
    "# count_missing(train_dfs[\"commercial\"])\n",
    "# count_missing(test_dfs[\"commercial\"])"
   ]
  },
  {
   "cell_type": "markdown",
   "id": "51fa2ed4",
   "metadata": {
    "papermill": {
     "duration": 0.055921,
     "end_time": "2022-02-21T22:58:08.664430",
     "exception": false,
     "start_time": "2022-02-21T22:58:08.608509",
     "status": "completed"
    },
    "tags": []
   },
   "source": [
    "## Data imputation: `energy_star`, `year_built`"
   ]
  },
  {
   "cell_type": "code",
   "execution_count": 20,
   "id": "d357cf0d",
   "metadata": {
    "execution": {
     "iopub.execute_input": "2022-02-21T22:58:08.780294Z",
     "iopub.status.busy": "2022-02-21T22:58:08.779661Z",
     "iopub.status.idle": "2022-02-21T22:58:08.785319Z",
     "shell.execute_reply": "2022-02-21T22:58:08.785837Z",
     "shell.execute_reply.started": "2022-02-21T22:56:01.848278Z"
    },
    "papermill": {
     "duration": 0.065468,
     "end_time": "2022-02-21T22:58:08.786046",
     "exception": false,
     "start_time": "2022-02-21T22:58:08.720578",
     "status": "completed"
    },
    "tags": []
   },
   "outputs": [],
   "source": [
    "def iterative_impute(train_df, test_df, model, ct, target, feat_names, seed):\n",
    "    \"\"\"Iteratively impute missing values with a desired model\"\"\"\n",
    "    train_imp = ct.fit_transform(train_df.drop(columns=[target]))\n",
    "    test_imp = ct.transform(test_df)\n",
    "\n",
    "    imputer = IterativeImputer(estimator=model, random_state=seed)\n",
    "\n",
    "    # TODO: fix feat_names with appropriate sklearn method\n",
    "    cols = (\n",
    "        ct.named_transformers_[\"onehotencoder\"].get_feature_names().tolist()\n",
    "        + feat_names\n",
    "    )\n",
    "\n",
    "    train_imp = pd.DataFrame(imputer.fit_transform(train_imp), columns=cols)\n",
    "    test_imp = pd.DataFrame(imputer.transform(test_imp), columns=cols)\n",
    "\n",
    "    return train_imp, test_imp"
   ]
  },
  {
   "cell_type": "code",
   "execution_count": 21,
   "id": "69763ac9",
   "metadata": {
    "execution": {
     "iopub.execute_input": "2022-02-21T22:58:08.902858Z",
     "iopub.status.busy": "2022-02-21T22:58:08.902252Z",
     "iopub.status.idle": "2022-02-21T22:58:08.905949Z",
     "shell.execute_reply": "2022-02-21T22:58:08.906434Z",
     "shell.execute_reply.started": "2022-02-21T22:56:01.860389Z"
    },
    "papermill": {
     "duration": 0.062978,
     "end_time": "2022-02-21T22:58:08.906593",
     "exception": false,
     "start_time": "2022-02-21T22:58:08.843615",
     "status": "completed"
    },
    "tags": []
   },
   "outputs": [],
   "source": [
    "def replace_columns(df, df_imp, columns):\n",
    "    \"\"\"Replace columns in one dataframe with columns from another\"\"\"\n",
    "    df_replaced = df.copy()\n",
    "\n",
    "    for col in columns:\n",
    "        df_replaced[col] = df_imp[col]\n",
    "\n",
    "    return df_replaced"
   ]
  },
  {
   "cell_type": "code",
   "execution_count": 22,
   "id": "f05d48fc",
   "metadata": {
    "execution": {
     "iopub.execute_input": "2022-02-21T22:58:09.025406Z",
     "iopub.status.busy": "2022-02-21T22:58:09.024763Z",
     "iopub.status.idle": "2022-02-21T22:58:09.031690Z",
     "shell.execute_reply": "2022-02-21T22:58:09.032235Z",
     "shell.execute_reply.started": "2022-02-21T22:56:01.875874Z"
    },
    "papermill": {
     "duration": 0.068078,
     "end_time": "2022-02-21T22:58:09.032414",
     "exception": false,
     "start_time": "2022-02-21T22:58:08.964336",
     "status": "completed"
    },
    "tags": []
   },
   "outputs": [],
   "source": [
    "def impute_and_replace(\n",
    "    train_dfs, test_dfs, model, ct, target, feat_names, replace, seed\n",
    "):\n",
    "    \"\"\"Iterative impute and replace values for multiple dataframes\"\"\"\n",
    "    train_dfs_imp = {}\n",
    "    test_dfs_imp = {}\n",
    "\n",
    "    # iterative imputation\n",
    "    for (name1, train_df), (name2, test_df) in zip(train_dfs.items(), test_dfs.items()):\n",
    "        assert name1 == name2\n",
    "        train_imp, test_imp = iterative_impute(\n",
    "            train_df, test_df, model, ct, target, feat_names, seed\n",
    "        )\n",
    "        train_dfs_imp[name1] = train_imp\n",
    "        test_dfs_imp[name1] = test_imp\n",
    "\n",
    "    # replace train columns with missing values\n",
    "    for (name1, df), (name2, imp_df) in zip(train_dfs.items(), train_dfs_imp.items()):\n",
    "        assert name1 == name2\n",
    "        train_dfs[name1] = replace_columns(df, imp_df, replace)\n",
    "\n",
    "    # replace test columns with missing values\n",
    "    for (name1, df), (name2, imp_df) in zip(test_dfs.items(), test_dfs_imp.items()):\n",
    "        assert name1 == name2\n",
    "        test_dfs[name1] = replace_columns(df, imp_df, replace)\n",
    "\n",
    "    return train_dfs, test_dfs"
   ]
  },
  {
   "cell_type": "code",
   "execution_count": 23,
   "id": "160b1be8",
   "metadata": {
    "execution": {
     "iopub.execute_input": "2022-02-21T22:58:09.150469Z",
     "iopub.status.busy": "2022-02-21T22:58:09.149628Z",
     "iopub.status.idle": "2022-02-21T22:58:09.155380Z",
     "shell.execute_reply": "2022-02-21T22:58:09.155872Z",
     "shell.execute_reply.started": "2022-02-21T22:56:01.890002Z"
    },
    "papermill": {
     "duration": 0.065343,
     "end_time": "2022-02-21T22:58:09.156064",
     "exception": false,
     "start_time": "2022-02-21T22:58:09.090721",
     "status": "completed"
    },
    "tags": []
   },
   "outputs": [],
   "source": [
    "cat_imp = [\n",
    "    'Year_Factor', 'State_Factor', 'building_class', 'facility_type'\n",
    "]\n",
    "\n",
    "num_imp = [\n",
    "    'floor_area', 'year_built', 'energy_star_rating', 'ELEVATION',\n",
    "    'cooling_degree_days', 'heating_degree_days', 'precipitation_inches',\n",
    "    'snowfall_inches', 'snowdepth_inches', 'avg_temp'\n",
    "]\n",
    "\n",
    "drop_imp = [\n",
    "    'january_min_temp', 'january_avg_temp', 'january_max_temp',\n",
    "    'february_min_temp', 'february_avg_temp', 'february_max_temp',\n",
    "    'march_min_temp', 'march_avg_temp', 'march_max_temp', 'april_min_temp',\n",
    "    'april_avg_temp', 'april_max_temp', 'may_min_temp', 'may_avg_temp',\n",
    "    'may_max_temp', 'june_min_temp', 'june_avg_temp', 'june_max_temp',\n",
    "    'july_min_temp', 'july_avg_temp', 'july_max_temp', 'august_min_temp',\n",
    "    'august_avg_temp', 'august_max_temp', 'september_min_temp',\n",
    "    'september_avg_temp', 'september_max_temp', 'october_min_temp',\n",
    "    'october_avg_temp', 'october_max_temp', 'november_min_temp',\n",
    "    'november_avg_temp', 'november_max_temp', 'december_min_temp',\n",
    "    'december_avg_temp', 'december_max_temp', 'days_below_30F', 'days_below_20F',\n",
    "    'days_below_10F', 'days_below_0F', 'days_above_80F', 'days_above_90F',\n",
    "    'days_above_100F', 'days_above_110F', 'direction_max_wind_speed',\n",
    "    'direction_peak_wind_speed', 'max_wind_speed', 'days_with_fog',\n",
    "    'id'\n",
    "]"
   ]
  },
  {
   "cell_type": "code",
   "execution_count": 24,
   "id": "e860717f",
   "metadata": {
    "execution": {
     "iopub.execute_input": "2022-02-21T22:58:09.272411Z",
     "iopub.status.busy": "2022-02-21T22:58:09.271779Z",
     "iopub.status.idle": "2022-02-21T22:58:09.276012Z",
     "shell.execute_reply": "2022-02-21T22:58:09.276523Z",
     "shell.execute_reply.started": "2022-02-21T22:56:01.904726Z"
    },
    "papermill": {
     "duration": 0.064355,
     "end_time": "2022-02-21T22:58:09.276688",
     "exception": false,
     "start_time": "2022-02-21T22:58:09.212333",
     "status": "completed"
    },
    "tags": []
   },
   "outputs": [],
   "source": [
    "ct_imp = make_column_transformer(\n",
    "    (OneHotEncoder(handle_unknown=\"ignore\", sparse=False), cat_imp),\n",
    "    (\"passthrough\", num_imp),\n",
    "    (\"drop\", drop_imp)\n",
    ")\n",
    "\n",
    "# change to better model later\n",
    "model = Ridge()\n",
    "replace = [\"energy_star_rating\", \"year_built\"]"
   ]
  },
  {
   "cell_type": "code",
   "execution_count": 25,
   "id": "a447defd",
   "metadata": {
    "execution": {
     "iopub.execute_input": "2022-02-21T22:58:09.393086Z",
     "iopub.status.busy": "2022-02-21T22:58:09.392392Z",
     "iopub.status.idle": "2022-02-21T22:58:14.840940Z",
     "shell.execute_reply": "2022-02-21T22:58:14.841875Z",
     "shell.execute_reply.started": "2022-02-21T22:56:01.921400Z"
    },
    "papermill": {
     "duration": 5.50895,
     "end_time": "2022-02-21T22:58:14.842197",
     "exception": false,
     "start_time": "2022-02-21T22:58:09.333247",
     "status": "completed"
    },
    "tags": []
   },
   "outputs": [],
   "source": [
    "train_dfs, test_dfs = impute_and_replace(\n",
    "    train_dfs, test_dfs, model, ct_imp, TARGET, num_imp, replace, SEED\n",
    ")"
   ]
  },
  {
   "cell_type": "code",
   "execution_count": 26,
   "id": "8b2e0862",
   "metadata": {
    "execution": {
     "iopub.execute_input": "2022-02-21T22:58:14.969812Z",
     "iopub.status.busy": "2022-02-21T22:58:14.969193Z",
     "iopub.status.idle": "2022-02-21T22:58:14.972981Z",
     "shell.execute_reply": "2022-02-21T22:58:14.971739Z",
     "shell.execute_reply.started": "2022-02-21T22:56:08.783495Z"
    },
    "papermill": {
     "duration": 0.065598,
     "end_time": "2022-02-21T22:58:14.973204",
     "exception": false,
     "start_time": "2022-02-21T22:58:14.907606",
     "status": "completed"
    },
    "tags": []
   },
   "outputs": [],
   "source": [
    "# count_missing(train_dfs[\"residential\"])\n",
    "# count_missing(test_dfs[\"residential\"])\n",
    "# count_missing(train_dfs[\"commercial\"])\n",
    "# count_missing(test_dfs[\"commercial\"])"
   ]
  },
  {
   "cell_type": "markdown",
   "id": "18a54e5a",
   "metadata": {
    "papermill": {
     "duration": 0.073044,
     "end_time": "2022-02-21T22:58:15.127714",
     "exception": false,
     "start_time": "2022-02-21T22:58:15.054670",
     "status": "completed"
    },
    "tags": []
   },
   "source": [
    "# Feature Engineering"
   ]
  },
  {
   "cell_type": "markdown",
   "id": "1653808a",
   "metadata": {
    "papermill": {
     "duration": 0.064407,
     "end_time": "2022-02-21T22:58:15.250153",
     "exception": false,
     "start_time": "2022-02-21T22:58:15.185746",
     "status": "completed"
    },
    "tags": []
   },
   "source": [
    "## New Features: Entire Dataset"
   ]
  },
  {
   "cell_type": "code",
   "execution_count": 27,
   "id": "8d962caa",
   "metadata": {
    "execution": {
     "iopub.execute_input": "2022-02-21T22:58:15.379145Z",
     "iopub.status.busy": "2022-02-21T22:58:15.378162Z",
     "iopub.status.idle": "2022-02-21T22:58:15.382412Z",
     "shell.execute_reply": "2022-02-21T22:58:15.382937Z",
     "shell.execute_reply.started": "2022-02-21T22:56:08.789640Z"
    },
    "papermill": {
     "duration": 0.071618,
     "end_time": "2022-02-21T22:58:15.383130",
     "exception": false,
     "start_time": "2022-02-21T22:58:15.311512",
     "status": "completed"
    },
    "tags": []
   },
   "outputs": [],
   "source": [
    "def has_feature(df, feat):\n",
    "    \"\"\"Adds a boolean feature if a feature exists or now\"\"\"\n",
    "    return df[feat].notna().astype(int)"
   ]
  },
  {
   "cell_type": "code",
   "execution_count": 28,
   "id": "04cf11c5",
   "metadata": {
    "execution": {
     "iopub.execute_input": "2022-02-21T22:58:15.502180Z",
     "iopub.status.busy": "2022-02-21T22:58:15.501217Z",
     "iopub.status.idle": "2022-02-21T22:58:15.507579Z",
     "shell.execute_reply": "2022-02-21T22:58:15.508176Z",
     "shell.execute_reply.started": "2022-02-21T22:56:08.804652Z"
    },
    "papermill": {
     "duration": 0.06718,
     "end_time": "2022-02-21T22:58:15.508355",
     "exception": false,
     "start_time": "2022-02-21T22:58:15.441175",
     "status": "completed"
    },
    "tags": []
   },
   "outputs": [],
   "source": [
    "def feature_engineer(train_df, test_df):\n",
    "    \"\"\"Feature engineer the wids 2022 dataset\"\"\"\n",
    "    train_df_eng = train_df.copy()\n",
    "    test_df_eng = test_df.copy()\n",
    "    \n",
    "    # whether or not a building has a fog detector\n",
    "    train_df_eng[\"has_fog_detector\"] = has_feature(train_df_eng, \"days_with_fog\")\n",
    "    test_df_eng[\"has_fog_detector\"] = has_feature(test_df_eng, \"days_with_fog\")\n",
    "    \n",
    "    # whether or not a building has a wind detector\n",
    "    train_df_eng[\"has_wind_detector\"] = has_feature(train_df_eng, \"max_wind_speed\")\n",
    "    test_df_eng[\"has_wind_detector\"] = has_feature(test_df_eng, \"max_wind_speed\")\n",
    "    \n",
    "    return train_df_eng, test_df_eng"
   ]
  },
  {
   "cell_type": "code",
   "execution_count": 29,
   "id": "c013b7e8",
   "metadata": {
    "execution": {
     "iopub.execute_input": "2022-02-21T22:58:15.628319Z",
     "iopub.status.busy": "2022-02-21T22:58:15.627346Z",
     "iopub.status.idle": "2022-02-21T22:58:15.633021Z",
     "shell.execute_reply": "2022-02-21T22:58:15.633549Z",
     "shell.execute_reply.started": "2022-02-21T22:56:08.816041Z"
    },
    "papermill": {
     "duration": 0.066597,
     "end_time": "2022-02-21T22:58:15.633730",
     "exception": false,
     "start_time": "2022-02-21T22:58:15.567133",
     "status": "completed"
    },
    "tags": []
   },
   "outputs": [],
   "source": [
    "def feature_engineer_multiple(train_dfs, test_dfs):\n",
    "    \"\"\"Feature engineer multiple dataframes at once\"\"\"\n",
    "    train_dfs_eng = {}\n",
    "    test_dfs_eng = {}\n",
    "\n",
    "    for (name1, train_df), (name2, test_df) in zip(train_dfs.items(), test_dfs.items()):\n",
    "        assert name1 == name2\n",
    "        train_dfs_eng[name1], test_dfs_eng[name2] = feature_engineer(train_df, test_df)\n",
    "\n",
    "    return train_dfs_eng, test_dfs_eng"
   ]
  },
  {
   "cell_type": "code",
   "execution_count": 30,
   "id": "00c59fab",
   "metadata": {
    "execution": {
     "iopub.execute_input": "2022-02-21T22:58:15.756674Z",
     "iopub.status.busy": "2022-02-21T22:58:15.755522Z",
     "iopub.status.idle": "2022-02-21T22:58:15.795890Z",
     "shell.execute_reply": "2022-02-21T22:58:15.795363Z",
     "shell.execute_reply.started": "2022-02-21T22:56:08.832284Z"
    },
    "papermill": {
     "duration": 0.102388,
     "end_time": "2022-02-21T22:58:15.796081",
     "exception": false,
     "start_time": "2022-02-21T22:58:15.693693",
     "status": "completed"
    },
    "tags": []
   },
   "outputs": [],
   "source": [
    "train_dfs_eng, test_dfs_eng = feature_engineer_multiple(train_dfs, test_dfs)"
   ]
  },
  {
   "cell_type": "markdown",
   "id": "04f081cd",
   "metadata": {
    "papermill": {
     "duration": 0.057063,
     "end_time": "2022-02-21T22:58:15.917870",
     "exception": false,
     "start_time": "2022-02-21T22:58:15.860807",
     "status": "completed"
    },
    "tags": []
   },
   "source": [
    "## Cluster buildings"
   ]
  },
  {
   "cell_type": "code",
   "execution_count": 31,
   "id": "71ac7850",
   "metadata": {
    "execution": {
     "iopub.execute_input": "2022-02-21T22:58:16.036972Z",
     "iopub.status.busy": "2022-02-21T22:58:16.036085Z",
     "iopub.status.idle": "2022-02-21T22:58:16.039073Z",
     "shell.execute_reply": "2022-02-21T22:58:16.039583Z",
     "shell.execute_reply.started": "2022-02-21T22:56:08.875455Z"
    },
    "papermill": {
     "duration": 0.064268,
     "end_time": "2022-02-21T22:58:16.039761",
     "exception": false,
     "start_time": "2022-02-21T22:58:15.975493",
     "status": "completed"
    },
    "tags": []
   },
   "outputs": [],
   "source": [
    "# def plot_elbow_curve(X, model, k):\n",
    "#     visualizer = KElbowVisualizer(model, k=k)\n",
    "#     visualizer.fit(X)\n",
    "#     visualizer.show()\n",
    "#     return visualizer"
   ]
  },
  {
   "cell_type": "code",
   "execution_count": 32,
   "id": "30b3e23d",
   "metadata": {
    "execution": {
     "iopub.execute_input": "2022-02-21T22:58:16.161281Z",
     "iopub.status.busy": "2022-02-21T22:58:16.160008Z",
     "iopub.status.idle": "2022-02-21T22:58:16.163044Z",
     "shell.execute_reply": "2022-02-21T22:58:16.162526Z",
     "shell.execute_reply.started": "2022-02-21T22:56:08.879942Z"
    },
    "papermill": {
     "duration": 0.063916,
     "end_time": "2022-02-21T22:58:16.163192",
     "exception": false,
     "start_time": "2022-02-21T22:58:16.099276",
     "status": "completed"
    },
    "tags": []
   },
   "outputs": [],
   "source": [
    "# def plot_silhouette(X, model):\n",
    "#     visualizer = SilhouetteVisualizer(model, colors=\"yellowbrick\")\n",
    "#     visualizer.fit(X)\n",
    "#     visualizer.show()\n",
    "#     return visualizer"
   ]
  },
  {
   "cell_type": "code",
   "execution_count": 33,
   "id": "ddc552fe",
   "metadata": {
    "execution": {
     "iopub.execute_input": "2022-02-21T22:58:16.289146Z",
     "iopub.status.busy": "2022-02-21T22:58:16.288230Z",
     "iopub.status.idle": "2022-02-21T22:58:16.290881Z",
     "shell.execute_reply": "2022-02-21T22:58:16.290419Z",
     "shell.execute_reply.started": "2022-02-21T22:56:08.892893Z"
    },
    "papermill": {
     "duration": 0.069941,
     "end_time": "2022-02-21T22:58:16.291055",
     "exception": false,
     "start_time": "2022-02-21T22:58:16.221114",
     "status": "completed"
    },
    "tags": []
   },
   "outputs": [],
   "source": [
    "# def add_cluster_labels(model, ct, train_df, test_df, target):\n",
    "#     \"\"\"Adds cluster labels as a feature\"\"\"\n",
    "#     train_df_cluster = train_df.copy()\n",
    "#     test_df_cluster = test_df.copy()\n",
    "\n",
    "#     X_cluster = ct.fit_transform(train_df.drop(columns=[target]))\n",
    "#     test_cluster = ct.transform(test_df)\n",
    "\n",
    "#     model.fit(X_cluster)\n",
    "\n",
    "#     train_df_cluster[\"cluster_label\"] = model.labels_\n",
    "#     test_df_cluster[\"cluster_label\"] = model.predict(test_cluster)\n",
    "\n",
    "#     return train_df_cluster, test_df_cluster"
   ]
  },
  {
   "cell_type": "code",
   "execution_count": 34,
   "id": "ff74ca12",
   "metadata": {
    "execution": {
     "iopub.execute_input": "2022-02-21T22:58:16.412465Z",
     "iopub.status.busy": "2022-02-21T22:58:16.411736Z",
     "iopub.status.idle": "2022-02-21T22:58:16.413621Z",
     "shell.execute_reply": "2022-02-21T22:58:16.414083Z",
     "shell.execute_reply.started": "2022-02-21T22:56:08.905996Z"
    },
    "papermill": {
     "duration": 0.064244,
     "end_time": "2022-02-21T22:58:16.414308",
     "exception": false,
     "start_time": "2022-02-21T22:58:16.350064",
     "status": "completed"
    },
    "tags": []
   },
   "outputs": [],
   "source": [
    "# cat_cluster = [\n",
    "#     'building_class', 'facility_type'\n",
    "# ]\n",
    "\n",
    "# num_cluster = [\n",
    "#     'floor_area', 'year_built', 'energy_star_rating', 'ELEVATION',\n",
    "#     'cooling_degree_days', 'heating_degree_days', 'precipitation_inches',\n",
    "#     'snowfall_inches', 'snowdepth_inches', 'avg_temp'\n",
    "# ]\n",
    "\n",
    "# passthrough_cluster = [\n",
    "#     'has_fog_detector', 'has_wind_detector'\n",
    "# ]\n",
    "\n",
    "# drop_cluster = [\n",
    "#     'Year_Factor', 'State_Factor', 'january_min_temp', 'january_avg_temp', 'january_max_temp',\n",
    "#     'february_min_temp', 'february_avg_temp', 'february_max_temp',\n",
    "#     'march_min_temp', 'march_avg_temp', 'march_max_temp', 'april_min_temp',\n",
    "#     'april_avg_temp', 'april_max_temp', 'may_min_temp', 'may_avg_temp',\n",
    "#     'may_max_temp', 'june_min_temp', 'june_avg_temp', 'june_max_temp',\n",
    "#     'july_min_temp', 'july_avg_temp', 'july_max_temp', 'august_min_temp',\n",
    "#     'august_avg_temp', 'august_max_temp', 'september_min_temp',\n",
    "#     'september_avg_temp', 'september_max_temp', 'october_min_temp',\n",
    "#     'october_avg_temp', 'october_max_temp', 'november_min_temp',\n",
    "#     'november_avg_temp', 'november_max_temp', 'december_min_temp',\n",
    "#     'december_avg_temp', 'december_max_temp', 'days_below_30F', 'days_below_20F',\n",
    "#     'days_below_10F', 'days_below_0F', 'days_above_80F', 'days_above_90F',\n",
    "#     'days_above_100F', 'days_above_110F', 'direction_max_wind_speed',\n",
    "#     'direction_peak_wind_speed', 'max_wind_speed', 'days_with_fog',\n",
    "#     'id'\n",
    "# ]"
   ]
  },
  {
   "cell_type": "code",
   "execution_count": 35,
   "id": "19e4a211",
   "metadata": {
    "execution": {
     "iopub.execute_input": "2022-02-21T22:58:16.535026Z",
     "iopub.status.busy": "2022-02-21T22:58:16.534159Z",
     "iopub.status.idle": "2022-02-21T22:58:16.535879Z",
     "shell.execute_reply": "2022-02-21T22:58:16.536369Z",
     "shell.execute_reply.started": "2022-02-21T22:56:08.921141Z"
    },
    "papermill": {
     "duration": 0.064247,
     "end_time": "2022-02-21T22:58:16.536543",
     "exception": false,
     "start_time": "2022-02-21T22:58:16.472296",
     "status": "completed"
    },
    "tags": []
   },
   "outputs": [],
   "source": [
    "# ct_cluster = make_column_transformer(\n",
    "#     (OneHotEncoder(handle_unknown=\"ignore\"), cat_cluster),\n",
    "#     (StandardScaler(), num_cluster),\n",
    "#     (\"passthrough\", passthrough_cluster),\n",
    "#     (\"drop\", drop_cluster)\n",
    "# )"
   ]
  },
  {
   "cell_type": "code",
   "execution_count": 36,
   "id": "e09424a3",
   "metadata": {
    "execution": {
     "iopub.execute_input": "2022-02-21T22:58:16.654028Z",
     "iopub.status.busy": "2022-02-21T22:58:16.653353Z",
     "iopub.status.idle": "2022-02-21T22:58:16.656278Z",
     "shell.execute_reply": "2022-02-21T22:58:16.656755Z",
     "shell.execute_reply.started": "2022-02-21T22:56:08.937712Z"
    },
    "papermill": {
     "duration": 0.062973,
     "end_time": "2022-02-21T22:58:16.656956",
     "exception": false,
     "start_time": "2022-02-21T22:58:16.593983",
     "status": "completed"
    },
    "tags": []
   },
   "outputs": [],
   "source": [
    "# X_cluster = ct_cluster.fit_transform(train_df_eng.drop(columns=[TARGET]))"
   ]
  },
  {
   "cell_type": "code",
   "execution_count": 37,
   "id": "c65e0bbb",
   "metadata": {
    "execution": {
     "iopub.execute_input": "2022-02-21T22:58:16.776993Z",
     "iopub.status.busy": "2022-02-21T22:58:16.776298Z",
     "iopub.status.idle": "2022-02-21T22:58:16.777696Z",
     "shell.execute_reply": "2022-02-21T22:58:16.778266Z",
     "shell.execute_reply.started": "2022-02-21T22:56:08.949590Z"
    },
    "papermill": {
     "duration": 0.063907,
     "end_time": "2022-02-21T22:58:16.778440",
     "exception": false,
     "start_time": "2022-02-21T22:58:16.714533",
     "status": "completed"
    },
    "tags": []
   },
   "outputs": [],
   "source": [
    "# k = (5, 20)\n",
    "# model = KMeans()\n",
    "# visualizer_elbow = plot_elbow_curve(X_cluster, model, k)"
   ]
  },
  {
   "cell_type": "code",
   "execution_count": 38,
   "id": "24e65c06",
   "metadata": {
    "execution": {
     "iopub.execute_input": "2022-02-21T22:58:16.897255Z",
     "iopub.status.busy": "2022-02-21T22:58:16.896550Z",
     "iopub.status.idle": "2022-02-21T22:58:16.899801Z",
     "shell.execute_reply": "2022-02-21T22:58:16.900366Z",
     "shell.execute_reply.started": "2022-02-21T22:56:08.964386Z"
    },
    "papermill": {
     "duration": 0.063155,
     "end_time": "2022-02-21T22:58:16.900533",
     "exception": false,
     "start_time": "2022-02-21T22:58:16.837378",
     "status": "completed"
    },
    "tags": []
   },
   "outputs": [],
   "source": [
    "# kmeans = KMeans(n_clusters=11, random_state=42)"
   ]
  },
  {
   "cell_type": "code",
   "execution_count": 39,
   "id": "6c18bf01",
   "metadata": {
    "execution": {
     "iopub.execute_input": "2022-02-21T22:58:17.018583Z",
     "iopub.status.busy": "2022-02-21T22:58:17.017946Z",
     "iopub.status.idle": "2022-02-21T22:58:17.020845Z",
     "shell.execute_reply": "2022-02-21T22:58:17.021293Z",
     "shell.execute_reply.started": "2022-02-21T22:56:08.976425Z"
    },
    "papermill": {
     "duration": 0.0636,
     "end_time": "2022-02-21T22:58:17.021470",
     "exception": false,
     "start_time": "2022-02-21T22:58:16.957870",
     "status": "completed"
    },
    "tags": []
   },
   "outputs": [],
   "source": [
    "# plot_silhouette(X_cluster, kmeans)"
   ]
  },
  {
   "cell_type": "code",
   "execution_count": 40,
   "id": "7dbe6edb",
   "metadata": {
    "execution": {
     "iopub.execute_input": "2022-02-21T22:58:17.142050Z",
     "iopub.status.busy": "2022-02-21T22:58:17.141359Z",
     "iopub.status.idle": "2022-02-21T22:58:17.144029Z",
     "shell.execute_reply": "2022-02-21T22:58:17.144525Z",
     "shell.execute_reply.started": "2022-02-21T22:56:08.986792Z"
    },
    "papermill": {
     "duration": 0.065098,
     "end_time": "2022-02-21T22:58:17.144703",
     "exception": false,
     "start_time": "2022-02-21T22:58:17.079605",
     "status": "completed"
    },
    "tags": []
   },
   "outputs": [],
   "source": [
    "# train_df_eng, test_df_eng = add_cluster_labels(\n",
    "#     kmeans,\n",
    "#     ct_cluster,\n",
    "#     train_df_eng,\n",
    "#     test_df_eng,\n",
    "#     TARGET\n",
    "# )"
   ]
  },
  {
   "cell_type": "markdown",
   "id": "24d03cc0",
   "metadata": {
    "papermill": {
     "duration": 0.056946,
     "end_time": "2022-02-21T22:58:17.259949",
     "exception": false,
     "start_time": "2022-02-21T22:58:17.203003",
     "status": "completed"
    },
    "tags": []
   },
   "source": [
    "# Modelling"
   ]
  },
  {
   "cell_type": "markdown",
   "id": "49306b83",
   "metadata": {
    "papermill": {
     "duration": 0.057622,
     "end_time": "2022-02-21T22:58:17.375172",
     "exception": false,
     "start_time": "2022-02-21T22:58:17.317550",
     "status": "completed"
    },
    "tags": []
   },
   "source": [
    "## Create `X` and `y` datasets"
   ]
  },
  {
   "cell_type": "code",
   "execution_count": 41,
   "id": "4250775d",
   "metadata": {
    "execution": {
     "iopub.execute_input": "2022-02-21T22:58:17.496508Z",
     "iopub.status.busy": "2022-02-21T22:58:17.495866Z",
     "iopub.status.idle": "2022-02-21T22:58:17.501217Z",
     "shell.execute_reply": "2022-02-21T22:58:17.500548Z",
     "shell.execute_reply.started": "2022-02-21T22:56:09.003211Z"
    },
    "papermill": {
     "duration": 0.066613,
     "end_time": "2022-02-21T22:58:17.501362",
     "exception": false,
     "start_time": "2022-02-21T22:58:17.434749",
     "status": "completed"
    },
    "tags": []
   },
   "outputs": [
    {
     "data": {
      "text/plain": [
       "dict_keys(['multifamily', 'residential', 'commercial', 'office', 'warehouse', 'religious'])"
      ]
     },
     "execution_count": 41,
     "metadata": {},
     "output_type": "execute_result"
    }
   ],
   "source": [
    "train_dfs_eng.keys()"
   ]
  },
  {
   "cell_type": "code",
   "execution_count": 42,
   "id": "ef529aa1",
   "metadata": {
    "execution": {
     "iopub.execute_input": "2022-02-21T22:58:17.621270Z",
     "iopub.status.busy": "2022-02-21T22:58:17.620460Z",
     "iopub.status.idle": "2022-02-21T22:58:17.623509Z",
     "shell.execute_reply": "2022-02-21T22:58:17.623965Z",
     "shell.execute_reply.started": "2022-02-21T22:56:09.015543Z"
    },
    "papermill": {
     "duration": 0.065304,
     "end_time": "2022-02-21T22:58:17.624134",
     "exception": false,
     "start_time": "2022-02-21T22:58:17.558830",
     "status": "completed"
    },
    "tags": []
   },
   "outputs": [
    {
     "data": {
      "text/plain": [
       "dict_keys(['multifamily', 'residential', 'commercial', 'office', 'warehouse', 'religious'])"
      ]
     },
     "execution_count": 42,
     "metadata": {},
     "output_type": "execute_result"
    }
   ],
   "source": [
    "test_dfs_eng.keys()"
   ]
  },
  {
   "cell_type": "code",
   "execution_count": 43,
   "id": "347af801",
   "metadata": {
    "execution": {
     "iopub.execute_input": "2022-02-21T22:58:17.746595Z",
     "iopub.status.busy": "2022-02-21T22:58:17.742424Z",
     "iopub.status.idle": "2022-02-21T22:58:17.749451Z",
     "shell.execute_reply": "2022-02-21T22:58:17.748952Z",
     "shell.execute_reply.started": "2022-02-21T22:56:09.027017Z"
    },
    "papermill": {
     "duration": 0.066966,
     "end_time": "2022-02-21T22:58:17.749599",
     "exception": false,
     "start_time": "2022-02-21T22:58:17.682633",
     "status": "completed"
    },
    "tags": []
   },
   "outputs": [],
   "source": [
    "def create_X_y(dfs, target, group_col=None):\n",
    "    \"\"\"Separates train dfs into X and y datasets (and optionally, groups)\"\"\"\n",
    "    X_dfs = {}\n",
    "    y_dfs = {}\n",
    "    groups = {}\n",
    "\n",
    "    for name, df in dfs.items():\n",
    "        X_dfs[name] = df.drop(columns=target)\n",
    "        y_dfs[name] = df[target]\n",
    "        \n",
    "        if group_col is not None:\n",
    "            groups[name] = df[group_col]\n",
    "    \n",
    "    if group_col is not None:\n",
    "        return X_dfs, y_dfs, groups\n",
    "    else:\n",
    "        return X_dfs, y_dfs"
   ]
  },
  {
   "cell_type": "code",
   "execution_count": 44,
   "id": "fec6fc03",
   "metadata": {
    "execution": {
     "iopub.execute_input": "2022-02-21T22:58:17.872153Z",
     "iopub.status.busy": "2022-02-21T22:58:17.871166Z",
     "iopub.status.idle": "2022-02-21T22:58:17.906752Z",
     "shell.execute_reply": "2022-02-21T22:58:17.907260Z",
     "shell.execute_reply.started": "2022-02-21T22:56:09.038558Z"
    },
    "papermill": {
     "duration": 0.098432,
     "end_time": "2022-02-21T22:58:17.907430",
     "exception": false,
     "start_time": "2022-02-21T22:58:17.808998",
     "status": "completed"
    },
    "tags": []
   },
   "outputs": [],
   "source": [
    "X_trains, y_trains, groups = create_X_y(train_dfs_eng, TARGET, \"Year_Factor\")\n",
    "X_tests = test_dfs_eng.copy()"
   ]
  },
  {
   "cell_type": "markdown",
   "id": "99cf2505",
   "metadata": {
    "papermill": {
     "duration": 0.059271,
     "end_time": "2022-02-21T22:58:18.024716",
     "exception": false,
     "start_time": "2022-02-21T22:58:17.965445",
     "status": "completed"
    },
    "tags": []
   },
   "source": [
    "## Column transformer"
   ]
  },
  {
   "cell_type": "code",
   "execution_count": 45,
   "id": "14c04e33",
   "metadata": {
    "execution": {
     "iopub.execute_input": "2022-02-21T22:58:18.147235Z",
     "iopub.status.busy": "2022-02-21T22:58:18.146474Z",
     "iopub.status.idle": "2022-02-21T22:58:18.152844Z",
     "shell.execute_reply": "2022-02-21T22:58:18.153440Z",
     "shell.execute_reply.started": "2022-02-21T22:56:09.077874Z"
    },
    "papermill": {
     "duration": 0.068657,
     "end_time": "2022-02-21T22:58:18.153623",
     "exception": false,
     "start_time": "2022-02-21T22:58:18.084966",
     "status": "completed"
    },
    "tags": []
   },
   "outputs": [],
   "source": [
    "cat = [\n",
    "    'State_Factor', 'building_class', 'facility_type'\n",
    "]\n",
    "\n",
    "num = [\n",
    "    'floor_area', 'year_built', 'energy_star_rating', 'ELEVATION',\n",
    "    'cooling_degree_days', 'heating_degree_days', 'precipitation_inches',\n",
    "    'snowfall_inches', 'snowdepth_inches', 'avg_temp'\n",
    "]\n",
    "\n",
    "passthrough = [\n",
    "    'has_fog_detector', 'has_wind_detector'\n",
    "]\n",
    "\n",
    "drop = [\n",
    "    'Year_Factor', 'january_min_temp', 'january_avg_temp', 'january_max_temp',\n",
    "    'february_min_temp', 'february_avg_temp', 'february_max_temp',\n",
    "    'march_min_temp', 'march_avg_temp', 'march_max_temp', 'april_min_temp',\n",
    "    'april_avg_temp', 'april_max_temp', 'may_min_temp', 'may_avg_temp',\n",
    "    'may_max_temp', 'june_min_temp', 'june_avg_temp', 'june_max_temp',\n",
    "    'july_min_temp', 'july_avg_temp', 'july_max_temp', 'august_min_temp',\n",
    "    'august_avg_temp', 'august_max_temp', 'september_min_temp',\n",
    "    'september_avg_temp', 'september_max_temp', 'october_min_temp',\n",
    "    'october_avg_temp', 'october_max_temp', 'november_min_temp',\n",
    "    'november_avg_temp', 'november_max_temp', 'december_min_temp',\n",
    "    'december_avg_temp', 'december_max_temp', 'days_below_30F', 'days_below_20F',\n",
    "    'days_below_10F', 'days_below_0F', 'days_above_80F', 'days_above_90F',\n",
    "    'days_above_100F', 'days_above_110F', 'direction_max_wind_speed',\n",
    "    'direction_peak_wind_speed', 'max_wind_speed', 'days_with_fog',\n",
    "    'id', #'cluster_label'\n",
    "]"
   ]
  },
  {
   "cell_type": "code",
   "execution_count": 46,
   "id": "5dcc2e8b",
   "metadata": {
    "execution": {
     "iopub.execute_input": "2022-02-21T22:58:18.274494Z",
     "iopub.status.busy": "2022-02-21T22:58:18.273784Z",
     "iopub.status.idle": "2022-02-21T22:58:18.278119Z",
     "shell.execute_reply": "2022-02-21T22:58:18.278583Z",
     "shell.execute_reply.started": "2022-02-21T22:56:09.088348Z"
    },
    "papermill": {
     "duration": 0.066552,
     "end_time": "2022-02-21T22:58:18.278773",
     "exception": false,
     "start_time": "2022-02-21T22:58:18.212221",
     "status": "completed"
    },
    "tags": []
   },
   "outputs": [],
   "source": [
    "ct = make_column_transformer(\n",
    "    (OneHotEncoder(handle_unknown=\"ignore\"), cat),\n",
    "    (\"passthrough\", num + passthrough),\n",
    "    (\"drop\", drop)\n",
    ")"
   ]
  },
  {
   "cell_type": "markdown",
   "id": "b7f5ba0c",
   "metadata": {
    "papermill": {
     "duration": 0.057946,
     "end_time": "2022-02-21T22:58:18.395636",
     "exception": false,
     "start_time": "2022-02-21T22:58:18.337690",
     "status": "completed"
    },
    "tags": []
   },
   "source": [
    "## Cross validation"
   ]
  },
  {
   "cell_type": "code",
   "execution_count": 47,
   "id": "25f41dde",
   "metadata": {
    "execution": {
     "iopub.execute_input": "2022-02-21T22:58:18.515862Z",
     "iopub.status.busy": "2022-02-21T22:58:18.515170Z",
     "iopub.status.idle": "2022-02-21T22:58:18.526075Z",
     "shell.execute_reply": "2022-02-21T22:58:18.526570Z",
     "shell.execute_reply.started": "2022-02-21T22:56:09.106833Z"
    },
    "papermill": {
     "duration": 0.073005,
     "end_time": "2022-02-21T22:58:18.526774",
     "exception": false,
     "start_time": "2022-02-21T22:58:18.453769",
     "status": "completed"
    },
    "tags": []
   },
   "outputs": [],
   "source": [
    "def logo_cv_lgb(model, X, y, groups, ct, early_stopping_rounds, return_models=True):\n",
    "    \"\"\"Custom cross validation function meant for use with LightGBM Regressor\"\"\"\n",
    "\n",
    "    models = []\n",
    "    results = []\n",
    "    train_scores = []\n",
    "    val_scores = []\n",
    "    fold = 0\n",
    "    logo = LeaveOneGroupOut()\n",
    "\n",
    "    for t, v in logo.split(X, groups=groups):\n",
    "        fold += 1\n",
    "\n",
    "        # to avoid lightgbm not saving new fit model (weird??? might be bug in lgb...)\n",
    "        # might also be bug in my code?  to look into later\n",
    "        current_model = deepcopy(model)\n",
    "\n",
    "        # train and val sets for current fold\n",
    "        X_train, y_train = X.iloc[t], y.iloc[t]\n",
    "        X_val, y_val = X.iloc[v], y.iloc[v]\n",
    "\n",
    "        # year factors for current folds\n",
    "        X_train_yf = np.sort(X_train[\"Year_Factor\"].unique())\n",
    "        X_val_yf = X_val[\"Year_Factor\"].unique()\n",
    "\n",
    "        # transform train and val sets\n",
    "        X_train_tsf = ct.fit_transform(X_train)\n",
    "        X_val_tsf = ct.transform(X_val)\n",
    "\n",
    "        # fit and score model w/ early stopping\n",
    "        current_model.fit(\n",
    "            X_train_tsf,\n",
    "            y_train,\n",
    "            eval_set=[(X_val_tsf, y_val)],\n",
    "            eval_metric=[\"rmse\"],\n",
    "            feature_name=ct.get_feature_names(),\n",
    "            callbacks=[lgb.early_stopping(early_stopping_rounds, verbose=False)],\n",
    "        )\n",
    "\n",
    "        # train/val rmse scores\n",
    "        train_rmse = mean_squared_error(\n",
    "            y_true=y_train, y_pred=current_model.predict(X_train_tsf), squared=False\n",
    "        )\n",
    "        val_rmse = current_model.best_score_[\"valid_0\"][\"rmse\"]\n",
    "\n",
    "        fold_results = {\n",
    "            \"Fold\": fold,\n",
    "            \"Train_shape\": X_train.shape,\n",
    "            \"Val_shape\": X_val.shape,\n",
    "            \"Train_years\": X_train_yf,\n",
    "            \"Val_years\": X_val_yf,\n",
    "            \"Train_RMSE\": train_rmse,\n",
    "            \"Val_RMSE\": val_rmse,\n",
    "            \"RMSE_spread\": train_rmse - val_rmse,\n",
    "        }\n",
    "\n",
    "        results.append(fold_results)\n",
    "        train_scores.append(train_rmse)\n",
    "        val_scores.append(val_rmse)\n",
    "        models.append(current_model)\n",
    "\n",
    "    # mean validation score\n",
    "    results.append(\n",
    "        {\n",
    "            \"Fold\": \"MEAN\",\n",
    "            \"Train_shape\": \"N/A\",\n",
    "            \"Val_shape\": \"N/A\",\n",
    "            \"Train_years\": \"N/A\",\n",
    "            \"Val_years\": \"N/A\",\n",
    "            \"Train_RMSE\": np.mean(train_scores),\n",
    "            \"Val_RMSE\": np.mean(val_scores),\n",
    "            \"RMSE_spread\": np.mean(train_scores) - np.mean(val_scores),\n",
    "        }\n",
    "    )\n",
    "\n",
    "    results = pd.DataFrame(results)\n",
    "\n",
    "    if return_models:\n",
    "        return results, models\n",
    "    else:\n",
    "        return results"
   ]
  },
  {
   "cell_type": "code",
   "execution_count": 48,
   "id": "2293555d",
   "metadata": {
    "execution": {
     "iopub.execute_input": "2022-02-21T22:58:18.652182Z",
     "iopub.status.busy": "2022-02-21T22:58:18.650489Z",
     "iopub.status.idle": "2022-02-21T22:58:18.654083Z",
     "shell.execute_reply": "2022-02-21T22:58:18.653515Z",
     "shell.execute_reply.started": "2022-02-21T22:56:09.128764Z"
    },
    "papermill": {
     "duration": 0.069308,
     "end_time": "2022-02-21T22:58:18.654248",
     "exception": false,
     "start_time": "2022-02-21T22:58:18.584940",
     "status": "completed"
    },
    "tags": []
   },
   "outputs": [],
   "source": [
    "def logo_cv_lgb_all(\n",
    "    model, X_trains, y_trains, groups, ct, early_stopping_rounds, return_models=True\n",
    "):\n",
    "    \"\"\"Perform logo cv with LGBM for multiple datasets\"\"\"\n",
    "    results = {}\n",
    "    models = {}\n",
    "\n",
    "    for (n1, X), (n2, y), (n3, group) in zip(\n",
    "        X_trains.items(), y_trains.items(), groups.items()\n",
    "    ):\n",
    "        assert n1 == n2 == n3\n",
    "        results[n1], models[n1] = logo_cv_lgb(\n",
    "            model, X, y, group, ct, early_stopping_rounds, return_models\n",
    "        )\n",
    "\n",
    "    return results, models"
   ]
  },
  {
   "cell_type": "code",
   "execution_count": 49,
   "id": "531164b7",
   "metadata": {
    "execution": {
     "iopub.execute_input": "2022-02-21T22:58:18.775066Z",
     "iopub.status.busy": "2022-02-21T22:58:18.774385Z",
     "iopub.status.idle": "2022-02-21T22:58:18.776076Z",
     "shell.execute_reply": "2022-02-21T22:58:18.776486Z",
     "shell.execute_reply.started": "2022-02-21T22:56:09.144797Z"
    },
    "papermill": {
     "duration": 0.064561,
     "end_time": "2022-02-21T22:58:18.776654",
     "exception": false,
     "start_time": "2022-02-21T22:58:18.712093",
     "status": "completed"
    },
    "tags": []
   },
   "outputs": [],
   "source": [
    "def process_cv_results(results):\n",
    "    \"\"\"Process cv results for multiple datasets\"\"\"\n",
    "    results_df = pd.DataFrame()\n",
    "\n",
    "    for name, result in results.items():\n",
    "        result.insert(0, \"facility_group\", name)\n",
    "        results_df = pd.concat([results_df, result])\n",
    "\n",
    "    return results_df"
   ]
  },
  {
   "cell_type": "code",
   "execution_count": 50,
   "id": "8033747d",
   "metadata": {
    "execution": {
     "iopub.execute_input": "2022-02-21T22:58:18.896044Z",
     "iopub.status.busy": "2022-02-21T22:58:18.895339Z",
     "iopub.status.idle": "2022-02-21T22:58:23.654281Z",
     "shell.execute_reply": "2022-02-21T22:58:23.654860Z",
     "shell.execute_reply.started": "2022-02-21T22:56:09.162455Z"
    },
    "papermill": {
     "duration": 4.820345,
     "end_time": "2022-02-21T22:58:23.655108",
     "exception": false,
     "start_time": "2022-02-21T22:58:18.834763",
     "status": "completed"
    },
    "tags": []
   },
   "outputs": [],
   "source": [
    "model = lgb.LGBMRegressor(force_row_wise=True, random_state=SEED)\n",
    "results, models = logo_cv_lgb_all(model, X_trains, y_trains, groups, ct, 5)"
   ]
  },
  {
   "cell_type": "code",
   "execution_count": 51,
   "id": "213d6a2c",
   "metadata": {
    "execution": {
     "iopub.execute_input": "2022-02-21T22:58:23.775770Z",
     "iopub.status.busy": "2022-02-21T22:58:23.775190Z",
     "iopub.status.idle": "2022-02-21T22:58:23.838672Z",
     "shell.execute_reply": "2022-02-21T22:58:23.839139Z",
     "shell.execute_reply.started": "2022-02-21T22:56:15.202008Z"
    },
    "papermill": {
     "duration": 0.12658,
     "end_time": "2022-02-21T22:58:23.839306",
     "exception": false,
     "start_time": "2022-02-21T22:58:23.712726",
     "status": "completed"
    },
    "tags": []
   },
   "outputs": [
    {
     "data": {
      "text/html": [
       "<div>\n",
       "<style scoped>\n",
       "    .dataframe tbody tr th:only-of-type {\n",
       "        vertical-align: middle;\n",
       "    }\n",
       "\n",
       "    .dataframe tbody tr th {\n",
       "        vertical-align: top;\n",
       "    }\n",
       "\n",
       "    .dataframe thead th {\n",
       "        text-align: right;\n",
       "    }\n",
       "</style>\n",
       "<table border=\"1\" class=\"dataframe\">\n",
       "  <thead>\n",
       "    <tr style=\"text-align: right;\">\n",
       "      <th></th>\n",
       "      <th>facility_group</th>\n",
       "      <th>Fold</th>\n",
       "      <th>Train_shape</th>\n",
       "      <th>Val_shape</th>\n",
       "      <th>Train_years</th>\n",
       "      <th>Val_years</th>\n",
       "      <th>Train_RMSE</th>\n",
       "      <th>Val_RMSE</th>\n",
       "      <th>RMSE_spread</th>\n",
       "    </tr>\n",
       "  </thead>\n",
       "  <tbody>\n",
       "    <tr>\n",
       "      <th>0</th>\n",
       "      <td>multifamily</td>\n",
       "      <td>1</td>\n",
       "      <td>(39323, 65)</td>\n",
       "      <td>(107, 65)</td>\n",
       "      <td>[2, 3, 4, 5, 6]</td>\n",
       "      <td>[1]</td>\n",
       "      <td>31.424101</td>\n",
       "      <td>37.951848</td>\n",
       "      <td>-6.527747</td>\n",
       "    </tr>\n",
       "    <tr>\n",
       "      <th>1</th>\n",
       "      <td>multifamily</td>\n",
       "      <td>2</td>\n",
       "      <td>(33058, 65)</td>\n",
       "      <td>(6372, 65)</td>\n",
       "      <td>[1, 3, 4, 5, 6]</td>\n",
       "      <td>[2]</td>\n",
       "      <td>35.805168</td>\n",
       "      <td>35.557750</td>\n",
       "      <td>0.247418</td>\n",
       "    </tr>\n",
       "    <tr>\n",
       "      <th>2</th>\n",
       "      <td>multifamily</td>\n",
       "      <td>3</td>\n",
       "      <td>(32774, 65)</td>\n",
       "      <td>(6656, 65)</td>\n",
       "      <td>[1, 2, 4, 5, 6]</td>\n",
       "      <td>[3]</td>\n",
       "      <td>30.474357</td>\n",
       "      <td>45.537829</td>\n",
       "      <td>-15.063472</td>\n",
       "    </tr>\n",
       "    <tr>\n",
       "      <th>3</th>\n",
       "      <td>multifamily</td>\n",
       "      <td>4</td>\n",
       "      <td>(31930, 65)</td>\n",
       "      <td>(7500, 65)</td>\n",
       "      <td>[1, 2, 3, 5, 6]</td>\n",
       "      <td>[4]</td>\n",
       "      <td>30.121021</td>\n",
       "      <td>34.351295</td>\n",
       "      <td>-4.230274</td>\n",
       "    </tr>\n",
       "    <tr>\n",
       "      <th>4</th>\n",
       "      <td>multifamily</td>\n",
       "      <td>5</td>\n",
       "      <td>(30871, 65)</td>\n",
       "      <td>(8559, 65)</td>\n",
       "      <td>[1, 2, 3, 4, 6]</td>\n",
       "      <td>[5]</td>\n",
       "      <td>31.651982</td>\n",
       "      <td>24.252581</td>\n",
       "      <td>7.399401</td>\n",
       "    </tr>\n",
       "    <tr>\n",
       "      <th>5</th>\n",
       "      <td>multifamily</td>\n",
       "      <td>6</td>\n",
       "      <td>(29194, 65)</td>\n",
       "      <td>(10236, 65)</td>\n",
       "      <td>[1, 2, 3, 4, 5]</td>\n",
       "      <td>[6]</td>\n",
       "      <td>33.959790</td>\n",
       "      <td>24.194163</td>\n",
       "      <td>9.765628</td>\n",
       "    </tr>\n",
       "    <tr>\n",
       "      <th>6</th>\n",
       "      <td>multifamily</td>\n",
       "      <td>MEAN</td>\n",
       "      <td>N/A</td>\n",
       "      <td>N/A</td>\n",
       "      <td>N/A</td>\n",
       "      <td>N/A</td>\n",
       "      <td>32.239403</td>\n",
       "      <td>33.640911</td>\n",
       "      <td>-1.401508</td>\n",
       "    </tr>\n",
       "    <tr>\n",
       "      <th>0</th>\n",
       "      <td>residential</td>\n",
       "      <td>1</td>\n",
       "      <td>(3171, 65)</td>\n",
       "      <td>(4, 65)</td>\n",
       "      <td>[4, 5, 6]</td>\n",
       "      <td>[1]</td>\n",
       "      <td>10.682125</td>\n",
       "      <td>45.600748</td>\n",
       "      <td>-34.918623</td>\n",
       "    </tr>\n",
       "    <tr>\n",
       "      <th>1</th>\n",
       "      <td>residential</td>\n",
       "      <td>2</td>\n",
       "      <td>(3172, 65)</td>\n",
       "      <td>(3, 65)</td>\n",
       "      <td>[1, 5, 6]</td>\n",
       "      <td>[4]</td>\n",
       "      <td>8.831916</td>\n",
       "      <td>24.808099</td>\n",
       "      <td>-15.976183</td>\n",
       "    </tr>\n",
       "    <tr>\n",
       "      <th>2</th>\n",
       "      <td>residential</td>\n",
       "      <td>3</td>\n",
       "      <td>(1599, 65)</td>\n",
       "      <td>(1576, 65)</td>\n",
       "      <td>[1, 4, 6]</td>\n",
       "      <td>[5]</td>\n",
       "      <td>8.525895</td>\n",
       "      <td>11.255834</td>\n",
       "      <td>-2.729940</td>\n",
       "    </tr>\n",
       "    <tr>\n",
       "      <th>3</th>\n",
       "      <td>residential</td>\n",
       "      <td>4</td>\n",
       "      <td>(1583, 65)</td>\n",
       "      <td>(1592, 65)</td>\n",
       "      <td>[1, 4, 5]</td>\n",
       "      <td>[6]</td>\n",
       "      <td>8.595381</td>\n",
       "      <td>11.025550</td>\n",
       "      <td>-2.430169</td>\n",
       "    </tr>\n",
       "    <tr>\n",
       "      <th>4</th>\n",
       "      <td>residential</td>\n",
       "      <td>MEAN</td>\n",
       "      <td>N/A</td>\n",
       "      <td>N/A</td>\n",
       "      <td>N/A</td>\n",
       "      <td>N/A</td>\n",
       "      <td>9.158829</td>\n",
       "      <td>23.172558</td>\n",
       "      <td>-14.013729</td>\n",
       "    </tr>\n",
       "    <tr>\n",
       "      <th>0</th>\n",
       "      <td>commercial</td>\n",
       "      <td>1</td>\n",
       "      <td>(16552, 65)</td>\n",
       "      <td>(741, 65)</td>\n",
       "      <td>[2, 3, 4, 5, 6]</td>\n",
       "      <td>[1]</td>\n",
       "      <td>55.833116</td>\n",
       "      <td>79.941442</td>\n",
       "      <td>-24.108327</td>\n",
       "    </tr>\n",
       "    <tr>\n",
       "      <th>1</th>\n",
       "      <td>commercial</td>\n",
       "      <td>2</td>\n",
       "      <td>(16136, 65)</td>\n",
       "      <td>(1157, 65)</td>\n",
       "      <td>[1, 3, 4, 5, 6]</td>\n",
       "      <td>[2]</td>\n",
       "      <td>55.935538</td>\n",
       "      <td>80.700976</td>\n",
       "      <td>-24.765437</td>\n",
       "    </tr>\n",
       "    <tr>\n",
       "      <th>2</th>\n",
       "      <td>commercial</td>\n",
       "      <td>3</td>\n",
       "      <td>(15110, 65)</td>\n",
       "      <td>(2183, 65)</td>\n",
       "      <td>[1, 2, 4, 5, 6]</td>\n",
       "      <td>[3]</td>\n",
       "      <td>56.448891</td>\n",
       "      <td>66.813217</td>\n",
       "      <td>-10.364326</td>\n",
       "    </tr>\n",
       "    <tr>\n",
       "      <th>3</th>\n",
       "      <td>commercial</td>\n",
       "      <td>4</td>\n",
       "      <td>(14671, 65)</td>\n",
       "      <td>(2622, 65)</td>\n",
       "      <td>[1, 2, 3, 5, 6]</td>\n",
       "      <td>[4]</td>\n",
       "      <td>57.515376</td>\n",
       "      <td>60.678428</td>\n",
       "      <td>-3.163051</td>\n",
       "    </tr>\n",
       "    <tr>\n",
       "      <th>4</th>\n",
       "      <td>commercial</td>\n",
       "      <td>5</td>\n",
       "      <td>(13083, 65)</td>\n",
       "      <td>(4210, 65)</td>\n",
       "      <td>[1, 2, 3, 4, 6]</td>\n",
       "      <td>[5]</td>\n",
       "      <td>57.613451</td>\n",
       "      <td>59.905302</td>\n",
       "      <td>-2.291851</td>\n",
       "    </tr>\n",
       "    <tr>\n",
       "      <th>5</th>\n",
       "      <td>commercial</td>\n",
       "      <td>6</td>\n",
       "      <td>(10913, 65)</td>\n",
       "      <td>(6380, 65)</td>\n",
       "      <td>[1, 2, 3, 4, 5]</td>\n",
       "      <td>[6]</td>\n",
       "      <td>69.194450</td>\n",
       "      <td>71.021231</td>\n",
       "      <td>-1.826781</td>\n",
       "    </tr>\n",
       "    <tr>\n",
       "      <th>6</th>\n",
       "      <td>commercial</td>\n",
       "      <td>MEAN</td>\n",
       "      <td>N/A</td>\n",
       "      <td>N/A</td>\n",
       "      <td>N/A</td>\n",
       "      <td>N/A</td>\n",
       "      <td>58.756804</td>\n",
       "      <td>69.843433</td>\n",
       "      <td>-11.086629</td>\n",
       "    </tr>\n",
       "    <tr>\n",
       "      <th>0</th>\n",
       "      <td>office</td>\n",
       "      <td>1</td>\n",
       "      <td>(12050, 65)</td>\n",
       "      <td>(1096, 65)</td>\n",
       "      <td>[2, 3, 4, 5, 6]</td>\n",
       "      <td>[1]</td>\n",
       "      <td>27.958941</td>\n",
       "      <td>43.538868</td>\n",
       "      <td>-15.579927</td>\n",
       "    </tr>\n",
       "    <tr>\n",
       "      <th>1</th>\n",
       "      <td>office</td>\n",
       "      <td>2</td>\n",
       "      <td>(11841, 65)</td>\n",
       "      <td>(1305, 65)</td>\n",
       "      <td>[1, 3, 4, 5, 6]</td>\n",
       "      <td>[2]</td>\n",
       "      <td>26.810483</td>\n",
       "      <td>41.528590</td>\n",
       "      <td>-14.718107</td>\n",
       "    </tr>\n",
       "    <tr>\n",
       "      <th>2</th>\n",
       "      <td>office</td>\n",
       "      <td>3</td>\n",
       "      <td>(11449, 65)</td>\n",
       "      <td>(1697, 65)</td>\n",
       "      <td>[1, 2, 4, 5, 6]</td>\n",
       "      <td>[3]</td>\n",
       "      <td>25.883925</td>\n",
       "      <td>36.178360</td>\n",
       "      <td>-10.294435</td>\n",
       "    </tr>\n",
       "    <tr>\n",
       "      <th>3</th>\n",
       "      <td>office</td>\n",
       "      <td>4</td>\n",
       "      <td>(10740, 65)</td>\n",
       "      <td>(2406, 65)</td>\n",
       "      <td>[1, 2, 3, 5, 6]</td>\n",
       "      <td>[4]</td>\n",
       "      <td>31.052040</td>\n",
       "      <td>34.089577</td>\n",
       "      <td>-3.037537</td>\n",
       "    </tr>\n",
       "    <tr>\n",
       "      <th>4</th>\n",
       "      <td>office</td>\n",
       "      <td>5</td>\n",
       "      <td>(9928, 65)</td>\n",
       "      <td>(3218, 65)</td>\n",
       "      <td>[1, 2, 3, 4, 6]</td>\n",
       "      <td>[5]</td>\n",
       "      <td>28.496836</td>\n",
       "      <td>27.210220</td>\n",
       "      <td>1.286616</td>\n",
       "    </tr>\n",
       "    <tr>\n",
       "      <th>5</th>\n",
       "      <td>office</td>\n",
       "      <td>6</td>\n",
       "      <td>(9722, 65)</td>\n",
       "      <td>(3424, 65)</td>\n",
       "      <td>[1, 2, 3, 4, 5]</td>\n",
       "      <td>[6]</td>\n",
       "      <td>29.128093</td>\n",
       "      <td>28.637723</td>\n",
       "      <td>0.490370</td>\n",
       "    </tr>\n",
       "    <tr>\n",
       "      <th>6</th>\n",
       "      <td>office</td>\n",
       "      <td>MEAN</td>\n",
       "      <td>N/A</td>\n",
       "      <td>N/A</td>\n",
       "      <td>N/A</td>\n",
       "      <td>N/A</td>\n",
       "      <td>28.221720</td>\n",
       "      <td>35.197223</td>\n",
       "      <td>-6.975503</td>\n",
       "    </tr>\n",
       "    <tr>\n",
       "      <th>0</th>\n",
       "      <td>warehouse</td>\n",
       "      <td>1</td>\n",
       "      <td>(2120, 65)</td>\n",
       "      <td>(155, 65)</td>\n",
       "      <td>[2, 3, 4, 5, 6]</td>\n",
       "      <td>[1]</td>\n",
       "      <td>36.329470</td>\n",
       "      <td>20.101172</td>\n",
       "      <td>16.228298</td>\n",
       "    </tr>\n",
       "    <tr>\n",
       "      <th>1</th>\n",
       "      <td>warehouse</td>\n",
       "      <td>2</td>\n",
       "      <td>(2086, 65)</td>\n",
       "      <td>(189, 65)</td>\n",
       "      <td>[1, 3, 4, 5, 6]</td>\n",
       "      <td>[2]</td>\n",
       "      <td>22.611686</td>\n",
       "      <td>21.148945</td>\n",
       "      <td>1.462742</td>\n",
       "    </tr>\n",
       "    <tr>\n",
       "      <th>2</th>\n",
       "      <td>warehouse</td>\n",
       "      <td>3</td>\n",
       "      <td>(1975, 65)</td>\n",
       "      <td>(300, 65)</td>\n",
       "      <td>[1, 2, 4, 5, 6]</td>\n",
       "      <td>[3]</td>\n",
       "      <td>26.543351</td>\n",
       "      <td>27.518435</td>\n",
       "      <td>-0.975085</td>\n",
       "    </tr>\n",
       "    <tr>\n",
       "      <th>3</th>\n",
       "      <td>warehouse</td>\n",
       "      <td>4</td>\n",
       "      <td>(1919, 65)</td>\n",
       "      <td>(356, 65)</td>\n",
       "      <td>[1, 2, 3, 5, 6]</td>\n",
       "      <td>[4]</td>\n",
       "      <td>24.088778</td>\n",
       "      <td>23.928819</td>\n",
       "      <td>0.159959</td>\n",
       "    </tr>\n",
       "    <tr>\n",
       "      <th>4</th>\n",
       "      <td>warehouse</td>\n",
       "      <td>5</td>\n",
       "      <td>(1674, 65)</td>\n",
       "      <td>(601, 65)</td>\n",
       "      <td>[1, 2, 3, 4, 6]</td>\n",
       "      <td>[5]</td>\n",
       "      <td>23.163008</td>\n",
       "      <td>38.238912</td>\n",
       "      <td>-15.075904</td>\n",
       "    </tr>\n",
       "    <tr>\n",
       "      <th>5</th>\n",
       "      <td>warehouse</td>\n",
       "      <td>6</td>\n",
       "      <td>(1601, 65)</td>\n",
       "      <td>(674, 65)</td>\n",
       "      <td>[1, 2, 3, 4, 5]</td>\n",
       "      <td>[6]</td>\n",
       "      <td>21.806445</td>\n",
       "      <td>32.816349</td>\n",
       "      <td>-11.009904</td>\n",
       "    </tr>\n",
       "    <tr>\n",
       "      <th>6</th>\n",
       "      <td>warehouse</td>\n",
       "      <td>MEAN</td>\n",
       "      <td>N/A</td>\n",
       "      <td>N/A</td>\n",
       "      <td>N/A</td>\n",
       "      <td>N/A</td>\n",
       "      <td>25.757123</td>\n",
       "      <td>27.292106</td>\n",
       "      <td>-1.534983</td>\n",
       "    </tr>\n",
       "    <tr>\n",
       "      <th>0</th>\n",
       "      <td>religious</td>\n",
       "      <td>1</td>\n",
       "      <td>(388, 65)</td>\n",
       "      <td>(11, 65)</td>\n",
       "      <td>[2, 3, 4, 5, 6]</td>\n",
       "      <td>[1]</td>\n",
       "      <td>19.719253</td>\n",
       "      <td>26.166658</td>\n",
       "      <td>-6.447405</td>\n",
       "    </tr>\n",
       "    <tr>\n",
       "      <th>1</th>\n",
       "      <td>religious</td>\n",
       "      <td>2</td>\n",
       "      <td>(381, 65)</td>\n",
       "      <td>(18, 65)</td>\n",
       "      <td>[1, 3, 4, 5, 6]</td>\n",
       "      <td>[2]</td>\n",
       "      <td>19.537845</td>\n",
       "      <td>18.169034</td>\n",
       "      <td>1.368810</td>\n",
       "    </tr>\n",
       "    <tr>\n",
       "      <th>2</th>\n",
       "      <td>religious</td>\n",
       "      <td>3</td>\n",
       "      <td>(362, 65)</td>\n",
       "      <td>(37, 65)</td>\n",
       "      <td>[1, 2, 4, 5, 6]</td>\n",
       "      <td>[3]</td>\n",
       "      <td>8.953043</td>\n",
       "      <td>18.812217</td>\n",
       "      <td>-9.859175</td>\n",
       "    </tr>\n",
       "    <tr>\n",
       "      <th>3</th>\n",
       "      <td>religious</td>\n",
       "      <td>4</td>\n",
       "      <td>(344, 65)</td>\n",
       "      <td>(55, 65)</td>\n",
       "      <td>[1, 2, 3, 5, 6]</td>\n",
       "      <td>[4]</td>\n",
       "      <td>12.573734</td>\n",
       "      <td>18.221921</td>\n",
       "      <td>-5.648186</td>\n",
       "    </tr>\n",
       "    <tr>\n",
       "      <th>4</th>\n",
       "      <td>religious</td>\n",
       "      <td>5</td>\n",
       "      <td>(258, 65)</td>\n",
       "      <td>(141, 65)</td>\n",
       "      <td>[1, 2, 3, 4, 6]</td>\n",
       "      <td>[5]</td>\n",
       "      <td>11.005571</td>\n",
       "      <td>16.126924</td>\n",
       "      <td>-5.121353</td>\n",
       "    </tr>\n",
       "    <tr>\n",
       "      <th>5</th>\n",
       "      <td>religious</td>\n",
       "      <td>6</td>\n",
       "      <td>(262, 65)</td>\n",
       "      <td>(137, 65)</td>\n",
       "      <td>[1, 2, 3, 4, 5]</td>\n",
       "      <td>[6]</td>\n",
       "      <td>10.234099</td>\n",
       "      <td>15.975248</td>\n",
       "      <td>-5.741149</td>\n",
       "    </tr>\n",
       "    <tr>\n",
       "      <th>6</th>\n",
       "      <td>religious</td>\n",
       "      <td>MEAN</td>\n",
       "      <td>N/A</td>\n",
       "      <td>N/A</td>\n",
       "      <td>N/A</td>\n",
       "      <td>N/A</td>\n",
       "      <td>13.670591</td>\n",
       "      <td>18.912000</td>\n",
       "      <td>-5.241410</td>\n",
       "    </tr>\n",
       "  </tbody>\n",
       "</table>\n",
       "</div>"
      ],
      "text/plain": [
       "  facility_group  Fold  Train_shape    Val_shape      Train_years Val_years  \\\n",
       "0    multifamily     1  (39323, 65)    (107, 65)  [2, 3, 4, 5, 6]       [1]   \n",
       "1    multifamily     2  (33058, 65)   (6372, 65)  [1, 3, 4, 5, 6]       [2]   \n",
       "2    multifamily     3  (32774, 65)   (6656, 65)  [1, 2, 4, 5, 6]       [3]   \n",
       "3    multifamily     4  (31930, 65)   (7500, 65)  [1, 2, 3, 5, 6]       [4]   \n",
       "4    multifamily     5  (30871, 65)   (8559, 65)  [1, 2, 3, 4, 6]       [5]   \n",
       "5    multifamily     6  (29194, 65)  (10236, 65)  [1, 2, 3, 4, 5]       [6]   \n",
       "6    multifamily  MEAN          N/A          N/A              N/A       N/A   \n",
       "0    residential     1   (3171, 65)      (4, 65)        [4, 5, 6]       [1]   \n",
       "1    residential     2   (3172, 65)      (3, 65)        [1, 5, 6]       [4]   \n",
       "2    residential     3   (1599, 65)   (1576, 65)        [1, 4, 6]       [5]   \n",
       "3    residential     4   (1583, 65)   (1592, 65)        [1, 4, 5]       [6]   \n",
       "4    residential  MEAN          N/A          N/A              N/A       N/A   \n",
       "0     commercial     1  (16552, 65)    (741, 65)  [2, 3, 4, 5, 6]       [1]   \n",
       "1     commercial     2  (16136, 65)   (1157, 65)  [1, 3, 4, 5, 6]       [2]   \n",
       "2     commercial     3  (15110, 65)   (2183, 65)  [1, 2, 4, 5, 6]       [3]   \n",
       "3     commercial     4  (14671, 65)   (2622, 65)  [1, 2, 3, 5, 6]       [4]   \n",
       "4     commercial     5  (13083, 65)   (4210, 65)  [1, 2, 3, 4, 6]       [5]   \n",
       "5     commercial     6  (10913, 65)   (6380, 65)  [1, 2, 3, 4, 5]       [6]   \n",
       "6     commercial  MEAN          N/A          N/A              N/A       N/A   \n",
       "0         office     1  (12050, 65)   (1096, 65)  [2, 3, 4, 5, 6]       [1]   \n",
       "1         office     2  (11841, 65)   (1305, 65)  [1, 3, 4, 5, 6]       [2]   \n",
       "2         office     3  (11449, 65)   (1697, 65)  [1, 2, 4, 5, 6]       [3]   \n",
       "3         office     4  (10740, 65)   (2406, 65)  [1, 2, 3, 5, 6]       [4]   \n",
       "4         office     5   (9928, 65)   (3218, 65)  [1, 2, 3, 4, 6]       [5]   \n",
       "5         office     6   (9722, 65)   (3424, 65)  [1, 2, 3, 4, 5]       [6]   \n",
       "6         office  MEAN          N/A          N/A              N/A       N/A   \n",
       "0      warehouse     1   (2120, 65)    (155, 65)  [2, 3, 4, 5, 6]       [1]   \n",
       "1      warehouse     2   (2086, 65)    (189, 65)  [1, 3, 4, 5, 6]       [2]   \n",
       "2      warehouse     3   (1975, 65)    (300, 65)  [1, 2, 4, 5, 6]       [3]   \n",
       "3      warehouse     4   (1919, 65)    (356, 65)  [1, 2, 3, 5, 6]       [4]   \n",
       "4      warehouse     5   (1674, 65)    (601, 65)  [1, 2, 3, 4, 6]       [5]   \n",
       "5      warehouse     6   (1601, 65)    (674, 65)  [1, 2, 3, 4, 5]       [6]   \n",
       "6      warehouse  MEAN          N/A          N/A              N/A       N/A   \n",
       "0      religious     1    (388, 65)     (11, 65)  [2, 3, 4, 5, 6]       [1]   \n",
       "1      religious     2    (381, 65)     (18, 65)  [1, 3, 4, 5, 6]       [2]   \n",
       "2      religious     3    (362, 65)     (37, 65)  [1, 2, 4, 5, 6]       [3]   \n",
       "3      religious     4    (344, 65)     (55, 65)  [1, 2, 3, 5, 6]       [4]   \n",
       "4      religious     5    (258, 65)    (141, 65)  [1, 2, 3, 4, 6]       [5]   \n",
       "5      religious     6    (262, 65)    (137, 65)  [1, 2, 3, 4, 5]       [6]   \n",
       "6      religious  MEAN          N/A          N/A              N/A       N/A   \n",
       "\n",
       "   Train_RMSE   Val_RMSE  RMSE_spread  \n",
       "0   31.424101  37.951848    -6.527747  \n",
       "1   35.805168  35.557750     0.247418  \n",
       "2   30.474357  45.537829   -15.063472  \n",
       "3   30.121021  34.351295    -4.230274  \n",
       "4   31.651982  24.252581     7.399401  \n",
       "5   33.959790  24.194163     9.765628  \n",
       "6   32.239403  33.640911    -1.401508  \n",
       "0   10.682125  45.600748   -34.918623  \n",
       "1    8.831916  24.808099   -15.976183  \n",
       "2    8.525895  11.255834    -2.729940  \n",
       "3    8.595381  11.025550    -2.430169  \n",
       "4    9.158829  23.172558   -14.013729  \n",
       "0   55.833116  79.941442   -24.108327  \n",
       "1   55.935538  80.700976   -24.765437  \n",
       "2   56.448891  66.813217   -10.364326  \n",
       "3   57.515376  60.678428    -3.163051  \n",
       "4   57.613451  59.905302    -2.291851  \n",
       "5   69.194450  71.021231    -1.826781  \n",
       "6   58.756804  69.843433   -11.086629  \n",
       "0   27.958941  43.538868   -15.579927  \n",
       "1   26.810483  41.528590   -14.718107  \n",
       "2   25.883925  36.178360   -10.294435  \n",
       "3   31.052040  34.089577    -3.037537  \n",
       "4   28.496836  27.210220     1.286616  \n",
       "5   29.128093  28.637723     0.490370  \n",
       "6   28.221720  35.197223    -6.975503  \n",
       "0   36.329470  20.101172    16.228298  \n",
       "1   22.611686  21.148945     1.462742  \n",
       "2   26.543351  27.518435    -0.975085  \n",
       "3   24.088778  23.928819     0.159959  \n",
       "4   23.163008  38.238912   -15.075904  \n",
       "5   21.806445  32.816349   -11.009904  \n",
       "6   25.757123  27.292106    -1.534983  \n",
       "0   19.719253  26.166658    -6.447405  \n",
       "1   19.537845  18.169034     1.368810  \n",
       "2    8.953043  18.812217    -9.859175  \n",
       "3   12.573734  18.221921    -5.648186  \n",
       "4   11.005571  16.126924    -5.121353  \n",
       "5   10.234099  15.975248    -5.741149  \n",
       "6   13.670591  18.912000    -5.241410  "
      ]
     },
     "execution_count": 51,
     "metadata": {},
     "output_type": "execute_result"
    }
   ],
   "source": [
    "process_cv_results(results)"
   ]
  },
  {
   "cell_type": "code",
   "execution_count": 52,
   "id": "d3ab1351",
   "metadata": {
    "execution": {
     "iopub.execute_input": "2022-02-21T22:58:23.960294Z",
     "iopub.status.busy": "2022-02-21T22:58:23.959294Z",
     "iopub.status.idle": "2022-02-21T22:58:23.962803Z",
     "shell.execute_reply": "2022-02-21T22:58:23.963307Z",
     "shell.execute_reply.started": "2022-02-21T22:56:15.283919Z"
    },
    "papermill": {
     "duration": 0.065326,
     "end_time": "2022-02-21T22:58:23.963480",
     "exception": false,
     "start_time": "2022-02-21T22:58:23.898154",
     "status": "completed"
    },
    "tags": []
   },
   "outputs": [],
   "source": [
    "# lgb.plot_importance(models[\"residential\"][4], figsize=(5, 5), height=0.5, max_num_features=15);"
   ]
  },
  {
   "cell_type": "code",
   "execution_count": 53,
   "id": "ac38d10d",
   "metadata": {
    "execution": {
     "iopub.execute_input": "2022-02-21T22:58:24.090497Z",
     "iopub.status.busy": "2022-02-21T22:58:24.089528Z",
     "iopub.status.idle": "2022-02-21T22:58:24.092764Z",
     "shell.execute_reply": "2022-02-21T22:58:24.093435Z",
     "shell.execute_reply.started": "2022-02-21T22:56:15.289919Z"
    },
    "papermill": {
     "duration": 0.068269,
     "end_time": "2022-02-21T22:58:24.093608",
     "exception": false,
     "start_time": "2022-02-21T22:58:24.025339",
     "status": "completed"
    },
    "tags": []
   },
   "outputs": [],
   "source": [
    "# lgb.plot_importance(models[\"commercial\"][4], figsize=(5, 5), height=0.5, max_num_features=15);"
   ]
  },
  {
   "cell_type": "markdown",
   "id": "0e4ab07f",
   "metadata": {
    "papermill": {
     "duration": 0.057641,
     "end_time": "2022-02-21T22:58:24.209439",
     "exception": false,
     "start_time": "2022-02-21T22:58:24.151798",
     "status": "completed"
    },
    "tags": []
   },
   "source": [
    "## Hyperparameter Tuning"
   ]
  },
  {
   "cell_type": "code",
   "execution_count": 54,
   "id": "860f2fc8",
   "metadata": {
    "execution": {
     "iopub.execute_input": "2022-02-21T22:58:24.332069Z",
     "iopub.status.busy": "2022-02-21T22:58:24.330669Z",
     "iopub.status.idle": "2022-02-21T22:58:24.334092Z",
     "shell.execute_reply": "2022-02-21T22:58:24.334547Z",
     "shell.execute_reply.started": "2022-02-21T22:56:15.303021Z"
    },
    "papermill": {
     "duration": 0.066276,
     "end_time": "2022-02-21T22:58:24.334707",
     "exception": false,
     "start_time": "2022-02-21T22:58:24.268431",
     "status": "completed"
    },
    "tags": []
   },
   "outputs": [],
   "source": [
    "# TODO"
   ]
  },
  {
   "cell_type": "markdown",
   "id": "0da7b522",
   "metadata": {
    "papermill": {
     "duration": 0.057624,
     "end_time": "2022-02-21T22:58:24.450396",
     "exception": false,
     "start_time": "2022-02-21T22:58:24.392772",
     "status": "completed"
    },
    "tags": []
   },
   "source": [
    "## Ensembling"
   ]
  },
  {
   "cell_type": "code",
   "execution_count": 55,
   "id": "d11590ca",
   "metadata": {
    "execution": {
     "iopub.execute_input": "2022-02-21T22:58:24.583325Z",
     "iopub.status.busy": "2022-02-21T22:58:24.582328Z",
     "iopub.status.idle": "2022-02-21T22:58:24.584239Z",
     "shell.execute_reply": "2022-02-21T22:58:24.585175Z",
     "shell.execute_reply.started": "2022-02-21T22:56:15.315062Z"
    },
    "papermill": {
     "duration": 0.075789,
     "end_time": "2022-02-21T22:58:24.585454",
     "exception": false,
     "start_time": "2022-02-21T22:58:24.509665",
     "status": "completed"
    },
    "tags": []
   },
   "outputs": [],
   "source": [
    "# TODO"
   ]
  },
  {
   "cell_type": "markdown",
   "id": "fd78429e",
   "metadata": {
    "papermill": {
     "duration": 0.063671,
     "end_time": "2022-02-21T22:58:24.727381",
     "exception": false,
     "start_time": "2022-02-21T22:58:24.663710",
     "status": "completed"
    },
    "tags": []
   },
   "source": [
    "# Final models and predictions"
   ]
  },
  {
   "cell_type": "code",
   "execution_count": 56,
   "id": "b3ed15f7",
   "metadata": {
    "execution": {
     "iopub.execute_input": "2022-02-21T22:58:24.852181Z",
     "iopub.status.busy": "2022-02-21T22:58:24.847207Z",
     "iopub.status.idle": "2022-02-21T22:58:24.855218Z",
     "shell.execute_reply": "2022-02-21T22:58:24.854674Z",
     "shell.execute_reply.started": "2022-02-21T22:56:15.327530Z"
    },
    "papermill": {
     "duration": 0.069339,
     "end_time": "2022-02-21T22:58:24.855383",
     "exception": false,
     "start_time": "2022-02-21T22:58:24.786044",
     "status": "completed"
    },
    "tags": []
   },
   "outputs": [],
   "source": [
    "# not in utils yet, need to finalize\n",
    "def train_and_predict(model, X_trains, y_trains, X_tests, ct, target):\n",
    "    predictions = pd.DataFrame()\n",
    "    \n",
    "    for (n1, X_train), (n2, y_train), (n3, X_test) in zip(X_trains.items(), y_trains.items(), X_tests.items()):\n",
    "        assert n1 == n2 == n3\n",
    "        \n",
    "        current_model = deepcopy(model)\n",
    "        pipe = make_pipeline(\n",
    "            ct,\n",
    "            current_model\n",
    "        )\n",
    "        \n",
    "        pipe.fit(X_train, y_train)\n",
    "        \n",
    "        pred = {\n",
    "            \"id\": X_test[\"id\"],\n",
    "            target: pipe.predict(X_test)\n",
    "        }\n",
    "        \n",
    "        predictions = pd.concat([predictions, pd.DataFrame(pred)])\n",
    "    \n",
    "    predictions = predictions.sort_values(\"id\")\n",
    "\n",
    "    return predictions"
   ]
  },
  {
   "cell_type": "code",
   "execution_count": 57,
   "id": "0ac3ff91",
   "metadata": {
    "execution": {
     "iopub.execute_input": "2022-02-21T22:58:24.979028Z",
     "iopub.status.busy": "2022-02-21T22:58:24.978351Z",
     "iopub.status.idle": "2022-02-21T22:58:24.980131Z",
     "shell.execute_reply": "2022-02-21T22:58:24.980631Z",
     "shell.execute_reply.started": "2022-02-21T22:56:15.338806Z"
    },
    "papermill": {
     "duration": 0.0657,
     "end_time": "2022-02-21T22:58:24.980804",
     "exception": false,
     "start_time": "2022-02-21T22:58:24.915104",
     "status": "completed"
    },
    "tags": []
   },
   "outputs": [],
   "source": [
    "regressor = lgb.LGBMRegressor(force_row_wise=True, random_state=SEED)"
   ]
  },
  {
   "cell_type": "code",
   "execution_count": 58,
   "id": "27453798",
   "metadata": {
    "execution": {
     "iopub.execute_input": "2022-02-21T22:58:25.106027Z",
     "iopub.status.busy": "2022-02-21T22:58:25.105332Z",
     "iopub.status.idle": "2022-02-21T22:58:26.120020Z",
     "shell.execute_reply": "2022-02-21T22:58:26.120573Z",
     "shell.execute_reply.started": "2022-02-21T22:56:15.351885Z"
    },
    "papermill": {
     "duration": 1.080589,
     "end_time": "2022-02-21T22:58:26.120777",
     "exception": false,
     "start_time": "2022-02-21T22:58:25.040188",
     "status": "completed"
    },
    "tags": []
   },
   "outputs": [],
   "source": [
    "predictions = train_and_predict(regressor, X_trains, y_trains, X_tests, ct, TARGET)"
   ]
  },
  {
   "cell_type": "code",
   "execution_count": 59,
   "id": "243a72a8",
   "metadata": {
    "execution": {
     "iopub.execute_input": "2022-02-21T22:58:26.241394Z",
     "iopub.status.busy": "2022-02-21T22:58:26.240447Z",
     "iopub.status.idle": "2022-02-21T22:58:26.252054Z",
     "shell.execute_reply": "2022-02-21T22:58:26.252566Z",
     "shell.execute_reply.started": "2022-02-21T22:56:16.657142Z"
    },
    "papermill": {
     "duration": 0.073137,
     "end_time": "2022-02-21T22:58:26.252743",
     "exception": false,
     "start_time": "2022-02-21T22:58:26.179606",
     "status": "completed"
    },
    "tags": []
   },
   "outputs": [
    {
     "data": {
      "text/html": [
       "<div>\n",
       "<style scoped>\n",
       "    .dataframe tbody tr th:only-of-type {\n",
       "        vertical-align: middle;\n",
       "    }\n",
       "\n",
       "    .dataframe tbody tr th {\n",
       "        vertical-align: top;\n",
       "    }\n",
       "\n",
       "    .dataframe thead th {\n",
       "        text-align: right;\n",
       "    }\n",
       "</style>\n",
       "<table border=\"1\" class=\"dataframe\">\n",
       "  <thead>\n",
       "    <tr style=\"text-align: right;\">\n",
       "      <th></th>\n",
       "      <th>id</th>\n",
       "      <th>site_eui</th>\n",
       "    </tr>\n",
       "  </thead>\n",
       "  <tbody>\n",
       "    <tr>\n",
       "      <th>0</th>\n",
       "      <td>75757</td>\n",
       "      <td>284.125098</td>\n",
       "    </tr>\n",
       "    <tr>\n",
       "      <th>1</th>\n",
       "      <td>75758</td>\n",
       "      <td>187.154669</td>\n",
       "    </tr>\n",
       "    <tr>\n",
       "      <th>2</th>\n",
       "      <td>75759</td>\n",
       "      <td>295.982897</td>\n",
       "    </tr>\n",
       "    <tr>\n",
       "      <th>3</th>\n",
       "      <td>75760</td>\n",
       "      <td>254.683784</td>\n",
       "    </tr>\n",
       "    <tr>\n",
       "      <th>4</th>\n",
       "      <td>75761</td>\n",
       "      <td>246.200836</td>\n",
       "    </tr>\n",
       "    <tr>\n",
       "      <th>...</th>\n",
       "      <td>...</td>\n",
       "      <td>...</td>\n",
       "    </tr>\n",
       "    <tr>\n",
       "      <th>1651</th>\n",
       "      <td>85457</td>\n",
       "      <td>22.408582</td>\n",
       "    </tr>\n",
       "    <tr>\n",
       "      <th>1652</th>\n",
       "      <td>85458</td>\n",
       "      <td>39.757609</td>\n",
       "    </tr>\n",
       "    <tr>\n",
       "      <th>1653</th>\n",
       "      <td>85459</td>\n",
       "      <td>36.713604</td>\n",
       "    </tr>\n",
       "    <tr>\n",
       "      <th>1654</th>\n",
       "      <td>85460</td>\n",
       "      <td>29.567329</td>\n",
       "    </tr>\n",
       "    <tr>\n",
       "      <th>1655</th>\n",
       "      <td>85461</td>\n",
       "      <td>30.011710</td>\n",
       "    </tr>\n",
       "  </tbody>\n",
       "</table>\n",
       "<p>9705 rows × 2 columns</p>\n",
       "</div>"
      ],
      "text/plain": [
       "         id    site_eui\n",
       "0     75757  284.125098\n",
       "1     75758  187.154669\n",
       "2     75759  295.982897\n",
       "3     75760  254.683784\n",
       "4     75761  246.200836\n",
       "...     ...         ...\n",
       "1651  85457   22.408582\n",
       "1652  85458   39.757609\n",
       "1653  85459   36.713604\n",
       "1654  85460   29.567329\n",
       "1655  85461   30.011710\n",
       "\n",
       "[9705 rows x 2 columns]"
      ]
     },
     "execution_count": 59,
     "metadata": {},
     "output_type": "execute_result"
    }
   ],
   "source": [
    "predictions"
   ]
  },
  {
   "cell_type": "code",
   "execution_count": 60,
   "id": "bade1e31",
   "metadata": {
    "execution": {
     "iopub.execute_input": "2022-02-21T22:58:26.373750Z",
     "iopub.status.busy": "2022-02-21T22:58:26.372807Z",
     "iopub.status.idle": "2022-02-21T22:58:26.378084Z",
     "shell.execute_reply": "2022-02-21T22:58:26.378586Z",
     "shell.execute_reply.started": "2022-02-21T22:56:16.675756Z"
    },
    "papermill": {
     "duration": 0.067015,
     "end_time": "2022-02-21T22:58:26.378758",
     "exception": false,
     "start_time": "2022-02-21T22:58:26.311743",
     "status": "completed"
    },
    "tags": []
   },
   "outputs": [],
   "source": [
    "assert sum(predictions.isna().sum()) == 0"
   ]
  },
  {
   "cell_type": "code",
   "execution_count": 61,
   "id": "d8f91337",
   "metadata": {
    "execution": {
     "iopub.execute_input": "2022-02-21T22:58:26.501125Z",
     "iopub.status.busy": "2022-02-21T22:58:26.500117Z",
     "iopub.status.idle": "2022-02-21T22:58:26.528984Z",
     "shell.execute_reply": "2022-02-21T22:58:26.529503Z",
     "shell.execute_reply.started": "2022-02-21T22:56:16.685277Z"
    },
    "papermill": {
     "duration": 0.092527,
     "end_time": "2022-02-21T22:58:26.529683",
     "exception": false,
     "start_time": "2022-02-21T22:58:26.437156",
     "status": "completed"
    },
    "tags": []
   },
   "outputs": [],
   "source": [
    "predictions.to_csv(\"submission.csv\", index=False)"
   ]
  }
 ],
 "metadata": {
  "kernelspec": {
   "display_name": "Python 3",
   "language": "python",
   "name": "python3"
  },
  "language_info": {
   "codemirror_mode": {
    "name": "ipython",
    "version": 3
   },
   "file_extension": ".py",
   "mimetype": "text/x-python",
   "name": "python",
   "nbconvert_exporter": "python",
   "pygments_lexer": "ipython3",
   "version": "3.7.12"
  },
  "papermill": {
   "default_parameters": {},
   "duration": 35.68583,
   "end_time": "2022-02-21T22:58:27.500410",
   "environment_variables": {},
   "exception": null,
   "input_path": "__notebook__.ipynb",
   "output_path": "__notebook__.ipynb",
   "parameters": {},
   "start_time": "2022-02-21T22:57:51.814580",
   "version": "2.3.3"
  }
 },
 "nbformat": 4,
 "nbformat_minor": 5
}
