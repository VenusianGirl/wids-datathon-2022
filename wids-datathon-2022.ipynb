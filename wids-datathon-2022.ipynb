{
 "cells": [
  {
   "cell_type": "markdown",
   "id": "ec52d7b5",
   "metadata": {
    "papermill": {
     "duration": 0.038796,
     "end_time": "2022-03-05T01:40:38.073798",
     "exception": false,
     "start_time": "2022-03-05T01:40:38.035002",
     "status": "completed"
    },
    "tags": []
   },
   "source": [
    "# Women in Data Science 2022 - Final Solution"
   ]
  },
  {
   "cell_type": "markdown",
   "id": "70744815",
   "metadata": {
    "papermill": {
     "duration": 0.035439,
     "end_time": "2022-03-05T01:40:38.146449",
     "exception": false,
     "start_time": "2022-03-05T01:40:38.111010",
     "status": "completed"
    },
    "tags": []
   },
   "source": [
    "# Section 1: Notebook set up"
   ]
  },
  {
   "cell_type": "markdown",
   "id": "3fd222b9",
   "metadata": {
    "_cell_guid": "b1076dfc-b9ad-4769-8c92-a6c4dae69d19",
    "_uuid": "8f2839f25d086af736a60e9eeb907d3b93b6e0e5",
    "papermill": {
     "duration": 0.034731,
     "end_time": "2022-03-05T01:40:38.218976",
     "exception": false,
     "start_time": "2022-03-05T01:40:38.184245",
     "status": "completed"
    },
    "tags": []
   },
   "source": [
    "## Imports"
   ]
  },
  {
   "cell_type": "code",
   "execution_count": 1,
   "id": "f487f6d6",
   "metadata": {
    "execution": {
     "iopub.execute_input": "2022-03-05T01:40:38.302068Z",
     "iopub.status.busy": "2022-03-05T01:40:38.292855Z",
     "iopub.status.idle": "2022-03-05T01:40:41.875868Z",
     "shell.execute_reply": "2022-03-05T01:40:41.874907Z",
     "shell.execute_reply.started": "2022-03-05T01:38:31.855704Z"
    },
    "papermill": {
     "duration": 3.622062,
     "end_time": "2022-03-05T01:40:41.876024",
     "exception": false,
     "start_time": "2022-03-05T01:40:38.253962",
     "status": "completed"
    },
    "tags": []
   },
   "outputs": [
    {
     "data": {
      "text/html": [
       "<style type='text/css'>\n",
       ".datatable table.frame { margin-bottom: 0; }\n",
       ".datatable table.frame thead { border-bottom: none; }\n",
       ".datatable table.frame tr.coltypes td {  color: #FFFFFF;  line-height: 6px;  padding: 0 0.5em;}\n",
       ".datatable .bool    { background: #DDDD99; }\n",
       ".datatable .object  { background: #565656; }\n",
       ".datatable .int     { background: #5D9E5D; }\n",
       ".datatable .float   { background: #4040CC; }\n",
       ".datatable .str     { background: #CC4040; }\n",
       ".datatable .time    { background: #40CC40; }\n",
       ".datatable .row_index {  background: var(--jp-border-color3);  border-right: 1px solid var(--jp-border-color0);  color: var(--jp-ui-font-color3);  font-size: 9px;}\n",
       ".datatable .frame tbody td { text-align: left; }\n",
       ".datatable .frame tr.coltypes .row_index {  background: var(--jp-border-color0);}\n",
       ".datatable th:nth-child(2) { padding-left: 12px; }\n",
       ".datatable .hellipsis {  color: var(--jp-cell-editor-border-color);}\n",
       ".datatable .vellipsis {  background: var(--jp-layout-color0);  color: var(--jp-cell-editor-border-color);}\n",
       ".datatable .na {  color: var(--jp-cell-editor-border-color);  font-size: 80%;}\n",
       ".datatable .sp {  opacity: 0.25;}\n",
       ".datatable .footer { font-size: 9px; }\n",
       ".datatable .frame_dimensions {  background: var(--jp-border-color3);  border-top: 1px solid var(--jp-border-color0);  color: var(--jp-ui-font-color3);  display: inline-block;  opacity: 0.6;  padding: 1px 10px 1px 5px;}\n",
       "</style>\n"
      ],
      "text/plain": [
       "<IPython.core.display.HTML object>"
      ]
     },
     "metadata": {},
     "output_type": "display_data"
    }
   ],
   "source": [
    "import random, os\n",
    "\n",
    "import numpy as np\n",
    "import pandas as pd\n",
    "import seaborn as sns\n",
    "import matplotlib.pyplot as plt\n",
    "import xgboost as xgb\n",
    "import lightgbm as lgb\n",
    "import catboost as cb\n",
    "\n",
    "from copy import deepcopy\n",
    "from collections import defaultdict\n",
    "\n",
    "from sklearn.cluster import KMeans\n",
    "from sklearn.pipeline import make_pipeline\n",
    "from sklearn.ensemble import VotingRegressor\n",
    "from sklearn.metrics import mean_squared_error\n",
    "from sklearn.linear_model import BayesianRidge, Ridge, RidgeCV\n",
    "from sklearn.experimental import enable_iterative_imputer\n",
    "from sklearn.impute import SimpleImputer, IterativeImputer\n",
    "from sklearn.compose import make_column_transformer, TransformedTargetRegressor\n",
    "from sklearn.model_selection import (\n",
    "    RandomizedSearchCV,\n",
    "    train_test_split,\n",
    "    cross_validate,\n",
    "    cross_val_score,\n",
    "    LeaveOneGroupOut,\n",
    ")\n",
    "from sklearn.preprocessing import (\n",
    "    OneHotEncoder,\n",
    "    OrdinalEncoder,\n",
    "    PowerTransformer,\n",
    "    StandardScaler,\n",
    ")\n",
    "\n",
    "from scipy import stats"
   ]
  },
  {
   "cell_type": "markdown",
   "id": "8b91c018",
   "metadata": {
    "papermill": {
     "duration": 0.037114,
     "end_time": "2022-03-05T01:40:41.950024",
     "exception": false,
     "start_time": "2022-03-05T01:40:41.912910",
     "status": "completed"
    },
    "tags": []
   },
   "source": [
    "## Global notebook setup"
   ]
  },
  {
   "cell_type": "markdown",
   "id": "e3e47dae",
   "metadata": {
    "papermill": {
     "duration": 0.036052,
     "end_time": "2022-03-05T01:40:42.023299",
     "exception": false,
     "start_time": "2022-03-05T01:40:41.987247",
     "status": "completed"
    },
    "tags": []
   },
   "source": [
    "### Global variables"
   ]
  },
  {
   "cell_type": "code",
   "execution_count": 2,
   "id": "0fca7d0d",
   "metadata": {
    "execution": {
     "iopub.execute_input": "2022-03-05T01:40:42.100957Z",
     "iopub.status.busy": "2022-03-05T01:40:42.099944Z",
     "iopub.status.idle": "2022-03-05T01:40:42.101644Z",
     "shell.execute_reply": "2022-03-05T01:40:42.102085Z",
     "shell.execute_reply.started": "2022-03-05T01:38:31.869108Z"
    },
    "papermill": {
     "duration": 0.043069,
     "end_time": "2022-03-05T01:40:42.102227",
     "exception": false,
     "start_time": "2022-03-05T01:40:42.059158",
     "status": "completed"
    },
    "scrolled": true,
    "tags": []
   },
   "outputs": [],
   "source": [
    "TRAIN_PATH = \"../input/widsdatathon2022/train.csv\"\n",
    "TEST_PATH = \"../input/widsdatathon2022/test.csv\"\n",
    "SUBMISSION_PATH = \"../output/\"\n",
    "TARGET = \"site_eui\"\n",
    "SCORE = \"neg_root_mean_squared_error\"\n",
    "SEED = 777"
   ]
  },
  {
   "cell_type": "markdown",
   "id": "eef2cfad",
   "metadata": {
    "papermill": {
     "duration": 0.036402,
     "end_time": "2022-03-05T01:40:42.174567",
     "exception": false,
     "start_time": "2022-03-05T01:40:42.138165",
     "status": "completed"
    },
    "tags": []
   },
   "source": [
    "### Display options"
   ]
  },
  {
   "cell_type": "code",
   "execution_count": 3,
   "id": "1b450fb3",
   "metadata": {
    "execution": {
     "iopub.execute_input": "2022-03-05T01:40:42.253051Z",
     "iopub.status.busy": "2022-03-05T01:40:42.251270Z",
     "iopub.status.idle": "2022-03-05T01:40:42.253758Z",
     "shell.execute_reply": "2022-03-05T01:40:42.254181Z",
     "shell.execute_reply.started": "2022-03-05T01:38:31.878217Z"
    },
    "papermill": {
     "duration": 0.043672,
     "end_time": "2022-03-05T01:40:42.254323",
     "exception": false,
     "start_time": "2022-03-05T01:40:42.210651",
     "status": "completed"
    },
    "tags": []
   },
   "outputs": [],
   "source": [
    "pd.options.display.max_rows = 500"
   ]
  },
  {
   "cell_type": "markdown",
   "id": "4785a927",
   "metadata": {
    "papermill": {
     "duration": 0.035641,
     "end_time": "2022-03-05T01:40:42.326087",
     "exception": false,
     "start_time": "2022-03-05T01:40:42.290446",
     "status": "completed"
    },
    "tags": []
   },
   "source": [
    "# Section 2: Helper functions"
   ]
  },
  {
   "cell_type": "code",
   "execution_count": 4,
   "id": "5f3221cd",
   "metadata": {
    "_kg_hide-input": true,
    "execution": {
     "iopub.execute_input": "2022-03-05T01:40:42.477747Z",
     "iopub.status.busy": "2022-03-05T01:40:42.437462Z",
     "iopub.status.idle": "2022-03-05T01:40:42.485523Z",
     "shell.execute_reply": "2022-03-05T01:40:42.485081Z",
     "shell.execute_reply.started": "2022-03-05T01:38:31.889024Z"
    },
    "papermill": {
     "duration": 0.121889,
     "end_time": "2022-03-05T01:40:42.485663",
     "exception": false,
     "start_time": "2022-03-05T01:40:42.363774",
     "status": "completed"
    },
    "tags": []
   },
   "outputs": [],
   "source": [
    "def read_data(train_path, test_path):\n",
    "    \"\"\"Read in train and test data for a kaggle competition.\n",
    "\n",
    "    Parameters\n",
    "    ----------\n",
    "    train_path : str\n",
    "        The path to the training data.\n",
    "    test_path : str\n",
    "        The path to the test data\n",
    "\n",
    "    Returns\n",
    "    -------\n",
    "    train_df, test_df : pandas DataFrames\n",
    "        The train and test datasets.\n",
    "    \"\"\"\n",
    "    train_df = pd.read_csv(train_path)\n",
    "    test_df = pd.read_csv(test_path)\n",
    "    return train_df, test_df\n",
    "\n",
    "\n",
    "def get_duplicates(df, drop_cols=None):\n",
    "    \"\"\"Determine and return the duplicated values in a dataframe.\n",
    "\n",
    "    Parameters\n",
    "    ----------\n",
    "    df : pandas DataFrame\n",
    "        The dataframe to check\n",
    "    drop_cols : str or list of str, optional\n",
    "        The columns to drop before returning duplicates.\n",
    "\n",
    "    Returns\n",
    "    -------\n",
    "    pandas DataFrame\n",
    "        A dataframe containing the rows with duplicated values.\n",
    "    \"\"\"\n",
    "    if drop_cols is not None:\n",
    "        return df[df.drop(columns=drop_cols).duplicated()]\n",
    "    else:\n",
    "        return df[df.duplicated()]\n",
    "    \n",
    "\n",
    "def remove_duplicates(df, drop_cols=None):\n",
    "    \"\"\"Removes the duplicated values in a dataframe.\n",
    "\n",
    "    Parameters\n",
    "    ----------\n",
    "    df : pandas DataFrame\n",
    "        The dataframe to check\n",
    "    drop_cols : str or list of str, optional\n",
    "        The columns to drop before removing duplicates.\n",
    "    Returns\n",
    "    -------\n",
    "    pandas DataFrame\n",
    "        A dataframe without duplicated.\n",
    "    \"\"\"\n",
    "    df_clean = df.copy()\n",
    "\n",
    "    if drop_cols is not None:\n",
    "        df_clean = df_clean[~df_clean.drop(columns=drop_cols).duplicated()]\n",
    "    else:\n",
    "        df_clean = df_clean[~df_clean.duplicated()]\n",
    "    \n",
    "    return df_clean.reset_index(drop=True)\n",
    "\n",
    "\n",
    "def split_building_data(df, groups):\n",
    "    \"\"\"Splits the WiDS 2022 dataset based on groups of facility types.\n",
    "\n",
    "    Parameters\n",
    "    ----------\n",
    "    df : pandas DataFrame\n",
    "        The WiDS train or test dataset.\n",
    "    groups : dict (key: str, value: set)\n",
    "        The dictionary of facility types.  The key should be the desired group name.\n",
    "        The value should be a set containing the facility types in a given group.\n",
    "\n",
    "    Returns\n",
    "    -------\n",
    "    dfs : dict\n",
    "        A dictionary of pandas DataFrames, one for each group.\n",
    "    \"\"\"\n",
    "    dfs = {}\n",
    "\n",
    "    for name, group in groups.items():\n",
    "        group_df = df.query(\"facility_type in @group\")\n",
    "        dfs[name] = group_df.reset_index(drop=True)\n",
    "\n",
    "    return dfs\n",
    "\n",
    "\n",
    "def get_manual_facility_groups():\n",
    "    \"\"\"Returns the manual facility groups used in my final WiDS solution.\n",
    "\n",
    "    Returns\n",
    "    -------\n",
    "    The dictionary of facility types.\n",
    "        The key is group name (first word in facility type).\n",
    "        The value is a set containing the facility types in a given group.\n",
    "    \"\"\"\n",
    "\n",
    "    facility_groups = {\n",
    "        \"2to4_5plus_Mixed\": {\n",
    "            \"2to4_Unit_Building\",\n",
    "            \"5plus_Unit_Building\",\n",
    "            \"Mixed_Use_Predominantly_Residential\",\n",
    "        },\n",
    "        \"Commercial_Education_Mixed_Industrial_Parking\": {\n",
    "            \"Education_College_or_university\",\n",
    "            \"Education_Other_classroom\",\n",
    "            \"Education_Preschool_or_daycare\",\n",
    "            \"Education_Uncategorized\",\n",
    "            \"Commercial_Other\",\n",
    "            \"Commercial_Unknown\",\n",
    "            \"Mixed_Use_Commercial_and_Residential\",\n",
    "            \"Mixed_Use_Predominantly_Commercial\",\n",
    "            \"Industrial\",\n",
    "            \"Parking_Garage\",\n",
    "        },\n",
    "        \"Food_Grocery\": {\n",
    "            \"Food_Sales\",\n",
    "            \"Food_Service_Other\",\n",
    "            \"Food_Service_Restaurant_or_cafeteria\",\n",
    "            \"Food_Service_Uncategorized\",\n",
    "            \"Grocery_store_or_food_market\",\n",
    "        },\n",
    "        \"Health\": {\n",
    "            \"Health_Care_Inpatient\",\n",
    "            \"Health_Care_Outpatient_Clinic\",\n",
    "            \"Health_Care_Outpatient_Uncategorized\",\n",
    "            \"Health_Care_Uncategorized\",\n",
    "        },\n",
    "        \"Laboratory_Data\": {\"Laboratory\", \"Data_Center\"},\n",
    "        \"Lodging\": {\n",
    "            \"Lodging_Dormitory_or_fraternity_sorority\",\n",
    "            \"Lodging_Hotel\",\n",
    "            \"Lodging_Other\",\n",
    "            \"Lodging_Uncategorized\",\n",
    "        },\n",
    "        \"Multifamily\": {\"Multifamily_Uncategorized\"},\n",
    "        \"Office_Nursing\": {\n",
    "            \"Office_Bank_or_other_financial\",\n",
    "            \"Office_Medical_non_diagnostic\",\n",
    "            \"Office_Mixed_use\",\n",
    "            \"Office_Uncategorized\",\n",
    "            \"Nursing_Home\",\n",
    "        },\n",
    "        \"Public\": {\n",
    "            \"Public_Assembly_Drama_theater\",\n",
    "            \"Public_Assembly_Entertainment_culture\",\n",
    "            \"Public_Assembly_Library\",\n",
    "            \"Public_Assembly_Movie_Theater\",\n",
    "            \"Public_Assembly_Other\",\n",
    "            \"Public_Assembly_Recreation\",\n",
    "            \"Public_Assembly_Social_meeting\",\n",
    "            \"Public_Assembly_Stadium\",\n",
    "            \"Public_Assembly_Uncategorized\",\n",
    "            \"Public_Safety_Courthouse\",\n",
    "            \"Public_Safety_Fire_or_police_station\",\n",
    "            \"Public_Safety_Penitentiary\",\n",
    "            \"Public_Safety_Uncategorized\",\n",
    "        },\n",
    "        \"Religious\": {\"Religious_worship\"},\n",
    "        \"Retail\": {\n",
    "            \"Retail_Enclosed_mall\",\n",
    "            \"Retail_Strip_shopping_mall\",\n",
    "            \"Retail_Uncategorized\",\n",
    "            \"Retail_Vehicle_dealership_showroom\",\n",
    "        },\n",
    "        \"Warehouse_Service\": {\n",
    "            \"Warehouse_Distribution_or_Shipping_center\",\n",
    "            \"Warehouse_Nonrefrigerated\",\n",
    "            \"Warehouse_Refrigerated\",\n",
    "            \"Warehouse_Selfstorage\",\n",
    "            \"Warehouse_Uncategorized\",\n",
    "            \"Service_Drycleaning_or_Laundry\",\n",
    "            \"Service_Uncategorized\",\n",
    "            \"Service_Vehicle_service_repair_shop\",\n",
    "        },\n",
    "    }\n",
    "\n",
    "    return facility_groups\n",
    "\n",
    "\n",
    "def count_missing(df):\n",
    "    \"\"\"Counts the missing data in a dataframe.\n",
    "\n",
    "    Parameters\n",
    "    ----------\n",
    "    df : pandas DataFrame\n",
    "        The dataframe to count the missing data in.\n",
    "\n",
    "    Returns\n",
    "    -------\n",
    "    pandas DataFrame\n",
    "        A summary of missing data (counts and %)\n",
    "    \"\"\"\n",
    "    missing_df = pd.DataFrame(\n",
    "        df.isna().sum().sort_values(ascending=False), columns=[\"count\"]\n",
    "    )\n",
    "    missing_df[\"percent\"] = missing_df[\"count\"] / df.shape[0]\n",
    "    return missing_df.query(\"count != 0\")\n",
    "\n",
    "\n",
    "def iterative_impute(train_df, test_df, model, ct, target, feat_names, seed):\n",
    "    \"\"\"Imputes missing data into train and test datasets with a ML model of choice.\n",
    "\n",
    "    Parameters\n",
    "    ----------\n",
    "    train_df : pandas DataFrame\n",
    "        The training dataset\n",
    "    test_df : pandas DataFrame\n",
    "        The test dataset\n",
    "    model : sklearn estimator\n",
    "        The machine learning model to use for imputation\n",
    "    ct : sklearn ColumnTransformer\n",
    "        The column transformer to perform on the dataset\n",
    "    target : str\n",
    "        The target variable (removed before imputation)\n",
    "    feat_names : list\n",
    "        Names of features to append to OHE features from column transformer.\n",
    "    seed : int\n",
    "        The random seed for imputation.\n",
    "\n",
    "    Returns\n",
    "    -------\n",
    "    train_imp, test_imp\n",
    "        Train and test datasets with imputed values.\n",
    "    \"\"\"\n",
    "    train_imp = ct.fit_transform(train_df.drop(columns=[target]))\n",
    "    test_imp = ct.transform(test_df)\n",
    "\n",
    "    imputer = IterativeImputer(estimator=model, random_state=seed)\n",
    "\n",
    "    cols = (\n",
    "        ct.named_transformers_[\"onehotencoder\"].get_feature_names().tolist()\n",
    "        + feat_names\n",
    "    )\n",
    "\n",
    "    train_imp = pd.DataFrame(imputer.fit_transform(train_imp), columns=cols)\n",
    "    test_imp = pd.DataFrame(imputer.transform(test_imp), columns=cols)\n",
    "\n",
    "    return train_imp, test_imp\n",
    "\n",
    "\n",
    "def replace_columns(df, df_imp, columns):\n",
    "    \"\"\"Replace columns in a dataframe with columns from another.\n",
    "\n",
    "    Note: Meant for use with imputed datasets for WiDS 2022.\n",
    "\n",
    "    Parameters\n",
    "    ----------\n",
    "    df : pandas DataFrame\n",
    "        The original dataframe.\n",
    "    df_imp : pandas DataFrame\n",
    "        The imputed dataframe.\n",
    "    columns : str or list of str\n",
    "        The columns to replace between dataframes.\n",
    "\n",
    "    Returns\n",
    "    -------\n",
    "    df_replaced : pandas DataFrame\n",
    "        Dataframe with replaced columns.\n",
    "        \n",
    "    \"\"\"\n",
    "    df_replaced = df.copy()\n",
    "\n",
    "    for col in columns:\n",
    "        df_replaced[col] = df_imp[col]\n",
    "\n",
    "    return df_replaced\n",
    "\n",
    "\n",
    "def impute_and_replace(\n",
    "    train_dfs, test_dfs, model, ct, target, feat_names, replace, seed\n",
    "):\n",
    "    \"\"\"Iteratively impute multiple dataframes.\n",
    "\n",
    "    Note: Meant for use solely with WiDS 2022 data.  This simple calls\n",
    "    the `iterative_impute` and `replace_column` functions for each\n",
    "    individual dataset in my final WiDS solution.  \n",
    "    \"\"\"\n",
    "    train_dfs_imp = {}\n",
    "    test_dfs_imp = {}\n",
    "\n",
    "    # iterative imputation\n",
    "    for (name1, train_df), (name2, test_df) in zip(train_dfs.items(), test_dfs.items()):\n",
    "        train_imp, test_imp = iterative_impute(\n",
    "            train_df, test_df, model, ct, target, feat_names, seed\n",
    "        )\n",
    "        train_dfs_imp[name1] = train_imp\n",
    "        test_dfs_imp[name1] = test_imp\n",
    "\n",
    "    # replace train columns with missing values\n",
    "    for (name1, df), (name2, imp_df) in zip(train_dfs.items(), train_dfs_imp.items()):\n",
    "        train_dfs[name1] = replace_columns(df, imp_df, replace)\n",
    "\n",
    "    # replace test columns with missing values\n",
    "    for (name1, df), (name2, imp_df) in zip(test_dfs.items(), test_dfs_imp.items()):\n",
    "        test_dfs[name1] = replace_columns(df, imp_df, replace)\n",
    "\n",
    "    return train_dfs, test_dfs\n",
    "\n",
    "\n",
    "def has_feature(df, feat):\n",
    "    \"\"\"Adds a boolean feature if a feature exists or now\"\"\"\n",
    "    return df[feat].notna().astype(int)\n",
    "\n",
    "\n",
    "def group_by_feature(train_df, test_df, group, agg_feat, transform, name):\n",
    "    \"\"\"Adds a new aggregated feature based on a categorical variable\"\"\"\n",
    "    train_df_new = train_df.copy()\n",
    "    test_df_new = test_df.copy()\n",
    "    \n",
    "    fill_values = train_df_new.groupby(group).aggregate(transform)[agg_feat].to_dict()\n",
    "    \n",
    "    train_df_new[name] = train_df_new[group].map(fill_values)\n",
    "    test_df_new[name] = test_df_new[group].map(fill_values)\n",
    "    \n",
    "    return train_df_new, test_df_new\n",
    "\n",
    "\n",
    "def bin_days_below_above(df):\n",
    "    \"\"\"Bins the days below and above features into 4 bins\"\"\"\n",
    "    df_eng = df.copy()\n",
    "    \n",
    "    df_eng[\"freezing_days\"] = df_eng['days_below_0F'] + df_eng['days_below_10F']\n",
    "    df_eng[\"cold_days\"] = df_eng['days_below_20F'] + df_eng['days_below_30F']\n",
    "    df_eng[\"warm_days\"] = df_eng['days_above_80F'] + df_eng['days_above_90F']\n",
    "    df_eng[\"hot_days\"] = df_eng['days_above_100F'] + df_eng['days_above_110F']\n",
    "    \n",
    "    return df_eng\n",
    "\n",
    "\n",
    "def seasonal_temps(df, stat):\n",
    "    \"\"\"Add seasonal temps for a given stat (e.g. \"avg_temp\")\"\"\"\n",
    "    df_eng = df.copy()\n",
    "\n",
    "    df_eng[f\"winter_{stat}\"] = (\n",
    "        df_eng[f\"december_{stat}\"]\n",
    "        + df_eng[f\"january_{stat}\"]\n",
    "        + df_eng[f\"february_{stat}\"]\n",
    "    ) / 3\n",
    "\n",
    "    df_eng[f\"spring_{stat}\"] = (\n",
    "        df_eng[f\"march_{stat}\"] + df_eng[f\"april_{stat}\"] + df_eng[f\"june_{stat}\"]\n",
    "    ) / 3\n",
    "\n",
    "    df_eng[f\"summer_{stat}\"] = (\n",
    "        df_eng[f\"june_{stat}\"] + df_eng[f\"july_{stat}\"] + df_eng[f\"august_{stat}\"]\n",
    "    ) / 3\n",
    "    \n",
    "    df_eng[f\"autumn_{stat}\"] = (\n",
    "        df_eng[f\"september_{stat}\"]\n",
    "        + df_eng[f\"october_{stat}\"]\n",
    "        + df_eng[f\"november_{stat}\"]\n",
    "    ) / 3\n",
    "\n",
    "    return df_eng\n",
    "\n",
    "\n",
    "def feature_engineer(train_df, test_df):\n",
    "    \"\"\"Feature engineering function for the WiDS 2022 kaggle competition.\n",
    "\n",
    "    Note: The feature engineering here was done in a \"quick and dirty\" method\n",
    "    in pandas, as speed is key in Kaggle competitions.  In real life ML, I would\n",
    "    not do it this way, but rather, with custom sklearn Transformers, which is\n",
    "    much cleaner.\n",
    "    \"\"\"\n",
    "    train_df_eng = train_df.copy()\n",
    "    test_df_eng = test_df.copy()\n",
    "\n",
    "    # whether or not a building has a fog detector\n",
    "    train_df_eng[\"has_fog_detector\"] = has_feature(train_df_eng, \"days_with_fog\")\n",
    "    test_df_eng[\"has_fog_detector\"] = has_feature(test_df_eng, \"days_with_fog\")\n",
    "\n",
    "    # whether or not a building has a wind detector\n",
    "    train_df_eng[\"has_wind_detector\"] = has_feature(train_df_eng, \"max_wind_speed\")\n",
    "    test_df_eng[\"has_wind_detector\"] = has_feature(test_df_eng, \"max_wind_speed\")\n",
    "\n",
    "    # bin days above/below temperature\n",
    "    train_df_eng = bin_days_below_above(train_df_eng)\n",
    "    test_df_eng = bin_days_below_above(test_df_eng)\n",
    "\n",
    "    # seasonal avg temps\n",
    "    train_df_eng = seasonal_temps(train_df_eng, \"avg_temp\")\n",
    "    test_df_eng = seasonal_temps(test_df_eng, \"avg_temp\")\n",
    "\n",
    "    # aggregate features\n",
    "    agg_feats = [\"energy_star_rating\", \"floor_area\", \"ELEVATION\"]\n",
    "\n",
    "    for agg_feat in agg_feats:\n",
    "        name = \"mean_\" + agg_feat\n",
    "        train_df_eng, test_df_eng = group_by_feature(\n",
    "            train_df_eng, test_df_eng, \"facility_type\", agg_feat, \"mean\", name\n",
    "        )\n",
    "\n",
    "    # whether or not energy star is better than mean for facility\n",
    "    train_df_eng[\"e_star_better_than_mean\"] = (\n",
    "        train_df_eng[\"energy_star_rating\"] > train_df_eng[\"mean_energy_star_rating\"]\n",
    "    ).astype(int)\n",
    "    test_df_eng[\"e_star_better_than_mean\"] = (\n",
    "        test_df_eng[\"energy_star_rating\"] > test_df_eng[\"mean_energy_star_rating\"]\n",
    "    ).astype(int)\n",
    "\n",
    "    # total snow and rain\n",
    "    train_df_eng[\"snow_rain_inches\"] = (\n",
    "        train_df_eng[\"snowfall_inches\"] + train_df_eng[\"precipitation_inches\"]\n",
    "    )\n",
    "    test_df_eng[\"snow_rain_inches\"] = (\n",
    "        test_df_eng[\"snowfall_inches\"] + test_df_eng[\"precipitation_inches\"]\n",
    "    )\n",
    "\n",
    "    # total degree days\n",
    "    train_df_eng[\"degree_days\"] = (\n",
    "        train_df_eng[\"cooling_degree_days\"] + train_df_eng[\"heating_degree_days\"]\n",
    "    )\n",
    "    test_df_eng[\"degree_days\"] = (\n",
    "        test_df_eng[\"cooling_degree_days\"] + test_df_eng[\"heating_degree_days\"]\n",
    "    )\n",
    "\n",
    "    # floor area interaction with e-star\n",
    "    train_df_eng[\"e_star_floor_area\"] = (\n",
    "        train_df_eng[\"floor_area\"] * train_df_eng[\"energy_star_rating\"] + 1\n",
    "    )\n",
    "    test_df_eng[\"e_star_floor_area\"] = (\n",
    "        test_df_eng[\"floor_area\"] * test_df_eng[\"energy_star_rating\"] + 1\n",
    "    )\n",
    "\n",
    "    # elevation interaction with e-star\n",
    "    train_df_eng[\"e_star_elevation\"] = (\n",
    "        train_df_eng[\"ELEVATION\"] * train_df_eng[\"energy_star_rating\"] + 1\n",
    "    )\n",
    "    test_df_eng[\"e_star_elevation\"] = (\n",
    "        test_df_eng[\"ELEVATION\"] * test_df_eng[\"energy_star_rating\"] + 1\n",
    "    )\n",
    "\n",
    "    # year_built interaction with e-star\n",
    "    train_df_eng[\"e_star_year_built\"] = (\n",
    "        train_df_eng[\"year_built\"] * train_df_eng[\"energy_star_rating\"] + 1\n",
    "    )\n",
    "    test_df_eng[\"e_star_year_built\"] = (\n",
    "        test_df_eng[\"year_built\"] * test_df_eng[\"energy_star_rating\"] + 1\n",
    "    )\n",
    "\n",
    "    # cooling degree days interaction with energy star\n",
    "    train_df_eng[\"cooling_e_star\"] = (\n",
    "        train_df_eng[\"cooling_degree_days\"] * train_df_eng[\"energy_star_rating\"] + 1\n",
    "    )\n",
    "    test_df_eng[\"cooling_e_star\"] = (\n",
    "        test_df_eng[\"cooling_degree_days\"] * test_df_eng[\"energy_star_rating\"] + 1\n",
    "    )\n",
    "\n",
    "    # heating degree days interaction with energy star\n",
    "    train_df_eng[\"heating_e_star\"] = (\n",
    "        train_df_eng[\"heating_degree_days\"] * train_df_eng[\"energy_star_rating\"] + 1\n",
    "    )\n",
    "    test_df_eng[\"heating_e_star\"] = (\n",
    "        test_df_eng[\"heating_degree_days\"] * test_df_eng[\"energy_star_rating\"] + 1\n",
    "    )\n",
    "\n",
    "    # floor area interaction with year built\n",
    "    train_df_eng[\"floor_area_year_built\"] = (\n",
    "        train_df_eng[\"floor_area\"] * train_df_eng[\"year_built\"] + 1\n",
    "    )\n",
    "    test_df_eng[\"floor_area_year_built\"] = (\n",
    "        test_df_eng[\"floor_area\"] * test_df_eng[\"year_built\"] + 1\n",
    "    )\n",
    "\n",
    "    # concatenated state and facility type and floor area\n",
    "    train_df_eng[\"facility_floor\"] = (\n",
    "        train_df_eng[\"facility_type\"] + \"_\" + train_df_eng[\"floor_area\"].astype(str)\n",
    "    )\n",
    "    test_df_eng[\"facility_floor\"] = (\n",
    "        test_df_eng[\"facility_type\"] + \"_\" + test_df_eng[\"floor_area\"].astype(str)\n",
    "    )\n",
    "\n",
    "    # concatenated state, facility, year built\n",
    "    train_df_eng[\"facility_year\"] = train_df_eng[\"facility_type\"] + train_df_eng[\n",
    "        \"year_built\"\n",
    "    ].astype(str)\n",
    "    test_df_eng[\"facility_year\"] = test_df_eng[\"facility_type\"] + test_df_eng[\n",
    "        \"year_built\"\n",
    "    ].astype(str)\n",
    "\n",
    "    # concatenated state and facility type and floor area and year\n",
    "    train_df_eng[\"facility_floor_year\"] = (\n",
    "        train_df_eng[\"facility_floor\"] + \"_\" + train_df_eng[\"year_built\"].astype(str)\n",
    "    )\n",
    "    test_df_eng[\"facility_floor_year\"] = (\n",
    "        test_df_eng[\"facility_floor\"] + \"_\" + test_df_eng[\"year_built\"].astype(str)\n",
    "    )\n",
    "\n",
    "    # grouped mean site_eui\n",
    "    groups = [\"facility_floor\", \"facility_year\", \"facility_floor_year\"]\n",
    "\n",
    "    for group in groups:\n",
    "        name = \"median_\" + group + \"_site_eui\"\n",
    "        train_df_eng, test_df_eng = group_by_feature(\n",
    "            train_df_eng, test_df_eng, group, \"site_eui\", \"median\", name\n",
    "        )\n",
    "\n",
    "    return train_df_eng, test_df_eng\n",
    "\n",
    "\n",
    "def feature_engineer_multiple(train_dfs, test_dfs):\n",
    "    \"\"\"Feature engineer multiple dataframes at once\"\"\"\n",
    "    train_dfs_eng = {}\n",
    "    test_dfs_eng = {}\n",
    "\n",
    "    for (name1, train_df), (name2, test_df) in zip(train_dfs.items(), test_dfs.items()):\n",
    "        assert name1 == name2\n",
    "        train_dfs_eng[name1], test_dfs_eng[name2] = feature_engineer(train_df, test_df)\n",
    "\n",
    "    return train_dfs_eng, test_dfs_eng\n",
    "\n",
    "\n",
    "def create_X_y(dfs, target, group_col=None):\n",
    "    \"\"\"Separates each WiDS 2022 dataframe into X and y train sets.\n",
    "\n",
    "    Parameters\n",
    "    ----------\n",
    "    dfs : dict\n",
    "        A dictionary of pandas DataFrames, one for each group.\n",
    "    target : str\n",
    "        The target variable.\n",
    "    group_col : str, optional\n",
    "        The columns to use for CV groups, by default None\n",
    "\n",
    "    Returns\n",
    "    -------\n",
    "    X_dfs, y_dfs, groups\n",
    "        Dictionaries of X and y train sets, and groups.\n",
    "    \"\"\"\n",
    "\n",
    "    X_dfs = {}\n",
    "    y_dfs = {}\n",
    "    groups = {}\n",
    "\n",
    "    for name, df in dfs.items():\n",
    "        X_dfs[name] = df.drop(columns=target)\n",
    "        y_dfs[name] = df[target]\n",
    "\n",
    "        if group_col is not None:\n",
    "            groups[name] = df[group_col]\n",
    "\n",
    "    if group_col is not None:\n",
    "        return X_dfs, y_dfs, groups\n",
    "    else:\n",
    "        return X_dfs, y_dfs\n",
    "    \n",
    "    \n",
    "def get_ct_feat_names(ct, other_names):\n",
    "    \"\"\"Get the feature names from a ColumnTrasformer and combine\n",
    "    with other feature names.\n",
    "\n",
    "    Note: In recent versions of sklearn there is support for this\n",
    "    without having to create a function.  However, Kaggle was running\n",
    "    an older version of sklearn in their kernels during this competition,\n",
    "    hence creation of this function.\n",
    "\n",
    "    Parameters\n",
    "    ----------\n",
    "    ct : sklearn ColumnTransformer\n",
    "        A fitted sklearn ColumnTransformer.\n",
    "    other_names : list of str\n",
    "        The other feature names to append\n",
    "\n",
    "    Returns\n",
    "    -------\n",
    "    names : list of str\n",
    "        The list of all feature names after a ColumnTransformer\n",
    "        transforms a dataset.\n",
    "    \"\"\"\n",
    "    names = []\n",
    "    names += other_names\n",
    "    return names\n",
    "\n",
    "\n",
    "def logo_cv_lgb(\n",
    "    model, X, y, groups, ct, early_stopping_rounds, return_models=True, other_names=None\n",
    "):\n",
    "    \"\"\"Custom cross validation function for the WiDS 2022 Kaggle Competition.\n",
    "\n",
    "    Parameters\n",
    "    ----------\n",
    "    model : lightGBM regressor\n",
    "        The lgbm regressor model to perform cv with.\n",
    "    X : pandas DataFrame\n",
    "        X train set.\n",
    "    y : pandas DataFrame\n",
    "        y train set.\n",
    "    groups : pandas DataFrame\n",
    "        The leave one group out cv groups.\n",
    "    ct : sklearn ColumnTransformer\n",
    "        The column transformer for the dataset.\n",
    "    early_stopping_rounds : int\n",
    "        The number of early stopping rounds for lightGBM\n",
    "    return_models : bool, optional\n",
    "        Whether or not to return the indivdual lightGBM models, by default True\n",
    "    other_names : list of str, optional\n",
    "        Other feature names to append to CT names, by default None\n",
    "\n",
    "    Returns\n",
    "    -------\n",
    "    results, models : pandas DataFrame, dict\n",
    "        Results dataframe and dictionary of lgbm models.\n",
    "    \"\"\"\n",
    "\n",
    "    models = []\n",
    "    results = []\n",
    "    train_scores = []\n",
    "    val_scores = []\n",
    "    fold = 0\n",
    "    logo = LeaveOneGroupOut()\n",
    "\n",
    "    for t, v in logo.split(X, groups=groups):\n",
    "        fold += 1\n",
    "\n",
    "        # to avoid lightgbm not saving new fit model (weird??? might be bug in lgb...)\n",
    "        current_model = deepcopy(model)\n",
    "\n",
    "        # train and val sets for current fold\n",
    "        X_train, y_train = X.iloc[t], y.iloc[t]\n",
    "        X_val, y_val = X.iloc[v], y.iloc[v]\n",
    "\n",
    "        # year factors for current folds\n",
    "        X_train_yf = np.sort(X_train[\"Year_Factor\"].unique())\n",
    "        X_val_yf = X_val[\"Year_Factor\"].unique()\n",
    "\n",
    "        # transform train and val sets\n",
    "        X_train_tsf = ct.fit_transform(X_train)\n",
    "        X_val_tsf = ct.transform(X_val)\n",
    "\n",
    "        if other_names is None:\n",
    "            feature_names = ct.get_feature_names()\n",
    "        else:\n",
    "            feature_names = get_ct_feat_names(ct, other_names)\n",
    "\n",
    "        # fit and score model w/ early stopping\n",
    "        current_model.fit(\n",
    "            X_train_tsf,\n",
    "            y_train,\n",
    "            eval_set=[(X_val_tsf, y_val)],\n",
    "            eval_metric=[\"rmse\"],\n",
    "            feature_name=feature_names,\n",
    "            callbacks=[lgb.early_stopping(early_stopping_rounds, verbose=False)],\n",
    "        )\n",
    "\n",
    "        # train/val rmse scores\n",
    "        train_rmse = mean_squared_error(\n",
    "            y_true=y_train, y_pred=current_model.predict(X_train_tsf), squared=False\n",
    "        )\n",
    "\n",
    "        val_rmse = current_model.best_score_[\"valid_0\"][\"rmse\"]\n",
    "\n",
    "        fold_results = {\n",
    "            \"Fold\": fold,\n",
    "            \"Train_shape\": X_train_tsf.shape,\n",
    "            \"Val_shape\": X_val_tsf.shape,\n",
    "            \"Train_years\": X_train_yf,\n",
    "            \"Val_years\": X_val_yf,\n",
    "            \"Train_RMSE\": train_rmse,\n",
    "            \"Val_RMSE\": val_rmse,\n",
    "            \"RMSE_spread\": train_rmse - val_rmse,\n",
    "        }\n",
    "\n",
    "        results.append(fold_results)\n",
    "        train_scores.append(train_rmse)\n",
    "        val_scores.append(val_rmse)\n",
    "        models.append(current_model)\n",
    "\n",
    "    # mean validation score\n",
    "    results.append(\n",
    "        {\n",
    "            \"Fold\": \"MEAN\",\n",
    "            \"Train_shape\": \"N/A\",\n",
    "            \"Val_shape\": \"N/A\",\n",
    "            \"Train_years\": \"N/A\",\n",
    "            \"Val_years\": \"N/A\",\n",
    "            \"Train_RMSE\": np.mean(train_scores),\n",
    "            \"Val_RMSE\": np.mean(val_scores),\n",
    "            \"RMSE_spread\": np.mean(train_scores) - np.mean(val_scores),\n",
    "        }\n",
    "    )\n",
    "\n",
    "    results = pd.DataFrame(results)\n",
    "\n",
    "    if return_models:\n",
    "        return results, models\n",
    "    else:\n",
    "        return results\n",
    "    \n",
    "    \n",
    "def logo_cv_lgb_all(\n",
    "    model,\n",
    "    X_trains,\n",
    "    y_trains,\n",
    "    groups,\n",
    "    ct,\n",
    "    early_stopping_rounds,\n",
    "    return_models=True,\n",
    "    other_names=None,\n",
    "):\n",
    "    \"\"\"Performs CV for each dataset in the WiDS kaggle competition.\"\"\"\n",
    "    results = {}\n",
    "    models = {}\n",
    "\n",
    "    for (n1, X), (n2, y), (n3, group) in zip(\n",
    "        X_trains.items(), y_trains.items(), groups.items()\n",
    "    ):\n",
    "        assert n1 == n2 == n3\n",
    "        results[n1], models[n1] = logo_cv_lgb(\n",
    "            model, X, y, group, ct, early_stopping_rounds, return_models, other_names\n",
    "        )\n",
    "\n",
    "    return results, models\n",
    "\n",
    "\n",
    "def process_cv_results(results):\n",
    "    \"\"\"Process cv results for multiple datasets into one dataframe\"\"\"\n",
    "    results_df = pd.DataFrame()\n",
    "\n",
    "    for name, result in results.items():\n",
    "        result.insert(0, \"facility_group\", name)\n",
    "        results_df = pd.concat([results_df, result])\n",
    "\n",
    "    return results_df\n",
    "\n",
    "\n",
    "def train_and_predict(model, X_trains, y_trains, X_tests, ct, target):\n",
    "    \"\"\"Train final WiDS models and get predictions.\n",
    "\n",
    "    Parameters\n",
    "    ----------\n",
    "    model : sklearn estimator\n",
    "        The model to train and predict.\n",
    "    X_trains : dict\n",
    "        Dictionary of X train sets.\n",
    "    y_trains : dict\n",
    "        Dictionary of y train sets.\n",
    "    X_tests : dict\n",
    "        Dictionary of X test sets.\n",
    "    ct : sklearn ColumnTransformer\n",
    "        Column transformer with tranformations to perform on data.\n",
    "    target : str\n",
    "        The target variable.\n",
    "\n",
    "    Returns\n",
    "    -------\n",
    "    predictions : pandas DataFrame\n",
    "        Dataframe containing the final predictions.\n",
    "    \"\"\"\n",
    "    predictions = pd.DataFrame()\n",
    "\n",
    "    for (n1, X_train), (n2, y_train), (n3, X_test) in zip(\n",
    "        X_trains.items(), y_trains.items(), X_tests.items()\n",
    "    ):\n",
    "        assert n1 == n2 == n3\n",
    "\n",
    "        current_model = deepcopy(model)\n",
    "        pipe = make_pipeline(ct, current_model)\n",
    "\n",
    "        pipe.fit(X_train, y_train)\n",
    "\n",
    "        pred = {\"id\": X_test[\"id\"], target: pipe.predict(X_test)}\n",
    "\n",
    "        predictions = pd.concat([predictions, pd.DataFrame(pred)])\n",
    "\n",
    "    predictions = predictions.sort_values(\"id\")\n",
    "\n",
    "    return predictions"
   ]
  },
  {
   "cell_type": "markdown",
   "id": "3806bf20",
   "metadata": {
    "papermill": {
     "duration": 0.036191,
     "end_time": "2022-03-05T01:40:42.557429",
     "exception": false,
     "start_time": "2022-03-05T01:40:42.521238",
     "status": "completed"
    },
    "tags": []
   },
   "source": [
    "# Section 3: Data preprocessing"
   ]
  },
  {
   "cell_type": "markdown",
   "id": "d359b511",
   "metadata": {
    "papermill": {
     "duration": 0.035956,
     "end_time": "2022-03-05T01:40:42.628840",
     "exception": false,
     "start_time": "2022-03-05T01:40:42.592884",
     "status": "completed"
    },
    "tags": []
   },
   "source": [
    "## Read in data"
   ]
  },
  {
   "cell_type": "code",
   "execution_count": 5,
   "id": "d7816276",
   "metadata": {
    "execution": {
     "iopub.execute_input": "2022-03-05T01:40:42.706710Z",
     "iopub.status.busy": "2022-03-05T01:40:42.706040Z",
     "iopub.status.idle": "2022-03-05T01:40:43.516633Z",
     "shell.execute_reply": "2022-03-05T01:40:43.516159Z",
     "shell.execute_reply.started": "2022-03-05T01:38:31.971690Z"
    },
    "papermill": {
     "duration": 0.851249,
     "end_time": "2022-03-05T01:40:43.516798",
     "exception": false,
     "start_time": "2022-03-05T01:40:42.665549",
     "status": "completed"
    },
    "tags": []
   },
   "outputs": [],
   "source": [
    "train, test = read_data(TRAIN_PATH, TEST_PATH)"
   ]
  },
  {
   "cell_type": "code",
   "execution_count": 6,
   "id": "fb94916a",
   "metadata": {
    "execution": {
     "iopub.execute_input": "2022-03-05T01:40:43.601157Z",
     "iopub.status.busy": "2022-03-05T01:40:43.599399Z",
     "iopub.status.idle": "2022-03-05T01:40:43.603413Z",
     "shell.execute_reply": "2022-03-05T01:40:43.602918Z",
     "shell.execute_reply.started": "2022-03-05T01:38:32.508305Z"
    },
    "papermill": {
     "duration": 0.050609,
     "end_time": "2022-03-05T01:40:43.603540",
     "exception": false,
     "start_time": "2022-03-05T01:40:43.552931",
     "status": "completed"
    },
    "tags": []
   },
   "outputs": [
    {
     "data": {
      "text/plain": [
       "(75757, 64)"
      ]
     },
     "execution_count": 6,
     "metadata": {},
     "output_type": "execute_result"
    }
   ],
   "source": [
    "train.shape"
   ]
  },
  {
   "cell_type": "code",
   "execution_count": 7,
   "id": "28020621",
   "metadata": {
    "execution": {
     "iopub.execute_input": "2022-03-05T01:40:43.682336Z",
     "iopub.status.busy": "2022-03-05T01:40:43.681752Z",
     "iopub.status.idle": "2022-03-05T01:40:43.684662Z",
     "shell.execute_reply": "2022-03-05T01:40:43.685123Z",
     "shell.execute_reply.started": "2022-03-05T01:38:32.515888Z"
    },
    "papermill": {
     "duration": 0.045549,
     "end_time": "2022-03-05T01:40:43.685267",
     "exception": false,
     "start_time": "2022-03-05T01:40:43.639718",
     "status": "completed"
    },
    "tags": []
   },
   "outputs": [
    {
     "data": {
      "text/plain": [
       "(9705, 63)"
      ]
     },
     "execution_count": 7,
     "metadata": {},
     "output_type": "execute_result"
    }
   ],
   "source": [
    "test.shape"
   ]
  },
  {
   "cell_type": "markdown",
   "id": "a6469012",
   "metadata": {
    "papermill": {
     "duration": 0.036603,
     "end_time": "2022-03-05T01:40:43.758830",
     "exception": false,
     "start_time": "2022-03-05T01:40:43.722227",
     "status": "completed"
    },
    "tags": []
   },
   "source": [
    "## Duplicated data"
   ]
  },
  {
   "cell_type": "code",
   "execution_count": 8,
   "id": "cd136499",
   "metadata": {
    "execution": {
     "iopub.execute_input": "2022-03-05T01:40:43.850777Z",
     "iopub.status.busy": "2022-03-05T01:40:43.849770Z",
     "iopub.status.idle": "2022-03-05T01:40:43.994110Z",
     "shell.execute_reply": "2022-03-05T01:40:43.993567Z",
     "shell.execute_reply.started": "2022-03-05T01:38:32.526441Z"
    },
    "papermill": {
     "duration": 0.198804,
     "end_time": "2022-03-05T01:40:43.994256",
     "exception": false,
     "start_time": "2022-03-05T01:40:43.795452",
     "status": "completed"
    },
    "tags": []
   },
   "outputs": [],
   "source": [
    "train_duplicates = get_duplicates(train, [\"id\"])\n",
    "test_duplicates = get_duplicates(test, [\"id\"])"
   ]
  },
  {
   "cell_type": "code",
   "execution_count": 9,
   "id": "8f2b880c",
   "metadata": {
    "execution": {
     "iopub.execute_input": "2022-03-05T01:40:44.075648Z",
     "iopub.status.busy": "2022-03-05T01:40:44.073893Z",
     "iopub.status.idle": "2022-03-05T01:40:44.242946Z",
     "shell.execute_reply": "2022-03-05T01:40:44.242369Z",
     "shell.execute_reply.started": "2022-03-05T01:38:32.677358Z"
    },
    "papermill": {
     "duration": 0.212181,
     "end_time": "2022-03-05T01:40:44.243119",
     "exception": false,
     "start_time": "2022-03-05T01:40:44.030938",
     "status": "completed"
    },
    "tags": []
   },
   "outputs": [],
   "source": [
    "train = remove_duplicates(train, [\"id\"])"
   ]
  },
  {
   "cell_type": "markdown",
   "id": "3ad26c0b",
   "metadata": {
    "papermill": {
     "duration": 0.035969,
     "end_time": "2022-03-05T01:40:44.315885",
     "exception": false,
     "start_time": "2022-03-05T01:40:44.279916",
     "status": "completed"
    },
    "tags": []
   },
   "source": [
    "## Separate data by facility"
   ]
  },
  {
   "cell_type": "code",
   "execution_count": 10,
   "id": "f790ac4c",
   "metadata": {
    "execution": {
     "iopub.execute_input": "2022-03-05T01:40:44.393196Z",
     "iopub.status.busy": "2022-03-05T01:40:44.392226Z",
     "iopub.status.idle": "2022-03-05T01:40:44.394915Z",
     "shell.execute_reply": "2022-03-05T01:40:44.394458Z",
     "shell.execute_reply.started": "2022-03-05T01:38:32.832285Z"
    },
    "papermill": {
     "duration": 0.04324,
     "end_time": "2022-03-05T01:40:44.395100",
     "exception": false,
     "start_time": "2022-03-05T01:40:44.351860",
     "status": "completed"
    },
    "tags": []
   },
   "outputs": [],
   "source": [
    "facility_groups = get_manual_facility_groups()"
   ]
  },
  {
   "cell_type": "code",
   "execution_count": 11,
   "id": "c1375e23",
   "metadata": {
    "execution": {
     "iopub.execute_input": "2022-03-05T01:40:44.473588Z",
     "iopub.status.busy": "2022-03-05T01:40:44.472624Z",
     "iopub.status.idle": "2022-03-05T01:40:44.652433Z",
     "shell.execute_reply": "2022-03-05T01:40:44.651944Z",
     "shell.execute_reply.started": "2022-03-05T01:38:32.838331Z"
    },
    "papermill": {
     "duration": 0.220817,
     "end_time": "2022-03-05T01:40:44.652590",
     "exception": false,
     "start_time": "2022-03-05T01:40:44.431773",
     "status": "completed"
    },
    "tags": []
   },
   "outputs": [],
   "source": [
    "train_dfs = split_building_data(train, facility_groups)\n",
    "test_dfs = split_building_data(test, facility_groups)"
   ]
  },
  {
   "cell_type": "markdown",
   "id": "976011c5",
   "metadata": {
    "papermill": {
     "duration": 0.035911,
     "end_time": "2022-03-05T01:40:44.725225",
     "exception": false,
     "start_time": "2022-03-05T01:40:44.689314",
     "status": "completed"
    },
    "tags": []
   },
   "source": [
    "## Missing data"
   ]
  },
  {
   "cell_type": "code",
   "execution_count": 12,
   "id": "4f095dce",
   "metadata": {
    "execution": {
     "iopub.execute_input": "2022-03-05T01:40:44.805852Z",
     "iopub.status.busy": "2022-03-05T01:40:44.804962Z",
     "iopub.status.idle": "2022-03-05T01:40:44.849824Z",
     "shell.execute_reply": "2022-03-05T01:40:44.850249Z",
     "shell.execute_reply.started": "2022-03-05T01:38:33.012676Z"
    },
    "papermill": {
     "duration": 0.089421,
     "end_time": "2022-03-05T01:40:44.850392",
     "exception": false,
     "start_time": "2022-03-05T01:40:44.760971",
     "status": "completed"
    },
    "tags": []
   },
   "outputs": [
    {
     "data": {
      "text/html": [
       "<div>\n",
       "<style scoped>\n",
       "    .dataframe tbody tr th:only-of-type {\n",
       "        vertical-align: middle;\n",
       "    }\n",
       "\n",
       "    .dataframe tbody tr th {\n",
       "        vertical-align: top;\n",
       "    }\n",
       "\n",
       "    .dataframe thead th {\n",
       "        text-align: right;\n",
       "    }\n",
       "</style>\n",
       "<table border=\"1\" class=\"dataframe\">\n",
       "  <thead>\n",
       "    <tr style=\"text-align: right;\">\n",
       "      <th></th>\n",
       "      <th>count</th>\n",
       "      <th>percent</th>\n",
       "    </tr>\n",
       "  </thead>\n",
       "  <tbody>\n",
       "    <tr>\n",
       "      <th>days_with_fog</th>\n",
       "      <td>45783</td>\n",
       "      <td>0.604651</td>\n",
       "    </tr>\n",
       "    <tr>\n",
       "      <th>direction_peak_wind_speed</th>\n",
       "      <td>41798</td>\n",
       "      <td>0.552022</td>\n",
       "    </tr>\n",
       "    <tr>\n",
       "      <th>max_wind_speed</th>\n",
       "      <td>41070</td>\n",
       "      <td>0.542407</td>\n",
       "    </tr>\n",
       "    <tr>\n",
       "      <th>direction_max_wind_speed</th>\n",
       "      <td>41070</td>\n",
       "      <td>0.542407</td>\n",
       "    </tr>\n",
       "    <tr>\n",
       "      <th>energy_star_rating</th>\n",
       "      <td>26682</td>\n",
       "      <td>0.352386</td>\n",
       "    </tr>\n",
       "    <tr>\n",
       "      <th>year_built</th>\n",
       "      <td>1817</td>\n",
       "      <td>0.023997</td>\n",
       "    </tr>\n",
       "  </tbody>\n",
       "</table>\n",
       "</div>"
      ],
      "text/plain": [
       "                           count   percent\n",
       "days_with_fog              45783  0.604651\n",
       "direction_peak_wind_speed  41798  0.552022\n",
       "max_wind_speed             41070  0.542407\n",
       "direction_max_wind_speed   41070  0.542407\n",
       "energy_star_rating         26682  0.352386\n",
       "year_built                  1817  0.023997"
      ]
     },
     "execution_count": 12,
     "metadata": {},
     "output_type": "execute_result"
    }
   ],
   "source": [
    "count_missing(train)"
   ]
  },
  {
   "cell_type": "markdown",
   "id": "3a964996",
   "metadata": {
    "papermill": {
     "duration": 0.03641,
     "end_time": "2022-03-05T01:40:44.923653",
     "exception": false,
     "start_time": "2022-03-05T01:40:44.887243",
     "status": "completed"
    },
    "tags": []
   },
   "source": [
    "## Data imputation: `energy_star`, `year_built`"
   ]
  },
  {
   "cell_type": "code",
   "execution_count": 13,
   "id": "b30d67d7",
   "metadata": {
    "execution": {
     "iopub.execute_input": "2022-03-05T01:40:45.007881Z",
     "iopub.status.busy": "2022-03-05T01:40:45.006883Z",
     "iopub.status.idle": "2022-03-05T01:40:45.008863Z",
     "shell.execute_reply": "2022-03-05T01:40:45.009298Z",
     "shell.execute_reply.started": "2022-03-05T01:38:33.057249Z"
    },
    "papermill": {
     "duration": 0.049304,
     "end_time": "2022-03-05T01:40:45.009431",
     "exception": false,
     "start_time": "2022-03-05T01:40:44.960127",
     "status": "completed"
    },
    "tags": []
   },
   "outputs": [],
   "source": [
    "cat_imp = [\n",
    "    'Year_Factor', 'State_Factor', 'building_class', 'facility_type'\n",
    "]\n",
    "\n",
    "num_imp = [\n",
    "    'floor_area', 'year_built', 'energy_star_rating', 'ELEVATION',\n",
    "    'cooling_degree_days', 'heating_degree_days', 'precipitation_inches',\n",
    "    'snowfall_inches', 'snowdepth_inches', 'avg_temp'\n",
    "]\n",
    "\n",
    "drop_imp = [\n",
    "    'january_min_temp', 'january_avg_temp', 'january_max_temp',\n",
    "    'february_min_temp', 'february_avg_temp', 'february_max_temp',\n",
    "    'march_min_temp', 'march_avg_temp', 'march_max_temp', 'april_min_temp',\n",
    "    'april_avg_temp', 'april_max_temp', 'may_min_temp', 'may_avg_temp',\n",
    "    'may_max_temp', 'june_min_temp', 'june_avg_temp', 'june_max_temp',\n",
    "    'july_min_temp', 'july_avg_temp', 'july_max_temp', 'august_min_temp',\n",
    "    'august_avg_temp', 'august_max_temp', 'september_min_temp',\n",
    "    'september_avg_temp', 'september_max_temp', 'october_min_temp',\n",
    "    'october_avg_temp', 'october_max_temp', 'november_min_temp',\n",
    "    'november_avg_temp', 'november_max_temp', 'december_min_temp',\n",
    "    'december_avg_temp', 'december_max_temp', 'days_below_30F', 'days_below_20F',\n",
    "    'days_below_10F', 'days_below_0F', 'days_above_80F', 'days_above_90F',\n",
    "    'days_above_100F', 'days_above_110F', 'direction_max_wind_speed',\n",
    "    'direction_peak_wind_speed', 'max_wind_speed', 'days_with_fog',\n",
    "    'id'\n",
    "]"
   ]
  },
  {
   "cell_type": "code",
   "execution_count": 14,
   "id": "12244f50",
   "metadata": {
    "execution": {
     "iopub.execute_input": "2022-03-05T01:40:45.090002Z",
     "iopub.status.busy": "2022-03-05T01:40:45.089422Z",
     "iopub.status.idle": "2022-03-05T01:40:45.093483Z",
     "shell.execute_reply": "2022-03-05T01:40:45.092952Z",
     "shell.execute_reply.started": "2022-03-05T01:38:33.069633Z"
    },
    "papermill": {
     "duration": 0.046661,
     "end_time": "2022-03-05T01:40:45.093616",
     "exception": false,
     "start_time": "2022-03-05T01:40:45.046955",
     "status": "completed"
    },
    "tags": []
   },
   "outputs": [],
   "source": [
    "ct_imp = make_column_transformer(\n",
    "    (OneHotEncoder(handle_unknown=\"ignore\", sparse=False), cat_imp),\n",
    "    (\"passthrough\", num_imp),\n",
    "    (\"drop\", drop_imp)\n",
    ")\n",
    "\n",
    "model = Ridge()\n",
    "replace = [\"energy_star_rating\", \"year_built\"]"
   ]
  },
  {
   "cell_type": "code",
   "execution_count": 15,
   "id": "4ae5264a",
   "metadata": {
    "execution": {
     "iopub.execute_input": "2022-03-05T01:40:45.180937Z",
     "iopub.status.busy": "2022-03-05T01:40:45.178110Z",
     "iopub.status.idle": "2022-03-05T01:40:47.338696Z",
     "shell.execute_reply": "2022-03-05T01:40:47.339516Z",
     "shell.execute_reply.started": "2022-03-05T01:38:33.079018Z"
    },
    "papermill": {
     "duration": 2.209047,
     "end_time": "2022-03-05T01:40:47.339806",
     "exception": false,
     "start_time": "2022-03-05T01:40:45.130759",
     "status": "completed"
    },
    "tags": []
   },
   "outputs": [],
   "source": [
    "train_dfs, test_dfs = impute_and_replace(\n",
    "    train_dfs, test_dfs, model, ct_imp, TARGET, num_imp, replace, SEED\n",
    ")"
   ]
  },
  {
   "cell_type": "markdown",
   "id": "74c9562b",
   "metadata": {
    "papermill": {
     "duration": 0.046688,
     "end_time": "2022-03-05T01:40:47.460201",
     "exception": false,
     "start_time": "2022-03-05T01:40:47.413513",
     "status": "completed"
    },
    "tags": []
   },
   "source": [
    "# Section 4: Feature Engineering"
   ]
  },
  {
   "cell_type": "markdown",
   "id": "525bb72e",
   "metadata": {
    "papermill": {
     "duration": 0.036522,
     "end_time": "2022-03-05T01:40:47.533754",
     "exception": false,
     "start_time": "2022-03-05T01:40:47.497232",
     "status": "completed"
    },
    "tags": []
   },
   "source": [
    "## New Features: Entire Dataset"
   ]
  },
  {
   "cell_type": "code",
   "execution_count": 16,
   "id": "c6f6f181",
   "metadata": {
    "execution": {
     "iopub.execute_input": "2022-03-05T01:40:47.618510Z",
     "iopub.status.busy": "2022-03-05T01:40:47.617378Z",
     "iopub.status.idle": "2022-03-05T01:40:49.395896Z",
     "shell.execute_reply": "2022-03-05T01:40:49.395368Z",
     "shell.execute_reply.started": "2022-03-05T01:38:35.377239Z"
    },
    "papermill": {
     "duration": 1.825511,
     "end_time": "2022-03-05T01:40:49.396048",
     "exception": false,
     "start_time": "2022-03-05T01:40:47.570537",
     "status": "completed"
    },
    "tags": []
   },
   "outputs": [],
   "source": [
    "train_dfs_eng, test_dfs_eng = feature_engineer_multiple(train_dfs, test_dfs)"
   ]
  },
  {
   "cell_type": "markdown",
   "id": "4ce07099",
   "metadata": {
    "papermill": {
     "duration": 0.039244,
     "end_time": "2022-03-05T01:40:49.476490",
     "exception": false,
     "start_time": "2022-03-05T01:40:49.437246",
     "status": "completed"
    },
    "tags": []
   },
   "source": [
    "# Section 5: Modelling"
   ]
  },
  {
   "cell_type": "markdown",
   "id": "f35c11a8",
   "metadata": {
    "papermill": {
     "duration": 0.039261,
     "end_time": "2022-03-05T01:40:49.554848",
     "exception": false,
     "start_time": "2022-03-05T01:40:49.515587",
     "status": "completed"
    },
    "tags": []
   },
   "source": [
    "## Create `X` and `y` datasets"
   ]
  },
  {
   "cell_type": "code",
   "execution_count": 17,
   "id": "f997f086",
   "metadata": {
    "execution": {
     "iopub.execute_input": "2022-03-05T01:40:49.634086Z",
     "iopub.status.busy": "2022-03-05T01:40:49.632875Z",
     "iopub.status.idle": "2022-03-05T01:40:49.687445Z",
     "shell.execute_reply": "2022-03-05T01:40:49.686719Z",
     "shell.execute_reply.started": "2022-03-05T01:38:37.179633Z"
    },
    "papermill": {
     "duration": 0.09632,
     "end_time": "2022-03-05T01:40:49.687616",
     "exception": false,
     "start_time": "2022-03-05T01:40:49.591296",
     "status": "completed"
    },
    "tags": []
   },
   "outputs": [],
   "source": [
    "X_trains, y_trains, groups = create_X_y(train_dfs_eng, TARGET, \"Year_Factor\")\n",
    "X_tests = test_dfs_eng.copy()"
   ]
  },
  {
   "cell_type": "markdown",
   "id": "9e112071",
   "metadata": {
    "papermill": {
     "duration": 0.073316,
     "end_time": "2022-03-05T01:40:49.832834",
     "exception": false,
     "start_time": "2022-03-05T01:40:49.759518",
     "status": "completed"
    },
    "tags": []
   },
   "source": [
    "## Column transformer"
   ]
  },
  {
   "cell_type": "code",
   "execution_count": 18,
   "id": "a769026b",
   "metadata": {
    "execution": {
     "iopub.execute_input": "2022-03-05T01:40:49.968685Z",
     "iopub.status.busy": "2022-03-05T01:40:49.967835Z",
     "iopub.status.idle": "2022-03-05T01:40:49.975404Z",
     "shell.execute_reply": "2022-03-05T01:40:49.976351Z",
     "shell.execute_reply.started": "2022-03-05T01:38:37.232824Z"
    },
    "papermill": {
     "duration": 0.080415,
     "end_time": "2022-03-05T01:40:49.976563",
     "exception": false,
     "start_time": "2022-03-05T01:40:49.896148",
     "status": "completed"
    },
    "tags": []
   },
   "outputs": [],
   "source": [
    "cat = [\n",
    "    'building_class', 'facility_type'\n",
    "]\n",
    "\n",
    "num = [\n",
    "    'year_built', 'energy_star_rating', 'ELEVATION', 'floor_area',\n",
    "    'cooling_degree_days', 'heating_degree_days', 'precipitation_inches',\n",
    "    'snowdepth_inches', 'e_star_floor_area', 'e_star_elevation', \n",
    "    'e_star_year_built', 'cooling_e_star', 'heating_e_star', 'floor_area_year_built',\n",
    "    'median_facility_floor_site_eui', 'median_facility_floor_year_site_eui',\n",
    "    'median_facility_year_site_eui'\n",
    "]\n",
    "\n",
    "passthrough = [\n",
    "    'has_fog_detector', 'has_wind_detector', \n",
    "]\n",
    "\n",
    "drop = [\n",
    "    'Year_Factor', 'State_Factor', 'january_min_temp', 'january_avg_temp', 'january_max_temp',\n",
    "    'february_min_temp', 'february_avg_temp', 'february_max_temp',\n",
    "    'march_min_temp', 'march_avg_temp', 'march_max_temp', 'april_min_temp',\n",
    "    'april_avg_temp', 'april_max_temp', 'may_min_temp', 'may_avg_temp',\n",
    "    'may_max_temp', 'june_min_temp', 'june_avg_temp', 'june_max_temp',\n",
    "    'july_min_temp', 'july_avg_temp', 'july_max_temp', 'august_min_temp',\n",
    "    'august_avg_temp', 'august_max_temp', 'september_min_temp',\n",
    "    'september_avg_temp', 'september_max_temp', 'october_min_temp',\n",
    "    'october_avg_temp', 'october_max_temp', 'november_min_temp',\n",
    "    'november_avg_temp', 'november_max_temp', 'december_min_temp',\n",
    "    'december_avg_temp', 'december_max_temp',  'direction_max_wind_speed',\n",
    "    'direction_peak_wind_speed', 'max_wind_speed', 'days_with_fog',\n",
    "    'id', 'days_below_30F', 'days_below_20F', 'days_below_10F', 'days_below_0F', \n",
    "    'days_above_80F', 'days_above_90F', 'days_above_100F', 'days_above_110F', 'State_Factor', 'avg_temp',\n",
    "    'facility_floor', 'facility_floor_year', 'facility_year','snowfall_inches',\n",
    "    'freezing_days',\n",
    "    'cold_days', 'warm_days', 'hot_days', 'winter_avg_temp',\n",
    "    'spring_avg_temp', 'summer_avg_temp', 'autumn_avg_temp',\n",
    "    'mean_energy_star_rating', 'mean_floor_area', 'mean_ELEVATION', 'e_star_better_than_mean',\n",
    "    'snow_rain_inches', 'degree_days',\n",
    "]\n",
    "\n",
    "assert set(cat + num + passthrough + drop) == set(X_trains[list(X_trains.keys())[0]].columns)"
   ]
  },
  {
   "cell_type": "code",
   "execution_count": 19,
   "id": "136ced28",
   "metadata": {
    "execution": {
     "iopub.execute_input": "2022-03-05T01:40:50.102658Z",
     "iopub.status.busy": "2022-03-05T01:40:50.101712Z",
     "iopub.status.idle": "2022-03-05T01:40:50.104770Z",
     "shell.execute_reply": "2022-03-05T01:40:50.104022Z",
     "shell.execute_reply.started": "2022-03-05T01:38:37.245336Z"
    },
    "papermill": {
     "duration": 0.068132,
     "end_time": "2022-03-05T01:40:50.104930",
     "exception": false,
     "start_time": "2022-03-05T01:40:50.036798",
     "status": "completed"
    },
    "tags": []
   },
   "outputs": [],
   "source": [
    "ct = make_column_transformer(\n",
    "    (StandardScaler(), num),\n",
    "    (\"passthrough\", passthrough),\n",
    "    (\"drop\", drop + cat),\n",
    ")"
   ]
  },
  {
   "cell_type": "markdown",
   "id": "0cda5cd6",
   "metadata": {
    "papermill": {
     "duration": 0.059183,
     "end_time": "2022-03-05T01:40:50.223800",
     "exception": false,
     "start_time": "2022-03-05T01:40:50.164617",
     "status": "completed"
    },
    "tags": []
   },
   "source": [
    "## Cross validation"
   ]
  },
  {
   "cell_type": "code",
   "execution_count": 20,
   "id": "2235eecc",
   "metadata": {
    "execution": {
     "iopub.execute_input": "2022-03-05T01:40:50.329210Z",
     "iopub.status.busy": "2022-03-05T01:40:50.328297Z",
     "iopub.status.idle": "2022-03-05T01:40:58.189802Z",
     "shell.execute_reply": "2022-03-05T01:40:58.189280Z",
     "shell.execute_reply.started": "2022-03-05T01:38:37.258684Z"
    },
    "papermill": {
     "duration": 7.90731,
     "end_time": "2022-03-05T01:40:58.189955",
     "exception": false,
     "start_time": "2022-03-05T01:40:50.282645",
     "status": "completed"
    },
    "tags": []
   },
   "outputs": [],
   "source": [
    "model = lgb.LGBMRegressor(force_row_wise=True, random_state=SEED,) #device=\"gpu\")\n",
    "results, models = logo_cv_lgb_all(model, X_trains, y_trains, groups, ct, 5, other_names=num+passthrough)\n",
    "results_df = process_cv_results(results)"
   ]
  },
  {
   "cell_type": "code",
   "execution_count": 21,
   "id": "61f0cd4b",
   "metadata": {
    "execution": {
     "iopub.execute_input": "2022-03-05T01:40:58.280126Z",
     "iopub.status.busy": "2022-03-05T01:40:58.279418Z",
     "iopub.status.idle": "2022-03-05T01:40:58.282408Z",
     "shell.execute_reply": "2022-03-05T01:40:58.282845Z",
     "shell.execute_reply.started": "2022-03-05T01:38:45.462538Z"
    },
    "papermill": {
     "duration": 0.056063,
     "end_time": "2022-03-05T01:40:58.283068",
     "exception": false,
     "start_time": "2022-03-05T01:40:58.227005",
     "status": "completed"
    },
    "tags": []
   },
   "outputs": [
    {
     "data": {
      "text/html": [
       "<div>\n",
       "<style scoped>\n",
       "    .dataframe tbody tr th:only-of-type {\n",
       "        vertical-align: middle;\n",
       "    }\n",
       "\n",
       "    .dataframe tbody tr th {\n",
       "        vertical-align: top;\n",
       "    }\n",
       "\n",
       "    .dataframe thead th {\n",
       "        text-align: right;\n",
       "    }\n",
       "</style>\n",
       "<table border=\"1\" class=\"dataframe\">\n",
       "  <thead>\n",
       "    <tr style=\"text-align: right;\">\n",
       "      <th></th>\n",
       "      <th>facility_group</th>\n",
       "      <th>Fold</th>\n",
       "      <th>Train_shape</th>\n",
       "      <th>Val_shape</th>\n",
       "      <th>Train_years</th>\n",
       "      <th>Val_years</th>\n",
       "      <th>Train_RMSE</th>\n",
       "      <th>Val_RMSE</th>\n",
       "      <th>RMSE_spread</th>\n",
       "    </tr>\n",
       "  </thead>\n",
       "  <tbody>\n",
       "    <tr>\n",
       "      <th>4</th>\n",
       "      <td>2to4_5plus_Mixed</td>\n",
       "      <td>MEAN</td>\n",
       "      <td>N/A</td>\n",
       "      <td>N/A</td>\n",
       "      <td>N/A</td>\n",
       "      <td>N/A</td>\n",
       "      <td>2.345311</td>\n",
       "      <td>4.576989</td>\n",
       "      <td>-2.231678</td>\n",
       "    </tr>\n",
       "    <tr>\n",
       "      <th>6</th>\n",
       "      <td>Commercial_Education_Mixed_Industrial_Parking</td>\n",
       "      <td>MEAN</td>\n",
       "      <td>N/A</td>\n",
       "      <td>N/A</td>\n",
       "      <td>N/A</td>\n",
       "      <td>N/A</td>\n",
       "      <td>14.240220</td>\n",
       "      <td>22.232415</td>\n",
       "      <td>-7.992195</td>\n",
       "    </tr>\n",
       "    <tr>\n",
       "      <th>6</th>\n",
       "      <td>Food_Grocery</td>\n",
       "      <td>MEAN</td>\n",
       "      <td>N/A</td>\n",
       "      <td>N/A</td>\n",
       "      <td>N/A</td>\n",
       "      <td>N/A</td>\n",
       "      <td>33.300593</td>\n",
       "      <td>53.069380</td>\n",
       "      <td>-19.768787</td>\n",
       "    </tr>\n",
       "    <tr>\n",
       "      <th>6</th>\n",
       "      <td>Health</td>\n",
       "      <td>MEAN</td>\n",
       "      <td>N/A</td>\n",
       "      <td>N/A</td>\n",
       "      <td>N/A</td>\n",
       "      <td>N/A</td>\n",
       "      <td>44.794582</td>\n",
       "      <td>59.557944</td>\n",
       "      <td>-14.763362</td>\n",
       "    </tr>\n",
       "    <tr>\n",
       "      <th>6</th>\n",
       "      <td>Laboratory_Data</td>\n",
       "      <td>MEAN</td>\n",
       "      <td>N/A</td>\n",
       "      <td>N/A</td>\n",
       "      <td>N/A</td>\n",
       "      <td>N/A</td>\n",
       "      <td>60.847350</td>\n",
       "      <td>64.118377</td>\n",
       "      <td>-3.271027</td>\n",
       "    </tr>\n",
       "    <tr>\n",
       "      <th>6</th>\n",
       "      <td>Lodging</td>\n",
       "      <td>MEAN</td>\n",
       "      <td>N/A</td>\n",
       "      <td>N/A</td>\n",
       "      <td>N/A</td>\n",
       "      <td>N/A</td>\n",
       "      <td>19.038378</td>\n",
       "      <td>25.012244</td>\n",
       "      <td>-5.973866</td>\n",
       "    </tr>\n",
       "    <tr>\n",
       "      <th>6</th>\n",
       "      <td>Multifamily</td>\n",
       "      <td>MEAN</td>\n",
       "      <td>N/A</td>\n",
       "      <td>N/A</td>\n",
       "      <td>N/A</td>\n",
       "      <td>N/A</td>\n",
       "      <td>16.144048</td>\n",
       "      <td>19.759498</td>\n",
       "      <td>-3.615449</td>\n",
       "    </tr>\n",
       "    <tr>\n",
       "      <th>6</th>\n",
       "      <td>Office_Nursing</td>\n",
       "      <td>MEAN</td>\n",
       "      <td>N/A</td>\n",
       "      <td>N/A</td>\n",
       "      <td>N/A</td>\n",
       "      <td>N/A</td>\n",
       "      <td>13.963483</td>\n",
       "      <td>17.183356</td>\n",
       "      <td>-3.219872</td>\n",
       "    </tr>\n",
       "    <tr>\n",
       "      <th>6</th>\n",
       "      <td>Public</td>\n",
       "      <td>MEAN</td>\n",
       "      <td>N/A</td>\n",
       "      <td>N/A</td>\n",
       "      <td>N/A</td>\n",
       "      <td>N/A</td>\n",
       "      <td>14.079825</td>\n",
       "      <td>17.269822</td>\n",
       "      <td>-3.189998</td>\n",
       "    </tr>\n",
       "    <tr>\n",
       "      <th>6</th>\n",
       "      <td>Religious</td>\n",
       "      <td>MEAN</td>\n",
       "      <td>N/A</td>\n",
       "      <td>N/A</td>\n",
       "      <td>N/A</td>\n",
       "      <td>N/A</td>\n",
       "      <td>7.222921</td>\n",
       "      <td>10.202259</td>\n",
       "      <td>-2.979338</td>\n",
       "    </tr>\n",
       "    <tr>\n",
       "      <th>6</th>\n",
       "      <td>Retail</td>\n",
       "      <td>MEAN</td>\n",
       "      <td>N/A</td>\n",
       "      <td>N/A</td>\n",
       "      <td>N/A</td>\n",
       "      <td>N/A</td>\n",
       "      <td>25.608983</td>\n",
       "      <td>31.288335</td>\n",
       "      <td>-5.679353</td>\n",
       "    </tr>\n",
       "    <tr>\n",
       "      <th>6</th>\n",
       "      <td>Warehouse_Service</td>\n",
       "      <td>MEAN</td>\n",
       "      <td>N/A</td>\n",
       "      <td>N/A</td>\n",
       "      <td>N/A</td>\n",
       "      <td>N/A</td>\n",
       "      <td>13.554376</td>\n",
       "      <td>15.208817</td>\n",
       "      <td>-1.654440</td>\n",
       "    </tr>\n",
       "  </tbody>\n",
       "</table>\n",
       "</div>"
      ],
      "text/plain": [
       "                                  facility_group  Fold Train_shape Val_shape  \\\n",
       "4                               2to4_5plus_Mixed  MEAN         N/A       N/A   \n",
       "6  Commercial_Education_Mixed_Industrial_Parking  MEAN         N/A       N/A   \n",
       "6                                   Food_Grocery  MEAN         N/A       N/A   \n",
       "6                                         Health  MEAN         N/A       N/A   \n",
       "6                                Laboratory_Data  MEAN         N/A       N/A   \n",
       "6                                        Lodging  MEAN         N/A       N/A   \n",
       "6                                    Multifamily  MEAN         N/A       N/A   \n",
       "6                                 Office_Nursing  MEAN         N/A       N/A   \n",
       "6                                         Public  MEAN         N/A       N/A   \n",
       "6                                      Religious  MEAN         N/A       N/A   \n",
       "6                                         Retail  MEAN         N/A       N/A   \n",
       "6                              Warehouse_Service  MEAN         N/A       N/A   \n",
       "\n",
       "  Train_years Val_years  Train_RMSE   Val_RMSE  RMSE_spread  \n",
       "4         N/A       N/A    2.345311   4.576989    -2.231678  \n",
       "6         N/A       N/A   14.240220  22.232415    -7.992195  \n",
       "6         N/A       N/A   33.300593  53.069380   -19.768787  \n",
       "6         N/A       N/A   44.794582  59.557944   -14.763362  \n",
       "6         N/A       N/A   60.847350  64.118377    -3.271027  \n",
       "6         N/A       N/A   19.038378  25.012244    -5.973866  \n",
       "6         N/A       N/A   16.144048  19.759498    -3.615449  \n",
       "6         N/A       N/A   13.963483  17.183356    -3.219872  \n",
       "6         N/A       N/A   14.079825  17.269822    -3.189998  \n",
       "6         N/A       N/A    7.222921  10.202259    -2.979338  \n",
       "6         N/A       N/A   25.608983  31.288335    -5.679353  \n",
       "6         N/A       N/A   13.554376  15.208817    -1.654440  "
      ]
     },
     "execution_count": 21,
     "metadata": {},
     "output_type": "execute_result"
    }
   ],
   "source": [
    "results_df[results_df[\"Fold\"] == \"MEAN\"]"
   ]
  },
  {
   "cell_type": "code",
   "execution_count": 22,
   "id": "35742314",
   "metadata": {
    "execution": {
     "iopub.execute_input": "2022-03-05T01:40:58.369682Z",
     "iopub.status.busy": "2022-03-05T01:40:58.368783Z",
     "iopub.status.idle": "2022-03-05T01:40:59.659213Z",
     "shell.execute_reply": "2022-03-05T01:40:59.659618Z",
     "shell.execute_reply.started": "2022-03-05T01:38:45.480932Z"
    },
    "papermill": {
     "duration": 1.338009,
     "end_time": "2022-03-05T01:40:59.659791",
     "exception": false,
     "start_time": "2022-03-05T01:40:58.321782",
     "status": "completed"
    },
    "tags": []
   },
   "outputs": [
    {
     "data": {
      "image/png": "[encoded data removed]",
      "text/plain": [
       "<Figure size 360x360 with 1 Axes>"
      ]
     },
     "metadata": {
      "needs_background": "light"
     },
     "output_type": "display_data"
    },
    {
     "data": {
      "image/png": "[encoded data removed]",
      "text/plain": [
       "<Figure size 360x360 with 1 Axes>"
      ]
     },
     "metadata": {
      "needs_background": "light"
     },
     "output_type": "display_data"
    },
    {
     "data": {
      "image/png": "[encoded data removed]",
      "text/plain": [
       "<Figure size 360x360 with 1 Axes>"
      ]
     },
     "metadata": {
      "needs_background": "light"
     },
     "output_type": "display_data"
    },
    {
     "data": {
      "image/png": "[encoded data removed]",
      "text/plain": [
       "<Figure size 360x360 with 1 Axes>"
      ]
     },
     "metadata": {
      "needs_background": "light"
     },
     "output_type": "display_data"
    }
   ],
   "source": [
    "for i in range(len(models[\"2to4_5plus_Mixed\"])):\n",
    "    lgb.plot_importance(models[\"2to4_5plus_Mixed\"][i], figsize=(5, 5), height=0.5, max_num_features=20);"
   ]
  },
  {
   "cell_type": "markdown",
   "id": "f322789a",
   "metadata": {
    "papermill": {
     "duration": 0.042308,
     "end_time": "2022-03-05T01:40:59.744968",
     "exception": false,
     "start_time": "2022-03-05T01:40:59.702660",
     "status": "completed"
    },
    "tags": []
   },
   "source": [
    "## Hyperparameter Tuning"
   ]
  },
  {
   "cell_type": "markdown",
   "id": "e26b7b74",
   "metadata": {
    "papermill": {
     "duration": 0.041659,
     "end_time": "2022-03-05T01:40:59.829082",
     "exception": false,
     "start_time": "2022-03-05T01:40:59.787423",
     "status": "completed"
    },
    "tags": []
   },
   "source": [
    "# Section 6: Final models and predictions"
   ]
  },
  {
   "cell_type": "code",
   "execution_count": 23,
   "id": "272fd0fa",
   "metadata": {
    "execution": {
     "iopub.execute_input": "2022-03-05T01:40:59.922368Z",
     "iopub.status.busy": "2022-03-05T01:40:59.921465Z",
     "iopub.status.idle": "2022-03-05T01:40:59.923247Z",
     "shell.execute_reply": "2022-03-05T01:40:59.923650Z",
     "shell.execute_reply.started": "2022-03-05T01:38:46.808129Z"
    },
    "papermill": {
     "duration": 0.052761,
     "end_time": "2022-03-05T01:40:59.923800",
     "exception": false,
     "start_time": "2022-03-05T01:40:59.871039",
     "status": "completed"
    },
    "tags": []
   },
   "outputs": [],
   "source": [
    "regressor = VotingRegressor([\n",
    "    (\n",
    "        \"xgb\", \n",
    "        xgb.XGBRegressor(\n",
    "            n_estimators=1000,\n",
    "            max_depth=8,\n",
    "            learning_rate=0.15,\n",
    "            verbosity=0,\n",
    "            tree_method=\"gpu_hist\",\n",
    "            random_state=SEED,\n",
    "        )\n",
    "    ),\n",
    "    (\n",
    "        \"lgb\",\n",
    "        lgb.LGBMRegressor(\n",
    "            force_row_wise=True,\n",
    "            max_depth=8,\n",
    "            learning_rate=0.15,\n",
    "            n_estimators=1000,\n",
    "            num_leaves=256,\n",
    "            device=\"gpu\",\n",
    "            random_state=SEED\n",
    "        )\n",
    "    ),\n",
    "    (\n",
    "        \"cb\",\n",
    "        cb.CatBoostRegressor(\n",
    "            n_estimators=1000,\n",
    "            learning_rate=0.15,\n",
    "            max_depth=8,\n",
    "            verbose=False,\n",
    "            random_seed=SEED,\n",
    "            task_type=\"GPU\"\n",
    "        )\n",
    "    )\n",
    "])"
   ]
  },
  {
   "cell_type": "code",
   "execution_count": 24,
   "id": "17e019da",
   "metadata": {
    "execution": {
     "iopub.execute_input": "2022-03-05T01:41:00.016019Z",
     "iopub.status.busy": "2022-03-05T01:41:00.015177Z",
     "iopub.status.idle": "2022-03-05T01:47:56.501242Z",
     "shell.execute_reply": "2022-03-05T01:47:56.502416Z",
     "shell.execute_reply.started": "2022-03-05T01:38:46.817833Z"
    },
    "papermill": {
     "duration": 416.536887,
     "end_time": "2022-03-05T01:47:56.502650",
     "exception": false,
     "start_time": "2022-03-05T01:40:59.965763",
     "status": "completed"
    },
    "tags": []
   },
   "outputs": [],
   "source": [
    "predictions = train_and_predict(regressor, X_trains, y_trains, X_tests, ct, TARGET)"
   ]
  },
  {
   "cell_type": "code",
   "execution_count": 25,
   "id": "35d3ed0f",
   "metadata": {
    "execution": {
     "iopub.execute_input": "2022-03-05T01:47:56.667983Z",
     "iopub.status.busy": "2022-03-05T01:47:56.666619Z",
     "iopub.status.idle": "2022-03-05T01:47:56.675298Z",
     "shell.execute_reply": "2022-03-05T01:47:56.676229Z",
     "shell.execute_reply.started": "2022-03-05T01:39:15.259271Z"
    },
    "papermill": {
     "duration": 0.098573,
     "end_time": "2022-03-05T01:47:56.676413",
     "exception": false,
     "start_time": "2022-03-05T01:47:56.577840",
     "status": "completed"
    },
    "tags": []
   },
   "outputs": [
    {
     "data": {
      "text/html": [
       "<div>\n",
       "<style scoped>\n",
       "    .dataframe tbody tr th:only-of-type {\n",
       "        vertical-align: middle;\n",
       "    }\n",
       "\n",
       "    .dataframe tbody tr th {\n",
       "        vertical-align: top;\n",
       "    }\n",
       "\n",
       "    .dataframe thead th {\n",
       "        text-align: right;\n",
       "    }\n",
       "</style>\n",
       "<table border=\"1\" class=\"dataframe\">\n",
       "  <thead>\n",
       "    <tr style=\"text-align: right;\">\n",
       "      <th></th>\n",
       "      <th>id</th>\n",
       "      <th>site_eui</th>\n",
       "    </tr>\n",
       "  </thead>\n",
       "  <tbody>\n",
       "    <tr>\n",
       "      <th>0</th>\n",
       "      <td>75757</td>\n",
       "      <td>155.549032</td>\n",
       "    </tr>\n",
       "    <tr>\n",
       "      <th>1</th>\n",
       "      <td>75758</td>\n",
       "      <td>258.077609</td>\n",
       "    </tr>\n",
       "    <tr>\n",
       "      <th>2</th>\n",
       "      <td>75759</td>\n",
       "      <td>150.143738</td>\n",
       "    </tr>\n",
       "    <tr>\n",
       "      <th>3</th>\n",
       "      <td>75760</td>\n",
       "      <td>264.746211</td>\n",
       "    </tr>\n",
       "    <tr>\n",
       "      <th>4</th>\n",
       "      <td>75761</td>\n",
       "      <td>248.344004</td>\n",
       "    </tr>\n",
       "    <tr>\n",
       "      <th>...</th>\n",
       "      <td>...</td>\n",
       "      <td>...</td>\n",
       "    </tr>\n",
       "    <tr>\n",
       "      <th>1651</th>\n",
       "      <td>85457</td>\n",
       "      <td>25.023604</td>\n",
       "    </tr>\n",
       "    <tr>\n",
       "      <th>1652</th>\n",
       "      <td>85458</td>\n",
       "      <td>20.934044</td>\n",
       "    </tr>\n",
       "    <tr>\n",
       "      <th>1653</th>\n",
       "      <td>85459</td>\n",
       "      <td>36.901904</td>\n",
       "    </tr>\n",
       "    <tr>\n",
       "      <th>1654</th>\n",
       "      <td>85460</td>\n",
       "      <td>28.354291</td>\n",
       "    </tr>\n",
       "    <tr>\n",
       "      <th>1655</th>\n",
       "      <td>85461</td>\n",
       "      <td>17.565379</td>\n",
       "    </tr>\n",
       "  </tbody>\n",
       "</table>\n",
       "<p>9705 rows × 2 columns</p>\n",
       "</div>"
      ],
      "text/plain": [
       "         id    site_eui\n",
       "0     75757  155.549032\n",
       "1     75758  258.077609\n",
       "2     75759  150.143738\n",
       "3     75760  264.746211\n",
       "4     75761  248.344004\n",
       "...     ...         ...\n",
       "1651  85457   25.023604\n",
       "1652  85458   20.934044\n",
       "1653  85459   36.901904\n",
       "1654  85460   28.354291\n",
       "1655  85461   17.565379\n",
       "\n",
       "[9705 rows x 2 columns]"
      ]
     },
     "execution_count": 25,
     "metadata": {},
     "output_type": "execute_result"
    }
   ],
   "source": [
    "predictions"
   ]
  },
  {
   "cell_type": "code",
   "execution_count": 26,
   "id": "01ba1354",
   "metadata": {
    "execution": {
     "iopub.execute_input": "2022-03-05T01:47:56.819251Z",
     "iopub.status.busy": "2022-03-05T01:47:56.818531Z",
     "iopub.status.idle": "2022-03-05T01:47:56.821436Z",
     "shell.execute_reply": "2022-03-05T01:47:56.822015Z",
     "shell.execute_reply.started": "2022-03-05T01:39:15.261301Z"
    },
    "papermill": {
     "duration": 0.081941,
     "end_time": "2022-03-05T01:47:56.822222",
     "exception": false,
     "start_time": "2022-03-05T01:47:56.740281",
     "status": "completed"
    },
    "tags": []
   },
   "outputs": [],
   "source": [
    "assert sum(predictions.isna().sum()) == 0"
   ]
  },
  {
   "cell_type": "code",
   "execution_count": 27,
   "id": "f0202df8",
   "metadata": {
    "execution": {
     "iopub.execute_input": "2022-03-05T01:47:56.963490Z",
     "iopub.status.busy": "2022-03-05T01:47:56.962728Z",
     "iopub.status.idle": "2022-03-05T01:47:57.005573Z",
     "shell.execute_reply": "2022-03-05T01:47:57.006529Z",
     "shell.execute_reply.started": "2022-03-05T01:39:15.263274Z"
    },
    "papermill": {
     "duration": 0.119731,
     "end_time": "2022-03-05T01:47:57.006781",
     "exception": false,
     "start_time": "2022-03-05T01:47:56.887050",
     "status": "completed"
    },
    "tags": []
   },
   "outputs": [],
   "source": [
    "predictions.to_csv(\"submission.csv\", index=False)"
   ]
  }
 ],
 "metadata": {
  "kernelspec": {
   "display_name": "Python 3",
   "language": "python",
   "name": "python3"
  },
  "language_info": {
   "codemirror_mode": {
    "name": "ipython",
    "version": 3
   },
   "file_extension": ".py",
   "mimetype": "text/x-python",
   "name": "python",
   "nbconvert_exporter": "python",
   "pygments_lexer": "ipython3",
   "version": "3.7.12"
  },
  "papermill": {
   "default_parameters": {},
   "duration": 449.503185,
   "end_time": "2022-03-05T01:47:58.485108",
   "environment_variables": {},
   "exception": null,
   "input_path": "__notebook__.ipynb",
   "output_path": "__notebook__.ipynb",
   "parameters": {},
   "start_time": "2022-03-05T01:40:28.981923",
   "version": "2.3.3"
  }
 },
 "nbformat": 4,
 "nbformat_minor": 5
}
