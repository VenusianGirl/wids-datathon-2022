{
 "cells": [
  {
   "cell_type": "markdown",
   "id": "491d50ab",
   "metadata": {
    "papermill": {
     "duration": 0.053648,
     "end_time": "2022-02-21T23:04:38.757813",
     "exception": false,
     "start_time": "2022-02-21T23:04:38.704165",
     "status": "completed"
    },
    "tags": []
   },
   "source": [
    "# Women in Data Science 2022"
   ]
  },
  {
   "cell_type": "markdown",
   "id": "6cde59ef",
   "metadata": {
    "papermill": {
     "duration": 0.066678,
     "end_time": "2022-02-21T23:04:38.881038",
     "exception": false,
     "start_time": "2022-02-21T23:04:38.814360",
     "status": "completed"
    },
    "tags": []
   },
   "source": [
    "# Section 1: Notebook set up"
   ]
  },
  {
   "cell_type": "markdown",
   "id": "62f5c703",
   "metadata": {
    "_cell_guid": "b1076dfc-b9ad-4769-8c92-a6c4dae69d19",
    "_uuid": "8f2839f25d086af736a60e9eeb907d3b93b6e0e5",
    "papermill": {
     "duration": 0.053004,
     "end_time": "2022-02-21T23:04:38.991563",
     "exception": false,
     "start_time": "2022-02-21T23:04:38.938559",
     "status": "completed"
    },
    "tags": []
   },
   "source": [
    "## Imports"
   ]
  },
  {
   "cell_type": "code",
   "execution_count": 1,
   "id": "0f768afc",
   "metadata": {
    "execution": {
     "iopub.execute_input": "2022-02-21T23:04:39.102949Z",
     "iopub.status.busy": "2022-02-21T23:04:39.101233Z",
     "iopub.status.idle": "2022-02-21T23:04:41.972779Z",
     "shell.execute_reply": "2022-02-21T23:04:41.972057Z",
     "shell.execute_reply.started": "2022-02-21T23:03:10.244902Z"
    },
    "papermill": {
     "duration": 2.928296,
     "end_time": "2022-02-21T23:04:41.972936",
     "exception": false,
     "start_time": "2022-02-21T23:04:39.044640",
     "status": "completed"
    },
    "tags": []
   },
   "outputs": [
    {
     "data": {
      "text/html": [
       "<style type='text/css'>\n",
       ".datatable table.frame { margin-bottom: 0; }\n",
       ".datatable table.frame thead { border-bottom: none; }\n",
       ".datatable table.frame tr.coltypes td {  color: #FFFFFF;  line-height: 6px;  padding: 0 0.5em;}\n",
       ".datatable .bool    { background: #DDDD99; }\n",
       ".datatable .object  { background: #565656; }\n",
       ".datatable .int     { background: #5D9E5D; }\n",
       ".datatable .float   { background: #4040CC; }\n",
       ".datatable .str     { background: #CC4040; }\n",
       ".datatable .time    { background: #40CC40; }\n",
       ".datatable .row_index {  background: var(--jp-border-color3);  border-right: 1px solid var(--jp-border-color0);  color: var(--jp-ui-font-color3);  font-size: 9px;}\n",
       ".datatable .frame tbody td { text-align: left; }\n",
       ".datatable .frame tr.coltypes .row_index {  background: var(--jp-border-color0);}\n",
       ".datatable th:nth-child(2) { padding-left: 12px; }\n",
       ".datatable .hellipsis {  color: var(--jp-cell-editor-border-color);}\n",
       ".datatable .vellipsis {  background: var(--jp-layout-color0);  color: var(--jp-cell-editor-border-color);}\n",
       ".datatable .na {  color: var(--jp-cell-editor-border-color);  font-size: 80%;}\n",
       ".datatable .sp {  opacity: 0.25;}\n",
       ".datatable .footer { font-size: 9px; }\n",
       ".datatable .frame_dimensions {  background: var(--jp-border-color3);  border-top: 1px solid var(--jp-border-color0);  color: var(--jp-ui-font-color3);  display: inline-block;  opacity: 0.6;  padding: 1px 10px 1px 5px;}\n",
       "</style>\n"
      ],
      "text/plain": [
       "<IPython.core.display.HTML object>"
      ]
     },
     "metadata": {},
     "output_type": "display_data"
    }
   ],
   "source": [
    "import random, os\n",
    "\n",
    "import numpy as np\n",
    "import pandas as pd\n",
    "import seaborn as sns\n",
    "import matplotlib.pyplot as plt\n",
    "import xgboost as xgb\n",
    "import lightgbm as lgb\n",
    "import catboost as cb\n",
    "\n",
    "from copy import deepcopy\n",
    "\n",
    "from sklearn.cluster import KMeans\n",
    "from sklearn.pipeline import make_pipeline\n",
    "from sklearn.ensemble import VotingRegressor\n",
    "from sklearn.metrics import mean_squared_error\n",
    "from sklearn.linear_model import BayesianRidge, Ridge\n",
    "from sklearn.experimental import enable_iterative_imputer\n",
    "from sklearn.impute import SimpleImputer, IterativeImputer\n",
    "from sklearn.compose import make_column_transformer, TransformedTargetRegressor\n",
    "from sklearn.model_selection import (\n",
    "    RandomizedSearchCV,\n",
    "    train_test_split,\n",
    "    cross_validate,\n",
    "    cross_val_score,\n",
    "    LeaveOneGroupOut,\n",
    ")\n",
    "from sklearn.preprocessing import (\n",
    "    OneHotEncoder,\n",
    "    OrdinalEncoder,\n",
    "    PowerTransformer,\n",
    "    StandardScaler,\n",
    ")\n",
    "\n",
    "from sklearn.utils.validation import check_is_fitted\n",
    "\n",
    "from yellowbrick.cluster import KElbowVisualizer, SilhouetteVisualizer"
   ]
  },
  {
   "cell_type": "markdown",
   "id": "45004e1a",
   "metadata": {
    "papermill": {
     "duration": 0.052186,
     "end_time": "2022-02-21T23:04:42.082957",
     "exception": false,
     "start_time": "2022-02-21T23:04:42.030771",
     "status": "completed"
    },
    "tags": []
   },
   "source": [
    "## Global notebook setup"
   ]
  },
  {
   "cell_type": "markdown",
   "id": "04b5a3a6",
   "metadata": {
    "papermill": {
     "duration": 0.051934,
     "end_time": "2022-02-21T23:04:42.187403",
     "exception": false,
     "start_time": "2022-02-21T23:04:42.135469",
     "status": "completed"
    },
    "tags": []
   },
   "source": [
    "### Global variables"
   ]
  },
  {
   "cell_type": "code",
   "execution_count": 2,
   "id": "66adae80",
   "metadata": {
    "execution": {
     "iopub.execute_input": "2022-02-21T23:04:42.295652Z",
     "iopub.status.busy": "2022-02-21T23:04:42.294734Z",
     "iopub.status.idle": "2022-02-21T23:04:42.298688Z",
     "shell.execute_reply": "2022-02-21T23:04:42.299075Z",
     "shell.execute_reply.started": "2022-02-21T23:03:10.261249Z"
    },
    "papermill": {
     "duration": 0.059461,
     "end_time": "2022-02-21T23:04:42.299234",
     "exception": false,
     "start_time": "2022-02-21T23:04:42.239773",
     "status": "completed"
    },
    "scrolled": true,
    "tags": []
   },
   "outputs": [],
   "source": [
    "TRAIN_PATH = \"../input/widsdatathon2022/train.csv\"\n",
    "TEST_PATH = \"../input/widsdatathon2022/test.csv\"\n",
    "SUBMISSION_PATH = \"../output/\"\n",
    "TARGET = \"site_eui\"\n",
    "SCORE = \"neg_root_mean_squared_error\"\n",
    "SEED = 777"
   ]
  },
  {
   "cell_type": "markdown",
   "id": "093434f5",
   "metadata": {
    "papermill": {
     "duration": 0.052142,
     "end_time": "2022-02-21T23:04:42.403801",
     "exception": false,
     "start_time": "2022-02-21T23:04:42.351659",
     "status": "completed"
    },
    "tags": []
   },
   "source": [
    "### Display options"
   ]
  },
  {
   "cell_type": "code",
   "execution_count": 3,
   "id": "e88af196",
   "metadata": {
    "execution": {
     "iopub.execute_input": "2022-02-21T23:04:42.513447Z",
     "iopub.status.busy": "2022-02-21T23:04:42.512538Z",
     "iopub.status.idle": "2022-02-21T23:04:42.516158Z",
     "shell.execute_reply": "2022-02-21T23:04:42.516576Z",
     "shell.execute_reply.started": "2022-02-21T23:03:10.277939Z"
    },
    "papermill": {
     "duration": 0.06022,
     "end_time": "2022-02-21T23:04:42.516735",
     "exception": false,
     "start_time": "2022-02-21T23:04:42.456515",
     "status": "completed"
    },
    "tags": []
   },
   "outputs": [],
   "source": [
    "pd.options.display.max_rows = 100"
   ]
  },
  {
   "cell_type": "markdown",
   "id": "bf5a7fb4",
   "metadata": {
    "papermill": {
     "duration": 0.053089,
     "end_time": "2022-02-21T23:04:42.623547",
     "exception": false,
     "start_time": "2022-02-21T23:04:42.570458",
     "status": "completed"
    },
    "tags": []
   },
   "source": [
    "# Section 2: Data preprocessing"
   ]
  },
  {
   "cell_type": "markdown",
   "id": "2f0f69c7",
   "metadata": {
    "papermill": {
     "duration": 0.052749,
     "end_time": "2022-02-21T23:04:42.729406",
     "exception": false,
     "start_time": "2022-02-21T23:04:42.676657",
     "status": "completed"
    },
    "tags": []
   },
   "source": [
    "## Read in data"
   ]
  },
  {
   "cell_type": "code",
   "execution_count": 4,
   "id": "7789ef4a",
   "metadata": {
    "execution": {
     "iopub.execute_input": "2022-02-21T23:04:42.841049Z",
     "iopub.status.busy": "2022-02-21T23:04:42.840432Z",
     "iopub.status.idle": "2022-02-21T23:04:42.844414Z",
     "shell.execute_reply": "2022-02-21T23:04:42.844888Z",
     "shell.execute_reply.started": "2022-02-21T23:03:10.289352Z"
    },
    "papermill": {
     "duration": 0.06085,
     "end_time": "2022-02-21T23:04:42.845049",
     "exception": false,
     "start_time": "2022-02-21T23:04:42.784199",
     "status": "completed"
    },
    "tags": []
   },
   "outputs": [],
   "source": [
    "def read_data(train_path, test_path):\n",
    "    \"\"\"Reads in train and test data.\"\"\"\n",
    "    train_df = pd.read_csv(train_path)\n",
    "    test_df = pd.read_csv(test_path)\n",
    "    return train_df, test_df"
   ]
  },
  {
   "cell_type": "code",
   "execution_count": 5,
   "id": "2ce5e650",
   "metadata": {
    "execution": {
     "iopub.execute_input": "2022-02-21T23:04:42.956534Z",
     "iopub.status.busy": "2022-02-21T23:04:42.955825Z",
     "iopub.status.idle": "2022-02-21T23:04:43.821050Z",
     "shell.execute_reply": "2022-02-21T23:04:43.820502Z",
     "shell.execute_reply.started": "2022-02-21T23:03:10.304461Z"
    },
    "papermill": {
     "duration": 0.923235,
     "end_time": "2022-02-21T23:04:43.821182",
     "exception": false,
     "start_time": "2022-02-21T23:04:42.897947",
     "status": "completed"
    },
    "tags": []
   },
   "outputs": [],
   "source": [
    "train, test = read_data(TRAIN_PATH, TEST_PATH)"
   ]
  },
  {
   "cell_type": "code",
   "execution_count": 6,
   "id": "6e504f05",
   "metadata": {
    "execution": {
     "iopub.execute_input": "2022-02-21T23:04:43.932652Z",
     "iopub.status.busy": "2022-02-21T23:04:43.931691Z",
     "iopub.status.idle": "2022-02-21T23:04:43.938872Z",
     "shell.execute_reply": "2022-02-21T23:04:43.938296Z",
     "shell.execute_reply.started": "2022-02-21T23:03:10.958817Z"
    },
    "papermill": {
     "duration": 0.065037,
     "end_time": "2022-02-21T23:04:43.939005",
     "exception": false,
     "start_time": "2022-02-21T23:04:43.873968",
     "status": "completed"
    },
    "tags": []
   },
   "outputs": [
    {
     "data": {
      "text/plain": [
       "(75757, 64)"
      ]
     },
     "execution_count": 6,
     "metadata": {},
     "output_type": "execute_result"
    }
   ],
   "source": [
    "train.shape"
   ]
  },
  {
   "cell_type": "code",
   "execution_count": 7,
   "id": "4e869d59",
   "metadata": {
    "execution": {
     "iopub.execute_input": "2022-02-21T23:04:44.053430Z",
     "iopub.status.busy": "2022-02-21T23:04:44.052769Z",
     "iopub.status.idle": "2022-02-21T23:04:44.055896Z",
     "shell.execute_reply": "2022-02-21T23:04:44.056368Z",
     "shell.execute_reply.started": "2022-02-21T23:03:10.967079Z"
    },
    "papermill": {
     "duration": 0.062947,
     "end_time": "2022-02-21T23:04:44.056538",
     "exception": false,
     "start_time": "2022-02-21T23:04:43.993591",
     "status": "completed"
    },
    "tags": []
   },
   "outputs": [
    {
     "data": {
      "text/plain": [
       "(9705, 63)"
      ]
     },
     "execution_count": 7,
     "metadata": {},
     "output_type": "execute_result"
    }
   ],
   "source": [
    "test.shape"
   ]
  },
  {
   "cell_type": "markdown",
   "id": "e2c71c64",
   "metadata": {
    "papermill": {
     "duration": 0.052917,
     "end_time": "2022-02-21T23:04:44.162807",
     "exception": false,
     "start_time": "2022-02-21T23:04:44.109890",
     "status": "completed"
    },
    "tags": []
   },
   "source": [
    "## Duplicated data"
   ]
  },
  {
   "cell_type": "code",
   "execution_count": 8,
   "id": "aa2618af",
   "metadata": {
    "execution": {
     "iopub.execute_input": "2022-02-21T23:04:44.274837Z",
     "iopub.status.busy": "2022-02-21T23:04:44.273860Z",
     "iopub.status.idle": "2022-02-21T23:04:44.275648Z",
     "shell.execute_reply": "2022-02-21T23:04:44.276168Z",
     "shell.execute_reply.started": "2022-02-21T23:03:10.979029Z"
    },
    "papermill": {
     "duration": 0.060531,
     "end_time": "2022-02-21T23:04:44.276320",
     "exception": false,
     "start_time": "2022-02-21T23:04:44.215789",
     "status": "completed"
    },
    "tags": []
   },
   "outputs": [],
   "source": [
    "def get_duplicates(df, drop_cols=None):\n",
    "    \"\"\"Returns duplicated values in a dataframe.\"\"\"\n",
    "    if drop_cols is not None:\n",
    "        return df[df.drop(columns=drop_cols).duplicated()]\n",
    "    else:\n",
    "        return df[df.duplicated()]"
   ]
  },
  {
   "cell_type": "code",
   "execution_count": 9,
   "id": "92d50b58",
   "metadata": {
    "execution": {
     "iopub.execute_input": "2022-02-21T23:04:44.388093Z",
     "iopub.status.busy": "2022-02-21T23:04:44.387121Z",
     "iopub.status.idle": "2022-02-21T23:04:44.392769Z",
     "shell.execute_reply": "2022-02-21T23:04:44.392272Z",
     "shell.execute_reply.started": "2022-02-21T23:03:10.991713Z"
    },
    "papermill": {
     "duration": 0.062885,
     "end_time": "2022-02-21T23:04:44.392904",
     "exception": false,
     "start_time": "2022-02-21T23:04:44.330019",
     "status": "completed"
    },
    "tags": []
   },
   "outputs": [],
   "source": [
    "def remove_duplicates(df, drop_cols=None):\n",
    "    \"\"\"Removes duplicated values in a dataframe\"\"\"\n",
    "    df_clean = df.copy()\n",
    "    if drop_cols is not None:\n",
    "        df_clean = df_clean[~df_clean.drop(columns=drop_cols).duplicated()]\n",
    "    else:\n",
    "        df_clean = df_clean[~df_clean.duplicated()]\n",
    "    return df_clean.reset_index(drop=True)"
   ]
  },
  {
   "cell_type": "code",
   "execution_count": 10,
   "id": "b1dde8e5",
   "metadata": {
    "execution": {
     "iopub.execute_input": "2022-02-21T23:04:44.502174Z",
     "iopub.status.busy": "2022-02-21T23:04:44.501578Z",
     "iopub.status.idle": "2022-02-21T23:04:44.673985Z",
     "shell.execute_reply": "2022-02-21T23:04:44.673498Z",
     "shell.execute_reply.started": "2022-02-21T23:03:11.003603Z"
    },
    "papermill": {
     "duration": 0.227962,
     "end_time": "2022-02-21T23:04:44.674136",
     "exception": false,
     "start_time": "2022-02-21T23:04:44.446174",
     "status": "completed"
    },
    "tags": []
   },
   "outputs": [],
   "source": [
    "train_duplicates = get_duplicates(train, [\"id\"])\n",
    "test_duplicates = get_duplicates(test, [\"id\"])"
   ]
  },
  {
   "cell_type": "code",
   "execution_count": 11,
   "id": "8de0e37b",
   "metadata": {
    "execution": {
     "iopub.execute_input": "2022-02-21T23:04:44.786814Z",
     "iopub.status.busy": "2022-02-21T23:04:44.785858Z",
     "iopub.status.idle": "2022-02-21T23:04:44.791895Z",
     "shell.execute_reply": "2022-02-21T23:04:44.791383Z",
     "shell.execute_reply.started": "2022-02-21T23:03:11.203597Z"
    },
    "papermill": {
     "duration": 0.064527,
     "end_time": "2022-02-21T23:04:44.792035",
     "exception": false,
     "start_time": "2022-02-21T23:04:44.727508",
     "status": "completed"
    },
    "tags": []
   },
   "outputs": [
    {
     "data": {
      "text/plain": [
       "(39, 64)"
      ]
     },
     "execution_count": 11,
     "metadata": {},
     "output_type": "execute_result"
    }
   ],
   "source": [
    "train_duplicates.shape"
   ]
  },
  {
   "cell_type": "code",
   "execution_count": 12,
   "id": "253c4a10",
   "metadata": {
    "execution": {
     "iopub.execute_input": "2022-02-21T23:04:44.908014Z",
     "iopub.status.busy": "2022-02-21T23:04:44.907368Z",
     "iopub.status.idle": "2022-02-21T23:04:44.909870Z",
     "shell.execute_reply": "2022-02-21T23:04:44.910279Z",
     "shell.execute_reply.started": "2022-02-21T23:03:11.212134Z"
    },
    "papermill": {
     "duration": 0.063352,
     "end_time": "2022-02-21T23:04:44.910455",
     "exception": false,
     "start_time": "2022-02-21T23:04:44.847103",
     "status": "completed"
    },
    "tags": []
   },
   "outputs": [
    {
     "data": {
      "text/plain": [
       "(5, 63)"
      ]
     },
     "execution_count": 12,
     "metadata": {},
     "output_type": "execute_result"
    }
   ],
   "source": [
    "test_duplicates.shape"
   ]
  },
  {
   "cell_type": "code",
   "execution_count": 13,
   "id": "fd550e20",
   "metadata": {
    "execution": {
     "iopub.execute_input": "2022-02-21T23:04:45.022831Z",
     "iopub.status.busy": "2022-02-21T23:04:45.021295Z",
     "iopub.status.idle": "2022-02-21T23:04:45.214597Z",
     "shell.execute_reply": "2022-02-21T23:04:45.213996Z",
     "shell.execute_reply.started": "2022-02-21T23:03:11.225178Z"
    },
    "papermill": {
     "duration": 0.24988,
     "end_time": "2022-02-21T23:04:45.214731",
     "exception": false,
     "start_time": "2022-02-21T23:04:44.964851",
     "status": "completed"
    },
    "tags": []
   },
   "outputs": [],
   "source": [
    "train = remove_duplicates(train, [\"id\"])"
   ]
  },
  {
   "cell_type": "code",
   "execution_count": 14,
   "id": "3f1331df",
   "metadata": {
    "execution": {
     "iopub.execute_input": "2022-02-21T23:04:45.328902Z",
     "iopub.status.busy": "2022-02-21T23:04:45.328137Z",
     "iopub.status.idle": "2022-02-21T23:04:45.330678Z",
     "shell.execute_reply": "2022-02-21T23:04:45.331117Z",
     "shell.execute_reply.started": "2022-02-21T23:03:11.433081Z"
    },
    "papermill": {
     "duration": 0.061638,
     "end_time": "2022-02-21T23:04:45.331275",
     "exception": false,
     "start_time": "2022-02-21T23:04:45.269637",
     "status": "completed"
    },
    "tags": []
   },
   "outputs": [
    {
     "data": {
      "text/plain": [
       "(75718, 64)"
      ]
     },
     "execution_count": 14,
     "metadata": {},
     "output_type": "execute_result"
    }
   ],
   "source": [
    "train.shape"
   ]
  },
  {
   "cell_type": "markdown",
   "id": "464984fa",
   "metadata": {
    "papermill": {
     "duration": 0.054081,
     "end_time": "2022-02-21T23:04:45.440047",
     "exception": false,
     "start_time": "2022-02-21T23:04:45.385966",
     "status": "completed"
    },
    "tags": []
   },
   "source": [
    "## Separate data by facility (residential vs. commercial)"
   ]
  },
  {
   "cell_type": "code",
   "execution_count": 15,
   "id": "e1012238",
   "metadata": {
    "execution": {
     "iopub.execute_input": "2022-02-21T23:04:45.553196Z",
     "iopub.status.busy": "2022-02-21T23:04:45.552598Z",
     "iopub.status.idle": "2022-02-21T23:04:45.556473Z",
     "shell.execute_reply": "2022-02-21T23:04:45.556993Z",
     "shell.execute_reply.started": "2022-02-21T23:03:11.441847Z"
    },
    "papermill": {
     "duration": 0.062029,
     "end_time": "2022-02-21T23:04:45.557153",
     "exception": false,
     "start_time": "2022-02-21T23:04:45.495124",
     "status": "completed"
    },
    "tags": []
   },
   "outputs": [],
   "source": [
    "def split_building_data(df, groups):\n",
    "    \"\"\"Creates separate dataframes based on facility type groups\"\"\"\n",
    "    dfs = {}\n",
    "\n",
    "    for name, group in groups.items():\n",
    "        group_df = df.query(\"facility_type in @group\")\n",
    "        dfs[name] = group_df.reset_index(drop=True)\n",
    "\n",
    "    return dfs"
   ]
  },
  {
   "cell_type": "code",
   "execution_count": 16,
   "id": "646bcff7",
   "metadata": {
    "execution": {
     "iopub.execute_input": "2022-02-21T23:04:45.669625Z",
     "iopub.status.busy": "2022-02-21T23:04:45.668959Z",
     "iopub.status.idle": "2022-02-21T23:04:45.683912Z",
     "shell.execute_reply": "2022-02-21T23:04:45.684406Z",
     "shell.execute_reply.started": "2022-02-21T23:03:11.454215Z"
    },
    "papermill": {
     "duration": 0.072724,
     "end_time": "2022-02-21T23:04:45.684579",
     "exception": false,
     "start_time": "2022-02-21T23:04:45.611855",
     "status": "completed"
    },
    "tags": []
   },
   "outputs": [],
   "source": [
    "# groups = {\n",
    "#     \"residential\": {\n",
    "#         '2to4_Unit_Building', '5plus_Unit_Building', 'Mixed_Use_Commercial_and_Residential',\n",
    "#         'Mixed_Use_Predominantly_Residential', 'Multifamily_Uncategorized'\n",
    "#     },\n",
    "#     \"commercial\": {\n",
    "#         'Mixed_Use_Predominantly_Commercial', 'Commercial_Other', 'Commercial_Unknown',\n",
    "#         'Data_Center', 'Education_College_or_university', 'Education_Other_classroom',\n",
    "#         'Education_Preschool_or_daycare', 'Education_Uncategorized', 'Food_Sales',\n",
    "#         'Food_Service_Other', 'Food_Service_Restaurant_or_cafeteria', 'Food_Service_Uncategorized',\n",
    "#         'Grocery_store_or_food_market', 'Health_Care_Inpatient', 'Health_Care_Outpatient_Clinic',\n",
    "#         'Health_Care_Outpatient_Uncategorized', 'Health_Care_Uncategorized', 'Industrial',\n",
    "#         'Laboratory', 'Lodging_Dormitory_or_fraternity_sorority', 'Lodging_Hotel', 'Lodging_Other',\n",
    "#         'Lodging_Uncategorized', 'Nursing_Home', 'Office_Bank_or_other_financial', 'Office_Medical_non_diagnostic',\n",
    "#         'Office_Mixed_use', 'Office_Uncategorized', 'Parking_Garage', 'Public_Assembly_Drama_theater',\n",
    "#         'Public_Assembly_Entertainment_culture', 'Public_Assembly_Library', 'Public_Assembly_Movie_Theater',\n",
    "#         'Public_Assembly_Other', 'Public_Assembly_Recreation', 'Public_Assembly_Social_meeting',\n",
    "#         'Public_Assembly_Stadium', 'Public_Assembly_Uncategorized', 'Public_Safety_Courthouse',\n",
    "#         'Public_Safety_Fire_or_police_station', 'Public_Safety_Penitentiary', 'Public_Safety_Uncategorized',\n",
    "#         'Religious_worship', 'Retail_Enclosed_mall', 'Retail_Strip_shopping_mall', 'Retail_Uncategorized',\n",
    "#         'Retail_Vehicle_dealership_showroom', 'Service_Drycleaning_or_Laundry', 'Service_Uncategorized',\n",
    "#         'Service_Vehicle_service_repair_shop', 'Warehouse_Distribution_or_Shipping_center', 'Warehouse_Nonrefrigerated',\n",
    "#         'Warehouse_Refrigerated', 'Warehouse_Selfstorage', 'Warehouse_Uncategorized'\n",
    "#     }\n",
    "# }\n",
    "\n",
    "groups = {\n",
    "    \"multifamily\": {\n",
    "        \"Multifamily_Uncategorized\"\n",
    "    },\n",
    "    \"residential\": {\n",
    "        '2to4_Unit_Building', '5plus_Unit_Building', \n",
    "        'Mixed_Use_Predominantly_Residential'\n",
    "    },\n",
    "    \"commercial\": {\n",
    "        'Mixed_Use_Predominantly_Commercial', 'Commercial_Other', 'Commercial_Unknown', 'Mixed_Use_Commercial_and_Residential',\n",
    "        'Data_Center', 'Food_Sales', 'Education_College_or_university', 'Education_Other_classroom', \n",
    "        'Education_Preschool_or_daycare',\n",
    "        'Education_Uncategorized','Food_Service_Other', 'Food_Service_Restaurant_or_cafeteria', 'Food_Service_Uncategorized',\n",
    "        'Grocery_store_or_food_market', 'Health_Care_Inpatient', 'Health_Care_Outpatient_Clinic',\n",
    "        'Health_Care_Outpatient_Uncategorized', 'Health_Care_Uncategorized', \n",
    "        'Industrial',\n",
    "        'Laboratory', 'Nursing_Home', 'Parking_Garage', 'Public_Assembly_Drama_theater',\n",
    "        'Public_Assembly_Entertainment_culture', 'Public_Assembly_Library', 'Public_Assembly_Movie_Theater',\n",
    "        'Public_Assembly_Other', 'Public_Assembly_Recreation', 'Public_Assembly_Social_meeting',\n",
    "        'Public_Assembly_Stadium', 'Public_Assembly_Uncategorized', 'Public_Safety_Courthouse',\n",
    "        'Public_Safety_Fire_or_police_station', 'Public_Safety_Penitentiary', 'Public_Safety_Uncategorized',\n",
    "        'Retail_Enclosed_mall', 'Retail_Strip_shopping_mall', 'Retail_Uncategorized',\n",
    "        'Retail_Vehicle_dealership_showroom', 'Service_Drycleaning_or_Laundry', 'Service_Uncategorized',\n",
    "        'Service_Vehicle_service_repair_shop', 'Warehouse_Distribution_or_Shipping_center', \n",
    "    },\n",
    "    \"office\":{\n",
    "        'Office_Bank_or_other_financial', 'Office_Medical_non_diagnostic', 'Office_Mixed_use', 'Office_Uncategorized',\n",
    "    },\n",
    "    \"warehouse\":{\n",
    "        'Warehouse_Nonrefrigerated', 'Warehouse_Refrigerated', 'Warehouse_Selfstorage', 'Warehouse_Uncategorized'\n",
    "    },\n",
    "    \"religious\":{'Religious_worship'},\n",
    "    \"lodging\": {'Lodging_Dormitory_or_fraternity_sorority', 'Lodging_Hotel', 'Lodging_Other',\n",
    "        'Lodging_Uncategorized', }\n",
    "}\n",
    "\n",
    "check = set()\n",
    "\n",
    "for g, i in groups.items():\n",
    "    check.update(i)\n",
    "    \n",
    "assert set(train[\"facility_type\"].unique()) == check"
   ]
  },
  {
   "cell_type": "code",
   "execution_count": 17,
   "id": "406beb01",
   "metadata": {
    "execution": {
     "iopub.execute_input": "2022-02-21T23:04:45.796543Z",
     "iopub.status.busy": "2022-02-21T23:04:45.795917Z",
     "iopub.status.idle": "2022-02-21T23:04:45.918261Z",
     "shell.execute_reply": "2022-02-21T23:04:45.917560Z",
     "shell.execute_reply.started": "2022-02-21T23:03:11.477594Z"
    },
    "papermill": {
     "duration": 0.179331,
     "end_time": "2022-02-21T23:04:45.918436",
     "exception": false,
     "start_time": "2022-02-21T23:04:45.739105",
     "status": "completed"
    },
    "tags": []
   },
   "outputs": [],
   "source": [
    "train_dfs = split_building_data(train, groups)\n",
    "test_dfs = split_building_data(test, groups)"
   ]
  },
  {
   "cell_type": "markdown",
   "id": "ffebee9b",
   "metadata": {
    "papermill": {
     "duration": 0.056262,
     "end_time": "2022-02-21T23:04:46.030713",
     "exception": false,
     "start_time": "2022-02-21T23:04:45.974451",
     "status": "completed"
    },
    "tags": []
   },
   "source": [
    "## Missing data"
   ]
  },
  {
   "cell_type": "code",
   "execution_count": 18,
   "id": "9fa84ea8",
   "metadata": {
    "execution": {
     "iopub.execute_input": "2022-02-21T23:04:46.149141Z",
     "iopub.status.busy": "2022-02-21T23:04:46.148455Z",
     "iopub.status.idle": "2022-02-21T23:04:46.150600Z",
     "shell.execute_reply": "2022-02-21T23:04:46.151011Z",
     "shell.execute_reply.started": "2022-02-21T23:03:11.614898Z"
    },
    "papermill": {
     "duration": 0.064348,
     "end_time": "2022-02-21T23:04:46.151175",
     "exception": false,
     "start_time": "2022-02-21T23:04:46.086827",
     "status": "completed"
    },
    "tags": []
   },
   "outputs": [],
   "source": [
    "def count_missing(df):\n",
    "    \"\"\"Counts the missing values in a dataframe\"\"\"\n",
    "    missing_df = pd.DataFrame(\n",
    "        df.isna().sum().sort_values(ascending=False), columns=[\"count\"]\n",
    "    )\n",
    "    missing_df[\"percent\"] = missing_df[\"count\"] / df.shape[0]\n",
    "    return missing_df.query(\"count != 0\")"
   ]
  },
  {
   "cell_type": "code",
   "execution_count": 19,
   "id": "74cfcbaf",
   "metadata": {
    "execution": {
     "iopub.execute_input": "2022-02-21T23:04:46.264223Z",
     "iopub.status.busy": "2022-02-21T23:04:46.263615Z",
     "iopub.status.idle": "2022-02-21T23:04:46.267368Z",
     "shell.execute_reply": "2022-02-21T23:04:46.267810Z",
     "shell.execute_reply.started": "2022-02-21T23:03:11.623835Z"
    },
    "papermill": {
     "duration": 0.062153,
     "end_time": "2022-02-21T23:04:46.267976",
     "exception": false,
     "start_time": "2022-02-21T23:04:46.205823",
     "status": "completed"
    },
    "tags": []
   },
   "outputs": [],
   "source": [
    "# count_missing(train_dfs[\"residential\"])\n",
    "# count_missing(test_dfs[\"residential\"])\n",
    "# count_missing(train_dfs[\"commercial\"])\n",
    "# count_missing(test_dfs[\"commercial\"])"
   ]
  },
  {
   "cell_type": "markdown",
   "id": "ef71d79e",
   "metadata": {
    "papermill": {
     "duration": 0.054099,
     "end_time": "2022-02-21T23:04:46.377039",
     "exception": false,
     "start_time": "2022-02-21T23:04:46.322940",
     "status": "completed"
    },
    "tags": []
   },
   "source": [
    "## Data imputation: `energy_star`, `year_built`"
   ]
  },
  {
   "cell_type": "code",
   "execution_count": 20,
   "id": "3a8af32c",
   "metadata": {
    "execution": {
     "iopub.execute_input": "2022-02-21T23:04:46.489584Z",
     "iopub.status.busy": "2022-02-21T23:04:46.488979Z",
     "iopub.status.idle": "2022-02-21T23:04:46.494461Z",
     "shell.execute_reply": "2022-02-21T23:04:46.495004Z",
     "shell.execute_reply.started": "2022-02-21T23:03:11.636078Z"
    },
    "papermill": {
     "duration": 0.063599,
     "end_time": "2022-02-21T23:04:46.495160",
     "exception": false,
     "start_time": "2022-02-21T23:04:46.431561",
     "status": "completed"
    },
    "tags": []
   },
   "outputs": [],
   "source": [
    "def iterative_impute(train_df, test_df, model, ct, target, feat_names, seed):\n",
    "    \"\"\"Iteratively impute missing values with a desired model\"\"\"\n",
    "    train_imp = ct.fit_transform(train_df.drop(columns=[target]))\n",
    "    test_imp = ct.transform(test_df)\n",
    "\n",
    "    imputer = IterativeImputer(estimator=model, random_state=seed)\n",
    "\n",
    "    # TODO: fix feat_names with appropriate sklearn method\n",
    "    cols = (\n",
    "        ct.named_transformers_[\"onehotencoder\"].get_feature_names().tolist()\n",
    "        + feat_names\n",
    "    )\n",
    "\n",
    "    train_imp = pd.DataFrame(imputer.fit_transform(train_imp), columns=cols)\n",
    "    test_imp = pd.DataFrame(imputer.transform(test_imp), columns=cols)\n",
    "\n",
    "    return train_imp, test_imp"
   ]
  },
  {
   "cell_type": "code",
   "execution_count": 21,
   "id": "3d84532c",
   "metadata": {
    "execution": {
     "iopub.execute_input": "2022-02-21T23:04:46.607808Z",
     "iopub.status.busy": "2022-02-21T23:04:46.607181Z",
     "iopub.status.idle": "2022-02-21T23:04:46.610719Z",
     "shell.execute_reply": "2022-02-21T23:04:46.611204Z",
     "shell.execute_reply.started": "2022-02-21T23:03:11.650699Z"
    },
    "papermill": {
     "duration": 0.062038,
     "end_time": "2022-02-21T23:04:46.611365",
     "exception": false,
     "start_time": "2022-02-21T23:04:46.549327",
     "status": "completed"
    },
    "tags": []
   },
   "outputs": [],
   "source": [
    "def replace_columns(df, df_imp, columns):\n",
    "    \"\"\"Replace columns in one dataframe with columns from another\"\"\"\n",
    "    df_replaced = df.copy()\n",
    "\n",
    "    for col in columns:\n",
    "        df_replaced[col] = df_imp[col]\n",
    "\n",
    "    return df_replaced"
   ]
  },
  {
   "cell_type": "code",
   "execution_count": 22,
   "id": "80007157",
   "metadata": {
    "execution": {
     "iopub.execute_input": "2022-02-21T23:04:46.722818Z",
     "iopub.status.busy": "2022-02-21T23:04:46.722228Z",
     "iopub.status.idle": "2022-02-21T23:04:46.728882Z",
     "shell.execute_reply": "2022-02-21T23:04:46.729360Z",
     "shell.execute_reply.started": "2022-02-21T23:03:11.664771Z"
    },
    "papermill": {
     "duration": 0.063702,
     "end_time": "2022-02-21T23:04:46.729524",
     "exception": false,
     "start_time": "2022-02-21T23:04:46.665822",
     "status": "completed"
    },
    "tags": []
   },
   "outputs": [],
   "source": [
    "def impute_and_replace(\n",
    "    train_dfs, test_dfs, model, ct, target, feat_names, replace, seed\n",
    "):\n",
    "    \"\"\"Iterative impute and replace values for multiple dataframes\"\"\"\n",
    "    train_dfs_imp = {}\n",
    "    test_dfs_imp = {}\n",
    "\n",
    "    # iterative imputation\n",
    "    for (name1, train_df), (name2, test_df) in zip(train_dfs.items(), test_dfs.items()):\n",
    "        assert name1 == name2\n",
    "        train_imp, test_imp = iterative_impute(\n",
    "            train_df, test_df, model, ct, target, feat_names, seed\n",
    "        )\n",
    "        train_dfs_imp[name1] = train_imp\n",
    "        test_dfs_imp[name1] = test_imp\n",
    "\n",
    "    # replace train columns with missing values\n",
    "    for (name1, df), (name2, imp_df) in zip(train_dfs.items(), train_dfs_imp.items()):\n",
    "        assert name1 == name2\n",
    "        train_dfs[name1] = replace_columns(df, imp_df, replace)\n",
    "\n",
    "    # replace test columns with missing values\n",
    "    for (name1, df), (name2, imp_df) in zip(test_dfs.items(), test_dfs_imp.items()):\n",
    "        assert name1 == name2\n",
    "        test_dfs[name1] = replace_columns(df, imp_df, replace)\n",
    "\n",
    "    return train_dfs, test_dfs"
   ]
  },
  {
   "cell_type": "code",
   "execution_count": 23,
   "id": "4e5578f7",
   "metadata": {
    "execution": {
     "iopub.execute_input": "2022-02-21T23:04:46.846977Z",
     "iopub.status.busy": "2022-02-21T23:04:46.846326Z",
     "iopub.status.idle": "2022-02-21T23:04:46.849091Z",
     "shell.execute_reply": "2022-02-21T23:04:46.848664Z",
     "shell.execute_reply.started": "2022-02-21T23:03:11.677799Z"
    },
    "papermill": {
     "duration": 0.065488,
     "end_time": "2022-02-21T23:04:46.849221",
     "exception": false,
     "start_time": "2022-02-21T23:04:46.783733",
     "status": "completed"
    },
    "tags": []
   },
   "outputs": [],
   "source": [
    "cat_imp = [\n",
    "    'Year_Factor', 'State_Factor', 'building_class', 'facility_type'\n",
    "]\n",
    "\n",
    "num_imp = [\n",
    "    'floor_area', 'year_built', 'energy_star_rating', 'ELEVATION',\n",
    "    'cooling_degree_days', 'heating_degree_days', 'precipitation_inches',\n",
    "    'snowfall_inches', 'snowdepth_inches', 'avg_temp'\n",
    "]\n",
    "\n",
    "drop_imp = [\n",
    "    'january_min_temp', 'january_avg_temp', 'january_max_temp',\n",
    "    'february_min_temp', 'february_avg_temp', 'february_max_temp',\n",
    "    'march_min_temp', 'march_avg_temp', 'march_max_temp', 'april_min_temp',\n",
    "    'april_avg_temp', 'april_max_temp', 'may_min_temp', 'may_avg_temp',\n",
    "    'may_max_temp', 'june_min_temp', 'june_avg_temp', 'june_max_temp',\n",
    "    'july_min_temp', 'july_avg_temp', 'july_max_temp', 'august_min_temp',\n",
    "    'august_avg_temp', 'august_max_temp', 'september_min_temp',\n",
    "    'september_avg_temp', 'september_max_temp', 'october_min_temp',\n",
    "    'october_avg_temp', 'october_max_temp', 'november_min_temp',\n",
    "    'november_avg_temp', 'november_max_temp', 'december_min_temp',\n",
    "    'december_avg_temp', 'december_max_temp', 'days_below_30F', 'days_below_20F',\n",
    "    'days_below_10F', 'days_below_0F', 'days_above_80F', 'days_above_90F',\n",
    "    'days_above_100F', 'days_above_110F', 'direction_max_wind_speed',\n",
    "    'direction_peak_wind_speed', 'max_wind_speed', 'days_with_fog',\n",
    "    'id'\n",
    "]"
   ]
  },
  {
   "cell_type": "code",
   "execution_count": 24,
   "id": "49799863",
   "metadata": {
    "execution": {
     "iopub.execute_input": "2022-02-21T23:04:46.964363Z",
     "iopub.status.busy": "2022-02-21T23:04:46.963748Z",
     "iopub.status.idle": "2022-02-21T23:04:46.967659Z",
     "shell.execute_reply": "2022-02-21T23:04:46.968163Z",
     "shell.execute_reply.started": "2022-02-21T23:03:11.692420Z"
    },
    "papermill": {
     "duration": 0.064354,
     "end_time": "2022-02-21T23:04:46.968319",
     "exception": false,
     "start_time": "2022-02-21T23:04:46.903965",
     "status": "completed"
    },
    "tags": []
   },
   "outputs": [],
   "source": [
    "ct_imp = make_column_transformer(\n",
    "    (OneHotEncoder(handle_unknown=\"ignore\", sparse=False), cat_imp),\n",
    "    (\"passthrough\", num_imp),\n",
    "    (\"drop\", drop_imp)\n",
    ")\n",
    "\n",
    "# change to better model later\n",
    "model = Ridge()\n",
    "replace = [\"energy_star_rating\", \"year_built\"]"
   ]
  },
  {
   "cell_type": "code",
   "execution_count": 25,
   "id": "990de473",
   "metadata": {
    "execution": {
     "iopub.execute_input": "2022-02-21T23:04:47.082076Z",
     "iopub.status.busy": "2022-02-21T23:04:47.081502Z",
     "iopub.status.idle": "2022-02-21T23:04:51.537627Z",
     "shell.execute_reply": "2022-02-21T23:04:51.538497Z",
     "shell.execute_reply.started": "2022-02-21T23:03:11.706732Z"
    },
    "papermill": {
     "duration": 4.514675,
     "end_time": "2022-02-21T23:04:51.538758",
     "exception": false,
     "start_time": "2022-02-21T23:04:47.024083",
     "status": "completed"
    },
    "tags": []
   },
   "outputs": [],
   "source": [
    "train_dfs, test_dfs = impute_and_replace(\n",
    "    train_dfs, test_dfs, model, ct_imp, TARGET, num_imp, replace, SEED\n",
    ")"
   ]
  },
  {
   "cell_type": "code",
   "execution_count": 26,
   "id": "2ecace38",
   "metadata": {
    "execution": {
     "iopub.execute_input": "2022-02-21T23:04:51.694586Z",
     "iopub.status.busy": "2022-02-21T23:04:51.693895Z",
     "iopub.status.idle": "2022-02-21T23:04:51.696363Z",
     "shell.execute_reply": "2022-02-21T23:04:51.695893Z",
     "shell.execute_reply.started": "2022-02-21T23:03:15.931410Z"
    },
    "papermill": {
     "duration": 0.060793,
     "end_time": "2022-02-21T23:04:51.696497",
     "exception": false,
     "start_time": "2022-02-21T23:04:51.635704",
     "status": "completed"
    },
    "tags": []
   },
   "outputs": [],
   "source": [
    "# count_missing(train_dfs[\"residential\"])\n",
    "# count_missing(test_dfs[\"residential\"])\n",
    "# count_missing(train_dfs[\"commercial\"])\n",
    "# count_missing(test_dfs[\"commercial\"])"
   ]
  },
  {
   "cell_type": "markdown",
   "id": "5de3ff9d",
   "metadata": {
    "papermill": {
     "duration": 0.053985,
     "end_time": "2022-02-21T23:04:51.804974",
     "exception": false,
     "start_time": "2022-02-21T23:04:51.750989",
     "status": "completed"
    },
    "tags": []
   },
   "source": [
    "# Feature Engineering"
   ]
  },
  {
   "cell_type": "markdown",
   "id": "7127f674",
   "metadata": {
    "papermill": {
     "duration": 0.053918,
     "end_time": "2022-02-21T23:04:51.913405",
     "exception": false,
     "start_time": "2022-02-21T23:04:51.859487",
     "status": "completed"
    },
    "tags": []
   },
   "source": [
    "## New Features: Entire Dataset"
   ]
  },
  {
   "cell_type": "code",
   "execution_count": 27,
   "id": "31de9653",
   "metadata": {
    "execution": {
     "iopub.execute_input": "2022-02-21T23:04:52.028250Z",
     "iopub.status.busy": "2022-02-21T23:04:52.027307Z",
     "iopub.status.idle": "2022-02-21T23:04:52.031393Z",
     "shell.execute_reply": "2022-02-21T23:04:52.031889Z",
     "shell.execute_reply.started": "2022-02-21T23:03:15.938991Z"
    },
    "papermill": {
     "duration": 0.06202,
     "end_time": "2022-02-21T23:04:52.032046",
     "exception": false,
     "start_time": "2022-02-21T23:04:51.970026",
     "status": "completed"
    },
    "tags": []
   },
   "outputs": [],
   "source": [
    "def has_feature(df, feat):\n",
    "    \"\"\"Adds a boolean feature if a feature exists or now\"\"\"\n",
    "    return df[feat].notna().astype(int)"
   ]
  },
  {
   "cell_type": "code",
   "execution_count": 28,
   "id": "91bf4d15",
   "metadata": {
    "execution": {
     "iopub.execute_input": "2022-02-21T23:04:52.150415Z",
     "iopub.status.busy": "2022-02-21T23:04:52.147279Z",
     "iopub.status.idle": "2022-02-21T23:04:52.153207Z",
     "shell.execute_reply": "2022-02-21T23:04:52.152623Z",
     "shell.execute_reply.started": "2022-02-21T23:03:15.953455Z"
    },
    "papermill": {
     "duration": 0.063725,
     "end_time": "2022-02-21T23:04:52.153366",
     "exception": false,
     "start_time": "2022-02-21T23:04:52.089641",
     "status": "completed"
    },
    "tags": []
   },
   "outputs": [],
   "source": [
    "def feature_engineer(train_df, test_df):\n",
    "    \"\"\"Feature engineer the wids 2022 dataset\"\"\"\n",
    "    train_df_eng = train_df.copy()\n",
    "    test_df_eng = test_df.copy()\n",
    "    \n",
    "    # whether or not a building has a fog detector\n",
    "    train_df_eng[\"has_fog_detector\"] = has_feature(train_df_eng, \"days_with_fog\")\n",
    "    test_df_eng[\"has_fog_detector\"] = has_feature(test_df_eng, \"days_with_fog\")\n",
    "    \n",
    "    # whether or not a building has a wind detector\n",
    "    train_df_eng[\"has_wind_detector\"] = has_feature(train_df_eng, \"max_wind_speed\")\n",
    "    test_df_eng[\"has_wind_detector\"] = has_feature(test_df_eng, \"max_wind_speed\")\n",
    "    \n",
    "    return train_df_eng, test_df_eng"
   ]
  },
  {
   "cell_type": "code",
   "execution_count": 29,
   "id": "fc5d5514",
   "metadata": {
    "execution": {
     "iopub.execute_input": "2022-02-21T23:04:52.270542Z",
     "iopub.status.busy": "2022-02-21T23:04:52.269868Z",
     "iopub.status.idle": "2022-02-21T23:04:52.272674Z",
     "shell.execute_reply": "2022-02-21T23:04:52.272177Z",
     "shell.execute_reply.started": "2022-02-21T23:03:15.965829Z"
    },
    "papermill": {
     "duration": 0.063181,
     "end_time": "2022-02-21T23:04:52.272822",
     "exception": false,
     "start_time": "2022-02-21T23:04:52.209641",
     "status": "completed"
    },
    "tags": []
   },
   "outputs": [],
   "source": [
    "def feature_engineer_multiple(train_dfs, test_dfs):\n",
    "    \"\"\"Feature engineer multiple dataframes at once\"\"\"\n",
    "    train_dfs_eng = {}\n",
    "    test_dfs_eng = {}\n",
    "\n",
    "    for (name1, train_df), (name2, test_df) in zip(train_dfs.items(), test_dfs.items()):\n",
    "        assert name1 == name2\n",
    "        train_dfs_eng[name1], test_dfs_eng[name2] = feature_engineer(train_df, test_df)\n",
    "\n",
    "    return train_dfs_eng, test_dfs_eng"
   ]
  },
  {
   "cell_type": "code",
   "execution_count": 30,
   "id": "6a0a1935",
   "metadata": {
    "execution": {
     "iopub.execute_input": "2022-02-21T23:04:52.390260Z",
     "iopub.status.busy": "2022-02-21T23:04:52.388494Z",
     "iopub.status.idle": "2022-02-21T23:04:52.420465Z",
     "shell.execute_reply": "2022-02-21T23:04:52.420923Z",
     "shell.execute_reply.started": "2022-02-21T23:03:15.982502Z"
    },
    "papermill": {
     "duration": 0.093561,
     "end_time": "2022-02-21T23:04:52.421116",
     "exception": false,
     "start_time": "2022-02-21T23:04:52.327555",
     "status": "completed"
    },
    "tags": []
   },
   "outputs": [],
   "source": [
    "train_dfs_eng, test_dfs_eng = feature_engineer_multiple(train_dfs, test_dfs)"
   ]
  },
  {
   "cell_type": "markdown",
   "id": "e924d852",
   "metadata": {
    "papermill": {
     "duration": 0.054673,
     "end_time": "2022-02-21T23:04:52.530670",
     "exception": false,
     "start_time": "2022-02-21T23:04:52.475997",
     "status": "completed"
    },
    "tags": []
   },
   "source": [
    "## Cluster buildings"
   ]
  },
  {
   "cell_type": "code",
   "execution_count": 31,
   "id": "aa16e1d8",
   "metadata": {
    "execution": {
     "iopub.execute_input": "2022-02-21T23:04:52.644577Z",
     "iopub.status.busy": "2022-02-21T23:04:52.642899Z",
     "iopub.status.idle": "2022-02-21T23:04:52.646217Z",
     "shell.execute_reply": "2022-02-21T23:04:52.646646Z",
     "shell.execute_reply.started": "2022-02-21T23:03:16.035483Z"
    },
    "papermill": {
     "duration": 0.060845,
     "end_time": "2022-02-21T23:04:52.646810",
     "exception": false,
     "start_time": "2022-02-21T23:04:52.585965",
     "status": "completed"
    },
    "tags": []
   },
   "outputs": [],
   "source": [
    "# def plot_elbow_curve(X, model, k):\n",
    "#     visualizer = KElbowVisualizer(model, k=k)\n",
    "#     visualizer.fit(X)\n",
    "#     visualizer.show()\n",
    "#     return visualizer"
   ]
  },
  {
   "cell_type": "code",
   "execution_count": 32,
   "id": "ed5672ed",
   "metadata": {
    "execution": {
     "iopub.execute_input": "2022-02-21T23:04:52.760639Z",
     "iopub.status.busy": "2022-02-21T23:04:52.760022Z",
     "iopub.status.idle": "2022-02-21T23:04:52.762581Z",
     "shell.execute_reply": "2022-02-21T23:04:52.762969Z",
     "shell.execute_reply.started": "2022-02-21T23:03:16.041515Z"
    },
    "papermill": {
     "duration": 0.061234,
     "end_time": "2022-02-21T23:04:52.763138",
     "exception": false,
     "start_time": "2022-02-21T23:04:52.701904",
     "status": "completed"
    },
    "tags": []
   },
   "outputs": [],
   "source": [
    "# def plot_silhouette(X, model):\n",
    "#     visualizer = SilhouetteVisualizer(model, colors=\"yellowbrick\")\n",
    "#     visualizer.fit(X)\n",
    "#     visualizer.show()\n",
    "#     return visualizer"
   ]
  },
  {
   "cell_type": "code",
   "execution_count": 33,
   "id": "cf519c37",
   "metadata": {
    "execution": {
     "iopub.execute_input": "2022-02-21T23:04:52.876736Z",
     "iopub.status.busy": "2022-02-21T23:04:52.876083Z",
     "iopub.status.idle": "2022-02-21T23:04:52.878890Z",
     "shell.execute_reply": "2022-02-21T23:04:52.879303Z",
     "shell.execute_reply.started": "2022-02-21T23:03:16.054249Z"
    },
    "papermill": {
     "duration": 0.06136,
     "end_time": "2022-02-21T23:04:52.879489",
     "exception": false,
     "start_time": "2022-02-21T23:04:52.818129",
     "status": "completed"
    },
    "tags": []
   },
   "outputs": [],
   "source": [
    "# def add_cluster_labels(model, ct, train_df, test_df, target):\n",
    "#     \"\"\"Adds cluster labels as a feature\"\"\"\n",
    "#     train_df_cluster = train_df.copy()\n",
    "#     test_df_cluster = test_df.copy()\n",
    "\n",
    "#     X_cluster = ct.fit_transform(train_df.drop(columns=[target]))\n",
    "#     test_cluster = ct.transform(test_df)\n",
    "\n",
    "#     model.fit(X_cluster)\n",
    "\n",
    "#     train_df_cluster[\"cluster_label\"] = model.labels_\n",
    "#     test_df_cluster[\"cluster_label\"] = model.predict(test_cluster)\n",
    "\n",
    "#     return train_df_cluster, test_df_cluster"
   ]
  },
  {
   "cell_type": "code",
   "execution_count": 34,
   "id": "1802c842",
   "metadata": {
    "execution": {
     "iopub.execute_input": "2022-02-21T23:04:52.992645Z",
     "iopub.status.busy": "2022-02-21T23:04:52.991970Z",
     "iopub.status.idle": "2022-02-21T23:04:52.995559Z",
     "shell.execute_reply": "2022-02-21T23:04:52.995956Z",
     "shell.execute_reply.started": "2022-02-21T23:03:16.065410Z"
    },
    "papermill": {
     "duration": 0.061591,
     "end_time": "2022-02-21T23:04:52.996114",
     "exception": false,
     "start_time": "2022-02-21T23:04:52.934523",
     "status": "completed"
    },
    "tags": []
   },
   "outputs": [],
   "source": [
    "# cat_cluster = [\n",
    "#     'building_class', 'facility_type'\n",
    "# ]\n",
    "\n",
    "# num_cluster = [\n",
    "#     'floor_area', 'year_built', 'energy_star_rating', 'ELEVATION',\n",
    "#     'cooling_degree_days', 'heating_degree_days', 'precipitation_inches',\n",
    "#     'snowfall_inches', 'snowdepth_inches', 'avg_temp'\n",
    "# ]\n",
    "\n",
    "# passthrough_cluster = [\n",
    "#     'has_fog_detector', 'has_wind_detector'\n",
    "# ]\n",
    "\n",
    "# drop_cluster = [\n",
    "#     'Year_Factor', 'State_Factor', 'january_min_temp', 'january_avg_temp', 'january_max_temp',\n",
    "#     'february_min_temp', 'february_avg_temp', 'february_max_temp',\n",
    "#     'march_min_temp', 'march_avg_temp', 'march_max_temp', 'april_min_temp',\n",
    "#     'april_avg_temp', 'april_max_temp', 'may_min_temp', 'may_avg_temp',\n",
    "#     'may_max_temp', 'june_min_temp', 'june_avg_temp', 'june_max_temp',\n",
    "#     'july_min_temp', 'july_avg_temp', 'july_max_temp', 'august_min_temp',\n",
    "#     'august_avg_temp', 'august_max_temp', 'september_min_temp',\n",
    "#     'september_avg_temp', 'september_max_temp', 'october_min_temp',\n",
    "#     'october_avg_temp', 'october_max_temp', 'november_min_temp',\n",
    "#     'november_avg_temp', 'november_max_temp', 'december_min_temp',\n",
    "#     'december_avg_temp', 'december_max_temp', 'days_below_30F', 'days_below_20F',\n",
    "#     'days_below_10F', 'days_below_0F', 'days_above_80F', 'days_above_90F',\n",
    "#     'days_above_100F', 'days_above_110F', 'direction_max_wind_speed',\n",
    "#     'direction_peak_wind_speed', 'max_wind_speed', 'days_with_fog',\n",
    "#     'id'\n",
    "# ]"
   ]
  },
  {
   "cell_type": "code",
   "execution_count": 35,
   "id": "ffd4647b",
   "metadata": {
    "execution": {
     "iopub.execute_input": "2022-02-21T23:04:53.108622Z",
     "iopub.status.busy": "2022-02-21T23:04:53.108031Z",
     "iopub.status.idle": "2022-02-21T23:04:53.110682Z",
     "shell.execute_reply": "2022-02-21T23:04:53.111104Z",
     "shell.execute_reply.started": "2022-02-21T23:03:16.080608Z"
    },
    "papermill": {
     "duration": 0.060497,
     "end_time": "2022-02-21T23:04:53.111253",
     "exception": false,
     "start_time": "2022-02-21T23:04:53.050756",
     "status": "completed"
    },
    "tags": []
   },
   "outputs": [],
   "source": [
    "# ct_cluster = make_column_transformer(\n",
    "#     (OneHotEncoder(handle_unknown=\"ignore\"), cat_cluster),\n",
    "#     (StandardScaler(), num_cluster),\n",
    "#     (\"passthrough\", passthrough_cluster),\n",
    "#     (\"drop\", drop_cluster)\n",
    "# )"
   ]
  },
  {
   "cell_type": "code",
   "execution_count": 36,
   "id": "414c5f3f",
   "metadata": {
    "execution": {
     "iopub.execute_input": "2022-02-21T23:04:53.223260Z",
     "iopub.status.busy": "2022-02-21T23:04:53.222697Z",
     "iopub.status.idle": "2022-02-21T23:04:53.225259Z",
     "shell.execute_reply": "2022-02-21T23:04:53.225757Z",
     "shell.execute_reply.started": "2022-02-21T23:03:16.095192Z"
    },
    "papermill": {
     "duration": 0.06025,
     "end_time": "2022-02-21T23:04:53.225911",
     "exception": false,
     "start_time": "2022-02-21T23:04:53.165661",
     "status": "completed"
    },
    "tags": []
   },
   "outputs": [],
   "source": [
    "# X_cluster = ct_cluster.fit_transform(train_df_eng.drop(columns=[TARGET]))"
   ]
  },
  {
   "cell_type": "code",
   "execution_count": 37,
   "id": "2e0d327c",
   "metadata": {
    "execution": {
     "iopub.execute_input": "2022-02-21T23:04:53.338263Z",
     "iopub.status.busy": "2022-02-21T23:04:53.337672Z",
     "iopub.status.idle": "2022-02-21T23:04:53.340677Z",
     "shell.execute_reply": "2022-02-21T23:04:53.341155Z",
     "shell.execute_reply.started": "2022-02-21T23:03:16.107502Z"
    },
    "papermill": {
     "duration": 0.060612,
     "end_time": "2022-02-21T23:04:53.341312",
     "exception": false,
     "start_time": "2022-02-21T23:04:53.280700",
     "status": "completed"
    },
    "tags": []
   },
   "outputs": [],
   "source": [
    "# k = (5, 20)\n",
    "# model = KMeans()\n",
    "# visualizer_elbow = plot_elbow_curve(X_cluster, model, k)"
   ]
  },
  {
   "cell_type": "code",
   "execution_count": 38,
   "id": "3aad7eb7",
   "metadata": {
    "execution": {
     "iopub.execute_input": "2022-02-21T23:04:53.454967Z",
     "iopub.status.busy": "2022-02-21T23:04:53.454263Z",
     "iopub.status.idle": "2022-02-21T23:04:53.456860Z",
     "shell.execute_reply": "2022-02-21T23:04:53.457347Z",
     "shell.execute_reply.started": "2022-02-21T23:03:16.118703Z"
    },
    "papermill": {
     "duration": 0.060655,
     "end_time": "2022-02-21T23:04:53.457506",
     "exception": false,
     "start_time": "2022-02-21T23:04:53.396851",
     "status": "completed"
    },
    "tags": []
   },
   "outputs": [],
   "source": [
    "# kmeans = KMeans(n_clusters=11, random_state=42)"
   ]
  },
  {
   "cell_type": "code",
   "execution_count": 39,
   "id": "ba6e03df",
   "metadata": {
    "execution": {
     "iopub.execute_input": "2022-02-21T23:04:53.570118Z",
     "iopub.status.busy": "2022-02-21T23:04:53.569557Z",
     "iopub.status.idle": "2022-02-21T23:04:53.572245Z",
     "shell.execute_reply": "2022-02-21T23:04:53.572779Z",
     "shell.execute_reply.started": "2022-02-21T23:03:16.128078Z"
    },
    "papermill": {
     "duration": 0.06053,
     "end_time": "2022-02-21T23:04:53.572936",
     "exception": false,
     "start_time": "2022-02-21T23:04:53.512406",
     "status": "completed"
    },
    "tags": []
   },
   "outputs": [],
   "source": [
    "# plot_silhouette(X_cluster, kmeans)"
   ]
  },
  {
   "cell_type": "code",
   "execution_count": 40,
   "id": "a60724df",
   "metadata": {
    "execution": {
     "iopub.execute_input": "2022-02-21T23:04:53.687875Z",
     "iopub.status.busy": "2022-02-21T23:04:53.686857Z",
     "iopub.status.idle": "2022-02-21T23:04:53.688726Z",
     "shell.execute_reply": "2022-02-21T23:04:53.689268Z",
     "shell.execute_reply.started": "2022-02-21T23:03:16.140219Z"
    },
    "papermill": {
     "duration": 0.060868,
     "end_time": "2022-02-21T23:04:53.689443",
     "exception": false,
     "start_time": "2022-02-21T23:04:53.628575",
     "status": "completed"
    },
    "tags": []
   },
   "outputs": [],
   "source": [
    "# train_df_eng, test_df_eng = add_cluster_labels(\n",
    "#     kmeans,\n",
    "#     ct_cluster,\n",
    "#     train_df_eng,\n",
    "#     test_df_eng,\n",
    "#     TARGET\n",
    "# )"
   ]
  },
  {
   "cell_type": "markdown",
   "id": "5e65ebf2",
   "metadata": {
    "papermill": {
     "duration": 0.054371,
     "end_time": "2022-02-21T23:04:53.798974",
     "exception": false,
     "start_time": "2022-02-21T23:04:53.744603",
     "status": "completed"
    },
    "tags": []
   },
   "source": [
    "# Modelling"
   ]
  },
  {
   "cell_type": "markdown",
   "id": "c0f608de",
   "metadata": {
    "papermill": {
     "duration": 0.054816,
     "end_time": "2022-02-21T23:04:53.908313",
     "exception": false,
     "start_time": "2022-02-21T23:04:53.853497",
     "status": "completed"
    },
    "tags": []
   },
   "source": [
    "## Create `X` and `y` datasets"
   ]
  },
  {
   "cell_type": "code",
   "execution_count": 41,
   "id": "9ba93c65",
   "metadata": {
    "execution": {
     "iopub.execute_input": "2022-02-21T23:04:54.021915Z",
     "iopub.status.busy": "2022-02-21T23:04:54.020948Z",
     "iopub.status.idle": "2022-02-21T23:04:54.025952Z",
     "shell.execute_reply": "2022-02-21T23:04:54.026500Z",
     "shell.execute_reply.started": "2022-02-21T23:03:16.155625Z"
    },
    "papermill": {
     "duration": 0.063558,
     "end_time": "2022-02-21T23:04:54.026663",
     "exception": false,
     "start_time": "2022-02-21T23:04:53.963105",
     "status": "completed"
    },
    "tags": []
   },
   "outputs": [
    {
     "data": {
      "text/plain": [
       "dict_keys(['multifamily', 'residential', 'commercial', 'office', 'warehouse', 'religious', 'lodging'])"
      ]
     },
     "execution_count": 41,
     "metadata": {},
     "output_type": "execute_result"
    }
   ],
   "source": [
    "train_dfs_eng.keys()"
   ]
  },
  {
   "cell_type": "code",
   "execution_count": 42,
   "id": "a08d4257",
   "metadata": {
    "execution": {
     "iopub.execute_input": "2022-02-21T23:04:54.147612Z",
     "iopub.status.busy": "2022-02-21T23:04:54.146639Z",
     "iopub.status.idle": "2022-02-21T23:04:54.150427Z",
     "shell.execute_reply": "2022-02-21T23:04:54.150894Z",
     "shell.execute_reply.started": "2022-02-21T23:03:16.169857Z"
    },
    "papermill": {
     "duration": 0.068577,
     "end_time": "2022-02-21T23:04:54.151052",
     "exception": false,
     "start_time": "2022-02-21T23:04:54.082475",
     "status": "completed"
    },
    "tags": []
   },
   "outputs": [
    {
     "data": {
      "text/plain": [
       "dict_keys(['multifamily', 'residential', 'commercial', 'office', 'warehouse', 'religious', 'lodging'])"
      ]
     },
     "execution_count": 42,
     "metadata": {},
     "output_type": "execute_result"
    }
   ],
   "source": [
    "test_dfs_eng.keys()"
   ]
  },
  {
   "cell_type": "code",
   "execution_count": 43,
   "id": "1b452727",
   "metadata": {
    "execution": {
     "iopub.execute_input": "2022-02-21T23:04:54.265733Z",
     "iopub.status.busy": "2022-02-21T23:04:54.264779Z",
     "iopub.status.idle": "2022-02-21T23:04:54.271016Z",
     "shell.execute_reply": "2022-02-21T23:04:54.270438Z",
     "shell.execute_reply.started": "2022-02-21T23:03:16.182845Z"
    },
    "papermill": {
     "duration": 0.06427,
     "end_time": "2022-02-21T23:04:54.271158",
     "exception": false,
     "start_time": "2022-02-21T23:04:54.206888",
     "status": "completed"
    },
    "tags": []
   },
   "outputs": [],
   "source": [
    "def create_X_y(dfs, target, group_col=None):\n",
    "    \"\"\"Separates train dfs into X and y datasets (and optionally, groups)\"\"\"\n",
    "    X_dfs = {}\n",
    "    y_dfs = {}\n",
    "    groups = {}\n",
    "\n",
    "    for name, df in dfs.items():\n",
    "        X_dfs[name] = df.drop(columns=target)\n",
    "        y_dfs[name] = df[target]\n",
    "        \n",
    "        if group_col is not None:\n",
    "            groups[name] = df[group_col]\n",
    "    \n",
    "    if group_col is not None:\n",
    "        return X_dfs, y_dfs, groups\n",
    "    else:\n",
    "        return X_dfs, y_dfs"
   ]
  },
  {
   "cell_type": "code",
   "execution_count": 44,
   "id": "09fe5178",
   "metadata": {
    "execution": {
     "iopub.execute_input": "2022-02-21T23:04:54.390993Z",
     "iopub.status.busy": "2022-02-21T23:04:54.389032Z",
     "iopub.status.idle": "2022-02-21T23:04:54.420209Z",
     "shell.execute_reply": "2022-02-21T23:04:54.419704Z",
     "shell.execute_reply.started": "2022-02-21T23:03:16.196875Z"
    },
    "papermill": {
     "duration": 0.093216,
     "end_time": "2022-02-21T23:04:54.420380",
     "exception": false,
     "start_time": "2022-02-21T23:04:54.327164",
     "status": "completed"
    },
    "tags": []
   },
   "outputs": [],
   "source": [
    "X_trains, y_trains, groups = create_X_y(train_dfs_eng, TARGET, \"Year_Factor\")\n",
    "X_tests = test_dfs_eng.copy()"
   ]
  },
  {
   "cell_type": "markdown",
   "id": "9c063741",
   "metadata": {
    "papermill": {
     "duration": 0.055338,
     "end_time": "2022-02-21T23:04:54.531367",
     "exception": false,
     "start_time": "2022-02-21T23:04:54.476029",
     "status": "completed"
    },
    "tags": []
   },
   "source": [
    "## Column transformer"
   ]
  },
  {
   "cell_type": "code",
   "execution_count": 45,
   "id": "ae86963d",
   "metadata": {
    "execution": {
     "iopub.execute_input": "2022-02-21T23:04:54.649949Z",
     "iopub.status.busy": "2022-02-21T23:04:54.649249Z",
     "iopub.status.idle": "2022-02-21T23:04:54.651585Z",
     "shell.execute_reply": "2022-02-21T23:04:54.650997Z",
     "shell.execute_reply.started": "2022-02-21T23:03:16.236933Z"
    },
    "papermill": {
     "duration": 0.065018,
     "end_time": "2022-02-21T23:04:54.651720",
     "exception": false,
     "start_time": "2022-02-21T23:04:54.586702",
     "status": "completed"
    },
    "tags": []
   },
   "outputs": [],
   "source": [
    "cat = [\n",
    "    'State_Factor', 'building_class', 'facility_type'\n",
    "]\n",
    "\n",
    "num = [\n",
    "    'floor_area', 'year_built', 'energy_star_rating', 'ELEVATION',\n",
    "    'cooling_degree_days', 'heating_degree_days', 'precipitation_inches',\n",
    "    'snowfall_inches', 'snowdepth_inches', 'avg_temp'\n",
    "]\n",
    "\n",
    "passthrough = [\n",
    "    'has_fog_detector', 'has_wind_detector'\n",
    "]\n",
    "\n",
    "drop = [\n",
    "    'Year_Factor', 'january_min_temp', 'january_avg_temp', 'january_max_temp',\n",
    "    'february_min_temp', 'february_avg_temp', 'february_max_temp',\n",
    "    'march_min_temp', 'march_avg_temp', 'march_max_temp', 'april_min_temp',\n",
    "    'april_avg_temp', 'april_max_temp', 'may_min_temp', 'may_avg_temp',\n",
    "    'may_max_temp', 'june_min_temp', 'june_avg_temp', 'june_max_temp',\n",
    "    'july_min_temp', 'july_avg_temp', 'july_max_temp', 'august_min_temp',\n",
    "    'august_avg_temp', 'august_max_temp', 'september_min_temp',\n",
    "    'september_avg_temp', 'september_max_temp', 'october_min_temp',\n",
    "    'october_avg_temp', 'october_max_temp', 'november_min_temp',\n",
    "    'november_avg_temp', 'november_max_temp', 'december_min_temp',\n",
    "    'december_avg_temp', 'december_max_temp', 'days_below_30F', 'days_below_20F',\n",
    "    'days_below_10F', 'days_below_0F', 'days_above_80F', 'days_above_90F',\n",
    "    'days_above_100F', 'days_above_110F', 'direction_max_wind_speed',\n",
    "    'direction_peak_wind_speed', 'max_wind_speed', 'days_with_fog',\n",
    "    'id', #'cluster_label'\n",
    "]"
   ]
  },
  {
   "cell_type": "code",
   "execution_count": 46,
   "id": "22d63133",
   "metadata": {
    "execution": {
     "iopub.execute_input": "2022-02-21T23:04:54.767999Z",
     "iopub.status.busy": "2022-02-21T23:04:54.767369Z",
     "iopub.status.idle": "2022-02-21T23:04:54.769272Z",
     "shell.execute_reply": "2022-02-21T23:04:54.769684Z",
     "shell.execute_reply.started": "2022-02-21T23:03:16.249528Z"
    },
    "papermill": {
     "duration": 0.061941,
     "end_time": "2022-02-21T23:04:54.769847",
     "exception": false,
     "start_time": "2022-02-21T23:04:54.707906",
     "status": "completed"
    },
    "tags": []
   },
   "outputs": [],
   "source": [
    "ct = make_column_transformer(\n",
    "    (OneHotEncoder(handle_unknown=\"ignore\"), cat),\n",
    "    (\"passthrough\", num + passthrough),\n",
    "    (\"drop\", drop)\n",
    ")"
   ]
  },
  {
   "cell_type": "markdown",
   "id": "1b9d63fb",
   "metadata": {
    "papermill": {
     "duration": 0.055984,
     "end_time": "2022-02-21T23:04:54.881151",
     "exception": false,
     "start_time": "2022-02-21T23:04:54.825167",
     "status": "completed"
    },
    "tags": []
   },
   "source": [
    "## Cross validation"
   ]
  },
  {
   "cell_type": "code",
   "execution_count": 47,
   "id": "73c85ef0",
   "metadata": {
    "execution": {
     "iopub.execute_input": "2022-02-21T23:04:54.997794Z",
     "iopub.status.busy": "2022-02-21T23:04:54.996804Z",
     "iopub.status.idle": "2022-02-21T23:04:55.008756Z",
     "shell.execute_reply": "2022-02-21T23:04:55.009239Z",
     "shell.execute_reply.started": "2022-02-21T23:03:16.263840Z"
    },
    "papermill": {
     "duration": 0.072681,
     "end_time": "2022-02-21T23:04:55.009417",
     "exception": false,
     "start_time": "2022-02-21T23:04:54.936736",
     "status": "completed"
    },
    "tags": []
   },
   "outputs": [],
   "source": [
    "def logo_cv_lgb(model, X, y, groups, ct, early_stopping_rounds, return_models=True):\n",
    "    \"\"\"Custom cross validation function meant for use with LightGBM Regressor\"\"\"\n",
    "\n",
    "    models = []\n",
    "    results = []\n",
    "    train_scores = []\n",
    "    val_scores = []\n",
    "    fold = 0\n",
    "    logo = LeaveOneGroupOut()\n",
    "\n",
    "    for t, v in logo.split(X, groups=groups):\n",
    "        fold += 1\n",
    "\n",
    "        # to avoid lightgbm not saving new fit model (weird??? might be bug in lgb...)\n",
    "        # might also be bug in my code?  to look into later\n",
    "        current_model = deepcopy(model)\n",
    "\n",
    "        # train and val sets for current fold\n",
    "        X_train, y_train = X.iloc[t], y.iloc[t]\n",
    "        X_val, y_val = X.iloc[v], y.iloc[v]\n",
    "\n",
    "        # year factors for current folds\n",
    "        X_train_yf = np.sort(X_train[\"Year_Factor\"].unique())\n",
    "        X_val_yf = X_val[\"Year_Factor\"].unique()\n",
    "\n",
    "        # transform train and val sets\n",
    "        X_train_tsf = ct.fit_transform(X_train)\n",
    "        X_val_tsf = ct.transform(X_val)\n",
    "\n",
    "        # fit and score model w/ early stopping\n",
    "        current_model.fit(\n",
    "            X_train_tsf,\n",
    "            y_train,\n",
    "            eval_set=[(X_val_tsf, y_val)],\n",
    "            eval_metric=[\"rmse\"],\n",
    "            feature_name=ct.get_feature_names(),\n",
    "            callbacks=[lgb.early_stopping(early_stopping_rounds, verbose=False)],\n",
    "        )\n",
    "\n",
    "        # train/val rmse scores\n",
    "        train_rmse = mean_squared_error(\n",
    "            y_true=y_train, y_pred=current_model.predict(X_train_tsf), squared=False\n",
    "        )\n",
    "        val_rmse = current_model.best_score_[\"valid_0\"][\"rmse\"]\n",
    "\n",
    "        fold_results = {\n",
    "            \"Fold\": fold,\n",
    "            \"Train_shape\": X_train.shape,\n",
    "            \"Val_shape\": X_val.shape,\n",
    "            \"Train_years\": X_train_yf,\n",
    "            \"Val_years\": X_val_yf,\n",
    "            \"Train_RMSE\": train_rmse,\n",
    "            \"Val_RMSE\": val_rmse,\n",
    "            \"RMSE_spread\": train_rmse - val_rmse,\n",
    "        }\n",
    "\n",
    "        results.append(fold_results)\n",
    "        train_scores.append(train_rmse)\n",
    "        val_scores.append(val_rmse)\n",
    "        models.append(current_model)\n",
    "\n",
    "    # mean validation score\n",
    "    results.append(\n",
    "        {\n",
    "            \"Fold\": \"MEAN\",\n",
    "            \"Train_shape\": \"N/A\",\n",
    "            \"Val_shape\": \"N/A\",\n",
    "            \"Train_years\": \"N/A\",\n",
    "            \"Val_years\": \"N/A\",\n",
    "            \"Train_RMSE\": np.mean(train_scores),\n",
    "            \"Val_RMSE\": np.mean(val_scores),\n",
    "            \"RMSE_spread\": np.mean(train_scores) - np.mean(val_scores),\n",
    "        }\n",
    "    )\n",
    "\n",
    "    results = pd.DataFrame(results)\n",
    "\n",
    "    if return_models:\n",
    "        return results, models\n",
    "    else:\n",
    "        return results"
   ]
  },
  {
   "cell_type": "code",
   "execution_count": 48,
   "id": "c51ec120",
   "metadata": {
    "execution": {
     "iopub.execute_input": "2022-02-21T23:04:55.124925Z",
     "iopub.status.busy": "2022-02-21T23:04:55.123983Z",
     "iopub.status.idle": "2022-02-21T23:04:55.130016Z",
     "shell.execute_reply": "2022-02-21T23:04:55.130562Z",
     "shell.execute_reply.started": "2022-02-21T23:03:16.284473Z"
    },
    "papermill": {
     "duration": 0.065223,
     "end_time": "2022-02-21T23:04:55.130733",
     "exception": false,
     "start_time": "2022-02-21T23:04:55.065510",
     "status": "completed"
    },
    "tags": []
   },
   "outputs": [],
   "source": [
    "def logo_cv_lgb_all(\n",
    "    model, X_trains, y_trains, groups, ct, early_stopping_rounds, return_models=True\n",
    "):\n",
    "    \"\"\"Perform logo cv with LGBM for multiple datasets\"\"\"\n",
    "    results = {}\n",
    "    models = {}\n",
    "\n",
    "    for (n1, X), (n2, y), (n3, group) in zip(\n",
    "        X_trains.items(), y_trains.items(), groups.items()\n",
    "    ):\n",
    "        assert n1 == n2 == n3\n",
    "        results[n1], models[n1] = logo_cv_lgb(\n",
    "            model, X, y, group, ct, early_stopping_rounds, return_models\n",
    "        )\n",
    "\n",
    "    return results, models"
   ]
  },
  {
   "cell_type": "code",
   "execution_count": 49,
   "id": "7e49d5b3",
   "metadata": {
    "execution": {
     "iopub.execute_input": "2022-02-21T23:04:55.246505Z",
     "iopub.status.busy": "2022-02-21T23:04:55.245595Z",
     "iopub.status.idle": "2022-02-21T23:04:55.250176Z",
     "shell.execute_reply": "2022-02-21T23:04:55.250761Z",
     "shell.execute_reply.started": "2022-02-21T23:03:16.297640Z"
    },
    "papermill": {
     "duration": 0.064486,
     "end_time": "2022-02-21T23:04:55.250932",
     "exception": false,
     "start_time": "2022-02-21T23:04:55.186446",
     "status": "completed"
    },
    "tags": []
   },
   "outputs": [],
   "source": [
    "def process_cv_results(results):\n",
    "    \"\"\"Process cv results for multiple datasets\"\"\"\n",
    "    results_df = pd.DataFrame()\n",
    "\n",
    "    for name, result in results.items():\n",
    "        result.insert(0, \"facility_group\", name)\n",
    "        results_df = pd.concat([results_df, result])\n",
    "\n",
    "    return results_df"
   ]
  },
  {
   "cell_type": "code",
   "execution_count": 50,
   "id": "3e11856c",
   "metadata": {
    "execution": {
     "iopub.execute_input": "2022-02-21T23:04:55.365054Z",
     "iopub.status.busy": "2022-02-21T23:04:55.364087Z",
     "iopub.status.idle": "2022-02-21T23:05:00.441988Z",
     "shell.execute_reply": "2022-02-21T23:05:00.442629Z",
     "shell.execute_reply.started": "2022-02-21T23:03:16.311333Z"
    },
    "papermill": {
     "duration": 5.136746,
     "end_time": "2022-02-21T23:05:00.442842",
     "exception": false,
     "start_time": "2022-02-21T23:04:55.306096",
     "status": "completed"
    },
    "tags": []
   },
   "outputs": [],
   "source": [
    "model = lgb.LGBMRegressor(force_row_wise=True, random_state=SEED)\n",
    "results, models = logo_cv_lgb_all(model, X_trains, y_trains, groups, ct, 5)"
   ]
  },
  {
   "cell_type": "code",
   "execution_count": 51,
   "id": "c2340377",
   "metadata": {
    "execution": {
     "iopub.execute_input": "2022-02-21T23:05:00.567737Z",
     "iopub.status.busy": "2022-02-21T23:05:00.564847Z",
     "iopub.status.idle": "2022-02-21T23:05:00.633626Z",
     "shell.execute_reply": "2022-02-21T23:05:00.634119Z",
     "shell.execute_reply.started": "2022-02-21T23:03:23.114542Z"
    },
    "papermill": {
     "duration": 0.134792,
     "end_time": "2022-02-21T23:05:00.634282",
     "exception": false,
     "start_time": "2022-02-21T23:05:00.499490",
     "status": "completed"
    },
    "tags": []
   },
   "outputs": [
    {
     "data": {
      "text/html": [
       "<div>\n",
       "<style scoped>\n",
       "    .dataframe tbody tr th:only-of-type {\n",
       "        vertical-align: middle;\n",
       "    }\n",
       "\n",
       "    .dataframe tbody tr th {\n",
       "        vertical-align: top;\n",
       "    }\n",
       "\n",
       "    .dataframe thead th {\n",
       "        text-align: right;\n",
       "    }\n",
       "</style>\n",
       "<table border=\"1\" class=\"dataframe\">\n",
       "  <thead>\n",
       "    <tr style=\"text-align: right;\">\n",
       "      <th></th>\n",
       "      <th>facility_group</th>\n",
       "      <th>Fold</th>\n",
       "      <th>Train_shape</th>\n",
       "      <th>Val_shape</th>\n",
       "      <th>Train_years</th>\n",
       "      <th>Val_years</th>\n",
       "      <th>Train_RMSE</th>\n",
       "      <th>Val_RMSE</th>\n",
       "      <th>RMSE_spread</th>\n",
       "    </tr>\n",
       "  </thead>\n",
       "  <tbody>\n",
       "    <tr>\n",
       "      <th>0</th>\n",
       "      <td>multifamily</td>\n",
       "      <td>1</td>\n",
       "      <td>(39323, 65)</td>\n",
       "      <td>(107, 65)</td>\n",
       "      <td>[2, 3, 4, 5, 6]</td>\n",
       "      <td>[1]</td>\n",
       "      <td>31.424101</td>\n",
       "      <td>37.951848</td>\n",
       "      <td>-6.527747</td>\n",
       "    </tr>\n",
       "    <tr>\n",
       "      <th>1</th>\n",
       "      <td>multifamily</td>\n",
       "      <td>2</td>\n",
       "      <td>(33058, 65)</td>\n",
       "      <td>(6372, 65)</td>\n",
       "      <td>[1, 3, 4, 5, 6]</td>\n",
       "      <td>[2]</td>\n",
       "      <td>35.805168</td>\n",
       "      <td>35.557750</td>\n",
       "      <td>0.247418</td>\n",
       "    </tr>\n",
       "    <tr>\n",
       "      <th>2</th>\n",
       "      <td>multifamily</td>\n",
       "      <td>3</td>\n",
       "      <td>(32774, 65)</td>\n",
       "      <td>(6656, 65)</td>\n",
       "      <td>[1, 2, 4, 5, 6]</td>\n",
       "      <td>[3]</td>\n",
       "      <td>30.474357</td>\n",
       "      <td>45.537829</td>\n",
       "      <td>-15.063472</td>\n",
       "    </tr>\n",
       "    <tr>\n",
       "      <th>3</th>\n",
       "      <td>multifamily</td>\n",
       "      <td>4</td>\n",
       "      <td>(31930, 65)</td>\n",
       "      <td>(7500, 65)</td>\n",
       "      <td>[1, 2, 3, 5, 6]</td>\n",
       "      <td>[4]</td>\n",
       "      <td>30.121021</td>\n",
       "      <td>34.351295</td>\n",
       "      <td>-4.230274</td>\n",
       "    </tr>\n",
       "    <tr>\n",
       "      <th>4</th>\n",
       "      <td>multifamily</td>\n",
       "      <td>5</td>\n",
       "      <td>(30871, 65)</td>\n",
       "      <td>(8559, 65)</td>\n",
       "      <td>[1, 2, 3, 4, 6]</td>\n",
       "      <td>[5]</td>\n",
       "      <td>31.651982</td>\n",
       "      <td>24.252581</td>\n",
       "      <td>7.399401</td>\n",
       "    </tr>\n",
       "    <tr>\n",
       "      <th>5</th>\n",
       "      <td>multifamily</td>\n",
       "      <td>6</td>\n",
       "      <td>(29194, 65)</td>\n",
       "      <td>(10236, 65)</td>\n",
       "      <td>[1, 2, 3, 4, 5]</td>\n",
       "      <td>[6]</td>\n",
       "      <td>33.959790</td>\n",
       "      <td>24.194163</td>\n",
       "      <td>9.765628</td>\n",
       "    </tr>\n",
       "    <tr>\n",
       "      <th>6</th>\n",
       "      <td>multifamily</td>\n",
       "      <td>MEAN</td>\n",
       "      <td>N/A</td>\n",
       "      <td>N/A</td>\n",
       "      <td>N/A</td>\n",
       "      <td>N/A</td>\n",
       "      <td>32.239403</td>\n",
       "      <td>33.640911</td>\n",
       "      <td>-1.401508</td>\n",
       "    </tr>\n",
       "    <tr>\n",
       "      <th>0</th>\n",
       "      <td>residential</td>\n",
       "      <td>1</td>\n",
       "      <td>(3171, 65)</td>\n",
       "      <td>(4, 65)</td>\n",
       "      <td>[4, 5, 6]</td>\n",
       "      <td>[1]</td>\n",
       "      <td>10.682125</td>\n",
       "      <td>45.600748</td>\n",
       "      <td>-34.918623</td>\n",
       "    </tr>\n",
       "    <tr>\n",
       "      <th>1</th>\n",
       "      <td>residential</td>\n",
       "      <td>2</td>\n",
       "      <td>(3172, 65)</td>\n",
       "      <td>(3, 65)</td>\n",
       "      <td>[1, 5, 6]</td>\n",
       "      <td>[4]</td>\n",
       "      <td>8.831916</td>\n",
       "      <td>24.808099</td>\n",
       "      <td>-15.976183</td>\n",
       "    </tr>\n",
       "    <tr>\n",
       "      <th>2</th>\n",
       "      <td>residential</td>\n",
       "      <td>3</td>\n",
       "      <td>(1599, 65)</td>\n",
       "      <td>(1576, 65)</td>\n",
       "      <td>[1, 4, 6]</td>\n",
       "      <td>[5]</td>\n",
       "      <td>8.525895</td>\n",
       "      <td>11.255834</td>\n",
       "      <td>-2.729940</td>\n",
       "    </tr>\n",
       "    <tr>\n",
       "      <th>3</th>\n",
       "      <td>residential</td>\n",
       "      <td>4</td>\n",
       "      <td>(1583, 65)</td>\n",
       "      <td>(1592, 65)</td>\n",
       "      <td>[1, 4, 5]</td>\n",
       "      <td>[6]</td>\n",
       "      <td>8.595381</td>\n",
       "      <td>11.025550</td>\n",
       "      <td>-2.430169</td>\n",
       "    </tr>\n",
       "    <tr>\n",
       "      <th>4</th>\n",
       "      <td>residential</td>\n",
       "      <td>MEAN</td>\n",
       "      <td>N/A</td>\n",
       "      <td>N/A</td>\n",
       "      <td>N/A</td>\n",
       "      <td>N/A</td>\n",
       "      <td>9.158829</td>\n",
       "      <td>23.172558</td>\n",
       "      <td>-14.013729</td>\n",
       "    </tr>\n",
       "    <tr>\n",
       "      <th>0</th>\n",
       "      <td>commercial</td>\n",
       "      <td>1</td>\n",
       "      <td>(13874, 65)</td>\n",
       "      <td>(572, 65)</td>\n",
       "      <td>[2, 3, 4, 5, 6]</td>\n",
       "      <td>[1]</td>\n",
       "      <td>57.910403</td>\n",
       "      <td>86.192266</td>\n",
       "      <td>-28.281863</td>\n",
       "    </tr>\n",
       "    <tr>\n",
       "      <th>1</th>\n",
       "      <td>commercial</td>\n",
       "      <td>2</td>\n",
       "      <td>(13556, 65)</td>\n",
       "      <td>(890, 65)</td>\n",
       "      <td>[1, 3, 4, 5, 6]</td>\n",
       "      <td>[2]</td>\n",
       "      <td>57.036876</td>\n",
       "      <td>87.190470</td>\n",
       "      <td>-30.153594</td>\n",
       "    </tr>\n",
       "    <tr>\n",
       "      <th>2</th>\n",
       "      <td>commercial</td>\n",
       "      <td>3</td>\n",
       "      <td>(12661, 65)</td>\n",
       "      <td>(1785, 65)</td>\n",
       "      <td>[1, 2, 4, 5, 6]</td>\n",
       "      <td>[3]</td>\n",
       "      <td>59.093918</td>\n",
       "      <td>69.874926</td>\n",
       "      <td>-10.781009</td>\n",
       "    </tr>\n",
       "    <tr>\n",
       "      <th>3</th>\n",
       "      <td>commercial</td>\n",
       "      <td>4</td>\n",
       "      <td>(12291, 65)</td>\n",
       "      <td>(2155, 65)</td>\n",
       "      <td>[1, 2, 3, 5, 6]</td>\n",
       "      <td>[4]</td>\n",
       "      <td>59.528865</td>\n",
       "      <td>64.260748</td>\n",
       "      <td>-4.731883</td>\n",
       "    </tr>\n",
       "    <tr>\n",
       "      <th>4</th>\n",
       "      <td>commercial</td>\n",
       "      <td>5</td>\n",
       "      <td>(10934, 65)</td>\n",
       "      <td>(3512, 65)</td>\n",
       "      <td>[1, 2, 3, 4, 6]</td>\n",
       "      <td>[5]</td>\n",
       "      <td>59.337523</td>\n",
       "      <td>63.840015</td>\n",
       "      <td>-4.502493</td>\n",
       "    </tr>\n",
       "    <tr>\n",
       "      <th>5</th>\n",
       "      <td>commercial</td>\n",
       "      <td>6</td>\n",
       "      <td>(8914, 65)</td>\n",
       "      <td>(5532, 65)</td>\n",
       "      <td>[1, 2, 3, 4, 5]</td>\n",
       "      <td>[6]</td>\n",
       "      <td>74.944442</td>\n",
       "      <td>73.327401</td>\n",
       "      <td>1.617040</td>\n",
       "    </tr>\n",
       "    <tr>\n",
       "      <th>6</th>\n",
       "      <td>commercial</td>\n",
       "      <td>MEAN</td>\n",
       "      <td>N/A</td>\n",
       "      <td>N/A</td>\n",
       "      <td>N/A</td>\n",
       "      <td>N/A</td>\n",
       "      <td>61.308671</td>\n",
       "      <td>74.114305</td>\n",
       "      <td>-12.805634</td>\n",
       "    </tr>\n",
       "    <tr>\n",
       "      <th>0</th>\n",
       "      <td>office</td>\n",
       "      <td>1</td>\n",
       "      <td>(12050, 65)</td>\n",
       "      <td>(1096, 65)</td>\n",
       "      <td>[2, 3, 4, 5, 6]</td>\n",
       "      <td>[1]</td>\n",
       "      <td>27.958941</td>\n",
       "      <td>43.538868</td>\n",
       "      <td>-15.579927</td>\n",
       "    </tr>\n",
       "    <tr>\n",
       "      <th>1</th>\n",
       "      <td>office</td>\n",
       "      <td>2</td>\n",
       "      <td>(11841, 65)</td>\n",
       "      <td>(1305, 65)</td>\n",
       "      <td>[1, 3, 4, 5, 6]</td>\n",
       "      <td>[2]</td>\n",
       "      <td>26.810483</td>\n",
       "      <td>41.528590</td>\n",
       "      <td>-14.718107</td>\n",
       "    </tr>\n",
       "    <tr>\n",
       "      <th>2</th>\n",
       "      <td>office</td>\n",
       "      <td>3</td>\n",
       "      <td>(11449, 65)</td>\n",
       "      <td>(1697, 65)</td>\n",
       "      <td>[1, 2, 4, 5, 6]</td>\n",
       "      <td>[3]</td>\n",
       "      <td>25.883925</td>\n",
       "      <td>36.178360</td>\n",
       "      <td>-10.294435</td>\n",
       "    </tr>\n",
       "    <tr>\n",
       "      <th>3</th>\n",
       "      <td>office</td>\n",
       "      <td>4</td>\n",
       "      <td>(10740, 65)</td>\n",
       "      <td>(2406, 65)</td>\n",
       "      <td>[1, 2, 3, 5, 6]</td>\n",
       "      <td>[4]</td>\n",
       "      <td>31.052040</td>\n",
       "      <td>34.089577</td>\n",
       "      <td>-3.037537</td>\n",
       "    </tr>\n",
       "    <tr>\n",
       "      <th>4</th>\n",
       "      <td>office</td>\n",
       "      <td>5</td>\n",
       "      <td>(9928, 65)</td>\n",
       "      <td>(3218, 65)</td>\n",
       "      <td>[1, 2, 3, 4, 6]</td>\n",
       "      <td>[5]</td>\n",
       "      <td>28.496836</td>\n",
       "      <td>27.210220</td>\n",
       "      <td>1.286616</td>\n",
       "    </tr>\n",
       "    <tr>\n",
       "      <th>5</th>\n",
       "      <td>office</td>\n",
       "      <td>6</td>\n",
       "      <td>(9722, 65)</td>\n",
       "      <td>(3424, 65)</td>\n",
       "      <td>[1, 2, 3, 4, 5]</td>\n",
       "      <td>[6]</td>\n",
       "      <td>29.128093</td>\n",
       "      <td>28.637723</td>\n",
       "      <td>0.490370</td>\n",
       "    </tr>\n",
       "    <tr>\n",
       "      <th>6</th>\n",
       "      <td>office</td>\n",
       "      <td>MEAN</td>\n",
       "      <td>N/A</td>\n",
       "      <td>N/A</td>\n",
       "      <td>N/A</td>\n",
       "      <td>N/A</td>\n",
       "      <td>28.221720</td>\n",
       "      <td>35.197223</td>\n",
       "      <td>-6.975503</td>\n",
       "    </tr>\n",
       "    <tr>\n",
       "      <th>0</th>\n",
       "      <td>warehouse</td>\n",
       "      <td>1</td>\n",
       "      <td>(2120, 65)</td>\n",
       "      <td>(155, 65)</td>\n",
       "      <td>[2, 3, 4, 5, 6]</td>\n",
       "      <td>[1]</td>\n",
       "      <td>36.329470</td>\n",
       "      <td>20.101172</td>\n",
       "      <td>16.228298</td>\n",
       "    </tr>\n",
       "    <tr>\n",
       "      <th>1</th>\n",
       "      <td>warehouse</td>\n",
       "      <td>2</td>\n",
       "      <td>(2086, 65)</td>\n",
       "      <td>(189, 65)</td>\n",
       "      <td>[1, 3, 4, 5, 6]</td>\n",
       "      <td>[2]</td>\n",
       "      <td>22.611686</td>\n",
       "      <td>21.148945</td>\n",
       "      <td>1.462742</td>\n",
       "    </tr>\n",
       "    <tr>\n",
       "      <th>2</th>\n",
       "      <td>warehouse</td>\n",
       "      <td>3</td>\n",
       "      <td>(1975, 65)</td>\n",
       "      <td>(300, 65)</td>\n",
       "      <td>[1, 2, 4, 5, 6]</td>\n",
       "      <td>[3]</td>\n",
       "      <td>26.543351</td>\n",
       "      <td>27.518435</td>\n",
       "      <td>-0.975085</td>\n",
       "    </tr>\n",
       "    <tr>\n",
       "      <th>3</th>\n",
       "      <td>warehouse</td>\n",
       "      <td>4</td>\n",
       "      <td>(1919, 65)</td>\n",
       "      <td>(356, 65)</td>\n",
       "      <td>[1, 2, 3, 5, 6]</td>\n",
       "      <td>[4]</td>\n",
       "      <td>24.088778</td>\n",
       "      <td>23.928819</td>\n",
       "      <td>0.159959</td>\n",
       "    </tr>\n",
       "    <tr>\n",
       "      <th>4</th>\n",
       "      <td>warehouse</td>\n",
       "      <td>5</td>\n",
       "      <td>(1674, 65)</td>\n",
       "      <td>(601, 65)</td>\n",
       "      <td>[1, 2, 3, 4, 6]</td>\n",
       "      <td>[5]</td>\n",
       "      <td>23.163008</td>\n",
       "      <td>38.238912</td>\n",
       "      <td>-15.075904</td>\n",
       "    </tr>\n",
       "    <tr>\n",
       "      <th>5</th>\n",
       "      <td>warehouse</td>\n",
       "      <td>6</td>\n",
       "      <td>(1601, 65)</td>\n",
       "      <td>(674, 65)</td>\n",
       "      <td>[1, 2, 3, 4, 5]</td>\n",
       "      <td>[6]</td>\n",
       "      <td>21.806445</td>\n",
       "      <td>32.816349</td>\n",
       "      <td>-11.009904</td>\n",
       "    </tr>\n",
       "    <tr>\n",
       "      <th>6</th>\n",
       "      <td>warehouse</td>\n",
       "      <td>MEAN</td>\n",
       "      <td>N/A</td>\n",
       "      <td>N/A</td>\n",
       "      <td>N/A</td>\n",
       "      <td>N/A</td>\n",
       "      <td>25.757123</td>\n",
       "      <td>27.292106</td>\n",
       "      <td>-1.534983</td>\n",
       "    </tr>\n",
       "    <tr>\n",
       "      <th>0</th>\n",
       "      <td>religious</td>\n",
       "      <td>1</td>\n",
       "      <td>(388, 65)</td>\n",
       "      <td>(11, 65)</td>\n",
       "      <td>[2, 3, 4, 5, 6]</td>\n",
       "      <td>[1]</td>\n",
       "      <td>19.719253</td>\n",
       "      <td>26.166658</td>\n",
       "      <td>-6.447405</td>\n",
       "    </tr>\n",
       "    <tr>\n",
       "      <th>1</th>\n",
       "      <td>religious</td>\n",
       "      <td>2</td>\n",
       "      <td>(381, 65)</td>\n",
       "      <td>(18, 65)</td>\n",
       "      <td>[1, 3, 4, 5, 6]</td>\n",
       "      <td>[2]</td>\n",
       "      <td>19.537845</td>\n",
       "      <td>18.169034</td>\n",
       "      <td>1.368810</td>\n",
       "    </tr>\n",
       "    <tr>\n",
       "      <th>2</th>\n",
       "      <td>religious</td>\n",
       "      <td>3</td>\n",
       "      <td>(362, 65)</td>\n",
       "      <td>(37, 65)</td>\n",
       "      <td>[1, 2, 4, 5, 6]</td>\n",
       "      <td>[3]</td>\n",
       "      <td>8.953043</td>\n",
       "      <td>18.812217</td>\n",
       "      <td>-9.859175</td>\n",
       "    </tr>\n",
       "    <tr>\n",
       "      <th>3</th>\n",
       "      <td>religious</td>\n",
       "      <td>4</td>\n",
       "      <td>(344, 65)</td>\n",
       "      <td>(55, 65)</td>\n",
       "      <td>[1, 2, 3, 5, 6]</td>\n",
       "      <td>[4]</td>\n",
       "      <td>12.573734</td>\n",
       "      <td>18.221921</td>\n",
       "      <td>-5.648186</td>\n",
       "    </tr>\n",
       "    <tr>\n",
       "      <th>4</th>\n",
       "      <td>religious</td>\n",
       "      <td>5</td>\n",
       "      <td>(258, 65)</td>\n",
       "      <td>(141, 65)</td>\n",
       "      <td>[1, 2, 3, 4, 6]</td>\n",
       "      <td>[5]</td>\n",
       "      <td>11.005571</td>\n",
       "      <td>16.126924</td>\n",
       "      <td>-5.121353</td>\n",
       "    </tr>\n",
       "    <tr>\n",
       "      <th>5</th>\n",
       "      <td>religious</td>\n",
       "      <td>6</td>\n",
       "      <td>(262, 65)</td>\n",
       "      <td>(137, 65)</td>\n",
       "      <td>[1, 2, 3, 4, 5]</td>\n",
       "      <td>[6]</td>\n",
       "      <td>10.234099</td>\n",
       "      <td>15.975248</td>\n",
       "      <td>-5.741149</td>\n",
       "    </tr>\n",
       "    <tr>\n",
       "      <th>6</th>\n",
       "      <td>religious</td>\n",
       "      <td>MEAN</td>\n",
       "      <td>N/A</td>\n",
       "      <td>N/A</td>\n",
       "      <td>N/A</td>\n",
       "      <td>N/A</td>\n",
       "      <td>13.670591</td>\n",
       "      <td>18.912000</td>\n",
       "      <td>-5.241410</td>\n",
       "    </tr>\n",
       "    <tr>\n",
       "      <th>0</th>\n",
       "      <td>lodging</td>\n",
       "      <td>1</td>\n",
       "      <td>(2678, 65)</td>\n",
       "      <td>(169, 65)</td>\n",
       "      <td>[2, 3, 4, 5, 6]</td>\n",
       "      <td>[1]</td>\n",
       "      <td>26.468548</td>\n",
       "      <td>45.560261</td>\n",
       "      <td>-19.091713</td>\n",
       "    </tr>\n",
       "    <tr>\n",
       "      <th>1</th>\n",
       "      <td>lodging</td>\n",
       "      <td>2</td>\n",
       "      <td>(2580, 65)</td>\n",
       "      <td>(267, 65)</td>\n",
       "      <td>[1, 3, 4, 5, 6]</td>\n",
       "      <td>[2]</td>\n",
       "      <td>31.712148</td>\n",
       "      <td>36.560454</td>\n",
       "      <td>-4.848306</td>\n",
       "    </tr>\n",
       "    <tr>\n",
       "      <th>2</th>\n",
       "      <td>lodging</td>\n",
       "      <td>3</td>\n",
       "      <td>(2449, 65)</td>\n",
       "      <td>(398, 65)</td>\n",
       "      <td>[1, 2, 4, 5, 6]</td>\n",
       "      <td>[3]</td>\n",
       "      <td>21.128153</td>\n",
       "      <td>50.092734</td>\n",
       "      <td>-28.964581</td>\n",
       "    </tr>\n",
       "    <tr>\n",
       "      <th>3</th>\n",
       "      <td>lodging</td>\n",
       "      <td>4</td>\n",
       "      <td>(2380, 65)</td>\n",
       "      <td>(467, 65)</td>\n",
       "      <td>[1, 2, 3, 5, 6]</td>\n",
       "      <td>[4]</td>\n",
       "      <td>24.902487</td>\n",
       "      <td>31.250983</td>\n",
       "      <td>-6.348496</td>\n",
       "    </tr>\n",
       "    <tr>\n",
       "      <th>4</th>\n",
       "      <td>lodging</td>\n",
       "      <td>5</td>\n",
       "      <td>(2149, 65)</td>\n",
       "      <td>(698, 65)</td>\n",
       "      <td>[1, 2, 3, 4, 6]</td>\n",
       "      <td>[5]</td>\n",
       "      <td>28.195563</td>\n",
       "      <td>28.193465</td>\n",
       "      <td>0.002098</td>\n",
       "    </tr>\n",
       "    <tr>\n",
       "      <th>5</th>\n",
       "      <td>lodging</td>\n",
       "      <td>6</td>\n",
       "      <td>(1999, 65)</td>\n",
       "      <td>(848, 65)</td>\n",
       "      <td>[1, 2, 3, 4, 5]</td>\n",
       "      <td>[6]</td>\n",
       "      <td>28.119499</td>\n",
       "      <td>33.636278</td>\n",
       "      <td>-5.516779</td>\n",
       "    </tr>\n",
       "    <tr>\n",
       "      <th>6</th>\n",
       "      <td>lodging</td>\n",
       "      <td>MEAN</td>\n",
       "      <td>N/A</td>\n",
       "      <td>N/A</td>\n",
       "      <td>N/A</td>\n",
       "      <td>N/A</td>\n",
       "      <td>26.754400</td>\n",
       "      <td>37.549029</td>\n",
       "      <td>-10.794629</td>\n",
       "    </tr>\n",
       "  </tbody>\n",
       "</table>\n",
       "</div>"
      ],
      "text/plain": [
       "  facility_group  Fold  Train_shape    Val_shape      Train_years Val_years  \\\n",
       "0    multifamily     1  (39323, 65)    (107, 65)  [2, 3, 4, 5, 6]       [1]   \n",
       "1    multifamily     2  (33058, 65)   (6372, 65)  [1, 3, 4, 5, 6]       [2]   \n",
       "2    multifamily     3  (32774, 65)   (6656, 65)  [1, 2, 4, 5, 6]       [3]   \n",
       "3    multifamily     4  (31930, 65)   (7500, 65)  [1, 2, 3, 5, 6]       [4]   \n",
       "4    multifamily     5  (30871, 65)   (8559, 65)  [1, 2, 3, 4, 6]       [5]   \n",
       "5    multifamily     6  (29194, 65)  (10236, 65)  [1, 2, 3, 4, 5]       [6]   \n",
       "6    multifamily  MEAN          N/A          N/A              N/A       N/A   \n",
       "0    residential     1   (3171, 65)      (4, 65)        [4, 5, 6]       [1]   \n",
       "1    residential     2   (3172, 65)      (3, 65)        [1, 5, 6]       [4]   \n",
       "2    residential     3   (1599, 65)   (1576, 65)        [1, 4, 6]       [5]   \n",
       "3    residential     4   (1583, 65)   (1592, 65)        [1, 4, 5]       [6]   \n",
       "4    residential  MEAN          N/A          N/A              N/A       N/A   \n",
       "0     commercial     1  (13874, 65)    (572, 65)  [2, 3, 4, 5, 6]       [1]   \n",
       "1     commercial     2  (13556, 65)    (890, 65)  [1, 3, 4, 5, 6]       [2]   \n",
       "2     commercial     3  (12661, 65)   (1785, 65)  [1, 2, 4, 5, 6]       [3]   \n",
       "3     commercial     4  (12291, 65)   (2155, 65)  [1, 2, 3, 5, 6]       [4]   \n",
       "4     commercial     5  (10934, 65)   (3512, 65)  [1, 2, 3, 4, 6]       [5]   \n",
       "5     commercial     6   (8914, 65)   (5532, 65)  [1, 2, 3, 4, 5]       [6]   \n",
       "6     commercial  MEAN          N/A          N/A              N/A       N/A   \n",
       "0         office     1  (12050, 65)   (1096, 65)  [2, 3, 4, 5, 6]       [1]   \n",
       "1         office     2  (11841, 65)   (1305, 65)  [1, 3, 4, 5, 6]       [2]   \n",
       "2         office     3  (11449, 65)   (1697, 65)  [1, 2, 4, 5, 6]       [3]   \n",
       "3         office     4  (10740, 65)   (2406, 65)  [1, 2, 3, 5, 6]       [4]   \n",
       "4         office     5   (9928, 65)   (3218, 65)  [1, 2, 3, 4, 6]       [5]   \n",
       "5         office     6   (9722, 65)   (3424, 65)  [1, 2, 3, 4, 5]       [6]   \n",
       "6         office  MEAN          N/A          N/A              N/A       N/A   \n",
       "0      warehouse     1   (2120, 65)    (155, 65)  [2, 3, 4, 5, 6]       [1]   \n",
       "1      warehouse     2   (2086, 65)    (189, 65)  [1, 3, 4, 5, 6]       [2]   \n",
       "2      warehouse     3   (1975, 65)    (300, 65)  [1, 2, 4, 5, 6]       [3]   \n",
       "3      warehouse     4   (1919, 65)    (356, 65)  [1, 2, 3, 5, 6]       [4]   \n",
       "4      warehouse     5   (1674, 65)    (601, 65)  [1, 2, 3, 4, 6]       [5]   \n",
       "5      warehouse     6   (1601, 65)    (674, 65)  [1, 2, 3, 4, 5]       [6]   \n",
       "6      warehouse  MEAN          N/A          N/A              N/A       N/A   \n",
       "0      religious     1    (388, 65)     (11, 65)  [2, 3, 4, 5, 6]       [1]   \n",
       "1      religious     2    (381, 65)     (18, 65)  [1, 3, 4, 5, 6]       [2]   \n",
       "2      religious     3    (362, 65)     (37, 65)  [1, 2, 4, 5, 6]       [3]   \n",
       "3      religious     4    (344, 65)     (55, 65)  [1, 2, 3, 5, 6]       [4]   \n",
       "4      religious     5    (258, 65)    (141, 65)  [1, 2, 3, 4, 6]       [5]   \n",
       "5      religious     6    (262, 65)    (137, 65)  [1, 2, 3, 4, 5]       [6]   \n",
       "6      religious  MEAN          N/A          N/A              N/A       N/A   \n",
       "0        lodging     1   (2678, 65)    (169, 65)  [2, 3, 4, 5, 6]       [1]   \n",
       "1        lodging     2   (2580, 65)    (267, 65)  [1, 3, 4, 5, 6]       [2]   \n",
       "2        lodging     3   (2449, 65)    (398, 65)  [1, 2, 4, 5, 6]       [3]   \n",
       "3        lodging     4   (2380, 65)    (467, 65)  [1, 2, 3, 5, 6]       [4]   \n",
       "4        lodging     5   (2149, 65)    (698, 65)  [1, 2, 3, 4, 6]       [5]   \n",
       "5        lodging     6   (1999, 65)    (848, 65)  [1, 2, 3, 4, 5]       [6]   \n",
       "6        lodging  MEAN          N/A          N/A              N/A       N/A   \n",
       "\n",
       "   Train_RMSE   Val_RMSE  RMSE_spread  \n",
       "0   31.424101  37.951848    -6.527747  \n",
       "1   35.805168  35.557750     0.247418  \n",
       "2   30.474357  45.537829   -15.063472  \n",
       "3   30.121021  34.351295    -4.230274  \n",
       "4   31.651982  24.252581     7.399401  \n",
       "5   33.959790  24.194163     9.765628  \n",
       "6   32.239403  33.640911    -1.401508  \n",
       "0   10.682125  45.600748   -34.918623  \n",
       "1    8.831916  24.808099   -15.976183  \n",
       "2    8.525895  11.255834    -2.729940  \n",
       "3    8.595381  11.025550    -2.430169  \n",
       "4    9.158829  23.172558   -14.013729  \n",
       "0   57.910403  86.192266   -28.281863  \n",
       "1   57.036876  87.190470   -30.153594  \n",
       "2   59.093918  69.874926   -10.781009  \n",
       "3   59.528865  64.260748    -4.731883  \n",
       "4   59.337523  63.840015    -4.502493  \n",
       "5   74.944442  73.327401     1.617040  \n",
       "6   61.308671  74.114305   -12.805634  \n",
       "0   27.958941  43.538868   -15.579927  \n",
       "1   26.810483  41.528590   -14.718107  \n",
       "2   25.883925  36.178360   -10.294435  \n",
       "3   31.052040  34.089577    -3.037537  \n",
       "4   28.496836  27.210220     1.286616  \n",
       "5   29.128093  28.637723     0.490370  \n",
       "6   28.221720  35.197223    -6.975503  \n",
       "0   36.329470  20.101172    16.228298  \n",
       "1   22.611686  21.148945     1.462742  \n",
       "2   26.543351  27.518435    -0.975085  \n",
       "3   24.088778  23.928819     0.159959  \n",
       "4   23.163008  38.238912   -15.075904  \n",
       "5   21.806445  32.816349   -11.009904  \n",
       "6   25.757123  27.292106    -1.534983  \n",
       "0   19.719253  26.166658    -6.447405  \n",
       "1   19.537845  18.169034     1.368810  \n",
       "2    8.953043  18.812217    -9.859175  \n",
       "3   12.573734  18.221921    -5.648186  \n",
       "4   11.005571  16.126924    -5.121353  \n",
       "5   10.234099  15.975248    -5.741149  \n",
       "6   13.670591  18.912000    -5.241410  \n",
       "0   26.468548  45.560261   -19.091713  \n",
       "1   31.712148  36.560454    -4.848306  \n",
       "2   21.128153  50.092734   -28.964581  \n",
       "3   24.902487  31.250983    -6.348496  \n",
       "4   28.195563  28.193465     0.002098  \n",
       "5   28.119499  33.636278    -5.516779  \n",
       "6   26.754400  37.549029   -10.794629  "
      ]
     },
     "execution_count": 51,
     "metadata": {},
     "output_type": "execute_result"
    }
   ],
   "source": [
    "process_cv_results(results)"
   ]
  },
  {
   "cell_type": "code",
   "execution_count": 52,
   "id": "1716a5e1",
   "metadata": {
    "execution": {
     "iopub.execute_input": "2022-02-21T23:05:00.753710Z",
     "iopub.status.busy": "2022-02-21T23:05:00.752797Z",
     "iopub.status.idle": "2022-02-21T23:05:00.755161Z",
     "shell.execute_reply": "2022-02-21T23:05:00.755646Z",
     "shell.execute_reply.started": "2022-02-21T23:03:23.209526Z"
    },
    "papermill": {
     "duration": 0.063818,
     "end_time": "2022-02-21T23:05:00.755811",
     "exception": false,
     "start_time": "2022-02-21T23:05:00.691993",
     "status": "completed"
    },
    "tags": []
   },
   "outputs": [],
   "source": [
    "# lgb.plot_importance(models[\"residential\"][4], figsize=(5, 5), height=0.5, max_num_features=15);"
   ]
  },
  {
   "cell_type": "code",
   "execution_count": 53,
   "id": "7f9a0dcd",
   "metadata": {
    "execution": {
     "iopub.execute_input": "2022-02-21T23:05:00.872525Z",
     "iopub.status.busy": "2022-02-21T23:05:00.871850Z",
     "iopub.status.idle": "2022-02-21T23:05:00.874433Z",
     "shell.execute_reply": "2022-02-21T23:05:00.874865Z",
     "shell.execute_reply.started": "2022-02-21T23:03:23.216285Z"
    },
    "papermill": {
     "duration": 0.062513,
     "end_time": "2022-02-21T23:05:00.875036",
     "exception": false,
     "start_time": "2022-02-21T23:05:00.812523",
     "status": "completed"
    },
    "tags": []
   },
   "outputs": [],
   "source": [
    "# lgb.plot_importance(models[\"commercial\"][4], figsize=(5, 5), height=0.5, max_num_features=15);"
   ]
  },
  {
   "cell_type": "markdown",
   "id": "40c6c8be",
   "metadata": {
    "papermill": {
     "duration": 0.057379,
     "end_time": "2022-02-21T23:05:00.989569",
     "exception": false,
     "start_time": "2022-02-21T23:05:00.932190",
     "status": "completed"
    },
    "tags": []
   },
   "source": [
    "## Hyperparameter Tuning"
   ]
  },
  {
   "cell_type": "code",
   "execution_count": 54,
   "id": "6c13fc31",
   "metadata": {
    "execution": {
     "iopub.execute_input": "2022-02-21T23:05:01.106290Z",
     "iopub.status.busy": "2022-02-21T23:05:01.105704Z",
     "iopub.status.idle": "2022-02-21T23:05:01.108835Z",
     "shell.execute_reply": "2022-02-21T23:05:01.109291Z",
     "shell.execute_reply.started": "2022-02-21T23:03:23.228086Z"
    },
    "papermill": {
     "duration": 0.06372,
     "end_time": "2022-02-21T23:05:01.109476",
     "exception": false,
     "start_time": "2022-02-21T23:05:01.045756",
     "status": "completed"
    },
    "tags": []
   },
   "outputs": [],
   "source": [
    "# TODO"
   ]
  },
  {
   "cell_type": "markdown",
   "id": "86a07e53",
   "metadata": {
    "papermill": {
     "duration": 0.056139,
     "end_time": "2022-02-21T23:05:01.224014",
     "exception": false,
     "start_time": "2022-02-21T23:05:01.167875",
     "status": "completed"
    },
    "tags": []
   },
   "source": [
    "## Ensembling"
   ]
  },
  {
   "cell_type": "code",
   "execution_count": 55,
   "id": "59e370c7",
   "metadata": {
    "execution": {
     "iopub.execute_input": "2022-02-21T23:05:01.340744Z",
     "iopub.status.busy": "2022-02-21T23:05:01.339300Z",
     "iopub.status.idle": "2022-02-21T23:05:01.343535Z",
     "shell.execute_reply": "2022-02-21T23:05:01.343010Z",
     "shell.execute_reply.started": "2022-02-21T23:03:23.238521Z"
    },
    "papermill": {
     "duration": 0.063149,
     "end_time": "2022-02-21T23:05:01.343684",
     "exception": false,
     "start_time": "2022-02-21T23:05:01.280535",
     "status": "completed"
    },
    "tags": []
   },
   "outputs": [],
   "source": [
    "# TODO"
   ]
  },
  {
   "cell_type": "markdown",
   "id": "8314e3f6",
   "metadata": {
    "papermill": {
     "duration": 0.055944,
     "end_time": "2022-02-21T23:05:01.455699",
     "exception": false,
     "start_time": "2022-02-21T23:05:01.399755",
     "status": "completed"
    },
    "tags": []
   },
   "source": [
    "# Final models and predictions"
   ]
  },
  {
   "cell_type": "code",
   "execution_count": 56,
   "id": "f067d459",
   "metadata": {
    "execution": {
     "iopub.execute_input": "2022-02-21T23:05:01.575360Z",
     "iopub.status.busy": "2022-02-21T23:05:01.574716Z",
     "iopub.status.idle": "2022-02-21T23:05:01.577519Z",
     "shell.execute_reply": "2022-02-21T23:05:01.577043Z",
     "shell.execute_reply.started": "2022-02-21T23:03:23.248754Z"
    },
    "papermill": {
     "duration": 0.06586,
     "end_time": "2022-02-21T23:05:01.577657",
     "exception": false,
     "start_time": "2022-02-21T23:05:01.511797",
     "status": "completed"
    },
    "tags": []
   },
   "outputs": [],
   "source": [
    "# not in utils yet, need to finalize\n",
    "def train_and_predict(model, X_trains, y_trains, X_tests, ct, target):\n",
    "    predictions = pd.DataFrame()\n",
    "    \n",
    "    for (n1, X_train), (n2, y_train), (n3, X_test) in zip(X_trains.items(), y_trains.items(), X_tests.items()):\n",
    "        assert n1 == n2 == n3\n",
    "        \n",
    "        current_model = deepcopy(model)\n",
    "        pipe = make_pipeline(\n",
    "            ct,\n",
    "            current_model\n",
    "        )\n",
    "        \n",
    "        pipe.fit(X_train, y_train)\n",
    "        \n",
    "        pred = {\n",
    "            \"id\": X_test[\"id\"],\n",
    "            target: pipe.predict(X_test)\n",
    "        }\n",
    "        \n",
    "        predictions = pd.concat([predictions, pd.DataFrame(pred)])\n",
    "    \n",
    "    predictions = predictions.sort_values(\"id\")\n",
    "\n",
    "    return predictions"
   ]
  },
  {
   "cell_type": "code",
   "execution_count": 57,
   "id": "07fef49b",
   "metadata": {
    "execution": {
     "iopub.execute_input": "2022-02-21T23:05:01.695990Z",
     "iopub.status.busy": "2022-02-21T23:05:01.695369Z",
     "iopub.status.idle": "2022-02-21T23:05:01.697585Z",
     "shell.execute_reply": "2022-02-21T23:05:01.698130Z",
     "shell.execute_reply.started": "2022-02-21T23:03:23.260571Z"
    },
    "papermill": {
     "duration": 0.062811,
     "end_time": "2022-02-21T23:05:01.698294",
     "exception": false,
     "start_time": "2022-02-21T23:05:01.635483",
     "status": "completed"
    },
    "tags": []
   },
   "outputs": [],
   "source": [
    "regressor = lgb.LGBMRegressor(force_row_wise=True, random_state=SEED)"
   ]
  },
  {
   "cell_type": "code",
   "execution_count": 58,
   "id": "5fc41303",
   "metadata": {
    "execution": {
     "iopub.execute_input": "2022-02-21T23:05:01.815528Z",
     "iopub.status.busy": "2022-02-21T23:05:01.814936Z",
     "iopub.status.idle": "2022-02-21T23:05:02.969737Z",
     "shell.execute_reply": "2022-02-21T23:05:02.970301Z",
     "shell.execute_reply.started": "2022-02-21T23:03:23.272500Z"
    },
    "papermill": {
     "duration": 1.214108,
     "end_time": "2022-02-21T23:05:02.970520",
     "exception": false,
     "start_time": "2022-02-21T23:05:01.756412",
     "status": "completed"
    },
    "tags": []
   },
   "outputs": [],
   "source": [
    "predictions = train_and_predict(regressor, X_trains, y_trains, X_tests, ct, TARGET)"
   ]
  },
  {
   "cell_type": "code",
   "execution_count": 59,
   "id": "0b8eaf94",
   "metadata": {
    "execution": {
     "iopub.execute_input": "2022-02-21T23:05:03.096700Z",
     "iopub.status.busy": "2022-02-21T23:05:03.095811Z",
     "iopub.status.idle": "2022-02-21T23:05:03.098938Z",
     "shell.execute_reply": "2022-02-21T23:05:03.099317Z",
     "shell.execute_reply.started": "2022-02-21T23:03:24.706273Z"
    },
    "papermill": {
     "duration": 0.072292,
     "end_time": "2022-02-21T23:05:03.099502",
     "exception": false,
     "start_time": "2022-02-21T23:05:03.027210",
     "status": "completed"
    },
    "tags": []
   },
   "outputs": [
    {
     "data": {
      "text/html": [
       "<div>\n",
       "<style scoped>\n",
       "    .dataframe tbody tr th:only-of-type {\n",
       "        vertical-align: middle;\n",
       "    }\n",
       "\n",
       "    .dataframe tbody tr th {\n",
       "        vertical-align: top;\n",
       "    }\n",
       "\n",
       "    .dataframe thead th {\n",
       "        text-align: right;\n",
       "    }\n",
       "</style>\n",
       "<table border=\"1\" class=\"dataframe\">\n",
       "  <thead>\n",
       "    <tr style=\"text-align: right;\">\n",
       "      <th></th>\n",
       "      <th>id</th>\n",
       "      <th>site_eui</th>\n",
       "    </tr>\n",
       "  </thead>\n",
       "  <tbody>\n",
       "    <tr>\n",
       "      <th>0</th>\n",
       "      <td>75757</td>\n",
       "      <td>225.499738</td>\n",
       "    </tr>\n",
       "    <tr>\n",
       "      <th>1</th>\n",
       "      <td>75758</td>\n",
       "      <td>209.810982</td>\n",
       "    </tr>\n",
       "    <tr>\n",
       "      <th>2</th>\n",
       "      <td>75759</td>\n",
       "      <td>281.780931</td>\n",
       "    </tr>\n",
       "    <tr>\n",
       "      <th>3</th>\n",
       "      <td>75760</td>\n",
       "      <td>247.397911</td>\n",
       "    </tr>\n",
       "    <tr>\n",
       "      <th>4</th>\n",
       "      <td>75761</td>\n",
       "      <td>253.464051</td>\n",
       "    </tr>\n",
       "    <tr>\n",
       "      <th>...</th>\n",
       "      <td>...</td>\n",
       "      <td>...</td>\n",
       "    </tr>\n",
       "    <tr>\n",
       "      <th>1651</th>\n",
       "      <td>85457</td>\n",
       "      <td>22.408582</td>\n",
       "    </tr>\n",
       "    <tr>\n",
       "      <th>1652</th>\n",
       "      <td>85458</td>\n",
       "      <td>39.757609</td>\n",
       "    </tr>\n",
       "    <tr>\n",
       "      <th>1653</th>\n",
       "      <td>85459</td>\n",
       "      <td>36.713604</td>\n",
       "    </tr>\n",
       "    <tr>\n",
       "      <th>1654</th>\n",
       "      <td>85460</td>\n",
       "      <td>29.567329</td>\n",
       "    </tr>\n",
       "    <tr>\n",
       "      <th>1655</th>\n",
       "      <td>85461</td>\n",
       "      <td>30.011710</td>\n",
       "    </tr>\n",
       "  </tbody>\n",
       "</table>\n",
       "<p>9705 rows × 2 columns</p>\n",
       "</div>"
      ],
      "text/plain": [
       "         id    site_eui\n",
       "0     75757  225.499738\n",
       "1     75758  209.810982\n",
       "2     75759  281.780931\n",
       "3     75760  247.397911\n",
       "4     75761  253.464051\n",
       "...     ...         ...\n",
       "1651  85457   22.408582\n",
       "1652  85458   39.757609\n",
       "1653  85459   36.713604\n",
       "1654  85460   29.567329\n",
       "1655  85461   30.011710\n",
       "\n",
       "[9705 rows x 2 columns]"
      ]
     },
     "execution_count": 59,
     "metadata": {},
     "output_type": "execute_result"
    }
   ],
   "source": [
    "predictions"
   ]
  },
  {
   "cell_type": "code",
   "execution_count": 60,
   "id": "7d949613",
   "metadata": {
    "execution": {
     "iopub.execute_input": "2022-02-21T23:05:03.217092Z",
     "iopub.status.busy": "2022-02-21T23:05:03.216478Z",
     "iopub.status.idle": "2022-02-21T23:05:03.222476Z",
     "shell.execute_reply": "2022-02-21T23:05:03.221827Z",
     "shell.execute_reply.started": "2022-02-21T23:03:24.723166Z"
    },
    "papermill": {
     "duration": 0.065931,
     "end_time": "2022-02-21T23:05:03.222617",
     "exception": false,
     "start_time": "2022-02-21T23:05:03.156686",
     "status": "completed"
    },
    "tags": []
   },
   "outputs": [],
   "source": [
    "assert sum(predictions.isna().sum()) == 0"
   ]
  },
  {
   "cell_type": "code",
   "execution_count": 61,
   "id": "7df150bb",
   "metadata": {
    "execution": {
     "iopub.execute_input": "2022-02-21T23:05:03.342378Z",
     "iopub.status.busy": "2022-02-21T23:05:03.341735Z",
     "iopub.status.idle": "2022-02-21T23:05:03.368421Z",
     "shell.execute_reply": "2022-02-21T23:05:03.367843Z",
     "shell.execute_reply.started": "2022-02-21T23:03:24.731917Z"
    },
    "papermill": {
     "duration": 0.088689,
     "end_time": "2022-02-21T23:05:03.368581",
     "exception": false,
     "start_time": "2022-02-21T23:05:03.279892",
     "status": "completed"
    },
    "tags": []
   },
   "outputs": [],
   "source": [
    "predictions.to_csv(\"submission.csv\", index=False)"
   ]
  }
 ],
 "metadata": {
  "kernelspec": {
   "display_name": "Python 3",
   "language": "python",
   "name": "python3"
  },
  "language_info": {
   "codemirror_mode": {
    "name": "ipython",
    "version": 3
   },
   "file_extension": ".py",
   "mimetype": "text/x-python",
   "name": "python",
   "nbconvert_exporter": "python",
   "pygments_lexer": "ipython3",
   "version": "3.7.12"
  },
  "papermill": {
   "default_parameters": {},
   "duration": 34.29974,
   "end_time": "2022-02-21T23:05:04.236243",
   "environment_variables": {},
   "exception": null,
   "input_path": "__notebook__.ipynb",
   "output_path": "__notebook__.ipynb",
   "parameters": {},
   "start_time": "2022-02-21T23:04:29.936503",
   "version": "2.3.3"
  }
 },
 "nbformat": 4,
 "nbformat_minor": 5
}
