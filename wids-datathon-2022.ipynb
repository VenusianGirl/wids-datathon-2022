{
 "cells": [
  {
   "cell_type": "markdown",
   "id": "b0d258ef",
   "metadata": {
    "papermill": {
     "duration": 0.055886,
     "end_time": "2022-02-21T22:08:55.673023",
     "exception": false,
     "start_time": "2022-02-21T22:08:55.617137",
     "status": "completed"
    },
    "tags": []
   },
   "source": [
    "# Women in Data Science 2022"
   ]
  },
  {
   "cell_type": "markdown",
   "id": "3b3a09dc",
   "metadata": {
    "papermill": {
     "duration": 0.052257,
     "end_time": "2022-02-21T22:08:55.781811",
     "exception": false,
     "start_time": "2022-02-21T22:08:55.729554",
     "status": "completed"
    },
    "tags": []
   },
   "source": [
    "# Section 1: Notebook set up"
   ]
  },
  {
   "cell_type": "markdown",
   "id": "084c15e1",
   "metadata": {
    "_cell_guid": "b1076dfc-b9ad-4769-8c92-a6c4dae69d19",
    "_uuid": "8f2839f25d086af736a60e9eeb907d3b93b6e0e5",
    "papermill": {
     "duration": 0.052225,
     "end_time": "2022-02-21T22:08:55.886670",
     "exception": false,
     "start_time": "2022-02-21T22:08:55.834445",
     "status": "completed"
    },
    "tags": []
   },
   "source": [
    "## Imports"
   ]
  },
  {
   "cell_type": "code",
   "execution_count": 1,
   "id": "832696f6",
   "metadata": {
    "execution": {
     "iopub.execute_input": "2022-02-21T22:08:56.006092Z",
     "iopub.status.busy": "2022-02-21T22:08:56.005006Z",
     "iopub.status.idle": "2022-02-21T22:08:58.947978Z",
     "shell.execute_reply": "2022-02-21T22:08:58.947304Z",
     "shell.execute_reply.started": "2022-02-21T22:06:36.934873Z"
    },
    "papermill": {
     "duration": 3.008991,
     "end_time": "2022-02-21T22:08:58.948164",
     "exception": false,
     "start_time": "2022-02-21T22:08:55.939173",
     "status": "completed"
    },
    "tags": []
   },
   "outputs": [
    {
     "data": {
      "text/html": [
       "<style type='text/css'>\n",
       ".datatable table.frame { margin-bottom: 0; }\n",
       ".datatable table.frame thead { border-bottom: none; }\n",
       ".datatable table.frame tr.coltypes td {  color: #FFFFFF;  line-height: 6px;  padding: 0 0.5em;}\n",
       ".datatable .bool    { background: #DDDD99; }\n",
       ".datatable .object  { background: #565656; }\n",
       ".datatable .int     { background: #5D9E5D; }\n",
       ".datatable .float   { background: #4040CC; }\n",
       ".datatable .str     { background: #CC4040; }\n",
       ".datatable .time    { background: #40CC40; }\n",
       ".datatable .row_index {  background: var(--jp-border-color3);  border-right: 1px solid var(--jp-border-color0);  color: var(--jp-ui-font-color3);  font-size: 9px;}\n",
       ".datatable .frame tbody td { text-align: left; }\n",
       ".datatable .frame tr.coltypes .row_index {  background: var(--jp-border-color0);}\n",
       ".datatable th:nth-child(2) { padding-left: 12px; }\n",
       ".datatable .hellipsis {  color: var(--jp-cell-editor-border-color);}\n",
       ".datatable .vellipsis {  background: var(--jp-layout-color0);  color: var(--jp-cell-editor-border-color);}\n",
       ".datatable .na {  color: var(--jp-cell-editor-border-color);  font-size: 80%;}\n",
       ".datatable .sp {  opacity: 0.25;}\n",
       ".datatable .footer { font-size: 9px; }\n",
       ".datatable .frame_dimensions {  background: var(--jp-border-color3);  border-top: 1px solid var(--jp-border-color0);  color: var(--jp-ui-font-color3);  display: inline-block;  opacity: 0.6;  padding: 1px 10px 1px 5px;}\n",
       "</style>\n"
      ],
      "text/plain": [
       "<IPython.core.display.HTML object>"
      ]
     },
     "metadata": {},
     "output_type": "display_data"
    }
   ],
   "source": [
    "import random, os\n",
    "\n",
    "import numpy as np\n",
    "import pandas as pd\n",
    "import seaborn as sns\n",
    "import matplotlib.pyplot as plt\n",
    "import xgboost as xgb\n",
    "import lightgbm as lgb\n",
    "import catboost as cb\n",
    "\n",
    "from copy import deepcopy\n",
    "\n",
    "from sklearn.cluster import KMeans\n",
    "from sklearn.pipeline import make_pipeline\n",
    "from sklearn.ensemble import VotingRegressor\n",
    "from sklearn.metrics import mean_squared_error\n",
    "from sklearn.linear_model import BayesianRidge, Ridge\n",
    "from sklearn.experimental import enable_iterative_imputer\n",
    "from sklearn.impute import SimpleImputer, IterativeImputer\n",
    "from sklearn.compose import make_column_transformer, TransformedTargetRegressor\n",
    "from sklearn.model_selection import (\n",
    "    RandomizedSearchCV,\n",
    "    train_test_split,\n",
    "    cross_validate,\n",
    "    cross_val_score,\n",
    "    LeaveOneGroupOut,\n",
    ")\n",
    "from sklearn.preprocessing import (\n",
    "    OneHotEncoder,\n",
    "    OrdinalEncoder,\n",
    "    PowerTransformer,\n",
    "    StandardScaler,\n",
    ")\n",
    "\n",
    "from sklearn.utils.validation import check_is_fitted\n",
    "\n",
    "from yellowbrick.cluster import KElbowVisualizer, SilhouetteVisualizer"
   ]
  },
  {
   "cell_type": "markdown",
   "id": "948b0bab",
   "metadata": {
    "papermill": {
     "duration": 0.054392,
     "end_time": "2022-02-21T22:08:59.058860",
     "exception": false,
     "start_time": "2022-02-21T22:08:59.004468",
     "status": "completed"
    },
    "tags": []
   },
   "source": [
    "## Global notebook setup"
   ]
  },
  {
   "cell_type": "markdown",
   "id": "307bcc6d",
   "metadata": {
    "papermill": {
     "duration": 0.055104,
     "end_time": "2022-02-21T22:08:59.168404",
     "exception": false,
     "start_time": "2022-02-21T22:08:59.113300",
     "status": "completed"
    },
    "tags": []
   },
   "source": [
    "### Global variables"
   ]
  },
  {
   "cell_type": "code",
   "execution_count": 2,
   "id": "f30a6d27",
   "metadata": {
    "execution": {
     "iopub.execute_input": "2022-02-21T22:08:59.281994Z",
     "iopub.status.busy": "2022-02-21T22:08:59.281363Z",
     "iopub.status.idle": "2022-02-21T22:08:59.284885Z",
     "shell.execute_reply": "2022-02-21T22:08:59.285334Z",
     "shell.execute_reply.started": "2022-02-21T22:06:36.947878Z"
    },
    "papermill": {
     "duration": 0.061243,
     "end_time": "2022-02-21T22:08:59.285489",
     "exception": false,
     "start_time": "2022-02-21T22:08:59.224246",
     "status": "completed"
    },
    "scrolled": true,
    "tags": []
   },
   "outputs": [],
   "source": [
    "TRAIN_PATH = \"../input/widsdatathon2022/train.csv\"\n",
    "TEST_PATH = \"../input/widsdatathon2022/test.csv\"\n",
    "SUBMISSION_PATH = \"../output/\"\n",
    "TARGET = \"site_eui\"\n",
    "SCORE = \"neg_root_mean_squared_error\"\n",
    "SEED = 777"
   ]
  },
  {
   "cell_type": "markdown",
   "id": "06e35d3b",
   "metadata": {
    "papermill": {
     "duration": 0.052978,
     "end_time": "2022-02-21T22:08:59.391915",
     "exception": false,
     "start_time": "2022-02-21T22:08:59.338937",
     "status": "completed"
    },
    "tags": []
   },
   "source": [
    "### Display options"
   ]
  },
  {
   "cell_type": "code",
   "execution_count": 3,
   "id": "70f46cfd",
   "metadata": {
    "execution": {
     "iopub.execute_input": "2022-02-21T22:08:59.501737Z",
     "iopub.status.busy": "2022-02-21T22:08:59.501177Z",
     "iopub.status.idle": "2022-02-21T22:08:59.504696Z",
     "shell.execute_reply": "2022-02-21T22:08:59.505243Z",
     "shell.execute_reply.started": "2022-02-21T22:06:36.959908Z"
    },
    "papermill": {
     "duration": 0.060284,
     "end_time": "2022-02-21T22:08:59.505422",
     "exception": false,
     "start_time": "2022-02-21T22:08:59.445138",
     "status": "completed"
    },
    "tags": []
   },
   "outputs": [],
   "source": [
    "pd.options.display.max_rows = 100"
   ]
  },
  {
   "cell_type": "markdown",
   "id": "97faf4b8",
   "metadata": {
    "papermill": {
     "duration": 0.053748,
     "end_time": "2022-02-21T22:08:59.613922",
     "exception": false,
     "start_time": "2022-02-21T22:08:59.560174",
     "status": "completed"
    },
    "tags": []
   },
   "source": [
    "# Section 2: Data preprocessing"
   ]
  },
  {
   "cell_type": "markdown",
   "id": "8efb0643",
   "metadata": {
    "papermill": {
     "duration": 0.053465,
     "end_time": "2022-02-21T22:08:59.721322",
     "exception": false,
     "start_time": "2022-02-21T22:08:59.667857",
     "status": "completed"
    },
    "tags": []
   },
   "source": [
    "## Read in data"
   ]
  },
  {
   "cell_type": "code",
   "execution_count": 4,
   "id": "87e7f21d",
   "metadata": {
    "execution": {
     "iopub.execute_input": "2022-02-21T22:08:59.833578Z",
     "iopub.status.busy": "2022-02-21T22:08:59.833020Z",
     "iopub.status.idle": "2022-02-21T22:08:59.835102Z",
     "shell.execute_reply": "2022-02-21T22:08:59.835551Z",
     "shell.execute_reply.started": "2022-02-21T22:06:36.970648Z"
    },
    "papermill": {
     "duration": 0.060539,
     "end_time": "2022-02-21T22:08:59.835709",
     "exception": false,
     "start_time": "2022-02-21T22:08:59.775170",
     "status": "completed"
    },
    "tags": []
   },
   "outputs": [],
   "source": [
    "def read_data(train_path, test_path):\n",
    "    \"\"\"Reads in train and test data.\"\"\"\n",
    "    train_df = pd.read_csv(train_path)\n",
    "    test_df = pd.read_csv(test_path)\n",
    "    return train_df, test_df"
   ]
  },
  {
   "cell_type": "code",
   "execution_count": 5,
   "id": "8c7b6ecc",
   "metadata": {
    "execution": {
     "iopub.execute_input": "2022-02-21T22:08:59.945520Z",
     "iopub.status.busy": "2022-02-21T22:08:59.944920Z",
     "iopub.status.idle": "2022-02-21T22:09:00.730694Z",
     "shell.execute_reply": "2022-02-21T22:09:00.730157Z",
     "shell.execute_reply.started": "2022-02-21T22:06:36.984853Z"
    },
    "papermill": {
     "duration": 0.841302,
     "end_time": "2022-02-21T22:09:00.730864",
     "exception": false,
     "start_time": "2022-02-21T22:08:59.889562",
     "status": "completed"
    },
    "tags": []
   },
   "outputs": [],
   "source": [
    "train, test = read_data(TRAIN_PATH, TEST_PATH)"
   ]
  },
  {
   "cell_type": "code",
   "execution_count": 6,
   "id": "b46eb142",
   "metadata": {
    "execution": {
     "iopub.execute_input": "2022-02-21T22:09:00.844686Z",
     "iopub.status.busy": "2022-02-21T22:09:00.843952Z",
     "iopub.status.idle": "2022-02-21T22:09:00.847358Z",
     "shell.execute_reply": "2022-02-21T22:09:00.846901Z",
     "shell.execute_reply.started": "2022-02-21T22:06:37.566683Z"
    },
    "papermill": {
     "duration": 0.061603,
     "end_time": "2022-02-21T22:09:00.847484",
     "exception": false,
     "start_time": "2022-02-21T22:09:00.785881",
     "status": "completed"
    },
    "tags": []
   },
   "outputs": [
    {
     "data": {
      "text/plain": [
       "(75757, 64)"
      ]
     },
     "execution_count": 6,
     "metadata": {},
     "output_type": "execute_result"
    }
   ],
   "source": [
    "train.shape"
   ]
  },
  {
   "cell_type": "code",
   "execution_count": 7,
   "id": "7dcf7f36",
   "metadata": {
    "execution": {
     "iopub.execute_input": "2022-02-21T22:09:00.959900Z",
     "iopub.status.busy": "2022-02-21T22:09:00.958980Z",
     "iopub.status.idle": "2022-02-21T22:09:00.963005Z",
     "shell.execute_reply": "2022-02-21T22:09:00.962503Z",
     "shell.execute_reply.started": "2022-02-21T22:06:37.574805Z"
    },
    "papermill": {
     "duration": 0.062222,
     "end_time": "2022-02-21T22:09:00.963145",
     "exception": false,
     "start_time": "2022-02-21T22:09:00.900923",
     "status": "completed"
    },
    "tags": []
   },
   "outputs": [
    {
     "data": {
      "text/plain": [
       "(9705, 63)"
      ]
     },
     "execution_count": 7,
     "metadata": {},
     "output_type": "execute_result"
    }
   ],
   "source": [
    "test.shape"
   ]
  },
  {
   "cell_type": "markdown",
   "id": "fd5ef6b6",
   "metadata": {
    "papermill": {
     "duration": 0.054993,
     "end_time": "2022-02-21T22:09:01.073731",
     "exception": false,
     "start_time": "2022-02-21T22:09:01.018738",
     "status": "completed"
    },
    "tags": []
   },
   "source": [
    "## Duplicated data"
   ]
  },
  {
   "cell_type": "code",
   "execution_count": 8,
   "id": "d767ecee",
   "metadata": {
    "execution": {
     "iopub.execute_input": "2022-02-21T22:09:01.188655Z",
     "iopub.status.busy": "2022-02-21T22:09:01.187707Z",
     "iopub.status.idle": "2022-02-21T22:09:01.190224Z",
     "shell.execute_reply": "2022-02-21T22:09:01.189743Z",
     "shell.execute_reply.started": "2022-02-21T22:06:37.588221Z"
    },
    "papermill": {
     "duration": 0.061883,
     "end_time": "2022-02-21T22:09:01.190358",
     "exception": false,
     "start_time": "2022-02-21T22:09:01.128475",
     "status": "completed"
    },
    "tags": []
   },
   "outputs": [],
   "source": [
    "def get_duplicates(df, drop_cols=None):\n",
    "    \"\"\"Returns duplicated values in a dataframe.\"\"\"\n",
    "    if drop_cols is not None:\n",
    "        return df[df.drop(columns=drop_cols).duplicated()]\n",
    "    else:\n",
    "        return df[df.duplicated()]"
   ]
  },
  {
   "cell_type": "code",
   "execution_count": 9,
   "id": "ef26561e",
   "metadata": {
    "execution": {
     "iopub.execute_input": "2022-02-21T22:09:01.303210Z",
     "iopub.status.busy": "2022-02-21T22:09:01.302521Z",
     "iopub.status.idle": "2022-02-21T22:09:01.307398Z",
     "shell.execute_reply": "2022-02-21T22:09:01.307850Z",
     "shell.execute_reply.started": "2022-02-21T22:06:37.599313Z"
    },
    "papermill": {
     "duration": 0.06311,
     "end_time": "2022-02-21T22:09:01.308039",
     "exception": false,
     "start_time": "2022-02-21T22:09:01.244929",
     "status": "completed"
    },
    "tags": []
   },
   "outputs": [],
   "source": [
    "def remove_duplicates(df, drop_cols=None):\n",
    "    \"\"\"Removes duplicated values in a dataframe\"\"\"\n",
    "    df_clean = df.copy()\n",
    "    if drop_cols is not None:\n",
    "        df_clean = df_clean[~df_clean.drop(columns=drop_cols).duplicated()]\n",
    "    else:\n",
    "        df_clean = df_clean[~df_clean.duplicated()]\n",
    "    return df_clean.reset_index(drop=True)"
   ]
  },
  {
   "cell_type": "code",
   "execution_count": 10,
   "id": "57eadcca",
   "metadata": {
    "execution": {
     "iopub.execute_input": "2022-02-21T22:09:01.428152Z",
     "iopub.status.busy": "2022-02-21T22:09:01.427502Z",
     "iopub.status.idle": "2022-02-21T22:09:01.600872Z",
     "shell.execute_reply": "2022-02-21T22:09:01.600250Z",
     "shell.execute_reply.started": "2022-02-21T22:06:37.616291Z"
    },
    "papermill": {
     "duration": 0.235838,
     "end_time": "2022-02-21T22:09:01.601012",
     "exception": false,
     "start_time": "2022-02-21T22:09:01.365174",
     "status": "completed"
    },
    "tags": []
   },
   "outputs": [],
   "source": [
    "train_duplicates = get_duplicates(train, [\"id\"])\n",
    "test_duplicates = get_duplicates(test, [\"id\"])"
   ]
  },
  {
   "cell_type": "code",
   "execution_count": 11,
   "id": "b7830010",
   "metadata": {
    "execution": {
     "iopub.execute_input": "2022-02-21T22:09:01.714991Z",
     "iopub.status.busy": "2022-02-21T22:09:01.714127Z",
     "iopub.status.idle": "2022-02-21T22:09:01.717835Z",
     "shell.execute_reply": "2022-02-21T22:09:01.717252Z",
     "shell.execute_reply.started": "2022-02-21T22:06:37.808413Z"
    },
    "papermill": {
     "duration": 0.062542,
     "end_time": "2022-02-21T22:09:01.717975",
     "exception": false,
     "start_time": "2022-02-21T22:09:01.655433",
     "status": "completed"
    },
    "tags": []
   },
   "outputs": [
    {
     "data": {
      "text/plain": [
       "(39, 64)"
      ]
     },
     "execution_count": 11,
     "metadata": {},
     "output_type": "execute_result"
    }
   ],
   "source": [
    "train_duplicates.shape"
   ]
  },
  {
   "cell_type": "code",
   "execution_count": 12,
   "id": "848b9944",
   "metadata": {
    "execution": {
     "iopub.execute_input": "2022-02-21T22:09:01.829482Z",
     "iopub.status.busy": "2022-02-21T22:09:01.828470Z",
     "iopub.status.idle": "2022-02-21T22:09:01.833979Z",
     "shell.execute_reply": "2022-02-21T22:09:01.834541Z",
     "shell.execute_reply.started": "2022-02-21T22:06:37.816972Z"
    },
    "papermill": {
     "duration": 0.062808,
     "end_time": "2022-02-21T22:09:01.834704",
     "exception": false,
     "start_time": "2022-02-21T22:09:01.771896",
     "status": "completed"
    },
    "tags": []
   },
   "outputs": [
    {
     "data": {
      "text/plain": [
       "(5, 63)"
      ]
     },
     "execution_count": 12,
     "metadata": {},
     "output_type": "execute_result"
    }
   ],
   "source": [
    "test_duplicates.shape"
   ]
  },
  {
   "cell_type": "code",
   "execution_count": 13,
   "id": "bb30674f",
   "metadata": {
    "execution": {
     "iopub.execute_input": "2022-02-21T22:09:01.952111Z",
     "iopub.status.busy": "2022-02-21T22:09:01.950187Z",
     "iopub.status.idle": "2022-02-21T22:09:02.147186Z",
     "shell.execute_reply": "2022-02-21T22:09:02.146585Z",
     "shell.execute_reply.started": "2022-02-21T22:06:37.831360Z"
    },
    "papermill": {
     "duration": 0.258396,
     "end_time": "2022-02-21T22:09:02.147332",
     "exception": false,
     "start_time": "2022-02-21T22:09:01.888936",
     "status": "completed"
    },
    "tags": []
   },
   "outputs": [],
   "source": [
    "train = remove_duplicates(train, [\"id\"])"
   ]
  },
  {
   "cell_type": "code",
   "execution_count": 14,
   "id": "a922c89e",
   "metadata": {
    "execution": {
     "iopub.execute_input": "2022-02-21T22:09:02.261267Z",
     "iopub.status.busy": "2022-02-21T22:09:02.260500Z",
     "iopub.status.idle": "2022-02-21T22:09:02.263483Z",
     "shell.execute_reply": "2022-02-21T22:09:02.263915Z",
     "shell.execute_reply.started": "2022-02-21T22:06:38.038409Z"
    },
    "papermill": {
     "duration": 0.062402,
     "end_time": "2022-02-21T22:09:02.264072",
     "exception": false,
     "start_time": "2022-02-21T22:09:02.201670",
     "status": "completed"
    },
    "tags": []
   },
   "outputs": [
    {
     "data": {
      "text/plain": [
       "(75718, 64)"
      ]
     },
     "execution_count": 14,
     "metadata": {},
     "output_type": "execute_result"
    }
   ],
   "source": [
    "train.shape"
   ]
  },
  {
   "cell_type": "markdown",
   "id": "f1921570",
   "metadata": {
    "papermill": {
     "duration": 0.056694,
     "end_time": "2022-02-21T22:09:02.374947",
     "exception": false,
     "start_time": "2022-02-21T22:09:02.318253",
     "status": "completed"
    },
    "tags": []
   },
   "source": [
    "## Separate data by facility (residential vs. commercial)"
   ]
  },
  {
   "cell_type": "code",
   "execution_count": 15,
   "id": "03d2c919",
   "metadata": {
    "execution": {
     "iopub.execute_input": "2022-02-21T22:09:02.488552Z",
     "iopub.status.busy": "2022-02-21T22:09:02.487624Z",
     "iopub.status.idle": "2022-02-21T22:09:02.492232Z",
     "shell.execute_reply": "2022-02-21T22:09:02.492708Z",
     "shell.execute_reply.started": "2022-02-21T22:06:38.047269Z"
    },
    "papermill": {
     "duration": 0.06295,
     "end_time": "2022-02-21T22:09:02.492884",
     "exception": false,
     "start_time": "2022-02-21T22:09:02.429934",
     "status": "completed"
    },
    "tags": []
   },
   "outputs": [],
   "source": [
    "def split_building_data(df, groups):\n",
    "    \"\"\"Creates separate dataframes based on facility type groups\"\"\"\n",
    "    dfs = {}\n",
    "\n",
    "    for name, group in groups.items():\n",
    "        group_df = df.query(\"facility_type in @group\")\n",
    "        dfs[name] = group_df.reset_index(drop=True)\n",
    "\n",
    "    return dfs"
   ]
  },
  {
   "cell_type": "code",
   "execution_count": 16,
   "id": "0023599a",
   "metadata": {
    "execution": {
     "iopub.execute_input": "2022-02-21T22:09:02.606108Z",
     "iopub.status.busy": "2022-02-21T22:09:02.605197Z",
     "iopub.status.idle": "2022-02-21T22:09:02.611405Z",
     "shell.execute_reply": "2022-02-21T22:09:02.611909Z",
     "shell.execute_reply.started": "2022-02-21T22:06:38.060893Z"
    },
    "papermill": {
     "duration": 0.064744,
     "end_time": "2022-02-21T22:09:02.612064",
     "exception": false,
     "start_time": "2022-02-21T22:09:02.547320",
     "status": "completed"
    },
    "tags": []
   },
   "outputs": [],
   "source": [
    "groups = {\n",
    "    \"residential\": {\n",
    "        '2to4_Unit_Building', '5plus_Unit_Building', 'Mixed_Use_Commercial_and_Residential',\n",
    "        'Mixed_Use_Predominantly_Residential', 'Multifamily_Uncategorized'\n",
    "    },\n",
    "    \"commercial\": {\n",
    "        'Mixed_Use_Predominantly_Commercial', 'Commercial_Other', 'Commercial_Unknown',\n",
    "        'Data_Center', 'Education_College_or_university', 'Education_Other_classroom',\n",
    "        'Education_Preschool_or_daycare', 'Education_Uncategorized', 'Food_Sales',\n",
    "        'Food_Service_Other', 'Food_Service_Restaurant_or_cafeteria', 'Food_Service_Uncategorized',\n",
    "        'Grocery_store_or_food_market', 'Health_Care_Inpatient', 'Health_Care_Outpatient_Clinic',\n",
    "        'Health_Care_Outpatient_Uncategorized', 'Health_Care_Uncategorized', 'Industrial',\n",
    "        'Laboratory', 'Lodging_Dormitory_or_fraternity_sorority', 'Lodging_Hotel', 'Lodging_Other',\n",
    "        'Lodging_Uncategorized', 'Nursing_Home', 'Office_Bank_or_other_financial', 'Office_Medical_non_diagnostic',\n",
    "        'Office_Mixed_use', 'Office_Uncategorized', 'Parking_Garage', 'Public_Assembly_Drama_theater',\n",
    "        'Public_Assembly_Entertainment_culture', 'Public_Assembly_Library', 'Public_Assembly_Movie_Theater',\n",
    "        'Public_Assembly_Other', 'Public_Assembly_Recreation', 'Public_Assembly_Social_meeting',\n",
    "        'Public_Assembly_Stadium', 'Public_Assembly_Uncategorized', 'Public_Safety_Courthouse',\n",
    "        'Public_Safety_Fire_or_police_station', 'Public_Safety_Penitentiary', 'Public_Safety_Uncategorized',\n",
    "        'Religious_worship', 'Retail_Enclosed_mall', 'Retail_Strip_shopping_mall', 'Retail_Uncategorized',\n",
    "        'Retail_Vehicle_dealership_showroom', 'Service_Drycleaning_or_Laundry', 'Service_Uncategorized',\n",
    "        'Service_Vehicle_service_repair_shop', 'Warehouse_Distribution_or_Shipping_center', 'Warehouse_Nonrefrigerated',\n",
    "        'Warehouse_Refrigerated', 'Warehouse_Selfstorage', 'Warehouse_Uncategorized'\n",
    "    }\n",
    "}"
   ]
  },
  {
   "cell_type": "code",
   "execution_count": 17,
   "id": "22f226ae",
   "metadata": {
    "execution": {
     "iopub.execute_input": "2022-02-21T22:09:02.725068Z",
     "iopub.status.busy": "2022-02-21T22:09:02.724142Z",
     "iopub.status.idle": "2022-02-21T22:09:02.795483Z",
     "shell.execute_reply": "2022-02-21T22:09:02.794827Z",
     "shell.execute_reply.started": "2022-02-21T22:06:38.071995Z"
    },
    "papermill": {
     "duration": 0.128728,
     "end_time": "2022-02-21T22:09:02.795641",
     "exception": false,
     "start_time": "2022-02-21T22:09:02.666913",
     "status": "completed"
    },
    "tags": []
   },
   "outputs": [],
   "source": [
    "train_dfs = split_building_data(train, groups)\n",
    "test_dfs = split_building_data(test, groups)"
   ]
  },
  {
   "cell_type": "markdown",
   "id": "a458aae4",
   "metadata": {
    "papermill": {
     "duration": 0.055392,
     "end_time": "2022-02-21T22:09:02.906843",
     "exception": false,
     "start_time": "2022-02-21T22:09:02.851451",
     "status": "completed"
    },
    "tags": []
   },
   "source": [
    "## Missing data"
   ]
  },
  {
   "cell_type": "code",
   "execution_count": 18,
   "id": "1a029525",
   "metadata": {
    "execution": {
     "iopub.execute_input": "2022-02-21T22:09:03.025331Z",
     "iopub.status.busy": "2022-02-21T22:09:03.024337Z",
     "iopub.status.idle": "2022-02-21T22:09:03.026350Z",
     "shell.execute_reply": "2022-02-21T22:09:03.026819Z",
     "shell.execute_reply.started": "2022-02-21T22:06:38.158376Z"
    },
    "papermill": {
     "duration": 0.063662,
     "end_time": "2022-02-21T22:09:03.026990",
     "exception": false,
     "start_time": "2022-02-21T22:09:02.963328",
     "status": "completed"
    },
    "tags": []
   },
   "outputs": [],
   "source": [
    "def count_missing(df):\n",
    "    \"\"\"Counts the missing values in a dataframe\"\"\"\n",
    "    missing_df = pd.DataFrame(\n",
    "        df.isna().sum().sort_values(ascending=False), columns=[\"count\"]\n",
    "    )\n",
    "    missing_df[\"percent\"] = missing_df[\"count\"] / df.shape[0]\n",
    "    return missing_df.query(\"count != 0\")"
   ]
  },
  {
   "cell_type": "code",
   "execution_count": 19,
   "id": "ee2e9b96",
   "metadata": {
    "execution": {
     "iopub.execute_input": "2022-02-21T22:09:03.143153Z",
     "iopub.status.busy": "2022-02-21T22:09:03.142192Z",
     "iopub.status.idle": "2022-02-21T22:09:03.145353Z",
     "shell.execute_reply": "2022-02-21T22:09:03.145878Z",
     "shell.execute_reply.started": "2022-02-21T22:06:38.172468Z"
    },
    "papermill": {
     "duration": 0.063225,
     "end_time": "2022-02-21T22:09:03.146044",
     "exception": false,
     "start_time": "2022-02-21T22:09:03.082819",
     "status": "completed"
    },
    "tags": []
   },
   "outputs": [],
   "source": [
    "# count_missing(train_dfs[\"residential\"])\n",
    "# count_missing(test_dfs[\"residential\"])\n",
    "# count_missing(train_dfs[\"commercial\"])\n",
    "# count_missing(test_dfs[\"commercial\"])"
   ]
  },
  {
   "cell_type": "markdown",
   "id": "3bb38056",
   "metadata": {
    "papermill": {
     "duration": 0.054918,
     "end_time": "2022-02-21T22:09:03.255945",
     "exception": false,
     "start_time": "2022-02-21T22:09:03.201027",
     "status": "completed"
    },
    "tags": []
   },
   "source": [
    "## Data imputation: `energy_star`, `year_built`"
   ]
  },
  {
   "cell_type": "code",
   "execution_count": 20,
   "id": "7bf9c9a8",
   "metadata": {
    "execution": {
     "iopub.execute_input": "2022-02-21T22:09:03.369242Z",
     "iopub.status.busy": "2022-02-21T22:09:03.368309Z",
     "iopub.status.idle": "2022-02-21T22:09:03.375313Z",
     "shell.execute_reply": "2022-02-21T22:09:03.374833Z",
     "shell.execute_reply.started": "2022-02-21T22:06:38.187143Z"
    },
    "papermill": {
     "duration": 0.064986,
     "end_time": "2022-02-21T22:09:03.375453",
     "exception": false,
     "start_time": "2022-02-21T22:09:03.310467",
     "status": "completed"
    },
    "tags": []
   },
   "outputs": [],
   "source": [
    "def iterative_impute(train_df, test_df, model, ct, target, feat_names, seed):\n",
    "    \"\"\"Iteratively impute missing values with a desired model\"\"\"\n",
    "    train_imp = ct.fit_transform(train_df.drop(columns=[target]))\n",
    "    test_imp = ct.transform(test_df)\n",
    "\n",
    "    imputer = IterativeImputer(estimator=model, random_state=seed)\n",
    "\n",
    "    # TODO: fix feat_names with appropriate sklearn method\n",
    "    cols = (\n",
    "        ct.named_transformers_[\"onehotencoder\"].get_feature_names().tolist()\n",
    "        + feat_names\n",
    "    )\n",
    "\n",
    "    train_imp = pd.DataFrame(imputer.fit_transform(train_imp), columns=cols)\n",
    "    test_imp = pd.DataFrame(imputer.transform(test_imp), columns=cols)\n",
    "\n",
    "    return train_imp, test_imp"
   ]
  },
  {
   "cell_type": "code",
   "execution_count": 21,
   "id": "1ca70415",
   "metadata": {
    "execution": {
     "iopub.execute_input": "2022-02-21T22:09:03.489225Z",
     "iopub.status.busy": "2022-02-21T22:09:03.488280Z",
     "iopub.status.idle": "2022-02-21T22:09:03.492398Z",
     "shell.execute_reply": "2022-02-21T22:09:03.492943Z",
     "shell.execute_reply.started": "2022-02-21T22:06:38.203985Z"
    },
    "papermill": {
     "duration": 0.062464,
     "end_time": "2022-02-21T22:09:03.493104",
     "exception": false,
     "start_time": "2022-02-21T22:09:03.430640",
     "status": "completed"
    },
    "tags": []
   },
   "outputs": [],
   "source": [
    "def replace_columns(df, df_imp, columns):\n",
    "    \"\"\"Replace columns in one dataframe with columns from another\"\"\"\n",
    "    df_replaced = df.copy()\n",
    "\n",
    "    for col in columns:\n",
    "        df_replaced[col] = df_imp[col]\n",
    "\n",
    "    return df_replaced"
   ]
  },
  {
   "cell_type": "code",
   "execution_count": 22,
   "id": "9c91bb6d",
   "metadata": {
    "execution": {
     "iopub.execute_input": "2022-02-21T22:09:03.610511Z",
     "iopub.status.busy": "2022-02-21T22:09:03.609687Z",
     "iopub.status.idle": "2022-02-21T22:09:03.613584Z",
     "shell.execute_reply": "2022-02-21T22:09:03.613133Z",
     "shell.execute_reply.started": "2022-02-21T22:06:38.215461Z"
    },
    "papermill": {
     "duration": 0.066379,
     "end_time": "2022-02-21T22:09:03.613745",
     "exception": false,
     "start_time": "2022-02-21T22:09:03.547366",
     "status": "completed"
    },
    "tags": []
   },
   "outputs": [],
   "source": [
    "def impute_and_replace(\n",
    "    train_dfs, test_dfs, model, ct, target, feat_names, replace, seed\n",
    "):\n",
    "    \"\"\"Iterative impute and replace values for multiple dataframes\"\"\"\n",
    "    train_dfs_imp = {}\n",
    "    test_dfs_imp = {}\n",
    "\n",
    "    # iterative imputation\n",
    "    for (name1, train_df), (name2, test_df) in zip(train_dfs.items(), test_dfs.items()):\n",
    "        assert name1 == name2\n",
    "        train_imp, test_imp = iterative_impute(\n",
    "            train_df, test_df, model, ct, target, feat_names, seed\n",
    "        )\n",
    "        train_dfs_imp[name1] = train_imp\n",
    "        test_dfs_imp[name1] = test_imp\n",
    "\n",
    "    # replace train columns with missing values\n",
    "    for (name1, df), (name2, imp_df) in zip(train_dfs.items(), train_dfs_imp.items()):\n",
    "        assert name1 == name2\n",
    "        train_dfs[name1] = replace_columns(df, imp_df, replace)\n",
    "\n",
    "    # replace test columns with missing values\n",
    "    for (name1, df), (name2, imp_df) in zip(test_dfs.items(), test_dfs_imp.items()):\n",
    "        assert name1 == name2\n",
    "        test_dfs[name1] = replace_columns(df, imp_df, replace)\n",
    "\n",
    "    return train_dfs, test_dfs"
   ]
  },
  {
   "cell_type": "code",
   "execution_count": 23,
   "id": "46f823f5",
   "metadata": {
    "execution": {
     "iopub.execute_input": "2022-02-21T22:09:03.729913Z",
     "iopub.status.busy": "2022-02-21T22:09:03.729231Z",
     "iopub.status.idle": "2022-02-21T22:09:03.731346Z",
     "shell.execute_reply": "2022-02-21T22:09:03.731789Z",
     "shell.execute_reply.started": "2022-02-21T22:06:38.235073Z"
    },
    "papermill": {
     "duration": 0.063492,
     "end_time": "2022-02-21T22:09:03.731948",
     "exception": false,
     "start_time": "2022-02-21T22:09:03.668456",
     "status": "completed"
    },
    "tags": []
   },
   "outputs": [],
   "source": [
    "cat_imp = [\n",
    "    'Year_Factor', 'State_Factor', 'building_class', 'facility_type'\n",
    "]\n",
    "\n",
    "num_imp = [\n",
    "    'floor_area', 'year_built', 'energy_star_rating', 'ELEVATION',\n",
    "    'cooling_degree_days', 'heating_degree_days', 'precipitation_inches',\n",
    "    'snowfall_inches', 'snowdepth_inches', 'avg_temp'\n",
    "]\n",
    "\n",
    "drop_imp = [\n",
    "    'january_min_temp', 'january_avg_temp', 'january_max_temp',\n",
    "    'february_min_temp', 'february_avg_temp', 'february_max_temp',\n",
    "    'march_min_temp', 'march_avg_temp', 'march_max_temp', 'april_min_temp',\n",
    "    'april_avg_temp', 'april_max_temp', 'may_min_temp', 'may_avg_temp',\n",
    "    'may_max_temp', 'june_min_temp', 'june_avg_temp', 'june_max_temp',\n",
    "    'july_min_temp', 'july_avg_temp', 'july_max_temp', 'august_min_temp',\n",
    "    'august_avg_temp', 'august_max_temp', 'september_min_temp',\n",
    "    'september_avg_temp', 'september_max_temp', 'october_min_temp',\n",
    "    'october_avg_temp', 'october_max_temp', 'november_min_temp',\n",
    "    'november_avg_temp', 'november_max_temp', 'december_min_temp',\n",
    "    'december_avg_temp', 'december_max_temp', 'days_below_30F', 'days_below_20F',\n",
    "    'days_below_10F', 'days_below_0F', 'days_above_80F', 'days_above_90F',\n",
    "    'days_above_100F', 'days_above_110F', 'direction_max_wind_speed',\n",
    "    'direction_peak_wind_speed', 'max_wind_speed', 'days_with_fog',\n",
    "    'id'\n",
    "]"
   ]
  },
  {
   "cell_type": "code",
   "execution_count": 24,
   "id": "730bdd6b",
   "metadata": {
    "execution": {
     "iopub.execute_input": "2022-02-21T22:09:03.845891Z",
     "iopub.status.busy": "2022-02-21T22:09:03.844929Z",
     "iopub.status.idle": "2022-02-21T22:09:03.849580Z",
     "shell.execute_reply": "2022-02-21T22:09:03.850062Z",
     "shell.execute_reply.started": "2022-02-21T22:06:38.254669Z"
    },
    "papermill": {
     "duration": 0.062892,
     "end_time": "2022-02-21T22:09:03.850235",
     "exception": false,
     "start_time": "2022-02-21T22:09:03.787343",
     "status": "completed"
    },
    "tags": []
   },
   "outputs": [],
   "source": [
    "ct_imp = make_column_transformer(\n",
    "    (OneHotEncoder(handle_unknown=\"ignore\", sparse=False), cat_imp),\n",
    "    (\"passthrough\", num_imp),\n",
    "    (\"drop\", drop_imp)\n",
    ")\n",
    "\n",
    "# change to better model later\n",
    "model = Ridge()\n",
    "replace = [\"energy_star_rating\", \"year_built\"]"
   ]
  },
  {
   "cell_type": "code",
   "execution_count": 25,
   "id": "781c88df",
   "metadata": {
    "execution": {
     "iopub.execute_input": "2022-02-21T22:09:03.973090Z",
     "iopub.status.busy": "2022-02-21T22:09:03.962938Z",
     "iopub.status.idle": "2022-02-21T22:09:13.807738Z",
     "shell.execute_reply": "2022-02-21T22:09:13.808634Z",
     "shell.execute_reply.started": "2022-02-21T22:06:38.272727Z"
    },
    "papermill": {
     "duration": 9.903579,
     "end_time": "2022-02-21T22:09:13.808935",
     "exception": false,
     "start_time": "2022-02-21T22:09:03.905356",
     "status": "completed"
    },
    "tags": []
   },
   "outputs": [],
   "source": [
    "train_dfs, test_dfs = impute_and_replace(\n",
    "    train_dfs, test_dfs, model, ct_imp, TARGET, num_imp, replace, SEED\n",
    ")"
   ]
  },
  {
   "cell_type": "code",
   "execution_count": 26,
   "id": "4ce4ff23",
   "metadata": {
    "execution": {
     "iopub.execute_input": "2022-02-21T22:09:13.966980Z",
     "iopub.status.busy": "2022-02-21T22:09:13.966394Z",
     "iopub.status.idle": "2022-02-21T22:09:13.969004Z",
     "shell.execute_reply": "2022-02-21T22:09:13.968461Z",
     "shell.execute_reply.started": "2022-02-21T22:06:49.578221Z"
    },
    "papermill": {
     "duration": 0.061444,
     "end_time": "2022-02-21T22:09:13.969136",
     "exception": false,
     "start_time": "2022-02-21T22:09:13.907692",
     "status": "completed"
    },
    "tags": []
   },
   "outputs": [],
   "source": [
    "# count_missing(train_dfs[\"residential\"])\n",
    "# count_missing(test_dfs[\"residential\"])\n",
    "# count_missing(train_dfs[\"commercial\"])\n",
    "# count_missing(test_dfs[\"commercial\"])"
   ]
  },
  {
   "cell_type": "markdown",
   "id": "fccb6a77",
   "metadata": {
    "papermill": {
     "duration": 0.057078,
     "end_time": "2022-02-21T22:09:14.082192",
     "exception": false,
     "start_time": "2022-02-21T22:09:14.025114",
     "status": "completed"
    },
    "tags": []
   },
   "source": [
    "# Feature Engineering"
   ]
  },
  {
   "cell_type": "markdown",
   "id": "12c6600a",
   "metadata": {
    "papermill": {
     "duration": 0.055918,
     "end_time": "2022-02-21T22:09:14.193320",
     "exception": false,
     "start_time": "2022-02-21T22:09:14.137402",
     "status": "completed"
    },
    "tags": []
   },
   "source": [
    "## New Features: Entire Dataset"
   ]
  },
  {
   "cell_type": "code",
   "execution_count": 27,
   "id": "4f8c6554",
   "metadata": {
    "execution": {
     "iopub.execute_input": "2022-02-21T22:09:14.307573Z",
     "iopub.status.busy": "2022-02-21T22:09:14.306653Z",
     "iopub.status.idle": "2022-02-21T22:09:14.310423Z",
     "shell.execute_reply": "2022-02-21T22:09:14.310894Z",
     "shell.execute_reply.started": "2022-02-21T22:06:49.588450Z"
    },
    "papermill": {
     "duration": 0.063036,
     "end_time": "2022-02-21T22:09:14.311058",
     "exception": false,
     "start_time": "2022-02-21T22:09:14.248022",
     "status": "completed"
    },
    "tags": []
   },
   "outputs": [],
   "source": [
    "def has_feature(df, feat):\n",
    "    \"\"\"Adds a boolean feature if a feature exists or now\"\"\"\n",
    "    return df[feat].notna().astype(int)"
   ]
  },
  {
   "cell_type": "code",
   "execution_count": 28,
   "id": "551bad63",
   "metadata": {
    "execution": {
     "iopub.execute_input": "2022-02-21T22:09:14.431579Z",
     "iopub.status.busy": "2022-02-21T22:09:14.430997Z",
     "iopub.status.idle": "2022-02-21T22:09:14.435251Z",
     "shell.execute_reply": "2022-02-21T22:09:14.435706Z",
     "shell.execute_reply.started": "2022-02-21T22:06:49.599740Z"
    },
    "papermill": {
     "duration": 0.061977,
     "end_time": "2022-02-21T22:09:14.435895",
     "exception": false,
     "start_time": "2022-02-21T22:09:14.373918",
     "status": "completed"
    },
    "tags": []
   },
   "outputs": [],
   "source": [
    "def feature_engineer(train_df, test_df):\n",
    "    \"\"\"Feature engineer the wids 2022 dataset\"\"\"\n",
    "    train_df_eng = train_df.copy()\n",
    "    test_df_eng = test_df.copy()\n",
    "    \n",
    "    # whether or not a building has a fog detector\n",
    "    train_df_eng[\"has_fog_detector\"] = has_feature(train_df_eng, \"days_with_fog\")\n",
    "    test_df_eng[\"has_fog_detector\"] = has_feature(test_df_eng, \"days_with_fog\")\n",
    "    \n",
    "    # whether or not a building has a wind detector\n",
    "    train_df_eng[\"has_wind_detector\"] = has_feature(train_df_eng, \"max_wind_speed\")\n",
    "    test_df_eng[\"has_wind_detector\"] = has_feature(test_df_eng, \"max_wind_speed\")\n",
    "    \n",
    "    return train_df_eng, test_df_eng"
   ]
  },
  {
   "cell_type": "code",
   "execution_count": 29,
   "id": "67b2f5fd",
   "metadata": {
    "execution": {
     "iopub.execute_input": "2022-02-21T22:09:14.548389Z",
     "iopub.status.busy": "2022-02-21T22:09:14.547805Z",
     "iopub.status.idle": "2022-02-21T22:09:14.552224Z",
     "shell.execute_reply": "2022-02-21T22:09:14.552897Z",
     "shell.execute_reply.started": "2022-02-21T22:06:49.612553Z"
    },
    "papermill": {
     "duration": 0.062459,
     "end_time": "2022-02-21T22:09:14.553078",
     "exception": false,
     "start_time": "2022-02-21T22:09:14.490619",
     "status": "completed"
    },
    "tags": []
   },
   "outputs": [],
   "source": [
    "def feature_engineer_multiple(train_dfs, test_dfs):\n",
    "    \"\"\"Feature engineer multiple dataframes at once\"\"\"\n",
    "    train_dfs_eng = {}\n",
    "    test_dfs_eng = {}\n",
    "\n",
    "    for (name1, train_df), (name2, test_df) in zip(train_dfs.items(), test_dfs.items()):\n",
    "        assert name1 == name2\n",
    "        train_dfs_eng[name1], test_dfs_eng[name2] = feature_engineer(train_df, test_df)\n",
    "\n",
    "    return train_dfs_eng, test_dfs_eng"
   ]
  },
  {
   "cell_type": "code",
   "execution_count": 30,
   "id": "cc9c11b9",
   "metadata": {
    "execution": {
     "iopub.execute_input": "2022-02-21T22:09:14.666111Z",
     "iopub.status.busy": "2022-02-21T22:09:14.665450Z",
     "iopub.status.idle": "2022-02-21T22:09:14.686611Z",
     "shell.execute_reply": "2022-02-21T22:09:14.687108Z",
     "shell.execute_reply.started": "2022-02-21T22:06:49.627620Z"
    },
    "papermill": {
     "duration": 0.079073,
     "end_time": "2022-02-21T22:09:14.687285",
     "exception": false,
     "start_time": "2022-02-21T22:09:14.608212",
     "status": "completed"
    },
    "tags": []
   },
   "outputs": [],
   "source": [
    "train_dfs_eng, test_dfs_eng = feature_engineer_multiple(train_dfs, test_dfs)"
   ]
  },
  {
   "cell_type": "markdown",
   "id": "3262cbce",
   "metadata": {
    "papermill": {
     "duration": 0.05456,
     "end_time": "2022-02-21T22:09:14.796802",
     "exception": false,
     "start_time": "2022-02-21T22:09:14.742242",
     "status": "completed"
    },
    "tags": []
   },
   "source": [
    "## Cluster buildings"
   ]
  },
  {
   "cell_type": "code",
   "execution_count": 31,
   "id": "a00a564a",
   "metadata": {
    "execution": {
     "iopub.execute_input": "2022-02-21T22:09:14.912885Z",
     "iopub.status.busy": "2022-02-21T22:09:14.912245Z",
     "iopub.status.idle": "2022-02-21T22:09:14.915275Z",
     "shell.execute_reply": "2022-02-21T22:09:14.915724Z",
     "shell.execute_reply.started": "2022-02-21T22:06:49.665331Z"
    },
    "papermill": {
     "duration": 0.064366,
     "end_time": "2022-02-21T22:09:14.915916",
     "exception": false,
     "start_time": "2022-02-21T22:09:14.851550",
     "status": "completed"
    },
    "tags": []
   },
   "outputs": [],
   "source": [
    "# def plot_elbow_curve(X, model, k):\n",
    "#     visualizer = KElbowVisualizer(model, k=k)\n",
    "#     visualizer.fit(X)\n",
    "#     visualizer.show()\n",
    "#     return visualizer"
   ]
  },
  {
   "cell_type": "code",
   "execution_count": 32,
   "id": "3ff16cf9",
   "metadata": {
    "execution": {
     "iopub.execute_input": "2022-02-21T22:09:15.030625Z",
     "iopub.status.busy": "2022-02-21T22:09:15.030014Z",
     "iopub.status.idle": "2022-02-21T22:09:15.032923Z",
     "shell.execute_reply": "2022-02-21T22:09:15.033384Z",
     "shell.execute_reply.started": "2022-02-21T22:06:49.671411Z"
    },
    "papermill": {
     "duration": 0.062422,
     "end_time": "2022-02-21T22:09:15.033564",
     "exception": false,
     "start_time": "2022-02-21T22:09:14.971142",
     "status": "completed"
    },
    "tags": []
   },
   "outputs": [],
   "source": [
    "# def plot_silhouette(X, model):\n",
    "#     visualizer = SilhouetteVisualizer(model, colors=\"yellowbrick\")\n",
    "#     visualizer.fit(X)\n",
    "#     visualizer.show()\n",
    "#     return visualizer"
   ]
  },
  {
   "cell_type": "code",
   "execution_count": 33,
   "id": "3a594b36",
   "metadata": {
    "execution": {
     "iopub.execute_input": "2022-02-21T22:09:15.152222Z",
     "iopub.status.busy": "2022-02-21T22:09:15.151541Z",
     "iopub.status.idle": "2022-02-21T22:09:15.154660Z",
     "shell.execute_reply": "2022-02-21T22:09:15.155209Z",
     "shell.execute_reply.started": "2022-02-21T22:06:49.682259Z"
    },
    "papermill": {
     "duration": 0.061298,
     "end_time": "2022-02-21T22:09:15.155387",
     "exception": false,
     "start_time": "2022-02-21T22:09:15.094089",
     "status": "completed"
    },
    "tags": []
   },
   "outputs": [],
   "source": [
    "# def add_cluster_labels(model, ct, train_df, test_df, target):\n",
    "#     \"\"\"Adds cluster labels as a feature\"\"\"\n",
    "#     train_df_cluster = train_df.copy()\n",
    "#     test_df_cluster = test_df.copy()\n",
    "\n",
    "#     X_cluster = ct.fit_transform(train_df.drop(columns=[target]))\n",
    "#     test_cluster = ct.transform(test_df)\n",
    "\n",
    "#     model.fit(X_cluster)\n",
    "\n",
    "#     train_df_cluster[\"cluster_label\"] = model.labels_\n",
    "#     test_df_cluster[\"cluster_label\"] = model.predict(test_cluster)\n",
    "\n",
    "#     return train_df_cluster, test_df_cluster"
   ]
  },
  {
   "cell_type": "code",
   "execution_count": 34,
   "id": "0521408a",
   "metadata": {
    "execution": {
     "iopub.execute_input": "2022-02-21T22:09:15.268784Z",
     "iopub.status.busy": "2022-02-21T22:09:15.268130Z",
     "iopub.status.idle": "2022-02-21T22:09:15.272370Z",
     "shell.execute_reply": "2022-02-21T22:09:15.271935Z",
     "shell.execute_reply.started": "2022-02-21T22:06:49.693266Z"
    },
    "papermill": {
     "duration": 0.061863,
     "end_time": "2022-02-21T22:09:15.272501",
     "exception": false,
     "start_time": "2022-02-21T22:09:15.210638",
     "status": "completed"
    },
    "tags": []
   },
   "outputs": [],
   "source": [
    "# cat_cluster = [\n",
    "#     'building_class', 'facility_type'\n",
    "# ]\n",
    "\n",
    "# num_cluster = [\n",
    "#     'floor_area', 'year_built', 'energy_star_rating', 'ELEVATION',\n",
    "#     'cooling_degree_days', 'heating_degree_days', 'precipitation_inches',\n",
    "#     'snowfall_inches', 'snowdepth_inches', 'avg_temp'\n",
    "# ]\n",
    "\n",
    "# passthrough_cluster = [\n",
    "#     'has_fog_detector', 'has_wind_detector'\n",
    "# ]\n",
    "\n",
    "# drop_cluster = [\n",
    "#     'Year_Factor', 'State_Factor', 'january_min_temp', 'january_avg_temp', 'january_max_temp',\n",
    "#     'february_min_temp', 'february_avg_temp', 'february_max_temp',\n",
    "#     'march_min_temp', 'march_avg_temp', 'march_max_temp', 'april_min_temp',\n",
    "#     'april_avg_temp', 'april_max_temp', 'may_min_temp', 'may_avg_temp',\n",
    "#     'may_max_temp', 'june_min_temp', 'june_avg_temp', 'june_max_temp',\n",
    "#     'july_min_temp', 'july_avg_temp', 'july_max_temp', 'august_min_temp',\n",
    "#     'august_avg_temp', 'august_max_temp', 'september_min_temp',\n",
    "#     'september_avg_temp', 'september_max_temp', 'october_min_temp',\n",
    "#     'october_avg_temp', 'october_max_temp', 'november_min_temp',\n",
    "#     'november_avg_temp', 'november_max_temp', 'december_min_temp',\n",
    "#     'december_avg_temp', 'december_max_temp', 'days_below_30F', 'days_below_20F',\n",
    "#     'days_below_10F', 'days_below_0F', 'days_above_80F', 'days_above_90F',\n",
    "#     'days_above_100F', 'days_above_110F', 'direction_max_wind_speed',\n",
    "#     'direction_peak_wind_speed', 'max_wind_speed', 'days_with_fog',\n",
    "#     'id'\n",
    "# ]"
   ]
  },
  {
   "cell_type": "code",
   "execution_count": 35,
   "id": "f76da253",
   "metadata": {
    "execution": {
     "iopub.execute_input": "2022-02-21T22:09:15.390834Z",
     "iopub.status.busy": "2022-02-21T22:09:15.390180Z",
     "iopub.status.idle": "2022-02-21T22:09:15.393289Z",
     "shell.execute_reply": "2022-02-21T22:09:15.393736Z",
     "shell.execute_reply.started": "2022-02-21T22:06:49.707224Z"
    },
    "papermill": {
     "duration": 0.064417,
     "end_time": "2022-02-21T22:09:15.393915",
     "exception": false,
     "start_time": "2022-02-21T22:09:15.329498",
     "status": "completed"
    },
    "tags": []
   },
   "outputs": [],
   "source": [
    "# ct_cluster = make_column_transformer(\n",
    "#     (OneHotEncoder(handle_unknown=\"ignore\"), cat_cluster),\n",
    "#     (StandardScaler(), num_cluster),\n",
    "#     (\"passthrough\", passthrough_cluster),\n",
    "#     (\"drop\", drop_cluster)\n",
    "# )"
   ]
  },
  {
   "cell_type": "code",
   "execution_count": 36,
   "id": "9d3c1221",
   "metadata": {
    "execution": {
     "iopub.execute_input": "2022-02-21T22:09:15.510832Z",
     "iopub.status.busy": "2022-02-21T22:09:15.510220Z",
     "iopub.status.idle": "2022-02-21T22:09:15.513230Z",
     "shell.execute_reply": "2022-02-21T22:09:15.513660Z",
     "shell.execute_reply.started": "2022-02-21T22:06:49.722099Z"
    },
    "papermill": {
     "duration": 0.063628,
     "end_time": "2022-02-21T22:09:15.513848",
     "exception": false,
     "start_time": "2022-02-21T22:09:15.450220",
     "status": "completed"
    },
    "tags": []
   },
   "outputs": [],
   "source": [
    "# X_cluster = ct_cluster.fit_transform(train_df_eng.drop(columns=[TARGET]))"
   ]
  },
  {
   "cell_type": "code",
   "execution_count": 37,
   "id": "c51c23fa",
   "metadata": {
    "execution": {
     "iopub.execute_input": "2022-02-21T22:09:15.628214Z",
     "iopub.status.busy": "2022-02-21T22:09:15.627481Z",
     "iopub.status.idle": "2022-02-21T22:09:15.630270Z",
     "shell.execute_reply": "2022-02-21T22:09:15.630710Z",
     "shell.execute_reply.started": "2022-02-21T22:06:49.733042Z"
    },
    "papermill": {
     "duration": 0.061418,
     "end_time": "2022-02-21T22:09:15.630890",
     "exception": false,
     "start_time": "2022-02-21T22:09:15.569472",
     "status": "completed"
    },
    "tags": []
   },
   "outputs": [],
   "source": [
    "# k = (5, 20)\n",
    "# model = KMeans()\n",
    "# visualizer_elbow = plot_elbow_curve(X_cluster, model, k)"
   ]
  },
  {
   "cell_type": "code",
   "execution_count": 38,
   "id": "f3e54955",
   "metadata": {
    "execution": {
     "iopub.execute_input": "2022-02-21T22:09:15.743472Z",
     "iopub.status.busy": "2022-02-21T22:09:15.742874Z",
     "iopub.status.idle": "2022-02-21T22:09:15.745476Z",
     "shell.execute_reply": "2022-02-21T22:09:15.745943Z",
     "shell.execute_reply.started": "2022-02-21T22:06:49.746656Z"
    },
    "papermill": {
     "duration": 0.060521,
     "end_time": "2022-02-21T22:09:15.746107",
     "exception": false,
     "start_time": "2022-02-21T22:09:15.685586",
     "status": "completed"
    },
    "tags": []
   },
   "outputs": [],
   "source": [
    "# kmeans = KMeans(n_clusters=11, random_state=42)"
   ]
  },
  {
   "cell_type": "code",
   "execution_count": 39,
   "id": "661328cb",
   "metadata": {
    "execution": {
     "iopub.execute_input": "2022-02-21T22:09:15.861368Z",
     "iopub.status.busy": "2022-02-21T22:09:15.860436Z",
     "iopub.status.idle": "2022-02-21T22:09:15.863369Z",
     "shell.execute_reply": "2022-02-21T22:09:15.862885Z",
     "shell.execute_reply.started": "2022-02-21T22:06:49.759034Z"
    },
    "papermill": {
     "duration": 0.062324,
     "end_time": "2022-02-21T22:09:15.863508",
     "exception": false,
     "start_time": "2022-02-21T22:09:15.801184",
     "status": "completed"
    },
    "tags": []
   },
   "outputs": [],
   "source": [
    "# plot_silhouette(X_cluster, kmeans)"
   ]
  },
  {
   "cell_type": "code",
   "execution_count": 40,
   "id": "c2b63f09",
   "metadata": {
    "execution": {
     "iopub.execute_input": "2022-02-21T22:09:15.978066Z",
     "iopub.status.busy": "2022-02-21T22:09:15.977326Z",
     "iopub.status.idle": "2022-02-21T22:09:15.978739Z",
     "shell.execute_reply": "2022-02-21T22:09:15.979216Z",
     "shell.execute_reply.started": "2022-02-21T22:06:49.768492Z"
    },
    "papermill": {
     "duration": 0.061025,
     "end_time": "2022-02-21T22:09:15.979390",
     "exception": false,
     "start_time": "2022-02-21T22:09:15.918365",
     "status": "completed"
    },
    "tags": []
   },
   "outputs": [],
   "source": [
    "# train_df_eng, test_df_eng = add_cluster_labels(\n",
    "#     kmeans,\n",
    "#     ct_cluster,\n",
    "#     train_df_eng,\n",
    "#     test_df_eng,\n",
    "#     TARGET\n",
    "# )"
   ]
  },
  {
   "cell_type": "markdown",
   "id": "caea5929",
   "metadata": {
    "papermill": {
     "duration": 0.0566,
     "end_time": "2022-02-21T22:09:16.092801",
     "exception": false,
     "start_time": "2022-02-21T22:09:16.036201",
     "status": "completed"
    },
    "tags": []
   },
   "source": [
    "# Modelling"
   ]
  },
  {
   "cell_type": "markdown",
   "id": "ac5f41ae",
   "metadata": {
    "papermill": {
     "duration": 0.054406,
     "end_time": "2022-02-21T22:09:16.202636",
     "exception": false,
     "start_time": "2022-02-21T22:09:16.148230",
     "status": "completed"
    },
    "tags": []
   },
   "source": [
    "## Create `X` and `y` datasets"
   ]
  },
  {
   "cell_type": "code",
   "execution_count": 41,
   "id": "e61fc538",
   "metadata": {
    "execution": {
     "iopub.execute_input": "2022-02-21T22:09:16.315104Z",
     "iopub.status.busy": "2022-02-21T22:09:16.314414Z",
     "iopub.status.idle": "2022-02-21T22:09:16.318550Z",
     "shell.execute_reply": "2022-02-21T22:09:16.319000Z",
     "shell.execute_reply.started": "2022-02-21T22:06:49.786316Z"
    },
    "papermill": {
     "duration": 0.062083,
     "end_time": "2022-02-21T22:09:16.319186",
     "exception": false,
     "start_time": "2022-02-21T22:09:16.257103",
     "status": "completed"
    },
    "tags": []
   },
   "outputs": [
    {
     "data": {
      "text/plain": [
       "dict_keys(['residential', 'commercial'])"
      ]
     },
     "execution_count": 41,
     "metadata": {},
     "output_type": "execute_result"
    }
   ],
   "source": [
    "train_dfs_eng.keys()"
   ]
  },
  {
   "cell_type": "code",
   "execution_count": 42,
   "id": "04524a25",
   "metadata": {
    "execution": {
     "iopub.execute_input": "2022-02-21T22:09:16.435861Z",
     "iopub.status.busy": "2022-02-21T22:09:16.435159Z",
     "iopub.status.idle": "2022-02-21T22:09:16.441108Z",
     "shell.execute_reply": "2022-02-21T22:09:16.440478Z",
     "shell.execute_reply.started": "2022-02-21T22:06:49.796105Z"
    },
    "papermill": {
     "duration": 0.066101,
     "end_time": "2022-02-21T22:09:16.441262",
     "exception": false,
     "start_time": "2022-02-21T22:09:16.375161",
     "status": "completed"
    },
    "tags": []
   },
   "outputs": [
    {
     "data": {
      "text/plain": [
       "dict_keys(['residential', 'commercial'])"
      ]
     },
     "execution_count": 42,
     "metadata": {},
     "output_type": "execute_result"
    }
   ],
   "source": [
    "test_dfs_eng.keys()"
   ]
  },
  {
   "cell_type": "code",
   "execution_count": 43,
   "id": "ed07b739",
   "metadata": {
    "execution": {
     "iopub.execute_input": "2022-02-21T22:09:16.558851Z",
     "iopub.status.busy": "2022-02-21T22:09:16.558087Z",
     "iopub.status.idle": "2022-02-21T22:09:16.560324Z",
     "shell.execute_reply": "2022-02-21T22:09:16.560709Z",
     "shell.execute_reply.started": "2022-02-21T22:06:49.807176Z"
    },
    "papermill": {
     "duration": 0.063702,
     "end_time": "2022-02-21T22:09:16.560897",
     "exception": false,
     "start_time": "2022-02-21T22:09:16.497195",
     "status": "completed"
    },
    "tags": []
   },
   "outputs": [],
   "source": [
    "def create_X_y(dfs, target, group_col=None):\n",
    "    \"\"\"Separates train dfs into X and y datasets (and optionally, groups)\"\"\"\n",
    "    X_dfs = {}\n",
    "    y_dfs = {}\n",
    "    groups = {}\n",
    "\n",
    "    for name, df in dfs.items():\n",
    "        X_dfs[name] = df.drop(columns=target)\n",
    "        y_dfs[name] = df[target]\n",
    "        \n",
    "        if group_col is not None:\n",
    "            groups[name] = df[group_col]\n",
    "    \n",
    "    if group_col is not None:\n",
    "        return X_dfs, y_dfs, groups\n",
    "    else:\n",
    "        return X_dfs, y_dfs"
   ]
  },
  {
   "cell_type": "code",
   "execution_count": 44,
   "id": "4fc3dc8d",
   "metadata": {
    "execution": {
     "iopub.execute_input": "2022-02-21T22:09:16.676585Z",
     "iopub.status.busy": "2022-02-21T22:09:16.676017Z",
     "iopub.status.idle": "2022-02-21T22:09:16.705273Z",
     "shell.execute_reply": "2022-02-21T22:09:16.704660Z",
     "shell.execute_reply.started": "2022-02-21T22:06:49.816960Z"
    },
    "papermill": {
     "duration": 0.088981,
     "end_time": "2022-02-21T22:09:16.705411",
     "exception": false,
     "start_time": "2022-02-21T22:09:16.616430",
     "status": "completed"
    },
    "tags": []
   },
   "outputs": [],
   "source": [
    "X_trains, y_trains, groups = create_X_y(train_dfs_eng, TARGET, \"Year_Factor\")\n",
    "X_tests = test_dfs_eng.copy()"
   ]
  },
  {
   "cell_type": "markdown",
   "id": "bbb034ef",
   "metadata": {
    "papermill": {
     "duration": 0.055118,
     "end_time": "2022-02-21T22:09:16.815832",
     "exception": false,
     "start_time": "2022-02-21T22:09:16.760714",
     "status": "completed"
    },
    "tags": []
   },
   "source": [
    "## Column transformer"
   ]
  },
  {
   "cell_type": "code",
   "execution_count": 45,
   "id": "5ccfee18",
   "metadata": {
    "execution": {
     "iopub.execute_input": "2022-02-21T22:09:16.932246Z",
     "iopub.status.busy": "2022-02-21T22:09:16.931281Z",
     "iopub.status.idle": "2022-02-21T22:09:16.938620Z",
     "shell.execute_reply": "2022-02-21T22:09:16.938147Z",
     "shell.execute_reply.started": "2022-02-21T22:06:49.865431Z"
    },
    "papermill": {
     "duration": 0.067049,
     "end_time": "2022-02-21T22:09:16.938791",
     "exception": false,
     "start_time": "2022-02-21T22:09:16.871742",
     "status": "completed"
    },
    "tags": []
   },
   "outputs": [],
   "source": [
    "cat = [\n",
    "    'State_Factor', 'building_class', 'facility_type'\n",
    "]\n",
    "\n",
    "num = [\n",
    "    'floor_area', 'year_built', 'energy_star_rating', 'ELEVATION',\n",
    "    'cooling_degree_days', 'heating_degree_days', 'precipitation_inches',\n",
    "    'snowfall_inches', 'snowdepth_inches', 'avg_temp'\n",
    "]\n",
    "\n",
    "passthrough = [\n",
    "    'has_fog_detector', 'has_wind_detector'\n",
    "]\n",
    "\n",
    "drop = [\n",
    "    'Year_Factor', 'january_min_temp', 'january_avg_temp', 'january_max_temp',\n",
    "    'february_min_temp', 'february_avg_temp', 'february_max_temp',\n",
    "    'march_min_temp', 'march_avg_temp', 'march_max_temp', 'april_min_temp',\n",
    "    'april_avg_temp', 'april_max_temp', 'may_min_temp', 'may_avg_temp',\n",
    "    'may_max_temp', 'june_min_temp', 'june_avg_temp', 'june_max_temp',\n",
    "    'july_min_temp', 'july_avg_temp', 'july_max_temp', 'august_min_temp',\n",
    "    'august_avg_temp', 'august_max_temp', 'september_min_temp',\n",
    "    'september_avg_temp', 'september_max_temp', 'october_min_temp',\n",
    "    'october_avg_temp', 'october_max_temp', 'november_min_temp',\n",
    "    'november_avg_temp', 'november_max_temp', 'december_min_temp',\n",
    "    'december_avg_temp', 'december_max_temp', 'days_below_30F', 'days_below_20F',\n",
    "    'days_below_10F', 'days_below_0F', 'days_above_80F', 'days_above_90F',\n",
    "    'days_above_100F', 'days_above_110F', 'direction_max_wind_speed',\n",
    "    'direction_peak_wind_speed', 'max_wind_speed', 'days_with_fog',\n",
    "    'id', #'cluster_label'\n",
    "]"
   ]
  },
  {
   "cell_type": "code",
   "execution_count": 46,
   "id": "abcfb088",
   "metadata": {
    "execution": {
     "iopub.execute_input": "2022-02-21T22:09:17.056536Z",
     "iopub.status.busy": "2022-02-21T22:09:17.055541Z",
     "iopub.status.idle": "2022-02-21T22:09:17.059703Z",
     "shell.execute_reply": "2022-02-21T22:09:17.060185Z",
     "shell.execute_reply.started": "2022-02-21T22:06:49.874811Z"
    },
    "papermill": {
     "duration": 0.064037,
     "end_time": "2022-02-21T22:09:17.060364",
     "exception": false,
     "start_time": "2022-02-21T22:09:16.996327",
     "status": "completed"
    },
    "tags": []
   },
   "outputs": [],
   "source": [
    "ct = make_column_transformer(\n",
    "    (OneHotEncoder(handle_unknown=\"ignore\"), cat),\n",
    "    (\"passthrough\", num + passthrough),\n",
    "    (\"drop\", drop)\n",
    ")"
   ]
  },
  {
   "cell_type": "markdown",
   "id": "eabe637d",
   "metadata": {
    "papermill": {
     "duration": 0.054733,
     "end_time": "2022-02-21T22:09:17.172376",
     "exception": false,
     "start_time": "2022-02-21T22:09:17.117643",
     "status": "completed"
    },
    "tags": []
   },
   "source": [
    "## Cross validation"
   ]
  },
  {
   "cell_type": "code",
   "execution_count": 47,
   "id": "371dcad1",
   "metadata": {
    "execution": {
     "iopub.execute_input": "2022-02-21T22:09:17.286449Z",
     "iopub.status.busy": "2022-02-21T22:09:17.285459Z",
     "iopub.status.idle": "2022-02-21T22:09:17.297323Z",
     "shell.execute_reply": "2022-02-21T22:09:17.297800Z",
     "shell.execute_reply.started": "2022-02-21T22:06:49.892866Z"
    },
    "papermill": {
     "duration": 0.070614,
     "end_time": "2022-02-21T22:09:17.297971",
     "exception": false,
     "start_time": "2022-02-21T22:09:17.227357",
     "status": "completed"
    },
    "tags": []
   },
   "outputs": [],
   "source": [
    "def logo_cv_lgb(model, X, y, groups, ct, early_stopping_rounds, return_models=True):\n",
    "    \"\"\"Custom cross validation function meant for use with LightGBM Regressor\"\"\"\n",
    "\n",
    "    models = []\n",
    "    results = []\n",
    "    train_scores = []\n",
    "    val_scores = []\n",
    "    fold = 0\n",
    "    logo = LeaveOneGroupOut()\n",
    "\n",
    "    for t, v in logo.split(X, groups=groups):\n",
    "        fold += 1\n",
    "\n",
    "        # to avoid lightgbm not saving new fit model (weird??? might be bug in lgb...)\n",
    "        # might also be bug in my code?  to look into later\n",
    "        current_model = deepcopy(model)\n",
    "\n",
    "        # train and val sets for current fold\n",
    "        X_train, y_train = X.iloc[t], y.iloc[t]\n",
    "        X_val, y_val = X.iloc[v], y.iloc[v]\n",
    "\n",
    "        # year factors for current folds\n",
    "        X_train_yf = np.sort(X_train[\"Year_Factor\"].unique())\n",
    "        X_val_yf = X_val[\"Year_Factor\"].unique()\n",
    "\n",
    "        # transform train and val sets\n",
    "        X_train_tsf = ct.fit_transform(X_train)\n",
    "        X_val_tsf = ct.transform(X_val)\n",
    "\n",
    "        # fit and score model w/ early stopping\n",
    "        current_model.fit(\n",
    "            X_train_tsf,\n",
    "            y_train,\n",
    "            eval_set=[(X_val_tsf, y_val)],\n",
    "            eval_metric=[\"rmse\"],\n",
    "            feature_name=ct.get_feature_names(),\n",
    "            callbacks=[lgb.early_stopping(early_stopping_rounds, verbose=False)],\n",
    "        )\n",
    "\n",
    "        # train/val rmse scores\n",
    "        train_rmse = mean_squared_error(\n",
    "            y_true=y_train, y_pred=current_model.predict(X_train_tsf), squared=False\n",
    "        )\n",
    "        val_rmse = current_model.best_score_[\"valid_0\"][\"rmse\"]\n",
    "\n",
    "        fold_results = {\n",
    "            \"Fold\": fold,\n",
    "            \"Train_shape\": X_train.shape,\n",
    "            \"Val_shape\": X_val.shape,\n",
    "            \"Train_years\": X_train_yf,\n",
    "            \"Val_years\": X_val_yf,\n",
    "            \"Train_RMSE\": train_rmse,\n",
    "            \"Val_RMSE\": val_rmse,\n",
    "            \"RMSE_spread\": train_rmse - val_rmse,\n",
    "        }\n",
    "\n",
    "        results.append(fold_results)\n",
    "        train_scores.append(train_rmse)\n",
    "        val_scores.append(val_rmse)\n",
    "        models.append(current_model)\n",
    "\n",
    "    # mean validation score\n",
    "    results.append(\n",
    "        {\n",
    "            \"Fold\": \"MEAN\",\n",
    "            \"Train_shape\": \"N/A\",\n",
    "            \"Val_shape\": \"N/A\",\n",
    "            \"Train_years\": \"N/A\",\n",
    "            \"Val_years\": \"N/A\",\n",
    "            \"Train_RMSE\": np.mean(train_scores),\n",
    "            \"Val_RMSE\": np.mean(val_scores),\n",
    "            \"RMSE_spread\": np.mean(train_scores) - np.mean(val_scores),\n",
    "        }\n",
    "    )\n",
    "\n",
    "    results = pd.DataFrame(results)\n",
    "\n",
    "    if return_models:\n",
    "        return results, models\n",
    "    else:\n",
    "        return results"
   ]
  },
  {
   "cell_type": "code",
   "execution_count": 48,
   "id": "e902e010",
   "metadata": {
    "execution": {
     "iopub.execute_input": "2022-02-21T22:09:17.419951Z",
     "iopub.status.busy": "2022-02-21T22:09:17.415496Z",
     "iopub.status.idle": "2022-02-21T22:09:17.422875Z",
     "shell.execute_reply": "2022-02-21T22:09:17.423998Z",
     "shell.execute_reply.started": "2022-02-21T22:06:49.914022Z"
    },
    "papermill": {
     "duration": 0.068981,
     "end_time": "2022-02-21T22:09:17.424254",
     "exception": false,
     "start_time": "2022-02-21T22:09:17.355273",
     "status": "completed"
    },
    "tags": []
   },
   "outputs": [],
   "source": [
    "def logo_cv_lgb_all(\n",
    "    model, X_trains, y_trains, groups, ct, early_stopping_rounds, return_models=True\n",
    "):\n",
    "    \"\"\"Perform logo cv with LGBM for multiple datasets\"\"\"\n",
    "    results = {}\n",
    "    models = {}\n",
    "\n",
    "    for (n1, X), (n2, y), (n3, group) in zip(\n",
    "        X_trains.items(), y_trains.items(), groups.items()\n",
    "    ):\n",
    "        assert n1 == n2 == n3\n",
    "        results[n1], models[n1] = logo_cv_lgb(\n",
    "            model, X, y, group, ct, early_stopping_rounds, return_models\n",
    "        )\n",
    "\n",
    "    return results, models"
   ]
  },
  {
   "cell_type": "code",
   "execution_count": 49,
   "id": "9f6df4a2",
   "metadata": {
    "execution": {
     "iopub.execute_input": "2022-02-21T22:09:17.577578Z",
     "iopub.status.busy": "2022-02-21T22:09:17.576810Z",
     "iopub.status.idle": "2022-02-21T22:09:17.579176Z",
     "shell.execute_reply": "2022-02-21T22:09:17.579607Z",
     "shell.execute_reply.started": "2022-02-21T22:06:49.926043Z"
    },
    "papermill": {
     "duration": 0.071451,
     "end_time": "2022-02-21T22:09:17.579789",
     "exception": false,
     "start_time": "2022-02-21T22:09:17.508338",
     "status": "completed"
    },
    "tags": []
   },
   "outputs": [],
   "source": [
    "def process_cv_results(results):\n",
    "    \"\"\"Process cv results for multiple datasets\"\"\"\n",
    "    results_df = pd.DataFrame()\n",
    "\n",
    "    for name, result in results.items():\n",
    "        result.insert(0, \"facility_group\", name)\n",
    "        results_df = pd.concat([results_df, result])\n",
    "\n",
    "    return results_df"
   ]
  },
  {
   "cell_type": "code",
   "execution_count": 50,
   "id": "c07b3959",
   "metadata": {
    "execution": {
     "iopub.execute_input": "2022-02-21T22:09:17.701121Z",
     "iopub.status.busy": "2022-02-21T22:09:17.700232Z",
     "iopub.status.idle": "2022-02-21T22:09:21.541516Z",
     "shell.execute_reply": "2022-02-21T22:09:21.542273Z",
     "shell.execute_reply.started": "2022-02-21T22:06:49.939970Z"
    },
    "papermill": {
     "duration": 3.906618,
     "end_time": "2022-02-21T22:09:21.542479",
     "exception": false,
     "start_time": "2022-02-21T22:09:17.635861",
     "status": "completed"
    },
    "tags": []
   },
   "outputs": [],
   "source": [
    "model = lgb.LGBMRegressor(force_row_wise=True)\n",
    "results, models = logo_cv_lgb_all(model, X_trains, y_trains, groups, ct, 5)"
   ]
  },
  {
   "cell_type": "code",
   "execution_count": 51,
   "id": "dab16b4b",
   "metadata": {
    "execution": {
     "iopub.execute_input": "2022-02-21T22:09:21.656110Z",
     "iopub.status.busy": "2022-02-21T22:09:21.655207Z",
     "iopub.status.idle": "2022-02-21T22:09:21.687429Z",
     "shell.execute_reply": "2022-02-21T22:09:21.687896Z",
     "shell.execute_reply.started": "2022-02-21T22:06:53.987658Z"
    },
    "papermill": {
     "duration": 0.090532,
     "end_time": "2022-02-21T22:09:21.688063",
     "exception": false,
     "start_time": "2022-02-21T22:09:21.597531",
     "status": "completed"
    },
    "tags": []
   },
   "outputs": [
    {
     "data": {
      "text/html": [
       "<div>\n",
       "<style scoped>\n",
       "    .dataframe tbody tr th:only-of-type {\n",
       "        vertical-align: middle;\n",
       "    }\n",
       "\n",
       "    .dataframe tbody tr th {\n",
       "        vertical-align: top;\n",
       "    }\n",
       "\n",
       "    .dataframe thead th {\n",
       "        text-align: right;\n",
       "    }\n",
       "</style>\n",
       "<table border=\"1\" class=\"dataframe\">\n",
       "  <thead>\n",
       "    <tr style=\"text-align: right;\">\n",
       "      <th></th>\n",
       "      <th>facility_group</th>\n",
       "      <th>Fold</th>\n",
       "      <th>Train_shape</th>\n",
       "      <th>Val_shape</th>\n",
       "      <th>Train_years</th>\n",
       "      <th>Val_years</th>\n",
       "      <th>Train_RMSE</th>\n",
       "      <th>Val_RMSE</th>\n",
       "      <th>RMSE_spread</th>\n",
       "    </tr>\n",
       "  </thead>\n",
       "  <tbody>\n",
       "    <tr>\n",
       "      <th>0</th>\n",
       "      <td>residential</td>\n",
       "      <td>1</td>\n",
       "      <td>(43141, 65)</td>\n",
       "      <td>(136, 65)</td>\n",
       "      <td>[2, 3, 4, 5, 6]</td>\n",
       "      <td>[1]</td>\n",
       "      <td>31.895976</td>\n",
       "      <td>39.703419</td>\n",
       "      <td>-7.807444</td>\n",
       "    </tr>\n",
       "    <tr>\n",
       "      <th>1</th>\n",
       "      <td>residential</td>\n",
       "      <td>2</td>\n",
       "      <td>(36867, 65)</td>\n",
       "      <td>(6410, 65)</td>\n",
       "      <td>[1, 3, 4, 5, 6]</td>\n",
       "      <td>[2]</td>\n",
       "      <td>35.387421</td>\n",
       "      <td>35.521181</td>\n",
       "      <td>-0.133760</td>\n",
       "    </tr>\n",
       "    <tr>\n",
       "      <th>2</th>\n",
       "      <td>residential</td>\n",
       "      <td>3</td>\n",
       "      <td>(36558, 65)</td>\n",
       "      <td>(6719, 65)</td>\n",
       "      <td>[1, 2, 4, 5, 6]</td>\n",
       "      <td>[3]</td>\n",
       "      <td>29.802119</td>\n",
       "      <td>45.976154</td>\n",
       "      <td>-16.174035</td>\n",
       "    </tr>\n",
       "    <tr>\n",
       "      <th>3</th>\n",
       "      <td>residential</td>\n",
       "      <td>4</td>\n",
       "      <td>(35701, 65)</td>\n",
       "      <td>(7576, 65)</td>\n",
       "      <td>[1, 2, 3, 5, 6]</td>\n",
       "      <td>[4]</td>\n",
       "      <td>30.933487</td>\n",
       "      <td>35.309462</td>\n",
       "      <td>-4.375976</td>\n",
       "    </tr>\n",
       "    <tr>\n",
       "      <th>4</th>\n",
       "      <td>residential</td>\n",
       "      <td>5</td>\n",
       "      <td>(32912, 65)</td>\n",
       "      <td>(10365, 65)</td>\n",
       "      <td>[1, 2, 3, 4, 6]</td>\n",
       "      <td>[5]</td>\n",
       "      <td>32.032101</td>\n",
       "      <td>25.994538</td>\n",
       "      <td>6.037563</td>\n",
       "    </tr>\n",
       "    <tr>\n",
       "      <th>5</th>\n",
       "      <td>residential</td>\n",
       "      <td>6</td>\n",
       "      <td>(31206, 65)</td>\n",
       "      <td>(12071, 65)</td>\n",
       "      <td>[1, 2, 3, 4, 5]</td>\n",
       "      <td>[6]</td>\n",
       "      <td>33.722712</td>\n",
       "      <td>27.345285</td>\n",
       "      <td>6.377427</td>\n",
       "    </tr>\n",
       "    <tr>\n",
       "      <th>6</th>\n",
       "      <td>residential</td>\n",
       "      <td>MEAN</td>\n",
       "      <td>N/A</td>\n",
       "      <td>N/A</td>\n",
       "      <td>N/A</td>\n",
       "      <td>N/A</td>\n",
       "      <td>32.295636</td>\n",
       "      <td>34.975007</td>\n",
       "      <td>-2.679371</td>\n",
       "    </tr>\n",
       "    <tr>\n",
       "      <th>0</th>\n",
       "      <td>commercial</td>\n",
       "      <td>1</td>\n",
       "      <td>(30463, 65)</td>\n",
       "      <td>(1978, 65)</td>\n",
       "      <td>[2, 3, 4, 5, 6]</td>\n",
       "      <td>[1]</td>\n",
       "      <td>46.814561</td>\n",
       "      <td>59.915851</td>\n",
       "      <td>-13.101290</td>\n",
       "    </tr>\n",
       "    <tr>\n",
       "      <th>1</th>\n",
       "      <td>commercial</td>\n",
       "      <td>2</td>\n",
       "      <td>(29810, 65)</td>\n",
       "      <td>(2631, 65)</td>\n",
       "      <td>[1, 3, 4, 5, 6]</td>\n",
       "      <td>[2]</td>\n",
       "      <td>46.435433</td>\n",
       "      <td>63.670209</td>\n",
       "      <td>-17.234776</td>\n",
       "    </tr>\n",
       "    <tr>\n",
       "      <th>2</th>\n",
       "      <td>commercial</td>\n",
       "      <td>3</td>\n",
       "      <td>(28287, 65)</td>\n",
       "      <td>(4154, 65)</td>\n",
       "      <td>[1, 2, 4, 5, 6]</td>\n",
       "      <td>[3]</td>\n",
       "      <td>46.722061</td>\n",
       "      <td>55.306508</td>\n",
       "      <td>-8.584447</td>\n",
       "    </tr>\n",
       "    <tr>\n",
       "      <th>3</th>\n",
       "      <td>commercial</td>\n",
       "      <td>4</td>\n",
       "      <td>(27075, 65)</td>\n",
       "      <td>(5366, 65)</td>\n",
       "      <td>[1, 2, 3, 5, 6]</td>\n",
       "      <td>[4]</td>\n",
       "      <td>48.208271</td>\n",
       "      <td>47.977171</td>\n",
       "      <td>0.231101</td>\n",
       "    </tr>\n",
       "    <tr>\n",
       "      <th>4</th>\n",
       "      <td>commercial</td>\n",
       "      <td>5</td>\n",
       "      <td>(24501, 65)</td>\n",
       "      <td>(7940, 65)</td>\n",
       "      <td>[1, 2, 3, 4, 6]</td>\n",
       "      <td>[5]</td>\n",
       "      <td>49.218939</td>\n",
       "      <td>47.128200</td>\n",
       "      <td>2.090739</td>\n",
       "    </tr>\n",
       "    <tr>\n",
       "      <th>5</th>\n",
       "      <td>commercial</td>\n",
       "      <td>6</td>\n",
       "      <td>(22069, 65)</td>\n",
       "      <td>(10372, 65)</td>\n",
       "      <td>[1, 2, 3, 4, 5]</td>\n",
       "      <td>[6]</td>\n",
       "      <td>55.856694</td>\n",
       "      <td>57.405366</td>\n",
       "      <td>-1.548672</td>\n",
       "    </tr>\n",
       "    <tr>\n",
       "      <th>6</th>\n",
       "      <td>commercial</td>\n",
       "      <td>MEAN</td>\n",
       "      <td>N/A</td>\n",
       "      <td>N/A</td>\n",
       "      <td>N/A</td>\n",
       "      <td>N/A</td>\n",
       "      <td>48.875993</td>\n",
       "      <td>55.233884</td>\n",
       "      <td>-6.357891</td>\n",
       "    </tr>\n",
       "  </tbody>\n",
       "</table>\n",
       "</div>"
      ],
      "text/plain": [
       "  facility_group  Fold  Train_shape    Val_shape      Train_years Val_years  \\\n",
       "0    residential     1  (43141, 65)    (136, 65)  [2, 3, 4, 5, 6]       [1]   \n",
       "1    residential     2  (36867, 65)   (6410, 65)  [1, 3, 4, 5, 6]       [2]   \n",
       "2    residential     3  (36558, 65)   (6719, 65)  [1, 2, 4, 5, 6]       [3]   \n",
       "3    residential     4  (35701, 65)   (7576, 65)  [1, 2, 3, 5, 6]       [4]   \n",
       "4    residential     5  (32912, 65)  (10365, 65)  [1, 2, 3, 4, 6]       [5]   \n",
       "5    residential     6  (31206, 65)  (12071, 65)  [1, 2, 3, 4, 5]       [6]   \n",
       "6    residential  MEAN          N/A          N/A              N/A       N/A   \n",
       "0     commercial     1  (30463, 65)   (1978, 65)  [2, 3, 4, 5, 6]       [1]   \n",
       "1     commercial     2  (29810, 65)   (2631, 65)  [1, 3, 4, 5, 6]       [2]   \n",
       "2     commercial     3  (28287, 65)   (4154, 65)  [1, 2, 4, 5, 6]       [3]   \n",
       "3     commercial     4  (27075, 65)   (5366, 65)  [1, 2, 3, 5, 6]       [4]   \n",
       "4     commercial     5  (24501, 65)   (7940, 65)  [1, 2, 3, 4, 6]       [5]   \n",
       "5     commercial     6  (22069, 65)  (10372, 65)  [1, 2, 3, 4, 5]       [6]   \n",
       "6     commercial  MEAN          N/A          N/A              N/A       N/A   \n",
       "\n",
       "   Train_RMSE   Val_RMSE  RMSE_spread  \n",
       "0   31.895976  39.703419    -7.807444  \n",
       "1   35.387421  35.521181    -0.133760  \n",
       "2   29.802119  45.976154   -16.174035  \n",
       "3   30.933487  35.309462    -4.375976  \n",
       "4   32.032101  25.994538     6.037563  \n",
       "5   33.722712  27.345285     6.377427  \n",
       "6   32.295636  34.975007    -2.679371  \n",
       "0   46.814561  59.915851   -13.101290  \n",
       "1   46.435433  63.670209   -17.234776  \n",
       "2   46.722061  55.306508    -8.584447  \n",
       "3   48.208271  47.977171     0.231101  \n",
       "4   49.218939  47.128200     2.090739  \n",
       "5   55.856694  57.405366    -1.548672  \n",
       "6   48.875993  55.233884    -6.357891  "
      ]
     },
     "execution_count": 51,
     "metadata": {},
     "output_type": "execute_result"
    }
   ],
   "source": [
    "process_cv_results(results)"
   ]
  },
  {
   "cell_type": "code",
   "execution_count": 52,
   "id": "05e6f526",
   "metadata": {
    "execution": {
     "iopub.execute_input": "2022-02-21T22:09:21.802657Z",
     "iopub.status.busy": "2022-02-21T22:09:21.801738Z",
     "iopub.status.idle": "2022-02-21T22:09:22.123161Z",
     "shell.execute_reply": "2022-02-21T22:09:22.123596Z",
     "shell.execute_reply.started": "2022-02-21T22:06:54.030310Z"
    },
    "papermill": {
     "duration": 0.380301,
     "end_time": "2022-02-21T22:09:22.123786",
     "exception": false,
     "start_time": "2022-02-21T22:09:21.743485",
     "status": "completed"
    },
    "tags": []
   },
   "outputs": [
    {
     "data": {
      "image/png": "[encoded data removed]",
      "text/plain": [
       "<Figure size 360x360 with 1 Axes>"
      ]
     },
     "metadata": {},
     "output_type": "display_data"
    }
   ],
   "source": [
    "lgb.plot_importance(models[\"residential\"][4], figsize=(5, 5), height=0.5, max_num_features=15);"
   ]
  },
  {
   "cell_type": "code",
   "execution_count": 53,
   "id": "3bab6078",
   "metadata": {
    "execution": {
     "iopub.execute_input": "2022-02-21T22:09:22.242515Z",
     "iopub.status.busy": "2022-02-21T22:09:22.240480Z",
     "iopub.status.idle": "2022-02-21T22:09:22.527573Z",
     "shell.execute_reply": "2022-02-21T22:09:22.526972Z",
     "shell.execute_reply.started": "2022-02-21T22:06:54.407307Z"
    },
    "papermill": {
     "duration": 0.346866,
     "end_time": "2022-02-21T22:09:22.527705",
     "exception": false,
     "start_time": "2022-02-21T22:09:22.180839",
     "status": "completed"
    },
    "tags": []
   },
   "outputs": [
    {
     "data": {
      "image/png": "[encoded data removed]",
      "text/plain": [
       "<Figure size 360x360 with 1 Axes>"
      ]
     },
     "metadata": {},
     "output_type": "display_data"
    }
   ],
   "source": [
    "lgb.plot_importance(models[\"commercial\"][4], figsize=(5, 5), height=0.5, max_num_features=15);"
   ]
  },
  {
   "cell_type": "markdown",
   "id": "a9500f76",
   "metadata": {
    "papermill": {
     "duration": 0.058719,
     "end_time": "2022-02-21T22:09:22.646608",
     "exception": false,
     "start_time": "2022-02-21T22:09:22.587889",
     "status": "completed"
    },
    "tags": []
   },
   "source": [
    "## Hyperparameter Tuning"
   ]
  },
  {
   "cell_type": "code",
   "execution_count": 54,
   "id": "53d65334",
   "metadata": {
    "execution": {
     "iopub.execute_input": "2022-02-21T22:09:22.769633Z",
     "iopub.status.busy": "2022-02-21T22:09:22.768719Z",
     "iopub.status.idle": "2022-02-21T22:09:22.770957Z",
     "shell.execute_reply": "2022-02-21T22:09:22.771365Z",
     "shell.execute_reply.started": "2022-02-21T22:06:54.791431Z"
    },
    "papermill": {
     "duration": 0.065822,
     "end_time": "2022-02-21T22:09:22.771527",
     "exception": false,
     "start_time": "2022-02-21T22:09:22.705705",
     "status": "completed"
    },
    "tags": []
   },
   "outputs": [],
   "source": [
    "# TODO"
   ]
  },
  {
   "cell_type": "markdown",
   "id": "892c80e4",
   "metadata": {
    "papermill": {
     "duration": 0.060256,
     "end_time": "2022-02-21T22:09:22.891274",
     "exception": false,
     "start_time": "2022-02-21T22:09:22.831018",
     "status": "completed"
    },
    "tags": []
   },
   "source": [
    "## Ensembling"
   ]
  },
  {
   "cell_type": "code",
   "execution_count": 55,
   "id": "f0a9e9d4",
   "metadata": {
    "execution": {
     "iopub.execute_input": "2022-02-21T22:09:23.015681Z",
     "iopub.status.busy": "2022-02-21T22:09:23.015086Z",
     "iopub.status.idle": "2022-02-21T22:09:23.016764Z",
     "shell.execute_reply": "2022-02-21T22:09:23.017263Z",
     "shell.execute_reply.started": "2022-02-21T22:06:54.797935Z"
    },
    "papermill": {
     "duration": 0.066074,
     "end_time": "2022-02-21T22:09:23.017416",
     "exception": false,
     "start_time": "2022-02-21T22:09:22.951342",
     "status": "completed"
    },
    "tags": []
   },
   "outputs": [],
   "source": [
    "# TODO"
   ]
  },
  {
   "cell_type": "markdown",
   "id": "aff215e8",
   "metadata": {
    "papermill": {
     "duration": 0.059601,
     "end_time": "2022-02-21T22:09:23.137862",
     "exception": false,
     "start_time": "2022-02-21T22:09:23.078261",
     "status": "completed"
    },
    "tags": []
   },
   "source": [
    "# Final models and predictions"
   ]
  },
  {
   "cell_type": "code",
   "execution_count": 56,
   "id": "3fe2ce33",
   "metadata": {
    "execution": {
     "iopub.execute_input": "2022-02-21T22:09:23.260706Z",
     "iopub.status.busy": "2022-02-21T22:09:23.260110Z",
     "iopub.status.idle": "2022-02-21T22:09:23.265793Z",
     "shell.execute_reply": "2022-02-21T22:09:23.266255Z",
     "shell.execute_reply.started": "2022-02-21T22:06:54.809882Z"
    },
    "papermill": {
     "duration": 0.068957,
     "end_time": "2022-02-21T22:09:23.266417",
     "exception": false,
     "start_time": "2022-02-21T22:09:23.197460",
     "status": "completed"
    },
    "tags": []
   },
   "outputs": [],
   "source": [
    "# not in utils yet, need to finalize\n",
    "def train_and_predict(model, X_trains, y_trains, X_tests, ct, target):\n",
    "    predictions = pd.DataFrame()\n",
    "    \n",
    "    for (n1, X_train), (n2, y_train), (n3, X_test) in zip(X_trains.items(), y_trains.items(), X_tests.items()):\n",
    "        assert n1 == n2 == n3\n",
    "        \n",
    "        current_model = deepcopy(model)\n",
    "        pipe = make_pipeline(\n",
    "            ct,\n",
    "            current_model\n",
    "        )\n",
    "        \n",
    "        pipe.fit(X_train, y_train)\n",
    "        \n",
    "        pred = {\n",
    "            \"id\": X_test[\"id\"],\n",
    "            target: pipe.predict(X_test)\n",
    "        }\n",
    "        \n",
    "        predictions = pd.concat([predictions, pd.DataFrame(pred)])\n",
    "    \n",
    "    predictions = predictions.sort_values(\"id\")\n",
    "\n",
    "    return predictions"
   ]
  },
  {
   "cell_type": "code",
   "execution_count": 57,
   "id": "57990801",
   "metadata": {
    "execution": {
     "iopub.execute_input": "2022-02-21T22:09:23.388645Z",
     "iopub.status.busy": "2022-02-21T22:09:23.388036Z",
     "iopub.status.idle": "2022-02-21T22:09:23.391336Z",
     "shell.execute_reply": "2022-02-21T22:09:23.391902Z",
     "shell.execute_reply.started": "2022-02-21T22:06:54.822285Z"
    },
    "papermill": {
     "duration": 0.066519,
     "end_time": "2022-02-21T22:09:23.392067",
     "exception": false,
     "start_time": "2022-02-21T22:09:23.325548",
     "status": "completed"
    },
    "tags": []
   },
   "outputs": [],
   "source": [
    "regressor = lgb.LGBMRegressor(force_row_wise=True)"
   ]
  },
  {
   "cell_type": "code",
   "execution_count": 58,
   "id": "d166e443",
   "metadata": {
    "execution": {
     "iopub.execute_input": "2022-02-21T22:09:23.514822Z",
     "iopub.status.busy": "2022-02-21T22:09:23.514230Z",
     "iopub.status.idle": "2022-02-21T22:09:24.172151Z",
     "shell.execute_reply": "2022-02-21T22:09:24.172674Z",
     "shell.execute_reply.started": "2022-02-21T22:06:54.832418Z"
    },
    "papermill": {
     "duration": 0.720012,
     "end_time": "2022-02-21T22:09:24.172884",
     "exception": false,
     "start_time": "2022-02-21T22:09:23.452872",
     "status": "completed"
    },
    "tags": []
   },
   "outputs": [],
   "source": [
    "predictions = train_and_predict(regressor, X_trains, y_trains, X_tests, ct, TARGET)"
   ]
  },
  {
   "cell_type": "code",
   "execution_count": 59,
   "id": "cb5d5448",
   "metadata": {
    "execution": {
     "iopub.execute_input": "2022-02-21T22:09:24.295928Z",
     "iopub.status.busy": "2022-02-21T22:09:24.295332Z",
     "iopub.status.idle": "2022-02-21T22:09:24.305744Z",
     "shell.execute_reply": "2022-02-21T22:09:24.305264Z",
     "shell.execute_reply.started": "2022-02-21T22:06:55.686050Z"
    },
    "papermill": {
     "duration": 0.072673,
     "end_time": "2022-02-21T22:09:24.305898",
     "exception": false,
     "start_time": "2022-02-21T22:09:24.233225",
     "status": "completed"
    },
    "tags": []
   },
   "outputs": [
    {
     "data": {
      "text/html": [
       "<div>\n",
       "<style scoped>\n",
       "    .dataframe tbody tr th:only-of-type {\n",
       "        vertical-align: middle;\n",
       "    }\n",
       "\n",
       "    .dataframe tbody tr th {\n",
       "        vertical-align: top;\n",
       "    }\n",
       "\n",
       "    .dataframe thead th {\n",
       "        text-align: right;\n",
       "    }\n",
       "</style>\n",
       "<table border=\"1\" class=\"dataframe\">\n",
       "  <thead>\n",
       "    <tr style=\"text-align: right;\">\n",
       "      <th></th>\n",
       "      <th>id</th>\n",
       "      <th>site_eui</th>\n",
       "    </tr>\n",
       "  </thead>\n",
       "  <tbody>\n",
       "    <tr>\n",
       "      <th>0</th>\n",
       "      <td>75757</td>\n",
       "      <td>247.839724</td>\n",
       "    </tr>\n",
       "    <tr>\n",
       "      <th>1</th>\n",
       "      <td>75758</td>\n",
       "      <td>202.430800</td>\n",
       "    </tr>\n",
       "    <tr>\n",
       "      <th>2</th>\n",
       "      <td>75759</td>\n",
       "      <td>223.987971</td>\n",
       "    </tr>\n",
       "    <tr>\n",
       "      <th>3</th>\n",
       "      <td>75760</td>\n",
       "      <td>259.736100</td>\n",
       "    </tr>\n",
       "    <tr>\n",
       "      <th>4</th>\n",
       "      <td>75761</td>\n",
       "      <td>246.494373</td>\n",
       "    </tr>\n",
       "    <tr>\n",
       "      <th>...</th>\n",
       "      <td>...</td>\n",
       "      <td>...</td>\n",
       "    </tr>\n",
       "    <tr>\n",
       "      <th>4043</th>\n",
       "      <td>85457</td>\n",
       "      <td>24.704034</td>\n",
       "    </tr>\n",
       "    <tr>\n",
       "      <th>4044</th>\n",
       "      <td>85458</td>\n",
       "      <td>46.898076</td>\n",
       "    </tr>\n",
       "    <tr>\n",
       "      <th>4045</th>\n",
       "      <td>85459</td>\n",
       "      <td>42.317549</td>\n",
       "    </tr>\n",
       "    <tr>\n",
       "      <th>4046</th>\n",
       "      <td>85460</td>\n",
       "      <td>26.570014</td>\n",
       "    </tr>\n",
       "    <tr>\n",
       "      <th>4047</th>\n",
       "      <td>85461</td>\n",
       "      <td>31.570818</td>\n",
       "    </tr>\n",
       "  </tbody>\n",
       "</table>\n",
       "<p>9705 rows × 2 columns</p>\n",
       "</div>"
      ],
      "text/plain": [
       "         id    site_eui\n",
       "0     75757  247.839724\n",
       "1     75758  202.430800\n",
       "2     75759  223.987971\n",
       "3     75760  259.736100\n",
       "4     75761  246.494373\n",
       "...     ...         ...\n",
       "4043  85457   24.704034\n",
       "4044  85458   46.898076\n",
       "4045  85459   42.317549\n",
       "4046  85460   26.570014\n",
       "4047  85461   31.570818\n",
       "\n",
       "[9705 rows x 2 columns]"
      ]
     },
     "execution_count": 59,
     "metadata": {},
     "output_type": "execute_result"
    }
   ],
   "source": [
    "predictions"
   ]
  },
  {
   "cell_type": "code",
   "execution_count": 60,
   "id": "e52c7bba",
   "metadata": {
    "execution": {
     "iopub.execute_input": "2022-02-21T22:09:24.434251Z",
     "iopub.status.busy": "2022-02-21T22:09:24.431623Z",
     "iopub.status.idle": "2022-02-21T22:09:24.438082Z",
     "shell.execute_reply": "2022-02-21T22:09:24.437411Z",
     "shell.execute_reply.started": "2022-02-21T22:06:55.704753Z"
    },
    "papermill": {
     "duration": 0.069549,
     "end_time": "2022-02-21T22:09:24.438231",
     "exception": false,
     "start_time": "2022-02-21T22:09:24.368682",
     "status": "completed"
    },
    "tags": []
   },
   "outputs": [],
   "source": [
    "assert sum(predictions.isna().sum()) == 0"
   ]
  },
  {
   "cell_type": "code",
   "execution_count": 61,
   "id": "60aada1c",
   "metadata": {
    "execution": {
     "iopub.execute_input": "2022-02-21T22:09:24.563043Z",
     "iopub.status.busy": "2022-02-21T22:09:24.562257Z",
     "iopub.status.idle": "2022-02-21T22:09:24.591010Z",
     "shell.execute_reply": "2022-02-21T22:09:24.590445Z",
     "shell.execute_reply.started": "2022-02-21T22:06:55.712322Z"
    },
    "papermill": {
     "duration": 0.092308,
     "end_time": "2022-02-21T22:09:24.591157",
     "exception": false,
     "start_time": "2022-02-21T22:09:24.498849",
     "status": "completed"
    },
    "tags": []
   },
   "outputs": [],
   "source": [
    "predictions.to_csv(\"submission.csv\", index=False)"
   ]
  }
 ],
 "metadata": {
  "kernelspec": {
   "display_name": "Python 3",
   "language": "python",
   "name": "python3"
  },
  "language_info": {
   "codemirror_mode": {
    "name": "ipython",
    "version": 3
   },
   "file_extension": ".py",
   "mimetype": "text/x-python",
   "name": "python",
   "nbconvert_exporter": "python",
   "pygments_lexer": "ipython3",
   "version": "3.7.12"
  },
  "papermill": {
   "default_parameters": {},
   "duration": 38.747538,
   "end_time": "2022-02-21T22:09:25.462010",
   "environment_variables": {},
   "exception": null,
   "input_path": "__notebook__.ipynb",
   "output_path": "__notebook__.ipynb",
   "parameters": {},
   "start_time": "2022-02-21T22:08:46.714472",
   "version": "2.3.3"
  }
 },
 "nbformat": 4,
 "nbformat_minor": 5
}
