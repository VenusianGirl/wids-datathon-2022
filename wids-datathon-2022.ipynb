{
 "cells": [
  {
   "cell_type": "markdown",
   "id": "ac801471",
   "metadata": {
    "papermill": {
     "duration": 0.075533,
     "end_time": "2022-02-21T22:32:12.158030",
     "exception": false,
     "start_time": "2022-02-21T22:32:12.082497",
     "status": "completed"
    },
    "tags": []
   },
   "source": [
    "# Women in Data Science 2022"
   ]
  },
  {
   "cell_type": "markdown",
   "id": "02143125",
   "metadata": {
    "papermill": {
     "duration": 0.073959,
     "end_time": "2022-02-21T22:32:12.308461",
     "exception": false,
     "start_time": "2022-02-21T22:32:12.234502",
     "status": "completed"
    },
    "tags": []
   },
   "source": [
    "# Section 1: Notebook set up"
   ]
  },
  {
   "cell_type": "markdown",
   "id": "9db78cee",
   "metadata": {
    "_cell_guid": "b1076dfc-b9ad-4769-8c92-a6c4dae69d19",
    "_uuid": "8f2839f25d086af736a60e9eeb907d3b93b6e0e5",
    "papermill": {
     "duration": 0.073144,
     "end_time": "2022-02-21T22:32:12.454540",
     "exception": false,
     "start_time": "2022-02-21T22:32:12.381396",
     "status": "completed"
    },
    "tags": []
   },
   "source": [
    "## Imports"
   ]
  },
  {
   "cell_type": "code",
   "execution_count": 1,
   "id": "c79982a5",
   "metadata": {
    "execution": {
     "iopub.execute_input": "2022-02-21T22:32:12.611394Z",
     "iopub.status.busy": "2022-02-21T22:32:12.610712Z",
     "iopub.status.idle": "2022-02-21T22:32:15.987871Z",
     "shell.execute_reply": "2022-02-21T22:32:15.987158Z",
     "shell.execute_reply.started": "2022-02-21T22:29:24.955822Z"
    },
    "papermill": {
     "duration": 3.460593,
     "end_time": "2022-02-21T22:32:15.988059",
     "exception": false,
     "start_time": "2022-02-21T22:32:12.527466",
     "status": "completed"
    },
    "tags": []
   },
   "outputs": [
    {
     "data": {
      "text/html": [
       "<style type='text/css'>\n",
       ".datatable table.frame { margin-bottom: 0; }\n",
       ".datatable table.frame thead { border-bottom: none; }\n",
       ".datatable table.frame tr.coltypes td {  color: #FFFFFF;  line-height: 6px;  padding: 0 0.5em;}\n",
       ".datatable .bool    { background: #DDDD99; }\n",
       ".datatable .object  { background: #565656; }\n",
       ".datatable .int     { background: #5D9E5D; }\n",
       ".datatable .float   { background: #4040CC; }\n",
       ".datatable .str     { background: #CC4040; }\n",
       ".datatable .time    { background: #40CC40; }\n",
       ".datatable .row_index {  background: var(--jp-border-color3);  border-right: 1px solid var(--jp-border-color0);  color: var(--jp-ui-font-color3);  font-size: 9px;}\n",
       ".datatable .frame tbody td { text-align: left; }\n",
       ".datatable .frame tr.coltypes .row_index {  background: var(--jp-border-color0);}\n",
       ".datatable th:nth-child(2) { padding-left: 12px; }\n",
       ".datatable .hellipsis {  color: var(--jp-cell-editor-border-color);}\n",
       ".datatable .vellipsis {  background: var(--jp-layout-color0);  color: var(--jp-cell-editor-border-color);}\n",
       ".datatable .na {  color: var(--jp-cell-editor-border-color);  font-size: 80%;}\n",
       ".datatable .sp {  opacity: 0.25;}\n",
       ".datatable .footer { font-size: 9px; }\n",
       ".datatable .frame_dimensions {  background: var(--jp-border-color3);  border-top: 1px solid var(--jp-border-color0);  color: var(--jp-ui-font-color3);  display: inline-block;  opacity: 0.6;  padding: 1px 10px 1px 5px;}\n",
       "</style>\n"
      ],
      "text/plain": [
       "<IPython.core.display.HTML object>"
      ]
     },
     "metadata": {},
     "output_type": "display_data"
    }
   ],
   "source": [
    "import random, os\n",
    "\n",
    "import numpy as np\n",
    "import pandas as pd\n",
    "import seaborn as sns\n",
    "import matplotlib.pyplot as plt\n",
    "import xgboost as xgb\n",
    "import lightgbm as lgb\n",
    "import catboost as cb\n",
    "\n",
    "from copy import deepcopy\n",
    "\n",
    "from sklearn.cluster import KMeans\n",
    "from sklearn.pipeline import make_pipeline\n",
    "from sklearn.ensemble import VotingRegressor\n",
    "from sklearn.metrics import mean_squared_error\n",
    "from sklearn.linear_model import BayesianRidge, Ridge\n",
    "from sklearn.experimental import enable_iterative_imputer\n",
    "from sklearn.impute import SimpleImputer, IterativeImputer\n",
    "from sklearn.compose import make_column_transformer, TransformedTargetRegressor\n",
    "from sklearn.model_selection import (\n",
    "    RandomizedSearchCV,\n",
    "    train_test_split,\n",
    "    cross_validate,\n",
    "    cross_val_score,\n",
    "    LeaveOneGroupOut,\n",
    ")\n",
    "from sklearn.preprocessing import (\n",
    "    OneHotEncoder,\n",
    "    OrdinalEncoder,\n",
    "    PowerTransformer,\n",
    "    StandardScaler,\n",
    ")\n",
    "\n",
    "from sklearn.utils.validation import check_is_fitted\n",
    "\n",
    "from yellowbrick.cluster import KElbowVisualizer, SilhouetteVisualizer"
   ]
  },
  {
   "cell_type": "markdown",
   "id": "f316a92f",
   "metadata": {
    "papermill": {
     "duration": 0.073588,
     "end_time": "2022-02-21T22:32:16.139054",
     "exception": false,
     "start_time": "2022-02-21T22:32:16.065466",
     "status": "completed"
    },
    "tags": []
   },
   "source": [
    "## Global notebook setup"
   ]
  },
  {
   "cell_type": "markdown",
   "id": "a619a90b",
   "metadata": {
    "papermill": {
     "duration": 0.074127,
     "end_time": "2022-02-21T22:32:16.287707",
     "exception": false,
     "start_time": "2022-02-21T22:32:16.213580",
     "status": "completed"
    },
    "tags": []
   },
   "source": [
    "### Global variables"
   ]
  },
  {
   "cell_type": "code",
   "execution_count": 2,
   "id": "9399bc15",
   "metadata": {
    "execution": {
     "iopub.execute_input": "2022-02-21T22:32:16.445079Z",
     "iopub.status.busy": "2022-02-21T22:32:16.444333Z",
     "iopub.status.idle": "2022-02-21T22:32:16.446011Z",
     "shell.execute_reply": "2022-02-21T22:32:16.446586Z",
     "shell.execute_reply.started": "2022-02-21T22:29:26.739858Z"
    },
    "papermill": {
     "duration": 0.082582,
     "end_time": "2022-02-21T22:32:16.446797",
     "exception": false,
     "start_time": "2022-02-21T22:32:16.364215",
     "status": "completed"
    },
    "scrolled": true,
    "tags": []
   },
   "outputs": [],
   "source": [
    "TRAIN_PATH = \"../input/widsdatathon2022/train.csv\"\n",
    "TEST_PATH = \"../input/widsdatathon2022/test.csv\"\n",
    "SUBMISSION_PATH = \"../output/\"\n",
    "TARGET = \"site_eui\"\n",
    "SCORE = \"neg_root_mean_squared_error\"\n",
    "SEED = 777"
   ]
  },
  {
   "cell_type": "markdown",
   "id": "6d0e4014",
   "metadata": {
    "papermill": {
     "duration": 0.074054,
     "end_time": "2022-02-21T22:32:16.596527",
     "exception": false,
     "start_time": "2022-02-21T22:32:16.522473",
     "status": "completed"
    },
    "tags": []
   },
   "source": [
    "### Display options"
   ]
  },
  {
   "cell_type": "code",
   "execution_count": 3,
   "id": "89964d9f",
   "metadata": {
    "execution": {
     "iopub.execute_input": "2022-02-21T22:32:16.753965Z",
     "iopub.status.busy": "2022-02-21T22:32:16.751459Z",
     "iopub.status.idle": "2022-02-21T22:32:16.756107Z",
     "shell.execute_reply": "2022-02-21T22:32:16.756666Z",
     "shell.execute_reply.started": "2022-02-21T22:29:26.749694Z"
    },
    "papermill": {
     "duration": 0.08417,
     "end_time": "2022-02-21T22:32:16.756876",
     "exception": false,
     "start_time": "2022-02-21T22:32:16.672706",
     "status": "completed"
    },
    "tags": []
   },
   "outputs": [],
   "source": [
    "pd.options.display.max_rows = 100"
   ]
  },
  {
   "cell_type": "markdown",
   "id": "b08c8b56",
   "metadata": {
    "papermill": {
     "duration": 0.074799,
     "end_time": "2022-02-21T22:32:16.910697",
     "exception": false,
     "start_time": "2022-02-21T22:32:16.835898",
     "status": "completed"
    },
    "tags": []
   },
   "source": [
    "# Section 2: Data preprocessing"
   ]
  },
  {
   "cell_type": "markdown",
   "id": "4f2e59e7",
   "metadata": {
    "papermill": {
     "duration": 0.075496,
     "end_time": "2022-02-21T22:32:17.063093",
     "exception": false,
     "start_time": "2022-02-21T22:32:16.987597",
     "status": "completed"
    },
    "tags": []
   },
   "source": [
    "## Read in data"
   ]
  },
  {
   "cell_type": "code",
   "execution_count": 4,
   "id": "8c99bd8d",
   "metadata": {
    "execution": {
     "iopub.execute_input": "2022-02-21T22:32:17.219951Z",
     "iopub.status.busy": "2022-02-21T22:32:17.219102Z",
     "iopub.status.idle": "2022-02-21T22:32:17.222490Z",
     "shell.execute_reply": "2022-02-21T22:32:17.223257Z",
     "shell.execute_reply.started": "2022-02-21T22:29:26.762996Z"
    },
    "papermill": {
     "duration": 0.085413,
     "end_time": "2022-02-21T22:32:17.223487",
     "exception": false,
     "start_time": "2022-02-21T22:32:17.138074",
     "status": "completed"
    },
    "tags": []
   },
   "outputs": [],
   "source": [
    "def read_data(train_path, test_path):\n",
    "    \"\"\"Reads in train and test data.\"\"\"\n",
    "    train_df = pd.read_csv(train_path)\n",
    "    test_df = pd.read_csv(test_path)\n",
    "    return train_df, test_df"
   ]
  },
  {
   "cell_type": "code",
   "execution_count": 5,
   "id": "f1804cb8",
   "metadata": {
    "execution": {
     "iopub.execute_input": "2022-02-21T22:32:17.379650Z",
     "iopub.status.busy": "2022-02-21T22:32:17.379009Z",
     "iopub.status.idle": "2022-02-21T22:32:18.386834Z",
     "shell.execute_reply": "2022-02-21T22:32:18.386103Z",
     "shell.execute_reply.started": "2022-02-21T22:29:26.775306Z"
    },
    "papermill": {
     "duration": 1.088606,
     "end_time": "2022-02-21T22:32:18.386985",
     "exception": false,
     "start_time": "2022-02-21T22:32:17.298379",
     "status": "completed"
    },
    "tags": []
   },
   "outputs": [],
   "source": [
    "train, test = read_data(TRAIN_PATH, TEST_PATH)"
   ]
  },
  {
   "cell_type": "code",
   "execution_count": 6,
   "id": "062aa2fb",
   "metadata": {
    "execution": {
     "iopub.execute_input": "2022-02-21T22:32:18.542113Z",
     "iopub.status.busy": "2022-02-21T22:32:18.541478Z",
     "iopub.status.idle": "2022-02-21T22:32:18.548517Z",
     "shell.execute_reply": "2022-02-21T22:32:18.547818Z",
     "shell.execute_reply.started": "2022-02-21T22:29:27.525368Z"
    },
    "papermill": {
     "duration": 0.087573,
     "end_time": "2022-02-21T22:32:18.548682",
     "exception": false,
     "start_time": "2022-02-21T22:32:18.461109",
     "status": "completed"
    },
    "tags": []
   },
   "outputs": [
    {
     "data": {
      "text/plain": [
       "(75757, 64)"
      ]
     },
     "execution_count": 6,
     "metadata": {},
     "output_type": "execute_result"
    }
   ],
   "source": [
    "train.shape"
   ]
  },
  {
   "cell_type": "code",
   "execution_count": 7,
   "id": "c680f0fb",
   "metadata": {
    "execution": {
     "iopub.execute_input": "2022-02-21T22:32:18.703278Z",
     "iopub.status.busy": "2022-02-21T22:32:18.702436Z",
     "iopub.status.idle": "2022-02-21T22:32:18.705681Z",
     "shell.execute_reply": "2022-02-21T22:32:18.706148Z",
     "shell.execute_reply.started": "2022-02-21T22:29:27.534765Z"
    },
    "papermill": {
     "duration": 0.083632,
     "end_time": "2022-02-21T22:32:18.706333",
     "exception": false,
     "start_time": "2022-02-21T22:32:18.622701",
     "status": "completed"
    },
    "tags": []
   },
   "outputs": [
    {
     "data": {
      "text/plain": [
       "(9705, 63)"
      ]
     },
     "execution_count": 7,
     "metadata": {},
     "output_type": "execute_result"
    }
   ],
   "source": [
    "test.shape"
   ]
  },
  {
   "cell_type": "markdown",
   "id": "dbf202a0",
   "metadata": {
    "papermill": {
     "duration": 0.075567,
     "end_time": "2022-02-21T22:32:18.861549",
     "exception": false,
     "start_time": "2022-02-21T22:32:18.785982",
     "status": "completed"
    },
    "tags": []
   },
   "source": [
    "## Duplicated data"
   ]
  },
  {
   "cell_type": "code",
   "execution_count": 8,
   "id": "72379b7b",
   "metadata": {
    "execution": {
     "iopub.execute_input": "2022-02-21T22:32:19.018055Z",
     "iopub.status.busy": "2022-02-21T22:32:19.017028Z",
     "iopub.status.idle": "2022-02-21T22:32:19.019153Z",
     "shell.execute_reply": "2022-02-21T22:32:19.019663Z",
     "shell.execute_reply.started": "2022-02-21T22:29:27.549614Z"
    },
    "papermill": {
     "duration": 0.082883,
     "end_time": "2022-02-21T22:32:19.019832",
     "exception": false,
     "start_time": "2022-02-21T22:32:18.936949",
     "status": "completed"
    },
    "tags": []
   },
   "outputs": [],
   "source": [
    "def get_duplicates(df, drop_cols=None):\n",
    "    \"\"\"Returns duplicated values in a dataframe.\"\"\"\n",
    "    if drop_cols is not None:\n",
    "        return df[df.drop(columns=drop_cols).duplicated()]\n",
    "    else:\n",
    "        return df[df.duplicated()]"
   ]
  },
  {
   "cell_type": "code",
   "execution_count": 9,
   "id": "975df08e",
   "metadata": {
    "execution": {
     "iopub.execute_input": "2022-02-21T22:32:19.180034Z",
     "iopub.status.busy": "2022-02-21T22:32:19.178881Z",
     "iopub.status.idle": "2022-02-21T22:32:19.181341Z",
     "shell.execute_reply": "2022-02-21T22:32:19.181857Z",
     "shell.execute_reply.started": "2022-02-21T22:29:27.561624Z"
    },
    "papermill": {
     "duration": 0.086523,
     "end_time": "2022-02-21T22:32:19.182059",
     "exception": false,
     "start_time": "2022-02-21T22:32:19.095536",
     "status": "completed"
    },
    "tags": []
   },
   "outputs": [],
   "source": [
    "def remove_duplicates(df, drop_cols=None):\n",
    "    \"\"\"Removes duplicated values in a dataframe\"\"\"\n",
    "    df_clean = df.copy()\n",
    "    if drop_cols is not None:\n",
    "        df_clean = df_clean[~df_clean.drop(columns=drop_cols).duplicated()]\n",
    "    else:\n",
    "        df_clean = df_clean[~df_clean.duplicated()]\n",
    "    return df_clean.reset_index(drop=True)"
   ]
  },
  {
   "cell_type": "code",
   "execution_count": 10,
   "id": "10503f00",
   "metadata": {
    "execution": {
     "iopub.execute_input": "2022-02-21T22:32:19.338620Z",
     "iopub.status.busy": "2022-02-21T22:32:19.337583Z",
     "iopub.status.idle": "2022-02-21T22:32:19.552598Z",
     "shell.execute_reply": "2022-02-21T22:32:19.551845Z",
     "shell.execute_reply.started": "2022-02-21T22:29:27.573026Z"
    },
    "papermill": {
     "duration": 0.294555,
     "end_time": "2022-02-21T22:32:19.552760",
     "exception": false,
     "start_time": "2022-02-21T22:32:19.258205",
     "status": "completed"
    },
    "tags": []
   },
   "outputs": [],
   "source": [
    "train_duplicates = get_duplicates(train, [\"id\"])\n",
    "test_duplicates = get_duplicates(test, [\"id\"])"
   ]
  },
  {
   "cell_type": "code",
   "execution_count": 11,
   "id": "f98d606a",
   "metadata": {
    "execution": {
     "iopub.execute_input": "2022-02-21T22:32:19.709512Z",
     "iopub.status.busy": "2022-02-21T22:32:19.708487Z",
     "iopub.status.idle": "2022-02-21T22:32:19.714016Z",
     "shell.execute_reply": "2022-02-21T22:32:19.714533Z",
     "shell.execute_reply.started": "2022-02-21T22:29:27.766447Z"
    },
    "papermill": {
     "duration": 0.084927,
     "end_time": "2022-02-21T22:32:19.714743",
     "exception": false,
     "start_time": "2022-02-21T22:32:19.629816",
     "status": "completed"
    },
    "tags": []
   },
   "outputs": [
    {
     "data": {
      "text/plain": [
       "(39, 64)"
      ]
     },
     "execution_count": 11,
     "metadata": {},
     "output_type": "execute_result"
    }
   ],
   "source": [
    "train_duplicates.shape"
   ]
  },
  {
   "cell_type": "code",
   "execution_count": 12,
   "id": "bbb1166c",
   "metadata": {
    "execution": {
     "iopub.execute_input": "2022-02-21T22:32:19.872547Z",
     "iopub.status.busy": "2022-02-21T22:32:19.871455Z",
     "iopub.status.idle": "2022-02-21T22:32:19.875242Z",
     "shell.execute_reply": "2022-02-21T22:32:19.875744Z",
     "shell.execute_reply.started": "2022-02-21T22:29:27.773370Z"
    },
    "papermill": {
     "duration": 0.085931,
     "end_time": "2022-02-21T22:32:19.875959",
     "exception": false,
     "start_time": "2022-02-21T22:32:19.790028",
     "status": "completed"
    },
    "tags": []
   },
   "outputs": [
    {
     "data": {
      "text/plain": [
       "(5, 63)"
      ]
     },
     "execution_count": 12,
     "metadata": {},
     "output_type": "execute_result"
    }
   ],
   "source": [
    "test_duplicates.shape"
   ]
  },
  {
   "cell_type": "code",
   "execution_count": 13,
   "id": "b645b6dc",
   "metadata": {
    "execution": {
     "iopub.execute_input": "2022-02-21T22:32:20.033416Z",
     "iopub.status.busy": "2022-02-21T22:32:20.032690Z",
     "iopub.status.idle": "2022-02-21T22:32:20.268827Z",
     "shell.execute_reply": "2022-02-21T22:32:20.268211Z",
     "shell.execute_reply.started": "2022-02-21T22:29:27.791783Z"
    },
    "papermill": {
     "duration": 0.316537,
     "end_time": "2022-02-21T22:32:20.268993",
     "exception": false,
     "start_time": "2022-02-21T22:32:19.952456",
     "status": "completed"
    },
    "tags": []
   },
   "outputs": [],
   "source": [
    "train = remove_duplicates(train, [\"id\"])"
   ]
  },
  {
   "cell_type": "code",
   "execution_count": 14,
   "id": "a7ca7fce",
   "metadata": {
    "execution": {
     "iopub.execute_input": "2022-02-21T22:32:20.428077Z",
     "iopub.status.busy": "2022-02-21T22:32:20.427426Z",
     "iopub.status.idle": "2022-02-21T22:32:20.430050Z",
     "shell.execute_reply": "2022-02-21T22:32:20.430545Z",
     "shell.execute_reply.started": "2022-02-21T22:29:28.027591Z"
    },
    "papermill": {
     "duration": 0.085322,
     "end_time": "2022-02-21T22:32:20.430720",
     "exception": false,
     "start_time": "2022-02-21T22:32:20.345398",
     "status": "completed"
    },
    "tags": []
   },
   "outputs": [
    {
     "data": {
      "text/plain": [
       "(75718, 64)"
      ]
     },
     "execution_count": 14,
     "metadata": {},
     "output_type": "execute_result"
    }
   ],
   "source": [
    "train.shape"
   ]
  },
  {
   "cell_type": "markdown",
   "id": "4eeda1c1",
   "metadata": {
    "papermill": {
     "duration": 0.074971,
     "end_time": "2022-02-21T22:32:20.581571",
     "exception": false,
     "start_time": "2022-02-21T22:32:20.506600",
     "status": "completed"
    },
    "tags": []
   },
   "source": [
    "## Separate data by facility (residential vs. commercial)"
   ]
  },
  {
   "cell_type": "code",
   "execution_count": 15,
   "id": "1e579b5d",
   "metadata": {
    "execution": {
     "iopub.execute_input": "2022-02-21T22:32:20.739569Z",
     "iopub.status.busy": "2022-02-21T22:32:20.738859Z",
     "iopub.status.idle": "2022-02-21T22:32:20.744924Z",
     "shell.execute_reply": "2022-02-21T22:32:20.745444Z",
     "shell.execute_reply.started": "2022-02-21T22:29:28.036978Z"
    },
    "papermill": {
     "duration": 0.088657,
     "end_time": "2022-02-21T22:32:20.745665",
     "exception": false,
     "start_time": "2022-02-21T22:32:20.657008",
     "status": "completed"
    },
    "tags": []
   },
   "outputs": [],
   "source": [
    "def split_building_data(df, groups):\n",
    "    \"\"\"Creates separate dataframes based on facility type groups\"\"\"\n",
    "    dfs = {}\n",
    "\n",
    "    for name, group in groups.items():\n",
    "        group_df = df.query(\"facility_type in @group\")\n",
    "        dfs[name] = group_df.reset_index(drop=True)\n",
    "\n",
    "    return dfs"
   ]
  },
  {
   "cell_type": "code",
   "execution_count": 16,
   "id": "09bcda0a",
   "metadata": {
    "execution": {
     "iopub.execute_input": "2022-02-21T22:32:20.907071Z",
     "iopub.status.busy": "2022-02-21T22:32:20.905729Z",
     "iopub.status.idle": "2022-02-21T22:32:20.916676Z",
     "shell.execute_reply": "2022-02-21T22:32:20.917143Z",
     "shell.execute_reply.started": "2022-02-21T22:29:28.049611Z"
    },
    "papermill": {
     "duration": 0.090887,
     "end_time": "2022-02-21T22:32:20.917349",
     "exception": false,
     "start_time": "2022-02-21T22:32:20.826462",
     "status": "completed"
    },
    "tags": []
   },
   "outputs": [],
   "source": [
    "# groups = {\n",
    "#     \"residential\": {\n",
    "#         '2to4_Unit_Building', '5plus_Unit_Building', 'Mixed_Use_Commercial_and_Residential',\n",
    "#         'Mixed_Use_Predominantly_Residential', 'Multifamily_Uncategorized'\n",
    "#     },\n",
    "#     \"commercial\": {\n",
    "#         'Mixed_Use_Predominantly_Commercial', 'Commercial_Other', 'Commercial_Unknown',\n",
    "#         'Data_Center', 'Education_College_or_university', 'Education_Other_classroom',\n",
    "#         'Education_Preschool_or_daycare', 'Education_Uncategorized', 'Food_Sales',\n",
    "#         'Food_Service_Other', 'Food_Service_Restaurant_or_cafeteria', 'Food_Service_Uncategorized',\n",
    "#         'Grocery_store_or_food_market', 'Health_Care_Inpatient', 'Health_Care_Outpatient_Clinic',\n",
    "#         'Health_Care_Outpatient_Uncategorized', 'Health_Care_Uncategorized', 'Industrial',\n",
    "#         'Laboratory', 'Lodging_Dormitory_or_fraternity_sorority', 'Lodging_Hotel', 'Lodging_Other',\n",
    "#         'Lodging_Uncategorized', 'Nursing_Home', 'Office_Bank_or_other_financial', 'Office_Medical_non_diagnostic',\n",
    "#         'Office_Mixed_use', 'Office_Uncategorized', 'Parking_Garage', 'Public_Assembly_Drama_theater',\n",
    "#         'Public_Assembly_Entertainment_culture', 'Public_Assembly_Library', 'Public_Assembly_Movie_Theater',\n",
    "#         'Public_Assembly_Other', 'Public_Assembly_Recreation', 'Public_Assembly_Social_meeting',\n",
    "#         'Public_Assembly_Stadium', 'Public_Assembly_Uncategorized', 'Public_Safety_Courthouse',\n",
    "#         'Public_Safety_Fire_or_police_station', 'Public_Safety_Penitentiary', 'Public_Safety_Uncategorized',\n",
    "#         'Religious_worship', 'Retail_Enclosed_mall', 'Retail_Strip_shopping_mall', 'Retail_Uncategorized',\n",
    "#         'Retail_Vehicle_dealership_showroom', 'Service_Drycleaning_or_Laundry', 'Service_Uncategorized',\n",
    "#         'Service_Vehicle_service_repair_shop', 'Warehouse_Distribution_or_Shipping_center', 'Warehouse_Nonrefrigerated',\n",
    "#         'Warehouse_Refrigerated', 'Warehouse_Selfstorage', 'Warehouse_Uncategorized'\n",
    "#     }\n",
    "# }\n",
    "\n",
    "groups = {\n",
    "    \"multifamily\": {\n",
    "        \"Multifamily_Uncategorized\"\n",
    "    },\n",
    "    \"residential\": {\n",
    "        '2to4_Unit_Building', '5plus_Unit_Building', 'Mixed_Use_Commercial_and_Residential',\n",
    "        'Mixed_Use_Predominantly_Residential'\n",
    "    },\n",
    "    \"commercial\": {\n",
    "        'Mixed_Use_Predominantly_Commercial', 'Commercial_Other', 'Commercial_Unknown',\n",
    "        'Data_Center', 'Education_College_or_university', 'Education_Other_classroom',\n",
    "        'Education_Preschool_or_daycare', 'Education_Uncategorized', 'Food_Sales',\n",
    "        'Food_Service_Other', 'Food_Service_Restaurant_or_cafeteria', 'Food_Service_Uncategorized',\n",
    "        'Grocery_store_or_food_market', 'Health_Care_Inpatient', 'Health_Care_Outpatient_Clinic',\n",
    "        'Health_Care_Outpatient_Uncategorized', 'Health_Care_Uncategorized', 'Industrial',\n",
    "        'Laboratory', 'Lodging_Dormitory_or_fraternity_sorority', 'Lodging_Hotel', 'Lodging_Other',\n",
    "        'Lodging_Uncategorized', 'Nursing_Home', 'Parking_Garage', 'Public_Assembly_Drama_theater',\n",
    "        'Public_Assembly_Entertainment_culture', 'Public_Assembly_Library', 'Public_Assembly_Movie_Theater',\n",
    "        'Public_Assembly_Other', 'Public_Assembly_Recreation', 'Public_Assembly_Social_meeting',\n",
    "        'Public_Assembly_Stadium', 'Public_Assembly_Uncategorized', 'Public_Safety_Courthouse',\n",
    "        'Public_Safety_Fire_or_police_station', 'Public_Safety_Penitentiary', 'Public_Safety_Uncategorized',\n",
    "        'Religious_worship', 'Retail_Enclosed_mall', 'Retail_Strip_shopping_mall', 'Retail_Uncategorized',\n",
    "        'Retail_Vehicle_dealership_showroom', 'Service_Drycleaning_or_Laundry', 'Service_Uncategorized',\n",
    "        'Service_Vehicle_service_repair_shop', 'Warehouse_Distribution_or_Shipping_center', \n",
    "    },\n",
    "    \"office\":{\n",
    "        'Office_Bank_or_other_financial', 'Office_Medical_non_diagnostic', 'Office_Mixed_use', 'Office_Uncategorized',\n",
    "    },\n",
    "    \"warehouse\":{\n",
    "        'Warehouse_Nonrefrigerated', 'Warehouse_Refrigerated', 'Warehouse_Selfstorage', 'Warehouse_Uncategorized'\n",
    "    }\n",
    "}"
   ]
  },
  {
   "cell_type": "code",
   "execution_count": 17,
   "id": "a88c5e4a",
   "metadata": {
    "execution": {
     "iopub.execute_input": "2022-02-21T22:32:21.075415Z",
     "iopub.status.busy": "2022-02-21T22:32:21.074371Z",
     "iopub.status.idle": "2022-02-21T22:32:21.223415Z",
     "shell.execute_reply": "2022-02-21T22:32:21.222841Z",
     "shell.execute_reply.started": "2022-02-21T22:29:28.063710Z"
    },
    "papermill": {
     "duration": 0.230944,
     "end_time": "2022-02-21T22:32:21.223575",
     "exception": false,
     "start_time": "2022-02-21T22:32:20.992631",
     "status": "completed"
    },
    "tags": []
   },
   "outputs": [],
   "source": [
    "train_dfs = split_building_data(train, groups)\n",
    "test_dfs = split_building_data(test, groups)"
   ]
  },
  {
   "cell_type": "markdown",
   "id": "dc009367",
   "metadata": {
    "papermill": {
     "duration": 0.076372,
     "end_time": "2022-02-21T22:32:21.375977",
     "exception": false,
     "start_time": "2022-02-21T22:32:21.299605",
     "status": "completed"
    },
    "tags": []
   },
   "source": [
    "## Missing data"
   ]
  },
  {
   "cell_type": "code",
   "execution_count": 18,
   "id": "40913a98",
   "metadata": {
    "execution": {
     "iopub.execute_input": "2022-02-21T22:32:21.533938Z",
     "iopub.status.busy": "2022-02-21T22:32:21.533029Z",
     "iopub.status.idle": "2022-02-21T22:32:21.535757Z",
     "shell.execute_reply": "2022-02-21T22:32:21.536220Z",
     "shell.execute_reply.started": "2022-02-21T22:29:28.212334Z"
    },
    "papermill": {
     "duration": 0.085066,
     "end_time": "2022-02-21T22:32:21.536412",
     "exception": false,
     "start_time": "2022-02-21T22:32:21.451346",
     "status": "completed"
    },
    "tags": []
   },
   "outputs": [],
   "source": [
    "def count_missing(df):\n",
    "    \"\"\"Counts the missing values in a dataframe\"\"\"\n",
    "    missing_df = pd.DataFrame(\n",
    "        df.isna().sum().sort_values(ascending=False), columns=[\"count\"]\n",
    "    )\n",
    "    missing_df[\"percent\"] = missing_df[\"count\"] / df.shape[0]\n",
    "    return missing_df.query(\"count != 0\")"
   ]
  },
  {
   "cell_type": "code",
   "execution_count": 19,
   "id": "4c817ac8",
   "metadata": {
    "execution": {
     "iopub.execute_input": "2022-02-21T22:32:21.692345Z",
     "iopub.status.busy": "2022-02-21T22:32:21.691376Z",
     "iopub.status.idle": "2022-02-21T22:32:21.694394Z",
     "shell.execute_reply": "2022-02-21T22:32:21.694851Z",
     "shell.execute_reply.started": "2022-02-21T22:29:28.220753Z"
    },
    "papermill": {
     "duration": 0.083091,
     "end_time": "2022-02-21T22:32:21.695033",
     "exception": false,
     "start_time": "2022-02-21T22:32:21.611942",
     "status": "completed"
    },
    "tags": []
   },
   "outputs": [],
   "source": [
    "# count_missing(train_dfs[\"residential\"])\n",
    "# count_missing(test_dfs[\"residential\"])\n",
    "# count_missing(train_dfs[\"commercial\"])\n",
    "# count_missing(test_dfs[\"commercial\"])"
   ]
  },
  {
   "cell_type": "markdown",
   "id": "6e4af104",
   "metadata": {
    "papermill": {
     "duration": 0.086015,
     "end_time": "2022-02-21T22:32:21.874688",
     "exception": false,
     "start_time": "2022-02-21T22:32:21.788673",
     "status": "completed"
    },
    "tags": []
   },
   "source": [
    "## Data imputation: `energy_star`, `year_built`"
   ]
  },
  {
   "cell_type": "code",
   "execution_count": 20,
   "id": "cdba24ee",
   "metadata": {
    "execution": {
     "iopub.execute_input": "2022-02-21T22:32:22.028634Z",
     "iopub.status.busy": "2022-02-21T22:32:22.027689Z",
     "iopub.status.idle": "2022-02-21T22:32:22.034539Z",
     "shell.execute_reply": "2022-02-21T22:32:22.035001Z",
     "shell.execute_reply.started": "2022-02-21T22:29:28.231855Z"
    },
    "papermill": {
     "duration": 0.085498,
     "end_time": "2022-02-21T22:32:22.035202",
     "exception": false,
     "start_time": "2022-02-21T22:32:21.949704",
     "status": "completed"
    },
    "tags": []
   },
   "outputs": [],
   "source": [
    "def iterative_impute(train_df, test_df, model, ct, target, feat_names, seed):\n",
    "    \"\"\"Iteratively impute missing values with a desired model\"\"\"\n",
    "    train_imp = ct.fit_transform(train_df.drop(columns=[target]))\n",
    "    test_imp = ct.transform(test_df)\n",
    "\n",
    "    imputer = IterativeImputer(estimator=model, random_state=seed)\n",
    "\n",
    "    # TODO: fix feat_names with appropriate sklearn method\n",
    "    cols = (\n",
    "        ct.named_transformers_[\"onehotencoder\"].get_feature_names().tolist()\n",
    "        + feat_names\n",
    "    )\n",
    "\n",
    "    train_imp = pd.DataFrame(imputer.fit_transform(train_imp), columns=cols)\n",
    "    test_imp = pd.DataFrame(imputer.transform(test_imp), columns=cols)\n",
    "\n",
    "    return train_imp, test_imp"
   ]
  },
  {
   "cell_type": "code",
   "execution_count": 21,
   "id": "26e0b8f3",
   "metadata": {
    "execution": {
     "iopub.execute_input": "2022-02-21T22:32:22.191057Z",
     "iopub.status.busy": "2022-02-21T22:32:22.190030Z",
     "iopub.status.idle": "2022-02-21T22:32:22.195160Z",
     "shell.execute_reply": "2022-02-21T22:32:22.195636Z",
     "shell.execute_reply.started": "2022-02-21T22:29:28.243860Z"
    },
    "papermill": {
     "duration": 0.084451,
     "end_time": "2022-02-21T22:32:22.195831",
     "exception": false,
     "start_time": "2022-02-21T22:32:22.111380",
     "status": "completed"
    },
    "tags": []
   },
   "outputs": [],
   "source": [
    "def replace_columns(df, df_imp, columns):\n",
    "    \"\"\"Replace columns in one dataframe with columns from another\"\"\"\n",
    "    df_replaced = df.copy()\n",
    "\n",
    "    for col in columns:\n",
    "        df_replaced[col] = df_imp[col]\n",
    "\n",
    "    return df_replaced"
   ]
  },
  {
   "cell_type": "code",
   "execution_count": 22,
   "id": "bcd483db",
   "metadata": {
    "execution": {
     "iopub.execute_input": "2022-02-21T22:32:22.361387Z",
     "iopub.status.busy": "2022-02-21T22:32:22.360561Z",
     "iopub.status.idle": "2022-02-21T22:32:22.362382Z",
     "shell.execute_reply": "2022-02-21T22:32:22.362981Z",
     "shell.execute_reply.started": "2022-02-21T22:29:28.255511Z"
    },
    "papermill": {
     "duration": 0.091268,
     "end_time": "2022-02-21T22:32:22.363262",
     "exception": false,
     "start_time": "2022-02-21T22:32:22.271994",
     "status": "completed"
    },
    "tags": []
   },
   "outputs": [],
   "source": [
    "def impute_and_replace(\n",
    "    train_dfs, test_dfs, model, ct, target, feat_names, replace, seed\n",
    "):\n",
    "    \"\"\"Iterative impute and replace values for multiple dataframes\"\"\"\n",
    "    train_dfs_imp = {}\n",
    "    test_dfs_imp = {}\n",
    "\n",
    "    # iterative imputation\n",
    "    for (name1, train_df), (name2, test_df) in zip(train_dfs.items(), test_dfs.items()):\n",
    "        assert name1 == name2\n",
    "        train_imp, test_imp = iterative_impute(\n",
    "            train_df, test_df, model, ct, target, feat_names, seed\n",
    "        )\n",
    "        train_dfs_imp[name1] = train_imp\n",
    "        test_dfs_imp[name1] = test_imp\n",
    "\n",
    "    # replace train columns with missing values\n",
    "    for (name1, df), (name2, imp_df) in zip(train_dfs.items(), train_dfs_imp.items()):\n",
    "        assert name1 == name2\n",
    "        train_dfs[name1] = replace_columns(df, imp_df, replace)\n",
    "\n",
    "    # replace test columns with missing values\n",
    "    for (name1, df), (name2, imp_df) in zip(test_dfs.items(), test_dfs_imp.items()):\n",
    "        assert name1 == name2\n",
    "        test_dfs[name1] = replace_columns(df, imp_df, replace)\n",
    "\n",
    "    return train_dfs, test_dfs"
   ]
  },
  {
   "cell_type": "code",
   "execution_count": 23,
   "id": "e17dd3e8",
   "metadata": {
    "execution": {
     "iopub.execute_input": "2022-02-21T22:32:22.523286Z",
     "iopub.status.busy": "2022-02-21T22:32:22.522526Z",
     "iopub.status.idle": "2022-02-21T22:32:22.532019Z",
     "shell.execute_reply": "2022-02-21T22:32:22.531469Z",
     "shell.execute_reply.started": "2022-02-21T22:29:28.269428Z"
    },
    "papermill": {
     "duration": 0.092721,
     "end_time": "2022-02-21T22:32:22.532205",
     "exception": false,
     "start_time": "2022-02-21T22:32:22.439484",
     "status": "completed"
    },
    "tags": []
   },
   "outputs": [],
   "source": [
    "cat_imp = [\n",
    "    'Year_Factor', 'State_Factor', 'building_class', 'facility_type'\n",
    "]\n",
    "\n",
    "num_imp = [\n",
    "    'floor_area', 'year_built', 'energy_star_rating', 'ELEVATION',\n",
    "    'cooling_degree_days', 'heating_degree_days', 'precipitation_inches',\n",
    "    'snowfall_inches', 'snowdepth_inches', 'avg_temp'\n",
    "]\n",
    "\n",
    "drop_imp = [\n",
    "    'january_min_temp', 'january_avg_temp', 'january_max_temp',\n",
    "    'february_min_temp', 'february_avg_temp', 'february_max_temp',\n",
    "    'march_min_temp', 'march_avg_temp', 'march_max_temp', 'april_min_temp',\n",
    "    'april_avg_temp', 'april_max_temp', 'may_min_temp', 'may_avg_temp',\n",
    "    'may_max_temp', 'june_min_temp', 'june_avg_temp', 'june_max_temp',\n",
    "    'july_min_temp', 'july_avg_temp', 'july_max_temp', 'august_min_temp',\n",
    "    'august_avg_temp', 'august_max_temp', 'september_min_temp',\n",
    "    'september_avg_temp', 'september_max_temp', 'october_min_temp',\n",
    "    'october_avg_temp', 'october_max_temp', 'november_min_temp',\n",
    "    'november_avg_temp', 'november_max_temp', 'december_min_temp',\n",
    "    'december_avg_temp', 'december_max_temp', 'days_below_30F', 'days_below_20F',\n",
    "    'days_below_10F', 'days_below_0F', 'days_above_80F', 'days_above_90F',\n",
    "    'days_above_100F', 'days_above_110F', 'direction_max_wind_speed',\n",
    "    'direction_peak_wind_speed', 'max_wind_speed', 'days_with_fog',\n",
    "    'id'\n",
    "]"
   ]
  },
  {
   "cell_type": "code",
   "execution_count": 24,
   "id": "bb4b8f0a",
   "metadata": {
    "execution": {
     "iopub.execute_input": "2022-02-21T22:32:22.691480Z",
     "iopub.status.busy": "2022-02-21T22:32:22.690725Z",
     "iopub.status.idle": "2022-02-21T22:32:22.695595Z",
     "shell.execute_reply": "2022-02-21T22:32:22.696146Z",
     "shell.execute_reply.started": "2022-02-21T22:29:28.286492Z"
    },
    "papermill": {
     "duration": 0.086194,
     "end_time": "2022-02-21T22:32:22.696351",
     "exception": false,
     "start_time": "2022-02-21T22:32:22.610157",
     "status": "completed"
    },
    "tags": []
   },
   "outputs": [],
   "source": [
    "ct_imp = make_column_transformer(\n",
    "    (OneHotEncoder(handle_unknown=\"ignore\", sparse=False), cat_imp),\n",
    "    (\"passthrough\", num_imp),\n",
    "    (\"drop\", drop_imp)\n",
    ")\n",
    "\n",
    "# change to better model later\n",
    "model = Ridge()\n",
    "replace = [\"energy_star_rating\", \"year_built\"]"
   ]
  },
  {
   "cell_type": "code",
   "execution_count": 25,
   "id": "ddc0f7ed",
   "metadata": {
    "execution": {
     "iopub.execute_input": "2022-02-21T22:32:22.853467Z",
     "iopub.status.busy": "2022-02-21T22:32:22.852749Z",
     "iopub.status.idle": "2022-02-21T22:32:28.777613Z",
     "shell.execute_reply": "2022-02-21T22:32:28.776442Z",
     "shell.execute_reply.started": "2022-02-21T22:29:28.304710Z"
    },
    "papermill": {
     "duration": 6.004012,
     "end_time": "2022-02-21T22:32:28.777862",
     "exception": false,
     "start_time": "2022-02-21T22:32:22.773850",
     "status": "completed"
    },
    "tags": []
   },
   "outputs": [],
   "source": [
    "train_dfs, test_dfs = impute_and_replace(\n",
    "    train_dfs, test_dfs, model, ct_imp, TARGET, num_imp, replace, SEED\n",
    ")"
   ]
  },
  {
   "cell_type": "code",
   "execution_count": 26,
   "id": "4270085f",
   "metadata": {
    "execution": {
     "iopub.execute_input": "2022-02-21T22:32:28.962385Z",
     "iopub.status.busy": "2022-02-21T22:32:28.961676Z",
     "iopub.status.idle": "2022-02-21T22:32:28.963506Z",
     "shell.execute_reply": "2022-02-21T22:32:28.964074Z",
     "shell.execute_reply.started": "2022-02-21T22:29:34.447511Z"
    },
    "papermill": {
     "duration": 0.086302,
     "end_time": "2022-02-21T22:32:28.964276",
     "exception": false,
     "start_time": "2022-02-21T22:32:28.877974",
     "status": "completed"
    },
    "tags": []
   },
   "outputs": [],
   "source": [
    "# count_missing(train_dfs[\"residential\"])\n",
    "# count_missing(test_dfs[\"residential\"])\n",
    "# count_missing(train_dfs[\"commercial\"])\n",
    "# count_missing(test_dfs[\"commercial\"])"
   ]
  },
  {
   "cell_type": "markdown",
   "id": "e9c4a77a",
   "metadata": {
    "papermill": {
     "duration": 0.075765,
     "end_time": "2022-02-21T22:32:29.118526",
     "exception": false,
     "start_time": "2022-02-21T22:32:29.042761",
     "status": "completed"
    },
    "tags": []
   },
   "source": [
    "# Feature Engineering"
   ]
  },
  {
   "cell_type": "markdown",
   "id": "35c73e16",
   "metadata": {
    "papermill": {
     "duration": 0.076099,
     "end_time": "2022-02-21T22:32:29.270423",
     "exception": false,
     "start_time": "2022-02-21T22:32:29.194324",
     "status": "completed"
    },
    "tags": []
   },
   "source": [
    "## New Features: Entire Dataset"
   ]
  },
  {
   "cell_type": "code",
   "execution_count": 27,
   "id": "03d58c59",
   "metadata": {
    "execution": {
     "iopub.execute_input": "2022-02-21T22:32:29.429981Z",
     "iopub.status.busy": "2022-02-21T22:32:29.429277Z",
     "iopub.status.idle": "2022-02-21T22:32:29.433185Z",
     "shell.execute_reply": "2022-02-21T22:32:29.433825Z",
     "shell.execute_reply.started": "2022-02-21T22:29:34.461194Z"
    },
    "papermill": {
     "duration": 0.086793,
     "end_time": "2022-02-21T22:32:29.434041",
     "exception": false,
     "start_time": "2022-02-21T22:32:29.347248",
     "status": "completed"
    },
    "tags": []
   },
   "outputs": [],
   "source": [
    "def has_feature(df, feat):\n",
    "    \"\"\"Adds a boolean feature if a feature exists or now\"\"\"\n",
    "    return df[feat].notna().astype(int)"
   ]
  },
  {
   "cell_type": "code",
   "execution_count": 28,
   "id": "de7460b6",
   "metadata": {
    "execution": {
     "iopub.execute_input": "2022-02-21T22:32:29.591218Z",
     "iopub.status.busy": "2022-02-21T22:32:29.590485Z",
     "iopub.status.idle": "2022-02-21T22:32:29.596110Z",
     "shell.execute_reply": "2022-02-21T22:32:29.596696Z",
     "shell.execute_reply.started": "2022-02-21T22:29:34.481927Z"
    },
    "papermill": {
     "duration": 0.085678,
     "end_time": "2022-02-21T22:32:29.596899",
     "exception": false,
     "start_time": "2022-02-21T22:32:29.511221",
     "status": "completed"
    },
    "tags": []
   },
   "outputs": [],
   "source": [
    "def feature_engineer(train_df, test_df):\n",
    "    \"\"\"Feature engineer the wids 2022 dataset\"\"\"\n",
    "    train_df_eng = train_df.copy()\n",
    "    test_df_eng = test_df.copy()\n",
    "    \n",
    "    # whether or not a building has a fog detector\n",
    "    train_df_eng[\"has_fog_detector\"] = has_feature(train_df_eng, \"days_with_fog\")\n",
    "    test_df_eng[\"has_fog_detector\"] = has_feature(test_df_eng, \"days_with_fog\")\n",
    "    \n",
    "    # whether or not a building has a wind detector\n",
    "    train_df_eng[\"has_wind_detector\"] = has_feature(train_df_eng, \"max_wind_speed\")\n",
    "    test_df_eng[\"has_wind_detector\"] = has_feature(test_df_eng, \"max_wind_speed\")\n",
    "    \n",
    "    return train_df_eng, test_df_eng"
   ]
  },
  {
   "cell_type": "code",
   "execution_count": 29,
   "id": "abee9543",
   "metadata": {
    "execution": {
     "iopub.execute_input": "2022-02-21T22:32:29.754265Z",
     "iopub.status.busy": "2022-02-21T22:32:29.753560Z",
     "iopub.status.idle": "2022-02-21T22:32:29.759938Z",
     "shell.execute_reply": "2022-02-21T22:32:29.759406Z",
     "shell.execute_reply.started": "2022-02-21T22:29:34.505046Z"
    },
    "papermill": {
     "duration": 0.086014,
     "end_time": "2022-02-21T22:32:29.760103",
     "exception": false,
     "start_time": "2022-02-21T22:32:29.674089",
     "status": "completed"
    },
    "tags": []
   },
   "outputs": [],
   "source": [
    "def feature_engineer_multiple(train_dfs, test_dfs):\n",
    "    \"\"\"Feature engineer multiple dataframes at once\"\"\"\n",
    "    train_dfs_eng = {}\n",
    "    test_dfs_eng = {}\n",
    "\n",
    "    for (name1, train_df), (name2, test_df) in zip(train_dfs.items(), test_dfs.items()):\n",
    "        assert name1 == name2\n",
    "        train_dfs_eng[name1], test_dfs_eng[name2] = feature_engineer(train_df, test_df)\n",
    "\n",
    "    return train_dfs_eng, test_dfs_eng"
   ]
  },
  {
   "cell_type": "code",
   "execution_count": 30,
   "id": "3403361e",
   "metadata": {
    "execution": {
     "iopub.execute_input": "2022-02-21T22:32:29.922698Z",
     "iopub.status.busy": "2022-02-21T22:32:29.921949Z",
     "iopub.status.idle": "2022-02-21T22:32:29.952536Z",
     "shell.execute_reply": "2022-02-21T22:32:29.953079Z",
     "shell.execute_reply.started": "2022-02-21T22:29:34.518978Z"
    },
    "papermill": {
     "duration": 0.112769,
     "end_time": "2022-02-21T22:32:29.953317",
     "exception": false,
     "start_time": "2022-02-21T22:32:29.840548",
     "status": "completed"
    },
    "tags": []
   },
   "outputs": [],
   "source": [
    "train_dfs_eng, test_dfs_eng = feature_engineer_multiple(train_dfs, test_dfs)"
   ]
  },
  {
   "cell_type": "markdown",
   "id": "ade226a0",
   "metadata": {
    "papermill": {
     "duration": 0.076276,
     "end_time": "2022-02-21T22:32:30.107906",
     "exception": false,
     "start_time": "2022-02-21T22:32:30.031630",
     "status": "completed"
    },
    "tags": []
   },
   "source": [
    "## Cluster buildings"
   ]
  },
  {
   "cell_type": "code",
   "execution_count": 31,
   "id": "9894f862",
   "metadata": {
    "execution": {
     "iopub.execute_input": "2022-02-21T22:32:30.267402Z",
     "iopub.status.busy": "2022-02-21T22:32:30.266336Z",
     "iopub.status.idle": "2022-02-21T22:32:30.269497Z",
     "shell.execute_reply": "2022-02-21T22:32:30.268942Z",
     "shell.execute_reply.started": "2022-02-21T22:29:34.570064Z"
    },
    "papermill": {
     "duration": 0.085156,
     "end_time": "2022-02-21T22:32:30.269670",
     "exception": false,
     "start_time": "2022-02-21T22:32:30.184514",
     "status": "completed"
    },
    "tags": []
   },
   "outputs": [],
   "source": [
    "# def plot_elbow_curve(X, model, k):\n",
    "#     visualizer = KElbowVisualizer(model, k=k)\n",
    "#     visualizer.fit(X)\n",
    "#     visualizer.show()\n",
    "#     return visualizer"
   ]
  },
  {
   "cell_type": "code",
   "execution_count": 32,
   "id": "fc64a74e",
   "metadata": {
    "execution": {
     "iopub.execute_input": "2022-02-21T22:32:30.429639Z",
     "iopub.status.busy": "2022-02-21T22:32:30.428928Z",
     "iopub.status.idle": "2022-02-21T22:32:30.431584Z",
     "shell.execute_reply": "2022-02-21T22:32:30.430997Z",
     "shell.execute_reply.started": "2022-02-21T22:29:34.577361Z"
    },
    "papermill": {
     "duration": 0.085432,
     "end_time": "2022-02-21T22:32:30.431755",
     "exception": false,
     "start_time": "2022-02-21T22:32:30.346323",
     "status": "completed"
    },
    "tags": []
   },
   "outputs": [],
   "source": [
    "# def plot_silhouette(X, model):\n",
    "#     visualizer = SilhouetteVisualizer(model, colors=\"yellowbrick\")\n",
    "#     visualizer.fit(X)\n",
    "#     visualizer.show()\n",
    "#     return visualizer"
   ]
  },
  {
   "cell_type": "code",
   "execution_count": 33,
   "id": "e37ae598",
   "metadata": {
    "execution": {
     "iopub.execute_input": "2022-02-21T22:32:30.588974Z",
     "iopub.status.busy": "2022-02-21T22:32:30.588275Z",
     "iopub.status.idle": "2022-02-21T22:32:30.593213Z",
     "shell.execute_reply": "2022-02-21T22:32:30.592603Z",
     "shell.execute_reply.started": "2022-02-21T22:29:34.587724Z"
    },
    "papermill": {
     "duration": 0.084493,
     "end_time": "2022-02-21T22:32:30.593367",
     "exception": false,
     "start_time": "2022-02-21T22:32:30.508874",
     "status": "completed"
    },
    "tags": []
   },
   "outputs": [],
   "source": [
    "# def add_cluster_labels(model, ct, train_df, test_df, target):\n",
    "#     \"\"\"Adds cluster labels as a feature\"\"\"\n",
    "#     train_df_cluster = train_df.copy()\n",
    "#     test_df_cluster = test_df.copy()\n",
    "\n",
    "#     X_cluster = ct.fit_transform(train_df.drop(columns=[target]))\n",
    "#     test_cluster = ct.transform(test_df)\n",
    "\n",
    "#     model.fit(X_cluster)\n",
    "\n",
    "#     train_df_cluster[\"cluster_label\"] = model.labels_\n",
    "#     test_df_cluster[\"cluster_label\"] = model.predict(test_cluster)\n",
    "\n",
    "#     return train_df_cluster, test_df_cluster"
   ]
  },
  {
   "cell_type": "code",
   "execution_count": 34,
   "id": "3e528198",
   "metadata": {
    "execution": {
     "iopub.execute_input": "2022-02-21T22:32:30.748705Z",
     "iopub.status.busy": "2022-02-21T22:32:30.748006Z",
     "iopub.status.idle": "2022-02-21T22:32:30.752476Z",
     "shell.execute_reply": "2022-02-21T22:32:30.752966Z",
     "shell.execute_reply.started": "2022-02-21T22:29:34.602183Z"
    },
    "papermill": {
     "duration": 0.084105,
     "end_time": "2022-02-21T22:32:30.753140",
     "exception": false,
     "start_time": "2022-02-21T22:32:30.669035",
     "status": "completed"
    },
    "tags": []
   },
   "outputs": [],
   "source": [
    "# cat_cluster = [\n",
    "#     'building_class', 'facility_type'\n",
    "# ]\n",
    "\n",
    "# num_cluster = [\n",
    "#     'floor_area', 'year_built', 'energy_star_rating', 'ELEVATION',\n",
    "#     'cooling_degree_days', 'heating_degree_days', 'precipitation_inches',\n",
    "#     'snowfall_inches', 'snowdepth_inches', 'avg_temp'\n",
    "# ]\n",
    "\n",
    "# passthrough_cluster = [\n",
    "#     'has_fog_detector', 'has_wind_detector'\n",
    "# ]\n",
    "\n",
    "# drop_cluster = [\n",
    "#     'Year_Factor', 'State_Factor', 'january_min_temp', 'january_avg_temp', 'january_max_temp',\n",
    "#     'february_min_temp', 'february_avg_temp', 'february_max_temp',\n",
    "#     'march_min_temp', 'march_avg_temp', 'march_max_temp', 'april_min_temp',\n",
    "#     'april_avg_temp', 'april_max_temp', 'may_min_temp', 'may_avg_temp',\n",
    "#     'may_max_temp', 'june_min_temp', 'june_avg_temp', 'june_max_temp',\n",
    "#     'july_min_temp', 'july_avg_temp', 'july_max_temp', 'august_min_temp',\n",
    "#     'august_avg_temp', 'august_max_temp', 'september_min_temp',\n",
    "#     'september_avg_temp', 'september_max_temp', 'october_min_temp',\n",
    "#     'october_avg_temp', 'october_max_temp', 'november_min_temp',\n",
    "#     'november_avg_temp', 'november_max_temp', 'december_min_temp',\n",
    "#     'december_avg_temp', 'december_max_temp', 'days_below_30F', 'days_below_20F',\n",
    "#     'days_below_10F', 'days_below_0F', 'days_above_80F', 'days_above_90F',\n",
    "#     'days_above_100F', 'days_above_110F', 'direction_max_wind_speed',\n",
    "#     'direction_peak_wind_speed', 'max_wind_speed', 'days_with_fog',\n",
    "#     'id'\n",
    "# ]"
   ]
  },
  {
   "cell_type": "code",
   "execution_count": 35,
   "id": "f5b9c834",
   "metadata": {
    "execution": {
     "iopub.execute_input": "2022-02-21T22:32:30.909498Z",
     "iopub.status.busy": "2022-02-21T22:32:30.908812Z",
     "iopub.status.idle": "2022-02-21T22:32:30.913715Z",
     "shell.execute_reply": "2022-02-21T22:32:30.913049Z",
     "shell.execute_reply.started": "2022-02-21T22:29:34.615494Z"
    },
    "papermill": {
     "duration": 0.083922,
     "end_time": "2022-02-21T22:32:30.913859",
     "exception": false,
     "start_time": "2022-02-21T22:32:30.829937",
     "status": "completed"
    },
    "tags": []
   },
   "outputs": [],
   "source": [
    "# ct_cluster = make_column_transformer(\n",
    "#     (OneHotEncoder(handle_unknown=\"ignore\"), cat_cluster),\n",
    "#     (StandardScaler(), num_cluster),\n",
    "#     (\"passthrough\", passthrough_cluster),\n",
    "#     (\"drop\", drop_cluster)\n",
    "# )"
   ]
  },
  {
   "cell_type": "code",
   "execution_count": 36,
   "id": "d0f78eac",
   "metadata": {
    "execution": {
     "iopub.execute_input": "2022-02-21T22:32:31.069496Z",
     "iopub.status.busy": "2022-02-21T22:32:31.068857Z",
     "iopub.status.idle": "2022-02-21T22:32:31.073198Z",
     "shell.execute_reply": "2022-02-21T22:32:31.073696Z",
     "shell.execute_reply.started": "2022-02-21T22:29:34.631525Z"
    },
    "papermill": {
     "duration": 0.084333,
     "end_time": "2022-02-21T22:32:31.073867",
     "exception": false,
     "start_time": "2022-02-21T22:32:30.989534",
     "status": "completed"
    },
    "tags": []
   },
   "outputs": [],
   "source": [
    "# X_cluster = ct_cluster.fit_transform(train_df_eng.drop(columns=[TARGET]))"
   ]
  },
  {
   "cell_type": "code",
   "execution_count": 37,
   "id": "b8c4aead",
   "metadata": {
    "execution": {
     "iopub.execute_input": "2022-02-21T22:32:31.229992Z",
     "iopub.status.busy": "2022-02-21T22:32:31.229344Z",
     "iopub.status.idle": "2022-02-21T22:32:31.232491Z",
     "shell.execute_reply": "2022-02-21T22:32:31.232987Z",
     "shell.execute_reply.started": "2022-02-21T22:29:34.643772Z"
    },
    "papermill": {
     "duration": 0.083187,
     "end_time": "2022-02-21T22:32:31.233190",
     "exception": false,
     "start_time": "2022-02-21T22:32:31.150003",
     "status": "completed"
    },
    "tags": []
   },
   "outputs": [],
   "source": [
    "# k = (5, 20)\n",
    "# model = KMeans()\n",
    "# visualizer_elbow = plot_elbow_curve(X_cluster, model, k)"
   ]
  },
  {
   "cell_type": "code",
   "execution_count": 38,
   "id": "9b8e8596",
   "metadata": {
    "execution": {
     "iopub.execute_input": "2022-02-21T22:32:31.389608Z",
     "iopub.status.busy": "2022-02-21T22:32:31.388922Z",
     "iopub.status.idle": "2022-02-21T22:32:31.392020Z",
     "shell.execute_reply": "2022-02-21T22:32:31.391542Z",
     "shell.execute_reply.started": "2022-02-21T22:29:34.654184Z"
    },
    "papermill": {
     "duration": 0.083646,
     "end_time": "2022-02-21T22:32:31.392188",
     "exception": false,
     "start_time": "2022-02-21T22:32:31.308542",
     "status": "completed"
    },
    "tags": []
   },
   "outputs": [],
   "source": [
    "# kmeans = KMeans(n_clusters=11, random_state=42)"
   ]
  },
  {
   "cell_type": "code",
   "execution_count": 39,
   "id": "f6daae26",
   "metadata": {
    "execution": {
     "iopub.execute_input": "2022-02-21T22:32:31.547600Z",
     "iopub.status.busy": "2022-02-21T22:32:31.546950Z",
     "iopub.status.idle": "2022-02-21T22:32:31.550357Z",
     "shell.execute_reply": "2022-02-21T22:32:31.550928Z",
     "shell.execute_reply.started": "2022-02-21T22:29:34.664638Z"
    },
    "papermill": {
     "duration": 0.082429,
     "end_time": "2022-02-21T22:32:31.551109",
     "exception": false,
     "start_time": "2022-02-21T22:32:31.468680",
     "status": "completed"
    },
    "tags": []
   },
   "outputs": [],
   "source": [
    "# plot_silhouette(X_cluster, kmeans)"
   ]
  },
  {
   "cell_type": "code",
   "execution_count": 40,
   "id": "d6b63165",
   "metadata": {
    "execution": {
     "iopub.execute_input": "2022-02-21T22:32:31.705699Z",
     "iopub.status.busy": "2022-02-21T22:32:31.705016Z",
     "iopub.status.idle": "2022-02-21T22:32:31.707954Z",
     "shell.execute_reply": "2022-02-21T22:32:31.708590Z",
     "shell.execute_reply.started": "2022-02-21T22:29:34.679732Z"
    },
    "papermill": {
     "duration": 0.082225,
     "end_time": "2022-02-21T22:32:31.708761",
     "exception": false,
     "start_time": "2022-02-21T22:32:31.626536",
     "status": "completed"
    },
    "tags": []
   },
   "outputs": [],
   "source": [
    "# train_df_eng, test_df_eng = add_cluster_labels(\n",
    "#     kmeans,\n",
    "#     ct_cluster,\n",
    "#     train_df_eng,\n",
    "#     test_df_eng,\n",
    "#     TARGET\n",
    "# )"
   ]
  },
  {
   "cell_type": "markdown",
   "id": "9f937a47",
   "metadata": {
    "papermill": {
     "duration": 0.075132,
     "end_time": "2022-02-21T22:32:31.860145",
     "exception": false,
     "start_time": "2022-02-21T22:32:31.785013",
     "status": "completed"
    },
    "tags": []
   },
   "source": [
    "# Modelling"
   ]
  },
  {
   "cell_type": "markdown",
   "id": "fdc99037",
   "metadata": {
    "papermill": {
     "duration": 0.075921,
     "end_time": "2022-02-21T22:32:32.012929",
     "exception": false,
     "start_time": "2022-02-21T22:32:31.937008",
     "status": "completed"
    },
    "tags": []
   },
   "source": [
    "## Create `X` and `y` datasets"
   ]
  },
  {
   "cell_type": "code",
   "execution_count": 41,
   "id": "b7281e39",
   "metadata": {
    "execution": {
     "iopub.execute_input": "2022-02-21T22:32:32.173187Z",
     "iopub.status.busy": "2022-02-21T22:32:32.170268Z",
     "iopub.status.idle": "2022-02-21T22:32:32.175857Z",
     "shell.execute_reply": "2022-02-21T22:32:32.176480Z",
     "shell.execute_reply.started": "2022-02-21T22:29:34.686195Z"
    },
    "papermill": {
     "duration": 0.08778,
     "end_time": "2022-02-21T22:32:32.176665",
     "exception": false,
     "start_time": "2022-02-21T22:32:32.088885",
     "status": "completed"
    },
    "tags": []
   },
   "outputs": [
    {
     "data": {
      "text/plain": [
       "dict_keys(['multifamily', 'residential', 'commercial', 'office', 'warehouse'])"
      ]
     },
     "execution_count": 41,
     "metadata": {},
     "output_type": "execute_result"
    }
   ],
   "source": [
    "train_dfs_eng.keys()"
   ]
  },
  {
   "cell_type": "code",
   "execution_count": 42,
   "id": "fc2d070d",
   "metadata": {
    "execution": {
     "iopub.execute_input": "2022-02-21T22:32:32.335705Z",
     "iopub.status.busy": "2022-02-21T22:32:32.335013Z",
     "iopub.status.idle": "2022-02-21T22:32:32.338956Z",
     "shell.execute_reply": "2022-02-21T22:32:32.339527Z",
     "shell.execute_reply.started": "2022-02-21T22:29:34.703053Z"
    },
    "papermill": {
     "duration": 0.086815,
     "end_time": "2022-02-21T22:32:32.339717",
     "exception": false,
     "start_time": "2022-02-21T22:32:32.252902",
     "status": "completed"
    },
    "tags": []
   },
   "outputs": [
    {
     "data": {
      "text/plain": [
       "dict_keys(['multifamily', 'residential', 'commercial', 'office', 'warehouse'])"
      ]
     },
     "execution_count": 42,
     "metadata": {},
     "output_type": "execute_result"
    }
   ],
   "source": [
    "test_dfs_eng.keys()"
   ]
  },
  {
   "cell_type": "code",
   "execution_count": 43,
   "id": "88d2fc8d",
   "metadata": {
    "execution": {
     "iopub.execute_input": "2022-02-21T22:32:32.523646Z",
     "iopub.status.busy": "2022-02-21T22:32:32.522835Z",
     "iopub.status.idle": "2022-02-21T22:32:32.525965Z",
     "shell.execute_reply": "2022-02-21T22:32:32.525321Z",
     "shell.execute_reply.started": "2022-02-21T22:29:34.712513Z"
    },
    "papermill": {
     "duration": 0.106834,
     "end_time": "2022-02-21T22:32:32.526150",
     "exception": false,
     "start_time": "2022-02-21T22:32:32.419316",
     "status": "completed"
    },
    "tags": []
   },
   "outputs": [],
   "source": [
    "def create_X_y(dfs, target, group_col=None):\n",
    "    \"\"\"Separates train dfs into X and y datasets (and optionally, groups)\"\"\"\n",
    "    X_dfs = {}\n",
    "    y_dfs = {}\n",
    "    groups = {}\n",
    "\n",
    "    for name, df in dfs.items():\n",
    "        X_dfs[name] = df.drop(columns=target)\n",
    "        y_dfs[name] = df[target]\n",
    "        \n",
    "        if group_col is not None:\n",
    "            groups[name] = df[group_col]\n",
    "    \n",
    "    if group_col is not None:\n",
    "        return X_dfs, y_dfs, groups\n",
    "    else:\n",
    "        return X_dfs, y_dfs"
   ]
  },
  {
   "cell_type": "code",
   "execution_count": 44,
   "id": "9625b6d9",
   "metadata": {
    "execution": {
     "iopub.execute_input": "2022-02-21T22:32:32.686058Z",
     "iopub.status.busy": "2022-02-21T22:32:32.685379Z",
     "iopub.status.idle": "2022-02-21T22:32:32.718221Z",
     "shell.execute_reply": "2022-02-21T22:32:32.717539Z",
     "shell.execute_reply.started": "2022-02-21T22:29:34.723156Z"
    },
    "papermill": {
     "duration": 0.11467,
     "end_time": "2022-02-21T22:32:32.718425",
     "exception": false,
     "start_time": "2022-02-21T22:32:32.603755",
     "status": "completed"
    },
    "tags": []
   },
   "outputs": [],
   "source": [
    "X_trains, y_trains, groups = create_X_y(train_dfs_eng, TARGET, \"Year_Factor\")\n",
    "X_tests = test_dfs_eng.copy()"
   ]
  },
  {
   "cell_type": "markdown",
   "id": "e3e1447d",
   "metadata": {
    "papermill": {
     "duration": 0.085201,
     "end_time": "2022-02-21T22:32:32.897602",
     "exception": false,
     "start_time": "2022-02-21T22:32:32.812401",
     "status": "completed"
    },
    "tags": []
   },
   "source": [
    "## Column transformer"
   ]
  },
  {
   "cell_type": "code",
   "execution_count": 45,
   "id": "baaf2c6c",
   "metadata": {
    "execution": {
     "iopub.execute_input": "2022-02-21T22:32:33.063024Z",
     "iopub.status.busy": "2022-02-21T22:32:33.057397Z",
     "iopub.status.idle": "2022-02-21T22:32:33.065089Z",
     "shell.execute_reply": "2022-02-21T22:32:33.065656Z",
     "shell.execute_reply.started": "2022-02-21T22:29:34.774973Z"
    },
    "papermill": {
     "duration": 0.090149,
     "end_time": "2022-02-21T22:32:33.065863",
     "exception": false,
     "start_time": "2022-02-21T22:32:32.975714",
     "status": "completed"
    },
    "tags": []
   },
   "outputs": [],
   "source": [
    "cat = [\n",
    "    'State_Factor', 'building_class', 'facility_type'\n",
    "]\n",
    "\n",
    "num = [\n",
    "    'floor_area', 'year_built', 'energy_star_rating', 'ELEVATION',\n",
    "    'cooling_degree_days', 'heating_degree_days', 'precipitation_inches',\n",
    "    'snowfall_inches', 'snowdepth_inches', 'avg_temp'\n",
    "]\n",
    "\n",
    "passthrough = [\n",
    "    'has_fog_detector', 'has_wind_detector'\n",
    "]\n",
    "\n",
    "drop = [\n",
    "    'Year_Factor', 'january_min_temp', 'january_avg_temp', 'january_max_temp',\n",
    "    'february_min_temp', 'february_avg_temp', 'february_max_temp',\n",
    "    'march_min_temp', 'march_avg_temp', 'march_max_temp', 'april_min_temp',\n",
    "    'april_avg_temp', 'april_max_temp', 'may_min_temp', 'may_avg_temp',\n",
    "    'may_max_temp', 'june_min_temp', 'june_avg_temp', 'june_max_temp',\n",
    "    'july_min_temp', 'july_avg_temp', 'july_max_temp', 'august_min_temp',\n",
    "    'august_avg_temp', 'august_max_temp', 'september_min_temp',\n",
    "    'september_avg_temp', 'september_max_temp', 'october_min_temp',\n",
    "    'october_avg_temp', 'october_max_temp', 'november_min_temp',\n",
    "    'november_avg_temp', 'november_max_temp', 'december_min_temp',\n",
    "    'december_avg_temp', 'december_max_temp', 'days_below_30F', 'days_below_20F',\n",
    "    'days_below_10F', 'days_below_0F', 'days_above_80F', 'days_above_90F',\n",
    "    'days_above_100F', 'days_above_110F', 'direction_max_wind_speed',\n",
    "    'direction_peak_wind_speed', 'max_wind_speed', 'days_with_fog',\n",
    "    'id', #'cluster_label'\n",
    "]"
   ]
  },
  {
   "cell_type": "code",
   "execution_count": 46,
   "id": "faf3bf89",
   "metadata": {
    "execution": {
     "iopub.execute_input": "2022-02-21T22:32:33.227334Z",
     "iopub.status.busy": "2022-02-21T22:32:33.224682Z",
     "iopub.status.idle": "2022-02-21T22:32:33.230204Z",
     "shell.execute_reply": "2022-02-21T22:32:33.229509Z",
     "shell.execute_reply.started": "2022-02-21T22:29:34.786211Z"
    },
    "papermill": {
     "duration": 0.085524,
     "end_time": "2022-02-21T22:32:33.230374",
     "exception": false,
     "start_time": "2022-02-21T22:32:33.144850",
     "status": "completed"
    },
    "tags": []
   },
   "outputs": [],
   "source": [
    "ct = make_column_transformer(\n",
    "    (OneHotEncoder(handle_unknown=\"ignore\"), cat),\n",
    "    (\"passthrough\", num + passthrough),\n",
    "    (\"drop\", drop)\n",
    ")"
   ]
  },
  {
   "cell_type": "markdown",
   "id": "da4d9bd3",
   "metadata": {
    "papermill": {
     "duration": 0.076746,
     "end_time": "2022-02-21T22:32:33.385385",
     "exception": false,
     "start_time": "2022-02-21T22:32:33.308639",
     "status": "completed"
    },
    "tags": []
   },
   "source": [
    "## Cross validation"
   ]
  },
  {
   "cell_type": "code",
   "execution_count": 47,
   "id": "f597cbda",
   "metadata": {
    "execution": {
     "iopub.execute_input": "2022-02-21T22:32:33.558970Z",
     "iopub.status.busy": "2022-02-21T22:32:33.558183Z",
     "iopub.status.idle": "2022-02-21T22:32:33.561012Z",
     "shell.execute_reply": "2022-02-21T22:32:33.560358Z",
     "shell.execute_reply.started": "2022-02-21T22:29:34.801945Z"
    },
    "papermill": {
     "duration": 0.096643,
     "end_time": "2022-02-21T22:32:33.561192",
     "exception": false,
     "start_time": "2022-02-21T22:32:33.464549",
     "status": "completed"
    },
    "tags": []
   },
   "outputs": [],
   "source": [
    "def logo_cv_lgb(model, X, y, groups, ct, early_stopping_rounds, return_models=True):\n",
    "    \"\"\"Custom cross validation function meant for use with LightGBM Regressor\"\"\"\n",
    "\n",
    "    models = []\n",
    "    results = []\n",
    "    train_scores = []\n",
    "    val_scores = []\n",
    "    fold = 0\n",
    "    logo = LeaveOneGroupOut()\n",
    "\n",
    "    for t, v in logo.split(X, groups=groups):\n",
    "        fold += 1\n",
    "\n",
    "        # to avoid lightgbm not saving new fit model (weird??? might be bug in lgb...)\n",
    "        # might also be bug in my code?  to look into later\n",
    "        current_model = deepcopy(model)\n",
    "\n",
    "        # train and val sets for current fold\n",
    "        X_train, y_train = X.iloc[t], y.iloc[t]\n",
    "        X_val, y_val = X.iloc[v], y.iloc[v]\n",
    "\n",
    "        # year factors for current folds\n",
    "        X_train_yf = np.sort(X_train[\"Year_Factor\"].unique())\n",
    "        X_val_yf = X_val[\"Year_Factor\"].unique()\n",
    "\n",
    "        # transform train and val sets\n",
    "        X_train_tsf = ct.fit_transform(X_train)\n",
    "        X_val_tsf = ct.transform(X_val)\n",
    "\n",
    "        # fit and score model w/ early stopping\n",
    "        current_model.fit(\n",
    "            X_train_tsf,\n",
    "            y_train,\n",
    "            eval_set=[(X_val_tsf, y_val)],\n",
    "            eval_metric=[\"rmse\"],\n",
    "            feature_name=ct.get_feature_names(),\n",
    "            callbacks=[lgb.early_stopping(early_stopping_rounds, verbose=False)],\n",
    "        )\n",
    "\n",
    "        # train/val rmse scores\n",
    "        train_rmse = mean_squared_error(\n",
    "            y_true=y_train, y_pred=current_model.predict(X_train_tsf), squared=False\n",
    "        )\n",
    "        val_rmse = current_model.best_score_[\"valid_0\"][\"rmse\"]\n",
    "\n",
    "        fold_results = {\n",
    "            \"Fold\": fold,\n",
    "            \"Train_shape\": X_train.shape,\n",
    "            \"Val_shape\": X_val.shape,\n",
    "            \"Train_years\": X_train_yf,\n",
    "            \"Val_years\": X_val_yf,\n",
    "            \"Train_RMSE\": train_rmse,\n",
    "            \"Val_RMSE\": val_rmse,\n",
    "            \"RMSE_spread\": train_rmse - val_rmse,\n",
    "        }\n",
    "\n",
    "        results.append(fold_results)\n",
    "        train_scores.append(train_rmse)\n",
    "        val_scores.append(val_rmse)\n",
    "        models.append(current_model)\n",
    "\n",
    "    # mean validation score\n",
    "    results.append(\n",
    "        {\n",
    "            \"Fold\": \"MEAN\",\n",
    "            \"Train_shape\": \"N/A\",\n",
    "            \"Val_shape\": \"N/A\",\n",
    "            \"Train_years\": \"N/A\",\n",
    "            \"Val_years\": \"N/A\",\n",
    "            \"Train_RMSE\": np.mean(train_scores),\n",
    "            \"Val_RMSE\": np.mean(val_scores),\n",
    "            \"RMSE_spread\": np.mean(train_scores) - np.mean(val_scores),\n",
    "        }\n",
    "    )\n",
    "\n",
    "    results = pd.DataFrame(results)\n",
    "\n",
    "    if return_models:\n",
    "        return results, models\n",
    "    else:\n",
    "        return results"
   ]
  },
  {
   "cell_type": "code",
   "execution_count": 48,
   "id": "6e712ac0",
   "metadata": {
    "execution": {
     "iopub.execute_input": "2022-02-21T22:32:33.724832Z",
     "iopub.status.busy": "2022-02-21T22:32:33.724078Z",
     "iopub.status.idle": "2022-02-21T22:32:33.726933Z",
     "shell.execute_reply": "2022-02-21T22:32:33.726390Z",
     "shell.execute_reply.started": "2022-02-21T22:29:34.820310Z"
    },
    "papermill": {
     "duration": 0.087615,
     "end_time": "2022-02-21T22:32:33.727098",
     "exception": false,
     "start_time": "2022-02-21T22:32:33.639483",
     "status": "completed"
    },
    "tags": []
   },
   "outputs": [],
   "source": [
    "def logo_cv_lgb_all(\n",
    "    model, X_trains, y_trains, groups, ct, early_stopping_rounds, return_models=True\n",
    "):\n",
    "    \"\"\"Perform logo cv with LGBM for multiple datasets\"\"\"\n",
    "    results = {}\n",
    "    models = {}\n",
    "\n",
    "    for (n1, X), (n2, y), (n3, group) in zip(\n",
    "        X_trains.items(), y_trains.items(), groups.items()\n",
    "    ):\n",
    "        assert n1 == n2 == n3\n",
    "        results[n1], models[n1] = logo_cv_lgb(\n",
    "            model, X, y, group, ct, early_stopping_rounds, return_models\n",
    "        )\n",
    "\n",
    "    return results, models"
   ]
  },
  {
   "cell_type": "code",
   "execution_count": 49,
   "id": "b650f81b",
   "metadata": {
    "execution": {
     "iopub.execute_input": "2022-02-21T22:32:33.889384Z",
     "iopub.status.busy": "2022-02-21T22:32:33.888247Z",
     "iopub.status.idle": "2022-02-21T22:32:33.890099Z",
     "shell.execute_reply": "2022-02-21T22:32:33.890615Z",
     "shell.execute_reply.started": "2022-02-21T22:29:34.835751Z"
    },
    "papermill": {
     "duration": 0.086905,
     "end_time": "2022-02-21T22:32:33.890832",
     "exception": false,
     "start_time": "2022-02-21T22:32:33.803927",
     "status": "completed"
    },
    "tags": []
   },
   "outputs": [],
   "source": [
    "def process_cv_results(results):\n",
    "    \"\"\"Process cv results for multiple datasets\"\"\"\n",
    "    results_df = pd.DataFrame()\n",
    "\n",
    "    for name, result in results.items():\n",
    "        result.insert(0, \"facility_group\", name)\n",
    "        results_df = pd.concat([results_df, result])\n",
    "\n",
    "    return results_df"
   ]
  },
  {
   "cell_type": "code",
   "execution_count": 50,
   "id": "7423241c",
   "metadata": {
    "execution": {
     "iopub.execute_input": "2022-02-21T22:32:34.053679Z",
     "iopub.status.busy": "2022-02-21T22:32:34.052949Z",
     "iopub.status.idle": "2022-02-21T22:32:41.097765Z",
     "shell.execute_reply": "2022-02-21T22:32:41.098388Z",
     "shell.execute_reply.started": "2022-02-21T22:29:34.851408Z"
    },
    "papermill": {
     "duration": 7.127179,
     "end_time": "2022-02-21T22:32:41.098645",
     "exception": false,
     "start_time": "2022-02-21T22:32:33.971466",
     "status": "completed"
    },
    "tags": []
   },
   "outputs": [],
   "source": [
    "model = lgb.LGBMRegressor(force_row_wise=True)\n",
    "results, models = logo_cv_lgb_all(model, X_trains, y_trains, groups, ct, 5)"
   ]
  },
  {
   "cell_type": "code",
   "execution_count": 51,
   "id": "78bde25e",
   "metadata": {
    "execution": {
     "iopub.execute_input": "2022-02-21T22:32:41.271054Z",
     "iopub.status.busy": "2022-02-21T22:32:41.270110Z",
     "iopub.status.idle": "2022-02-21T22:32:41.338490Z",
     "shell.execute_reply": "2022-02-21T22:32:41.339005Z",
     "shell.execute_reply.started": "2022-02-21T22:29:40.959239Z"
    },
    "papermill": {
     "duration": 0.161449,
     "end_time": "2022-02-21T22:32:41.339249",
     "exception": false,
     "start_time": "2022-02-21T22:32:41.177800",
     "status": "completed"
    },
    "tags": []
   },
   "outputs": [
    {
     "data": {
      "text/html": [
       "<div>\n",
       "<style scoped>\n",
       "    .dataframe tbody tr th:only-of-type {\n",
       "        vertical-align: middle;\n",
       "    }\n",
       "\n",
       "    .dataframe tbody tr th {\n",
       "        vertical-align: top;\n",
       "    }\n",
       "\n",
       "    .dataframe thead th {\n",
       "        text-align: right;\n",
       "    }\n",
       "</style>\n",
       "<table border=\"1\" class=\"dataframe\">\n",
       "  <thead>\n",
       "    <tr style=\"text-align: right;\">\n",
       "      <th></th>\n",
       "      <th>facility_group</th>\n",
       "      <th>Fold</th>\n",
       "      <th>Train_shape</th>\n",
       "      <th>Val_shape</th>\n",
       "      <th>Train_years</th>\n",
       "      <th>Val_years</th>\n",
       "      <th>Train_RMSE</th>\n",
       "      <th>Val_RMSE</th>\n",
       "      <th>RMSE_spread</th>\n",
       "    </tr>\n",
       "  </thead>\n",
       "  <tbody>\n",
       "    <tr>\n",
       "      <th>0</th>\n",
       "      <td>multifamily</td>\n",
       "      <td>1</td>\n",
       "      <td>(39323, 65)</td>\n",
       "      <td>(107, 65)</td>\n",
       "      <td>[2, 3, 4, 5, 6]</td>\n",
       "      <td>[1]</td>\n",
       "      <td>31.424101</td>\n",
       "      <td>37.951848</td>\n",
       "      <td>-6.527747</td>\n",
       "    </tr>\n",
       "    <tr>\n",
       "      <th>1</th>\n",
       "      <td>multifamily</td>\n",
       "      <td>2</td>\n",
       "      <td>(33058, 65)</td>\n",
       "      <td>(6372, 65)</td>\n",
       "      <td>[1, 3, 4, 5, 6]</td>\n",
       "      <td>[2]</td>\n",
       "      <td>35.805168</td>\n",
       "      <td>35.557750</td>\n",
       "      <td>0.247418</td>\n",
       "    </tr>\n",
       "    <tr>\n",
       "      <th>2</th>\n",
       "      <td>multifamily</td>\n",
       "      <td>3</td>\n",
       "      <td>(32774, 65)</td>\n",
       "      <td>(6656, 65)</td>\n",
       "      <td>[1, 2, 4, 5, 6]</td>\n",
       "      <td>[3]</td>\n",
       "      <td>30.474357</td>\n",
       "      <td>45.537829</td>\n",
       "      <td>-15.063472</td>\n",
       "    </tr>\n",
       "    <tr>\n",
       "      <th>3</th>\n",
       "      <td>multifamily</td>\n",
       "      <td>4</td>\n",
       "      <td>(31930, 65)</td>\n",
       "      <td>(7500, 65)</td>\n",
       "      <td>[1, 2, 3, 5, 6]</td>\n",
       "      <td>[4]</td>\n",
       "      <td>30.121021</td>\n",
       "      <td>34.351295</td>\n",
       "      <td>-4.230274</td>\n",
       "    </tr>\n",
       "    <tr>\n",
       "      <th>4</th>\n",
       "      <td>multifamily</td>\n",
       "      <td>5</td>\n",
       "      <td>(30871, 65)</td>\n",
       "      <td>(8559, 65)</td>\n",
       "      <td>[1, 2, 3, 4, 6]</td>\n",
       "      <td>[5]</td>\n",
       "      <td>31.651982</td>\n",
       "      <td>24.252581</td>\n",
       "      <td>7.399401</td>\n",
       "    </tr>\n",
       "    <tr>\n",
       "      <th>5</th>\n",
       "      <td>multifamily</td>\n",
       "      <td>6</td>\n",
       "      <td>(29194, 65)</td>\n",
       "      <td>(10236, 65)</td>\n",
       "      <td>[1, 2, 3, 4, 5]</td>\n",
       "      <td>[6]</td>\n",
       "      <td>33.959790</td>\n",
       "      <td>24.194163</td>\n",
       "      <td>9.765628</td>\n",
       "    </tr>\n",
       "    <tr>\n",
       "      <th>6</th>\n",
       "      <td>multifamily</td>\n",
       "      <td>MEAN</td>\n",
       "      <td>N/A</td>\n",
       "      <td>N/A</td>\n",
       "      <td>N/A</td>\n",
       "      <td>N/A</td>\n",
       "      <td>32.239403</td>\n",
       "      <td>33.640911</td>\n",
       "      <td>-1.401508</td>\n",
       "    </tr>\n",
       "    <tr>\n",
       "      <th>0</th>\n",
       "      <td>residential</td>\n",
       "      <td>1</td>\n",
       "      <td>(3818, 65)</td>\n",
       "      <td>(29, 65)</td>\n",
       "      <td>[2, 3, 4, 5, 6]</td>\n",
       "      <td>[1]</td>\n",
       "      <td>26.565748</td>\n",
       "      <td>43.981786</td>\n",
       "      <td>-17.416038</td>\n",
       "    </tr>\n",
       "    <tr>\n",
       "      <th>1</th>\n",
       "      <td>residential</td>\n",
       "      <td>2</td>\n",
       "      <td>(3809, 65)</td>\n",
       "      <td>(38, 65)</td>\n",
       "      <td>[1, 3, 4, 5, 6]</td>\n",
       "      <td>[2]</td>\n",
       "      <td>32.529534</td>\n",
       "      <td>41.182777</td>\n",
       "      <td>-8.653243</td>\n",
       "    </tr>\n",
       "    <tr>\n",
       "      <th>2</th>\n",
       "      <td>residential</td>\n",
       "      <td>3</td>\n",
       "      <td>(3784, 65)</td>\n",
       "      <td>(63, 65)</td>\n",
       "      <td>[1, 2, 4, 5, 6]</td>\n",
       "      <td>[3]</td>\n",
       "      <td>28.423955</td>\n",
       "      <td>53.908239</td>\n",
       "      <td>-25.484285</td>\n",
       "    </tr>\n",
       "    <tr>\n",
       "      <th>3</th>\n",
       "      <td>residential</td>\n",
       "      <td>4</td>\n",
       "      <td>(3771, 65)</td>\n",
       "      <td>(76, 65)</td>\n",
       "      <td>[1, 2, 3, 5, 6]</td>\n",
       "      <td>[4]</td>\n",
       "      <td>21.620490</td>\n",
       "      <td>51.635775</td>\n",
       "      <td>-30.015285</td>\n",
       "    </tr>\n",
       "    <tr>\n",
       "      <th>4</th>\n",
       "      <td>residential</td>\n",
       "      <td>5</td>\n",
       "      <td>(2041, 65)</td>\n",
       "      <td>(1806, 65)</td>\n",
       "      <td>[1, 2, 3, 4, 6]</td>\n",
       "      <td>[5]</td>\n",
       "      <td>25.106488</td>\n",
       "      <td>26.917311</td>\n",
       "      <td>-1.810824</td>\n",
       "    </tr>\n",
       "    <tr>\n",
       "      <th>5</th>\n",
       "      <td>residential</td>\n",
       "      <td>6</td>\n",
       "      <td>(2012, 65)</td>\n",
       "      <td>(1835, 65)</td>\n",
       "      <td>[1, 2, 3, 4, 5]</td>\n",
       "      <td>[6]</td>\n",
       "      <td>21.551414</td>\n",
       "      <td>31.028560</td>\n",
       "      <td>-9.477146</td>\n",
       "    </tr>\n",
       "    <tr>\n",
       "      <th>6</th>\n",
       "      <td>residential</td>\n",
       "      <td>MEAN</td>\n",
       "      <td>N/A</td>\n",
       "      <td>N/A</td>\n",
       "      <td>N/A</td>\n",
       "      <td>N/A</td>\n",
       "      <td>25.966271</td>\n",
       "      <td>41.442408</td>\n",
       "      <td>-15.476137</td>\n",
       "    </tr>\n",
       "    <tr>\n",
       "      <th>0</th>\n",
       "      <td>commercial</td>\n",
       "      <td>1</td>\n",
       "      <td>(16293, 65)</td>\n",
       "      <td>(727, 65)</td>\n",
       "      <td>[2, 3, 4, 5, 6]</td>\n",
       "      <td>[1]</td>\n",
       "      <td>54.173438</td>\n",
       "      <td>79.859983</td>\n",
       "      <td>-25.686545</td>\n",
       "    </tr>\n",
       "    <tr>\n",
       "      <th>1</th>\n",
       "      <td>commercial</td>\n",
       "      <td>2</td>\n",
       "      <td>(15883, 65)</td>\n",
       "      <td>(1137, 65)</td>\n",
       "      <td>[1, 3, 4, 5, 6]</td>\n",
       "      <td>[2]</td>\n",
       "      <td>53.938973</td>\n",
       "      <td>82.605552</td>\n",
       "      <td>-28.666579</td>\n",
       "    </tr>\n",
       "    <tr>\n",
       "      <th>2</th>\n",
       "      <td>commercial</td>\n",
       "      <td>3</td>\n",
       "      <td>(14863, 65)</td>\n",
       "      <td>(2157, 65)</td>\n",
       "      <td>[1, 2, 4, 5, 6]</td>\n",
       "      <td>[3]</td>\n",
       "      <td>54.998509</td>\n",
       "      <td>66.628077</td>\n",
       "      <td>-11.629569</td>\n",
       "    </tr>\n",
       "    <tr>\n",
       "      <th>3</th>\n",
       "      <td>commercial</td>\n",
       "      <td>4</td>\n",
       "      <td>(14416, 65)</td>\n",
       "      <td>(2604, 65)</td>\n",
       "      <td>[1, 2, 3, 5, 6]</td>\n",
       "      <td>[4]</td>\n",
       "      <td>55.801983</td>\n",
       "      <td>59.399115</td>\n",
       "      <td>-3.597133</td>\n",
       "    </tr>\n",
       "    <tr>\n",
       "      <th>4</th>\n",
       "      <td>commercial</td>\n",
       "      <td>5</td>\n",
       "      <td>(12899, 65)</td>\n",
       "      <td>(4121, 65)</td>\n",
       "      <td>[1, 2, 3, 4, 6]</td>\n",
       "      <td>[5]</td>\n",
       "      <td>56.203858</td>\n",
       "      <td>57.019152</td>\n",
       "      <td>-0.815295</td>\n",
       "    </tr>\n",
       "    <tr>\n",
       "      <th>5</th>\n",
       "      <td>commercial</td>\n",
       "      <td>6</td>\n",
       "      <td>(10746, 65)</td>\n",
       "      <td>(6274, 65)</td>\n",
       "      <td>[1, 2, 3, 4, 5]</td>\n",
       "      <td>[6]</td>\n",
       "      <td>67.436658</td>\n",
       "      <td>69.176568</td>\n",
       "      <td>-1.739910</td>\n",
       "    </tr>\n",
       "    <tr>\n",
       "      <th>6</th>\n",
       "      <td>commercial</td>\n",
       "      <td>MEAN</td>\n",
       "      <td>N/A</td>\n",
       "      <td>N/A</td>\n",
       "      <td>N/A</td>\n",
       "      <td>N/A</td>\n",
       "      <td>57.092236</td>\n",
       "      <td>69.114741</td>\n",
       "      <td>-12.022505</td>\n",
       "    </tr>\n",
       "    <tr>\n",
       "      <th>0</th>\n",
       "      <td>office</td>\n",
       "      <td>1</td>\n",
       "      <td>(12050, 65)</td>\n",
       "      <td>(1096, 65)</td>\n",
       "      <td>[2, 3, 4, 5, 6]</td>\n",
       "      <td>[1]</td>\n",
       "      <td>27.958941</td>\n",
       "      <td>43.538868</td>\n",
       "      <td>-15.579927</td>\n",
       "    </tr>\n",
       "    <tr>\n",
       "      <th>1</th>\n",
       "      <td>office</td>\n",
       "      <td>2</td>\n",
       "      <td>(11841, 65)</td>\n",
       "      <td>(1305, 65)</td>\n",
       "      <td>[1, 3, 4, 5, 6]</td>\n",
       "      <td>[2]</td>\n",
       "      <td>26.810483</td>\n",
       "      <td>41.528590</td>\n",
       "      <td>-14.718107</td>\n",
       "    </tr>\n",
       "    <tr>\n",
       "      <th>2</th>\n",
       "      <td>office</td>\n",
       "      <td>3</td>\n",
       "      <td>(11449, 65)</td>\n",
       "      <td>(1697, 65)</td>\n",
       "      <td>[1, 2, 4, 5, 6]</td>\n",
       "      <td>[3]</td>\n",
       "      <td>25.883925</td>\n",
       "      <td>36.178360</td>\n",
       "      <td>-10.294435</td>\n",
       "    </tr>\n",
       "    <tr>\n",
       "      <th>3</th>\n",
       "      <td>office</td>\n",
       "      <td>4</td>\n",
       "      <td>(10740, 65)</td>\n",
       "      <td>(2406, 65)</td>\n",
       "      <td>[1, 2, 3, 5, 6]</td>\n",
       "      <td>[4]</td>\n",
       "      <td>31.052040</td>\n",
       "      <td>34.089577</td>\n",
       "      <td>-3.037537</td>\n",
       "    </tr>\n",
       "    <tr>\n",
       "      <th>4</th>\n",
       "      <td>office</td>\n",
       "      <td>5</td>\n",
       "      <td>(9928, 65)</td>\n",
       "      <td>(3218, 65)</td>\n",
       "      <td>[1, 2, 3, 4, 6]</td>\n",
       "      <td>[5]</td>\n",
       "      <td>28.496836</td>\n",
       "      <td>27.210220</td>\n",
       "      <td>1.286616</td>\n",
       "    </tr>\n",
       "    <tr>\n",
       "      <th>5</th>\n",
       "      <td>office</td>\n",
       "      <td>6</td>\n",
       "      <td>(9722, 65)</td>\n",
       "      <td>(3424, 65)</td>\n",
       "      <td>[1, 2, 3, 4, 5]</td>\n",
       "      <td>[6]</td>\n",
       "      <td>29.128093</td>\n",
       "      <td>28.637723</td>\n",
       "      <td>0.490370</td>\n",
       "    </tr>\n",
       "    <tr>\n",
       "      <th>6</th>\n",
       "      <td>office</td>\n",
       "      <td>MEAN</td>\n",
       "      <td>N/A</td>\n",
       "      <td>N/A</td>\n",
       "      <td>N/A</td>\n",
       "      <td>N/A</td>\n",
       "      <td>28.221720</td>\n",
       "      <td>35.197223</td>\n",
       "      <td>-6.975503</td>\n",
       "    </tr>\n",
       "    <tr>\n",
       "      <th>0</th>\n",
       "      <td>warehouse</td>\n",
       "      <td>1</td>\n",
       "      <td>(2120, 65)</td>\n",
       "      <td>(155, 65)</td>\n",
       "      <td>[2, 3, 4, 5, 6]</td>\n",
       "      <td>[1]</td>\n",
       "      <td>36.329470</td>\n",
       "      <td>20.101172</td>\n",
       "      <td>16.228298</td>\n",
       "    </tr>\n",
       "    <tr>\n",
       "      <th>1</th>\n",
       "      <td>warehouse</td>\n",
       "      <td>2</td>\n",
       "      <td>(2086, 65)</td>\n",
       "      <td>(189, 65)</td>\n",
       "      <td>[1, 3, 4, 5, 6]</td>\n",
       "      <td>[2]</td>\n",
       "      <td>22.611686</td>\n",
       "      <td>21.148945</td>\n",
       "      <td>1.462742</td>\n",
       "    </tr>\n",
       "    <tr>\n",
       "      <th>2</th>\n",
       "      <td>warehouse</td>\n",
       "      <td>3</td>\n",
       "      <td>(1975, 65)</td>\n",
       "      <td>(300, 65)</td>\n",
       "      <td>[1, 2, 4, 5, 6]</td>\n",
       "      <td>[3]</td>\n",
       "      <td>26.543351</td>\n",
       "      <td>27.518435</td>\n",
       "      <td>-0.975085</td>\n",
       "    </tr>\n",
       "    <tr>\n",
       "      <th>3</th>\n",
       "      <td>warehouse</td>\n",
       "      <td>4</td>\n",
       "      <td>(1919, 65)</td>\n",
       "      <td>(356, 65)</td>\n",
       "      <td>[1, 2, 3, 5, 6]</td>\n",
       "      <td>[4]</td>\n",
       "      <td>24.088778</td>\n",
       "      <td>23.928819</td>\n",
       "      <td>0.159959</td>\n",
       "    </tr>\n",
       "    <tr>\n",
       "      <th>4</th>\n",
       "      <td>warehouse</td>\n",
       "      <td>5</td>\n",
       "      <td>(1674, 65)</td>\n",
       "      <td>(601, 65)</td>\n",
       "      <td>[1, 2, 3, 4, 6]</td>\n",
       "      <td>[5]</td>\n",
       "      <td>23.163008</td>\n",
       "      <td>38.238912</td>\n",
       "      <td>-15.075904</td>\n",
       "    </tr>\n",
       "    <tr>\n",
       "      <th>5</th>\n",
       "      <td>warehouse</td>\n",
       "      <td>6</td>\n",
       "      <td>(1601, 65)</td>\n",
       "      <td>(674, 65)</td>\n",
       "      <td>[1, 2, 3, 4, 5]</td>\n",
       "      <td>[6]</td>\n",
       "      <td>21.806445</td>\n",
       "      <td>32.816349</td>\n",
       "      <td>-11.009904</td>\n",
       "    </tr>\n",
       "    <tr>\n",
       "      <th>6</th>\n",
       "      <td>warehouse</td>\n",
       "      <td>MEAN</td>\n",
       "      <td>N/A</td>\n",
       "      <td>N/A</td>\n",
       "      <td>N/A</td>\n",
       "      <td>N/A</td>\n",
       "      <td>25.757123</td>\n",
       "      <td>27.292106</td>\n",
       "      <td>-1.534983</td>\n",
       "    </tr>\n",
       "  </tbody>\n",
       "</table>\n",
       "</div>"
      ],
      "text/plain": [
       "  facility_group  Fold  Train_shape    Val_shape      Train_years Val_years  \\\n",
       "0    multifamily     1  (39323, 65)    (107, 65)  [2, 3, 4, 5, 6]       [1]   \n",
       "1    multifamily     2  (33058, 65)   (6372, 65)  [1, 3, 4, 5, 6]       [2]   \n",
       "2    multifamily     3  (32774, 65)   (6656, 65)  [1, 2, 4, 5, 6]       [3]   \n",
       "3    multifamily     4  (31930, 65)   (7500, 65)  [1, 2, 3, 5, 6]       [4]   \n",
       "4    multifamily     5  (30871, 65)   (8559, 65)  [1, 2, 3, 4, 6]       [5]   \n",
       "5    multifamily     6  (29194, 65)  (10236, 65)  [1, 2, 3, 4, 5]       [6]   \n",
       "6    multifamily  MEAN          N/A          N/A              N/A       N/A   \n",
       "0    residential     1   (3818, 65)     (29, 65)  [2, 3, 4, 5, 6]       [1]   \n",
       "1    residential     2   (3809, 65)     (38, 65)  [1, 3, 4, 5, 6]       [2]   \n",
       "2    residential     3   (3784, 65)     (63, 65)  [1, 2, 4, 5, 6]       [3]   \n",
       "3    residential     4   (3771, 65)     (76, 65)  [1, 2, 3, 5, 6]       [4]   \n",
       "4    residential     5   (2041, 65)   (1806, 65)  [1, 2, 3, 4, 6]       [5]   \n",
       "5    residential     6   (2012, 65)   (1835, 65)  [1, 2, 3, 4, 5]       [6]   \n",
       "6    residential  MEAN          N/A          N/A              N/A       N/A   \n",
       "0     commercial     1  (16293, 65)    (727, 65)  [2, 3, 4, 5, 6]       [1]   \n",
       "1     commercial     2  (15883, 65)   (1137, 65)  [1, 3, 4, 5, 6]       [2]   \n",
       "2     commercial     3  (14863, 65)   (2157, 65)  [1, 2, 4, 5, 6]       [3]   \n",
       "3     commercial     4  (14416, 65)   (2604, 65)  [1, 2, 3, 5, 6]       [4]   \n",
       "4     commercial     5  (12899, 65)   (4121, 65)  [1, 2, 3, 4, 6]       [5]   \n",
       "5     commercial     6  (10746, 65)   (6274, 65)  [1, 2, 3, 4, 5]       [6]   \n",
       "6     commercial  MEAN          N/A          N/A              N/A       N/A   \n",
       "0         office     1  (12050, 65)   (1096, 65)  [2, 3, 4, 5, 6]       [1]   \n",
       "1         office     2  (11841, 65)   (1305, 65)  [1, 3, 4, 5, 6]       [2]   \n",
       "2         office     3  (11449, 65)   (1697, 65)  [1, 2, 4, 5, 6]       [3]   \n",
       "3         office     4  (10740, 65)   (2406, 65)  [1, 2, 3, 5, 6]       [4]   \n",
       "4         office     5   (9928, 65)   (3218, 65)  [1, 2, 3, 4, 6]       [5]   \n",
       "5         office     6   (9722, 65)   (3424, 65)  [1, 2, 3, 4, 5]       [6]   \n",
       "6         office  MEAN          N/A          N/A              N/A       N/A   \n",
       "0      warehouse     1   (2120, 65)    (155, 65)  [2, 3, 4, 5, 6]       [1]   \n",
       "1      warehouse     2   (2086, 65)    (189, 65)  [1, 3, 4, 5, 6]       [2]   \n",
       "2      warehouse     3   (1975, 65)    (300, 65)  [1, 2, 4, 5, 6]       [3]   \n",
       "3      warehouse     4   (1919, 65)    (356, 65)  [1, 2, 3, 5, 6]       [4]   \n",
       "4      warehouse     5   (1674, 65)    (601, 65)  [1, 2, 3, 4, 6]       [5]   \n",
       "5      warehouse     6   (1601, 65)    (674, 65)  [1, 2, 3, 4, 5]       [6]   \n",
       "6      warehouse  MEAN          N/A          N/A              N/A       N/A   \n",
       "\n",
       "   Train_RMSE   Val_RMSE  RMSE_spread  \n",
       "0   31.424101  37.951848    -6.527747  \n",
       "1   35.805168  35.557750     0.247418  \n",
       "2   30.474357  45.537829   -15.063472  \n",
       "3   30.121021  34.351295    -4.230274  \n",
       "4   31.651982  24.252581     7.399401  \n",
       "5   33.959790  24.194163     9.765628  \n",
       "6   32.239403  33.640911    -1.401508  \n",
       "0   26.565748  43.981786   -17.416038  \n",
       "1   32.529534  41.182777    -8.653243  \n",
       "2   28.423955  53.908239   -25.484285  \n",
       "3   21.620490  51.635775   -30.015285  \n",
       "4   25.106488  26.917311    -1.810824  \n",
       "5   21.551414  31.028560    -9.477146  \n",
       "6   25.966271  41.442408   -15.476137  \n",
       "0   54.173438  79.859983   -25.686545  \n",
       "1   53.938973  82.605552   -28.666579  \n",
       "2   54.998509  66.628077   -11.629569  \n",
       "3   55.801983  59.399115    -3.597133  \n",
       "4   56.203858  57.019152    -0.815295  \n",
       "5   67.436658  69.176568    -1.739910  \n",
       "6   57.092236  69.114741   -12.022505  \n",
       "0   27.958941  43.538868   -15.579927  \n",
       "1   26.810483  41.528590   -14.718107  \n",
       "2   25.883925  36.178360   -10.294435  \n",
       "3   31.052040  34.089577    -3.037537  \n",
       "4   28.496836  27.210220     1.286616  \n",
       "5   29.128093  28.637723     0.490370  \n",
       "6   28.221720  35.197223    -6.975503  \n",
       "0   36.329470  20.101172    16.228298  \n",
       "1   22.611686  21.148945     1.462742  \n",
       "2   26.543351  27.518435    -0.975085  \n",
       "3   24.088778  23.928819     0.159959  \n",
       "4   23.163008  38.238912   -15.075904  \n",
       "5   21.806445  32.816349   -11.009904  \n",
       "6   25.757123  27.292106    -1.534983  "
      ]
     },
     "execution_count": 51,
     "metadata": {},
     "output_type": "execute_result"
    }
   ],
   "source": [
    "process_cv_results(results)"
   ]
  },
  {
   "cell_type": "code",
   "execution_count": 52,
   "id": "458e9fd6",
   "metadata": {
    "execution": {
     "iopub.execute_input": "2022-02-21T22:32:41.505433Z",
     "iopub.status.busy": "2022-02-21T22:32:41.504342Z",
     "iopub.status.idle": "2022-02-21T22:32:41.882560Z",
     "shell.execute_reply": "2022-02-21T22:32:41.883084Z",
     "shell.execute_reply.started": "2022-02-21T22:29:41.036022Z"
    },
    "papermill": {
     "duration": 0.465877,
     "end_time": "2022-02-21T22:32:41.883347",
     "exception": false,
     "start_time": "2022-02-21T22:32:41.417470",
     "status": "completed"
    },
    "tags": []
   },
   "outputs": [
    {
     "data": {
      "image/png": "[encoded data removed]",
      "text/plain": [
       "<Figure size 360x360 with 1 Axes>"
      ]
     },
     "metadata": {},
     "output_type": "display_data"
    }
   ],
   "source": [
    "lgb.plot_importance(models[\"residential\"][4], figsize=(5, 5), height=0.5, max_num_features=15);"
   ]
  },
  {
   "cell_type": "code",
   "execution_count": 53,
   "id": "92fd8f65",
   "metadata": {
    "execution": {
     "iopub.execute_input": "2022-02-21T22:32:42.049347Z",
     "iopub.status.busy": "2022-02-21T22:32:42.048658Z",
     "iopub.status.idle": "2022-02-21T22:32:42.390497Z",
     "shell.execute_reply": "2022-02-21T22:32:42.391019Z",
     "shell.execute_reply.started": "2022-02-21T22:29:41.438748Z"
    },
    "papermill": {
     "duration": 0.426684,
     "end_time": "2022-02-21T22:32:42.391257",
     "exception": false,
     "start_time": "2022-02-21T22:32:41.964573",
     "status": "completed"
    },
    "tags": []
   },
   "outputs": [
    {
     "data": {
      "image/png": "[encoded data removed]",
      "text/plain": [
       "<Figure size 360x360 with 1 Axes>"
      ]
     },
     "metadata": {},
     "output_type": "display_data"
    }
   ],
   "source": [
    "lgb.plot_importance(models[\"commercial\"][4], figsize=(5, 5), height=0.5, max_num_features=15);"
   ]
  },
  {
   "cell_type": "markdown",
   "id": "3db1c370",
   "metadata": {
    "papermill": {
     "duration": 0.081026,
     "end_time": "2022-02-21T22:32:42.556282",
     "exception": false,
     "start_time": "2022-02-21T22:32:42.475256",
     "status": "completed"
    },
    "tags": []
   },
   "source": [
    "## Hyperparameter Tuning"
   ]
  },
  {
   "cell_type": "code",
   "execution_count": 54,
   "id": "c35437e3",
   "metadata": {
    "execution": {
     "iopub.execute_input": "2022-02-21T22:32:42.728040Z",
     "iopub.status.busy": "2022-02-21T22:32:42.727052Z",
     "iopub.status.idle": "2022-02-21T22:32:42.730091Z",
     "shell.execute_reply": "2022-02-21T22:32:42.729514Z",
     "shell.execute_reply.started": "2022-02-21T22:29:41.837624Z"
    },
    "papermill": {
     "duration": 0.092431,
     "end_time": "2022-02-21T22:32:42.730283",
     "exception": false,
     "start_time": "2022-02-21T22:32:42.637852",
     "status": "completed"
    },
    "tags": []
   },
   "outputs": [],
   "source": [
    "# TODO"
   ]
  },
  {
   "cell_type": "markdown",
   "id": "670f4faa",
   "metadata": {
    "papermill": {
     "duration": 0.081541,
     "end_time": "2022-02-21T22:32:42.894212",
     "exception": false,
     "start_time": "2022-02-21T22:32:42.812671",
     "status": "completed"
    },
    "tags": []
   },
   "source": [
    "## Ensembling"
   ]
  },
  {
   "cell_type": "code",
   "execution_count": 55,
   "id": "4e51d066",
   "metadata": {
    "execution": {
     "iopub.execute_input": "2022-02-21T22:32:43.065985Z",
     "iopub.status.busy": "2022-02-21T22:32:43.065133Z",
     "iopub.status.idle": "2022-02-21T22:32:43.068063Z",
     "shell.execute_reply": "2022-02-21T22:32:43.067513Z",
     "shell.execute_reply.started": "2022-02-21T22:29:41.844877Z"
    },
    "papermill": {
     "duration": 0.092165,
     "end_time": "2022-02-21T22:32:43.068255",
     "exception": false,
     "start_time": "2022-02-21T22:32:42.976090",
     "status": "completed"
    },
    "tags": []
   },
   "outputs": [],
   "source": [
    "# TODO"
   ]
  },
  {
   "cell_type": "markdown",
   "id": "cbbebba0",
   "metadata": {
    "papermill": {
     "duration": 0.081813,
     "end_time": "2022-02-21T22:32:43.232686",
     "exception": false,
     "start_time": "2022-02-21T22:32:43.150873",
     "status": "completed"
    },
    "tags": []
   },
   "source": [
    "# Final models and predictions"
   ]
  },
  {
   "cell_type": "code",
   "execution_count": 56,
   "id": "d08544a0",
   "metadata": {
    "execution": {
     "iopub.execute_input": "2022-02-21T22:32:43.401747Z",
     "iopub.status.busy": "2022-02-21T22:32:43.401043Z",
     "iopub.status.idle": "2022-02-21T22:32:43.409054Z",
     "shell.execute_reply": "2022-02-21T22:32:43.409615Z",
     "shell.execute_reply.started": "2022-02-21T22:29:41.855760Z"
    },
    "papermill": {
     "duration": 0.093757,
     "end_time": "2022-02-21T22:32:43.409836",
     "exception": false,
     "start_time": "2022-02-21T22:32:43.316079",
     "status": "completed"
    },
    "tags": []
   },
   "outputs": [],
   "source": [
    "# not in utils yet, need to finalize\n",
    "def train_and_predict(model, X_trains, y_trains, X_tests, ct, target):\n",
    "    predictions = pd.DataFrame()\n",
    "    \n",
    "    for (n1, X_train), (n2, y_train), (n3, X_test) in zip(X_trains.items(), y_trains.items(), X_tests.items()):\n",
    "        assert n1 == n2 == n3\n",
    "        \n",
    "        current_model = deepcopy(model)\n",
    "        pipe = make_pipeline(\n",
    "            ct,\n",
    "            current_model\n",
    "        )\n",
    "        \n",
    "        pipe.fit(X_train, y_train)\n",
    "        \n",
    "        pred = {\n",
    "            \"id\": X_test[\"id\"],\n",
    "            target: pipe.predict(X_test)\n",
    "        }\n",
    "        \n",
    "        predictions = pd.concat([predictions, pd.DataFrame(pred)])\n",
    "    \n",
    "    predictions = predictions.sort_values(\"id\")\n",
    "\n",
    "    return predictions"
   ]
  },
  {
   "cell_type": "code",
   "execution_count": 57,
   "id": "8e83256a",
   "metadata": {
    "execution": {
     "iopub.execute_input": "2022-02-21T22:32:43.580886Z",
     "iopub.status.busy": "2022-02-21T22:32:43.580184Z",
     "iopub.status.idle": "2022-02-21T22:32:43.583347Z",
     "shell.execute_reply": "2022-02-21T22:32:43.582785Z",
     "shell.execute_reply.started": "2022-02-21T22:29:41.868426Z"
    },
    "papermill": {
     "duration": 0.089685,
     "end_time": "2022-02-21T22:32:43.583532",
     "exception": false,
     "start_time": "2022-02-21T22:32:43.493847",
     "status": "completed"
    },
    "tags": []
   },
   "outputs": [],
   "source": [
    "regressor = lgb.LGBMRegressor(force_row_wise=True)"
   ]
  },
  {
   "cell_type": "code",
   "execution_count": 58,
   "id": "362ff22f",
   "metadata": {
    "execution": {
     "iopub.execute_input": "2022-02-21T22:32:43.760404Z",
     "iopub.status.busy": "2022-02-21T22:32:43.759432Z",
     "iopub.status.idle": "2022-02-21T22:32:45.061354Z",
     "shell.execute_reply": "2022-02-21T22:32:45.061951Z",
     "shell.execute_reply.started": "2022-02-21T22:29:41.880821Z"
    },
    "papermill": {
     "duration": 1.395414,
     "end_time": "2022-02-21T22:32:45.062196",
     "exception": false,
     "start_time": "2022-02-21T22:32:43.666782",
     "status": "completed"
    },
    "tags": []
   },
   "outputs": [],
   "source": [
    "predictions = train_and_predict(regressor, X_trains, y_trains, X_tests, ct, TARGET)"
   ]
  },
  {
   "cell_type": "code",
   "execution_count": 59,
   "id": "ffd9d5c3",
   "metadata": {
    "execution": {
     "iopub.execute_input": "2022-02-21T22:32:45.235095Z",
     "iopub.status.busy": "2022-02-21T22:32:45.234360Z",
     "iopub.status.idle": "2022-02-21T22:32:45.243648Z",
     "shell.execute_reply": "2022-02-21T22:32:45.244207Z",
     "shell.execute_reply.started": "2022-02-21T22:29:43.168932Z"
    },
    "papermill": {
     "duration": 0.09926,
     "end_time": "2022-02-21T22:32:45.244386",
     "exception": false,
     "start_time": "2022-02-21T22:32:45.145126",
     "status": "completed"
    },
    "tags": []
   },
   "outputs": [
    {
     "data": {
      "text/html": [
       "<div>\n",
       "<style scoped>\n",
       "    .dataframe tbody tr th:only-of-type {\n",
       "        vertical-align: middle;\n",
       "    }\n",
       "\n",
       "    .dataframe tbody tr th {\n",
       "        vertical-align: top;\n",
       "    }\n",
       "\n",
       "    .dataframe thead th {\n",
       "        text-align: right;\n",
       "    }\n",
       "</style>\n",
       "<table border=\"1\" class=\"dataframe\">\n",
       "  <thead>\n",
       "    <tr style=\"text-align: right;\">\n",
       "      <th></th>\n",
       "      <th>id</th>\n",
       "      <th>site_eui</th>\n",
       "    </tr>\n",
       "  </thead>\n",
       "  <tbody>\n",
       "    <tr>\n",
       "      <th>0</th>\n",
       "      <td>75757</td>\n",
       "      <td>270.207593</td>\n",
       "    </tr>\n",
       "    <tr>\n",
       "      <th>1</th>\n",
       "      <td>75758</td>\n",
       "      <td>201.661262</td>\n",
       "    </tr>\n",
       "    <tr>\n",
       "      <th>2</th>\n",
       "      <td>75759</td>\n",
       "      <td>315.863377</td>\n",
       "    </tr>\n",
       "    <tr>\n",
       "      <th>3</th>\n",
       "      <td>75760</td>\n",
       "      <td>258.218162</td>\n",
       "    </tr>\n",
       "    <tr>\n",
       "      <th>4</th>\n",
       "      <td>75761</td>\n",
       "      <td>245.218549</td>\n",
       "    </tr>\n",
       "    <tr>\n",
       "      <th>...</th>\n",
       "      <td>...</td>\n",
       "      <td>...</td>\n",
       "    </tr>\n",
       "    <tr>\n",
       "      <th>1844</th>\n",
       "      <td>85457</td>\n",
       "      <td>15.105917</td>\n",
       "    </tr>\n",
       "    <tr>\n",
       "      <th>1845</th>\n",
       "      <td>85458</td>\n",
       "      <td>35.347941</td>\n",
       "    </tr>\n",
       "    <tr>\n",
       "      <th>1846</th>\n",
       "      <td>85459</td>\n",
       "      <td>20.346811</td>\n",
       "    </tr>\n",
       "    <tr>\n",
       "      <th>1847</th>\n",
       "      <td>85460</td>\n",
       "      <td>20.118134</td>\n",
       "    </tr>\n",
       "    <tr>\n",
       "      <th>1848</th>\n",
       "      <td>85461</td>\n",
       "      <td>23.649615</td>\n",
       "    </tr>\n",
       "  </tbody>\n",
       "</table>\n",
       "<p>9705 rows × 2 columns</p>\n",
       "</div>"
      ],
      "text/plain": [
       "         id    site_eui\n",
       "0     75757  270.207593\n",
       "1     75758  201.661262\n",
       "2     75759  315.863377\n",
       "3     75760  258.218162\n",
       "4     75761  245.218549\n",
       "...     ...         ...\n",
       "1844  85457   15.105917\n",
       "1845  85458   35.347941\n",
       "1846  85459   20.346811\n",
       "1847  85460   20.118134\n",
       "1848  85461   23.649615\n",
       "\n",
       "[9705 rows x 2 columns]"
      ]
     },
     "execution_count": 59,
     "metadata": {},
     "output_type": "execute_result"
    }
   ],
   "source": [
    "predictions"
   ]
  },
  {
   "cell_type": "code",
   "execution_count": 60,
   "id": "74e730cc",
   "metadata": {
    "execution": {
     "iopub.execute_input": "2022-02-21T22:32:45.416914Z",
     "iopub.status.busy": "2022-02-21T22:32:45.416272Z",
     "iopub.status.idle": "2022-02-21T22:32:45.420245Z",
     "shell.execute_reply": "2022-02-21T22:32:45.419707Z",
     "shell.execute_reply.started": "2022-02-21T22:29:43.184661Z"
    },
    "papermill": {
     "duration": 0.092519,
     "end_time": "2022-02-21T22:32:45.420393",
     "exception": false,
     "start_time": "2022-02-21T22:32:45.327874",
     "status": "completed"
    },
    "tags": []
   },
   "outputs": [],
   "source": [
    "assert sum(predictions.isna().sum()) == 0"
   ]
  },
  {
   "cell_type": "code",
   "execution_count": 61,
   "id": "8062fecf",
   "metadata": {
    "execution": {
     "iopub.execute_input": "2022-02-21T22:32:45.591711Z",
     "iopub.status.busy": "2022-02-21T22:32:45.591013Z",
     "iopub.status.idle": "2022-02-21T22:32:45.630564Z",
     "shell.execute_reply": "2022-02-21T22:32:45.631097Z",
     "shell.execute_reply.started": "2022-02-21T22:29:43.196246Z"
    },
    "papermill": {
     "duration": 0.127659,
     "end_time": "2022-02-21T22:32:45.631296",
     "exception": false,
     "start_time": "2022-02-21T22:32:45.503637",
     "status": "completed"
    },
    "tags": []
   },
   "outputs": [],
   "source": [
    "predictions.to_csv(\"submission.csv\", index=False)"
   ]
  }
 ],
 "metadata": {
  "kernelspec": {
   "display_name": "Python 3",
   "language": "python",
   "name": "python3"
  },
  "language_info": {
   "codemirror_mode": {
    "name": "ipython",
    "version": 3
   },
   "file_extension": ".py",
   "mimetype": "text/x-python",
   "name": "python",
   "nbconvert_exporter": "python",
   "pygments_lexer": "ipython3",
   "version": "3.7.12"
  },
  "papermill": {
   "default_parameters": {},
   "duration": 46.072477,
   "end_time": "2022-02-21T22:32:47.029864",
   "environment_variables": {},
   "exception": null,
   "input_path": "__notebook__.ipynb",
   "output_path": "__notebook__.ipynb",
   "parameters": {},
   "start_time": "2022-02-21T22:32:00.957387",
   "version": "2.3.3"
  }
 },
 "nbformat": 4,
 "nbformat_minor": 5
}
